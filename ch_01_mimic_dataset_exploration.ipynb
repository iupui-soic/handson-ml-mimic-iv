{
 "cells": [
  {
   "cell_type": "code",
   "execution_count": null,
   "id": "99d5cd8a",
   "metadata": {},
   "outputs": [],
   "source": [
    "from mimic.mimic import MIMIC, MIMICManipulations"
   ]
  },
  {
   "cell_type": "code",
   "execution_count": null,
   "id": "01425f93",
   "metadata": {},
   "outputs": [],
   "source": [
    "import dask.dataframe as dd\n",
    "import pandas as pd"
   ]
  },
  {
   "cell_type": "code",
   "execution_count": null,
   "id": "4329a04e",
   "metadata": {},
   "outputs": [],
   "source": [
    "mimic_instance = MIMIC('./dataset/')"
   ]
  },
  {
   "cell_type": "code",
   "execution_count": null,
   "id": "c030b0e2",
   "metadata": {},
   "outputs": [],
   "source": [
    "mimic_manipulation_instance = MIMICManipulations('./dataset/')"
   ]
  },
  {
   "cell_type": "markdown",
   "id": "ac2bedfa",
   "metadata": {},
   "source": [
    "# MIMIC Core Admissions"
   ]
  },
  {
   "cell_type": "code",
   "execution_count": null,
   "id": "a78ee5df",
   "metadata": {},
   "outputs": [],
   "source": [
    "df_admissions = mimic_instance.read_core_admissions_csv()"
   ]
  },
  {
   "cell_type": "code",
   "execution_count": null,
   "id": "5d39575e",
   "metadata": {},
   "outputs": [],
   "source": [
    "df_admissions.head()"
   ]
  },
  {
   "cell_type": "code",
   "execution_count": null,
   "id": "8a227481",
   "metadata": {},
   "outputs": [],
   "source": [
    "df_admissions.shape[0].compute()"
   ]
  },
  {
   "cell_type": "code",
   "execution_count": null,
   "id": "21a7875a",
   "metadata": {},
   "outputs": [],
   "source": [
    "df_admissions.info()"
   ]
  },
  {
   "cell_type": "code",
   "execution_count": null,
   "id": "00a20756",
   "metadata": {},
   "outputs": [],
   "source": [
    "df_admissions.describe().compute()"
   ]
  },
  {
   "cell_type": "code",
   "execution_count": null,
   "id": "98a55651",
   "metadata": {},
   "outputs": [],
   "source": [
    "df_admissions.isna().sum().compute()"
   ]
  },
  {
   "cell_type": "code",
   "execution_count": null,
   "id": "404f6b35",
   "metadata": {},
   "outputs": [],
   "source": [
    "df_admissions.columns"
   ]
  },
  {
   "cell_type": "code",
   "execution_count": null,
   "id": "2f44164d",
   "metadata": {},
   "outputs": [],
   "source": [
    "df_admissions.dtypes"
   ]
  },
  {
   "cell_type": "code",
   "execution_count": null,
   "id": "47b5de34",
   "metadata": {},
   "outputs": [],
   "source": [
    "df_admissions[['subject_id', 'hadm_id', 'admittime', 'dischtime', 'admission_type', 'admission_location', 'discharge_location', 'insurance', 'language', \n",
    "                    'marital_status', 'ethnicity', 'hospital_expire_flag']].head()"
   ]
  },
  {
   "cell_type": "code",
   "execution_count": null,
   "id": "bcd9da41",
   "metadata": {},
   "outputs": [],
   "source": [
    "df_patients = mimic_instance.read_core_patients_csv()"
   ]
  },
  {
   "cell_type": "code",
   "execution_count": null,
   "id": "ae821c07",
   "metadata": {},
   "outputs": [],
   "source": [
    "df_patients = df_patients.drop(['dod'], axis=1)"
   ]
  },
  {
   "cell_type": "code",
   "execution_count": null,
   "id": "7d0bb14a",
   "metadata": {},
   "outputs": [],
   "source": [
    "df_patients.isna().sum().compute()"
   ]
  },
  {
   "cell_type": "code",
   "execution_count": null,
   "id": "599835bf",
   "metadata": {},
   "outputs": [],
   "source": [
    "df_transfer = mimic_instance.read_core_transfers_csv()"
   ]
  },
  {
   "cell_type": "code",
   "execution_count": null,
   "id": "ede4bbb8",
   "metadata": {},
   "outputs": [],
   "source": [
    "df_transfer.head()"
   ]
  },
  {
   "cell_type": "code",
   "execution_count": null,
   "id": "090b7549",
   "metadata": {},
   "outputs": [],
   "source": [
    "df_transfer.isna().sum().compute()"
   ]
  },
  {
   "cell_type": "code",
   "execution_count": null,
   "id": "388240be",
   "metadata": {},
   "outputs": [],
   "source": [
    "df_transfer.shape[0].compute()"
   ]
  },
  {
   "cell_type": "code",
   "execution_count": null,
   "id": "b50b4be1",
   "metadata": {},
   "outputs": [],
   "source": [
    "mimic_instance.read_hosp_d_hcpcs_csv().head()"
   ]
  },
  {
   "cell_type": "code",
   "execution_count": null,
   "id": "a7e0e78d",
   "metadata": {},
   "outputs": [],
   "source": [
    "mimic_instance.read_hosp_d_icd_diagnoses_csv().head()"
   ]
  },
  {
   "cell_type": "code",
   "execution_count": null,
   "id": "a2ca6ed4",
   "metadata": {},
   "outputs": [],
   "source": [
    "mimic_instance.read_hosp_d_icd_procedures_csv().head()"
   ]
  },
  {
   "cell_type": "code",
   "execution_count": null,
   "id": "10688397",
   "metadata": {},
   "outputs": [],
   "source": [
    "mimic_instance.read_hosp_d_labitems_csv().head()"
   ]
  },
  {
   "cell_type": "code",
   "execution_count": null,
   "id": "b04d89b3",
   "metadata": {},
   "outputs": [],
   "source": [
    "mimic_instance.read_hosp_diagnoses_icd_csv().head()"
   ]
  },
  {
   "cell_type": "code",
   "execution_count": null,
   "id": "30b379a5",
   "metadata": {},
   "outputs": [],
   "source": [
    "mimic_instance.read_hosp_drgcodes_csv().head()"
   ]
  },
  {
   "cell_type": "code",
   "execution_count": null,
   "id": "1084783e",
   "metadata": {},
   "outputs": [],
   "source": [
    "mimic_instance.read_hosp_emar_csv().head()"
   ]
  },
  {
   "cell_type": "code",
   "execution_count": null,
   "id": "3c78e1ef",
   "metadata": {},
   "outputs": [],
   "source": [
    "mimic_instance.read_hosp_emar_detail_csv().head()"
   ]
  },
  {
   "cell_type": "code",
   "execution_count": null,
   "id": "c2e335bb",
   "metadata": {},
   "outputs": [],
   "source": [
    "mimic_instance.read_hosp_hcpcsevents_csv().head()"
   ]
  },
  {
   "cell_type": "code",
   "execution_count": null,
   "id": "ee76eff0",
   "metadata": {
    "scrolled": false
   },
   "outputs": [],
   "source": [
    "mimic_instance.read_hosp_labevents_csv().head()"
   ]
  },
  {
   "cell_type": "code",
   "execution_count": null,
   "id": "3a2aa127",
   "metadata": {},
   "outputs": [],
   "source": [
    "mimic_instance.read_hosp_microbiologyevents_csv().head()"
   ]
  },
  {
   "cell_type": "code",
   "execution_count": null,
   "id": "35170ce5",
   "metadata": {},
   "outputs": [],
   "source": [
    "mimic_instance.read_hosp_pharmacy_csv().head()"
   ]
  },
  {
   "cell_type": "code",
   "execution_count": null,
   "id": "ed6b8686",
   "metadata": {},
   "outputs": [],
   "source": [
    "mimic_instance.read_hosp_poe_csv().head()"
   ]
  },
  {
   "cell_type": "code",
   "execution_count": null,
   "id": "44219d86",
   "metadata": {},
   "outputs": [],
   "source": [
    "mimic_instance.read_hosp_poe_detail_csv().head()"
   ]
  },
  {
   "cell_type": "code",
   "execution_count": null,
   "id": "18f9e2d2",
   "metadata": {},
   "outputs": [],
   "source": [
    "mimic_instance.read_hosp_procedures_icd_csv().head()"
   ]
  },
  {
   "cell_type": "code",
   "execution_count": null,
   "id": "372bcf11",
   "metadata": {},
   "outputs": [],
   "source": [
    "mimic_instance.read_hosp_services_csv().head()"
   ]
  },
  {
   "cell_type": "code",
   "execution_count": null,
   "id": "b9bf1bc0",
   "metadata": {},
   "outputs": [],
   "source": [
    "mimic_instance.read_icu_chartevents_csv().head()"
   ]
  },
  {
   "cell_type": "code",
   "execution_count": null,
   "id": "0f62a3ba",
   "metadata": {},
   "outputs": [],
   "source": [
    "mimic_instance.read_icu_d_items_csv().head()"
   ]
  },
  {
   "cell_type": "code",
   "execution_count": null,
   "id": "e465d6ae",
   "metadata": {},
   "outputs": [],
   "source": [
    "mimic_instance.read_icu_datetimeevents_csv().head()"
   ]
  },
  {
   "cell_type": "code",
   "execution_count": null,
   "id": "602c0a0b",
   "metadata": {},
   "outputs": [],
   "source": [
    "mimic_instance.read_icu_icustays_csv().head()"
   ]
  },
  {
   "cell_type": "code",
   "execution_count": null,
   "id": "0c5c0552",
   "metadata": {},
   "outputs": [],
   "source": [
    "mimic_instance.read_icu_inputevents_csv().head()"
   ]
  },
  {
   "cell_type": "code",
   "execution_count": null,
   "id": "559c6e3e",
   "metadata": {},
   "outputs": [],
   "source": [
    "mimic_instance.read_icu_outputevents_csv().head()"
   ]
  },
  {
   "cell_type": "code",
   "execution_count": null,
   "id": "9c2b9d6d",
   "metadata": {},
   "outputs": [],
   "source": [
    "mimic_instance.read_icu_procedureevents_csv().head()"
   ]
  },
  {
   "cell_type": "markdown",
   "id": "619798e9",
   "metadata": {},
   "source": [
    "# Data Exploration"
   ]
  },
  {
   "cell_type": "code",
   "execution_count": null,
   "id": "46e743c0",
   "metadata": {},
   "outputs": [],
   "source": [
    "df_admission = mimic_manipulation_instance.filter_core_admission(mimic_instance.read_core_admissions_csv())\n",
    "print(len(df_admission))\n",
    "df_admission.head()"
   ]
  },
  {
   "cell_type": "code",
   "execution_count": null,
   "id": "34c6a2fb",
   "metadata": {},
   "outputs": [],
   "source": [
    "df_patient = mimic_manipulation_instance.filter_core_patients(mimic_instance.read_core_patients_csv())\n",
    "print(len(df_patient))\n",
    "df_patient.head()"
   ]
  },
  {
   "cell_type": "code",
   "execution_count": null,
   "id": "4b5db3e9",
   "metadata": {},
   "outputs": [],
   "source": [
    "df_transfers = mimic_manipulation_instance.filter_core_transfers(mimic_instance.read_core_transfers_csv())\n",
    "print(len(df_transfers))\n",
    "df_transfers.head()"
   ]
  },
  {
   "cell_type": "code",
   "execution_count": null,
   "id": "5efd020f",
   "metadata": {},
   "outputs": [],
   "source": [
    "df_diagnoses_icd = mimic_manipulation_instance.filter_hosp_diagnoses_icd(mimic_instance.read_hosp_diagnoses_icd_csv())\n",
    "print(len(df_diagnoses_icd))\n",
    "df_diagnoses_icd.head()"
   ]
  },
  {
   "cell_type": "code",
   "execution_count": null,
   "id": "5a8ffdbc",
   "metadata": {},
   "outputs": [],
   "source": [
    "df_procedures_icd = mimic_manipulation_instance.filter_hosp_procedures_icd(mimic_instance.read_hosp_procedures_icd_csv())\n",
    "print(len(df_procedures_icd))\n",
    "df_procedures_icd.head()"
   ]
  },
  {
   "cell_type": "code",
   "execution_count": null,
   "id": "f2f716d0",
   "metadata": {},
   "outputs": [],
   "source": [
    "df_lab_events = mimic_manipulation_instance.filter_hosp_lab_events(mimic_instance.read_hosp_labevents_csv())\n",
    "print(len(df_lab_events))\n",
    "df_lab_events.head()"
   ]
  },
  {
   "cell_type": "code",
   "execution_count": null,
   "id": "c458877b",
   "metadata": {},
   "outputs": [],
   "source": [
    "df_drgcodes = mimic_manipulation_instance.filter_hosp_drgcodes(mimic_instance.read_hosp_drgcodes_csv())\n",
    "print(len(df_drgcodes))\n",
    "df_drgcodes.head()"
   ]
  },
  {
   "cell_type": "code",
   "execution_count": null,
   "id": "3d33283f",
   "metadata": {},
   "outputs": [],
   "source": [
    "df_emar = mimic_manipulation_instance.filter_hosp_emar(mimic_instance.read_hosp_emar_csv())\n",
    "print(len(df_emar))\n",
    "df_emar.head()"
   ]
  },
  {
   "cell_type": "code",
   "execution_count": null,
   "id": "92d539ed",
   "metadata": {},
   "outputs": [],
   "source": [
    "df_poe = mimic_manipulation_instance.filter_hosp_poe(mimic_instance.read_hosp_poe_csv())\n",
    "print(len(df_poe))\n",
    "df_poe.head()"
   ]
  },
  {
   "cell_type": "code",
   "execution_count": null,
   "id": "6a0c7a95",
   "metadata": {},
   "outputs": [],
   "source": [
    "df_microbiology_events = mimic_manipulation_instance.filter_hosp_microbiologyevents(mimic_instance.read_hosp_microbiologyevents_csv())\n",
    "print(len(df_microbiology_events))\n",
    "df_microbiology_events.head()"
   ]
  },
  {
   "cell_type": "code",
   "execution_count": null,
   "id": "645b3c0a",
   "metadata": {},
   "outputs": [],
   "source": [
    "df_prescriptions = mimic_manipulation_instance.filter_hosp_prescriptions(mimic_instance.read_hosp_prescriptions_csv())\n",
    "print(len(df_prescriptions))\n",
    "df_prescriptions.head()"
   ]
  },
  {
   "cell_type": "code",
   "execution_count": null,
   "id": "ff69eee1",
   "metadata": {},
   "outputs": [],
   "source": [
    "df_services = mimic_manipulation_instance.filter_hosp_service(mimic_instance.read_hosp_services_csv())\n",
    "print(len(df_services))\n",
    "df_services.head()"
   ]
  },
  {
   "cell_type": "code",
   "execution_count": null,
   "id": "e6d6d693",
   "metadata": {},
   "outputs": [],
   "source": [
    "df_icustays = mimic_manipulation_instance.filter_icu_icustays(mimic_instance.read_icu_icustays_csv())\n",
    "print(len(df_icustays))\n",
    "df_icustays.head()"
   ]
  },
  {
   "cell_type": "code",
   "execution_count": null,
   "id": "98918dcc",
   "metadata": {},
   "outputs": [],
   "source": [
    "df_chartevents = mimic_manipulation_instance.filter_icu_chartevents(mimic_instance.read_icu_chartevents_csv())\n",
    "print(len(df_chartevents))\n",
    "df_chartevents.head()"
   ]
  },
  {
   "cell_type": "markdown",
   "id": "f88c5bf9",
   "metadata": {},
   "source": [
    "# Merge Data on the basis of subject_id index\n",
    "\n",
    "1. Merge patients and admissions "
   ]
  },
  {
   "cell_type": "code",
   "execution_count": null,
   "id": "8f03d601",
   "metadata": {},
   "outputs": [],
   "source": [
    "df_merge = df_admission.merge(df_patient, left_index=True, right_index=True)\n",
    "print(len(df_merge))\n",
    "df_merge.head()"
   ]
  },
  {
   "cell_type": "markdown",
   "id": "859f589d",
   "metadata": {},
   "source": [
    "2. Merge df_merge and df_transfers"
   ]
  },
  {
   "cell_type": "code",
   "execution_count": null,
   "id": "57f352eb",
   "metadata": {},
   "outputs": [],
   "source": [
    "df_merge = df_merge.merge(df_transfers, left_index=True, right_index=True)\n",
    "print(len(df_merge))\n",
    "df_merge.head()"
   ]
  },
  {
   "cell_type": "markdown",
   "id": "3361109a",
   "metadata": {},
   "source": [
    "3. Merge df_merge and df_diagnoses_icd"
   ]
  },
  {
   "cell_type": "code",
   "execution_count": null,
   "id": "c21be243",
   "metadata": {},
   "outputs": [],
   "source": [
    "df_merge = df_merge.join(df_diagnoses_icd, how='left')\n",
    "print(len(df_merge))\n",
    "df_merge.head()"
   ]
  },
  {
   "cell_type": "markdown",
   "id": "cf49735d",
   "metadata": {},
   "source": [
    "4. Merge df_merge and df_procedures_icd"
   ]
  },
  {
   "cell_type": "code",
   "execution_count": null,
   "id": "9938caa8",
   "metadata": {},
   "outputs": [],
   "source": [
    "df_merge = df_merge.join(df_procedures_icd, how='left')\n",
    "print(len(df_merge))\n",
    "df_merge.head()"
   ]
  },
  {
   "cell_type": "markdown",
   "id": "8992e124",
   "metadata": {},
   "source": [
    "5. Merge df_merge with df_lab_events"
   ]
  },
  {
   "cell_type": "code",
   "execution_count": null,
   "id": "45136ef0",
   "metadata": {},
   "outputs": [],
   "source": [
    "df_merge = df_merge.join(df_lab_events, how='left')\n",
    "print(len(df_merge))\n",
    "df_merge.head()"
   ]
  },
  {
   "cell_type": "markdown",
   "id": "20d8a733",
   "metadata": {},
   "source": [
    "6. Merge df_merge with df_drgcodes"
   ]
  },
  {
   "cell_type": "code",
   "execution_count": null,
   "id": "90f4f0e9",
   "metadata": {},
   "outputs": [],
   "source": [
    "df_merge = df_merge.join(df_drgcodes, how='left')\n",
    "print(len(df_merge))\n",
    "df_merge.head()"
   ]
  },
  {
   "cell_type": "code",
   "execution_count": null,
   "id": "b36f9fa7",
   "metadata": {},
   "outputs": [],
   "source": [
    "#Merge df_merge with df_emar\n",
    "df_merge.head()"
   ]
  },
  {
   "cell_type": "code",
   "execution_count": null,
   "id": "d5a458e1",
   "metadata": {},
   "outputs": [],
   "source": [
    "# Merge df_merge and df_prescriptions\n",
    "df_merge = df_merge.join(df_prescriptions, how='left')\n",
    "print(len(df_merge))\n",
    "df_merge.head()"
   ]
  },
  {
   "cell_type": "code",
   "execution_count": null,
   "id": "cde61116",
   "metadata": {},
   "outputs": [],
   "source": [
    "#Merge df_merge and df_microbiology_events\n",
    "df_merge = df_merge.join(df_microbiology_events, how='left')\n",
    "print(len(df_merge))\n",
    "df_merge.head()"
   ]
  },
  {
   "cell_type": "code",
   "execution_count": null,
   "id": "5ec3c86a",
   "metadata": {},
   "outputs": [],
   "source": [
    "#Merge df_merge and df_services\n",
    "df_merge = df_merge.join(df_services, how='left')\n",
    "print(len(df_merge))\n",
    "df_merge.head()"
   ]
  },
  {
   "cell_type": "code",
   "execution_count": null,
   "id": "b3240f06",
   "metadata": {},
   "outputs": [],
   "source": [
    "#Saving it to a csv file\n",
    "#df_merge.compute().to_csv('dataset/ch_02_end_to_end_ml.csv')"
   ]
  },
  {
   "cell_type": "code",
   "execution_count": null,
   "id": "7762f11e",
   "metadata": {},
   "outputs": [],
   "source": []
  }
 ],
 "metadata": {
  "kernelspec": {
   "display_name": "Python 3 (ipykernel)",
   "language": "python",
   "name": "python3"
  },
  "language_info": {
   "codemirror_mode": {
    "name": "ipython",
    "version": 3
   },
   "file_extension": ".py",
   "mimetype": "text/x-python",
   "name": "python",
   "nbconvert_exporter": "python",
   "pygments_lexer": "ipython3",
   "version": "3.8.10"
  }
 },
 "nbformat": 4,
 "nbformat_minor": 5
}
