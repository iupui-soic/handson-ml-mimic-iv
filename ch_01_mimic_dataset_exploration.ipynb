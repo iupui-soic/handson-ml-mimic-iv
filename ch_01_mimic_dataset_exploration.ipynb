{
 "cells": [
  {
   "cell_type": "code",
   "execution_count": null,
   "id": "9cf85ba3",
   "metadata": {},
   "outputs": [],
   "source": [
    "import os\n",
    "from mimic.mimic import MIMIC\n",
    "from utils.util import generic_utils\n",
    "import matplotlib.pyplot as plt\n",
    "%matplotlib inline"
   ]
  },
  {
   "cell_type": "code",
   "execution_count": null,
   "id": "e56dbc99",
   "metadata": {},
   "outputs": [],
   "source": [
    "CRED_PATH = os.path.abspath('./mimic/credentials.json')"
   ]
  },
  {
   "cell_type": "code",
   "execution_count": null,
   "id": "34faf1cf",
   "metadata": {},
   "outputs": [],
   "source": [
    "assert os.path.exists(CRED_PATH)"
   ]
  },
  {
   "cell_type": "code",
   "execution_count": null,
   "id": "46408a05",
   "metadata": {},
   "outputs": [],
   "source": [
    "import pandas as pd\n",
    "import seaborn as sns"
   ]
  },
  {
   "cell_type": "code",
   "execution_count": null,
   "id": "9dcc3d43",
   "metadata": {},
   "outputs": [],
   "source": [
    "mimic_instance = MIMIC(CRED_PATH)\n",
    "generic_util_instance = generic_utils()"
   ]
  },
  {
   "cell_type": "markdown",
   "id": "1a429e7f",
   "metadata": {},
   "source": [
    "You will get error if postgresql server is not started. Start it before you proceed:\n",
    "\n",
    "`sudo service postgresql start`"
   ]
  },
  {
   "cell_type": "code",
   "execution_count": null,
   "id": "2a830b90",
   "metadata": {},
   "outputs": [],
   "source": [
    "mimic_tables = mimic_instance.get_mimic_tables()"
   ]
  },
  {
   "cell_type": "code",
   "execution_count": null,
   "id": "2d6bab5c",
   "metadata": {},
   "outputs": [],
   "source": [
    "mimic_tables_shape = generic_util_instance.get_df_shape(mimic_tables)\n",
    "mimic_tables_shape"
   ]
  },
  {
   "cell_type": "code",
   "execution_count": null,
   "id": "6888e42e",
   "metadata": {},
   "outputs": [],
   "source": [
    "mimic_tables = mimic_instance.get_mimic_tables()\n",
    "generic_util_instance.print_df_head(mimic_tables)"
   ]
  },
  {
   "cell_type": "markdown",
   "id": "bc5eeedc",
   "metadata": {},
   "source": [
    "# MIMIC-IV Structure\n",
    "\n",
    "Please have a look at it : https://mimic.mit.edu/docs/iv/modules/\n",
    "\n",
    "We are covering only 3 modules and its related tables: \n",
    "- Core\n",
    "- hosp\n",
    "- ICU"
   ]
  },
  {
   "cell_type": "markdown",
   "id": "cd6b3d19",
   "metadata": {},
   "source": [
    "# MIMIC &#8594; Core &#8594; Admissions"
   ]
  },
  {
   "cell_type": "code",
   "execution_count": null,
   "id": "39f0533c",
   "metadata": {},
   "outputs": [],
   "source": [
    "mimic_core_admissions = mimic_instance.get_mimic_core_addissions()\n",
    "mimic_core_admissions_shape = generic_util_instance.get_df_shape(mimic_core_admissions)\n",
    "mimic_core_admissions_shape"
   ]
  },
  {
   "cell_type": "code",
   "execution_count": null,
   "id": "7f0acc9e",
   "metadata": {},
   "outputs": [],
   "source": [
    "mimic_core_admissions = mimic_instance.get_mimic_core_addissions()\n",
    "generic_util_instance.print_df_head(mimic_core_admissions)"
   ]
  },
  {
   "cell_type": "markdown",
   "id": "2ffcc711",
   "metadata": {},
   "source": [
    "# MIMIC &#8594; Core &#8594; Patients"
   ]
  },
  {
   "cell_type": "code",
   "execution_count": null,
   "id": "5c7e9756",
   "metadata": {},
   "outputs": [],
   "source": [
    "mimic_core_patients = mimic_instance.get_mimic_core_patients()\n",
    "mimic_core_patients_shape = generic_util_instance.get_df_shape(mimic_core_patients)\n",
    "mimic_core_patients_shape"
   ]
  },
  {
   "cell_type": "code",
   "execution_count": null,
   "id": "68226e6d",
   "metadata": {},
   "outputs": [],
   "source": [
    "mimic_core_patients = mimic_instance.get_mimic_core_patients()\n",
    "generic_util_instance.print_df_head(mimic_core_patients)"
   ]
  },
  {
   "cell_type": "markdown",
   "id": "f80f58ae",
   "metadata": {},
   "source": [
    "# MIMIC &#8594; Core &#8594; Transfers"
   ]
  },
  {
   "cell_type": "code",
   "execution_count": null,
   "id": "4b633796",
   "metadata": {},
   "outputs": [],
   "source": [
    "mimic_core_transfers = mimic_instance.get_mimic_core_transfers()\n",
    "mimic_core_transfers_shape = generic_util_instance.get_df_shape(mimic_core_transfers)\n",
    "mimic_core_transfers_shape"
   ]
  },
  {
   "cell_type": "code",
   "execution_count": null,
   "id": "ea13b9c9",
   "metadata": {},
   "outputs": [],
   "source": [
    "mimic_core_transfers = mimic_instance.get_mimic_core_transfers()\n",
    "generic_util_instance.print_df_head(mimic_core_transfers)"
   ]
  },
  {
   "cell_type": "markdown",
   "id": "82ba06aa",
   "metadata": {},
   "source": [
    "# MIMIC &#8594; Hosp &#8594; d_hcpcs"
   ]
  },
  {
   "cell_type": "code",
   "execution_count": null,
   "id": "0b7fff89",
   "metadata": {},
   "outputs": [],
   "source": [
    "mimic_hosp_d_hcpcs = mimic_instance.get_mimic_hosp_d_hcps()\n",
    "mimic_hosp_d_hcpcs_shape = generic_util_instance.get_df_shape(mimic_hosp_d_hcpcs)\n",
    "mimic_hosp_d_hcpcs_shape"
   ]
  },
  {
   "cell_type": "code",
   "execution_count": null,
   "id": "93c59d55",
   "metadata": {},
   "outputs": [],
   "source": [
    "mimic_hosp_d_hcpcs = mimic_instance.get_mimic_hosp_d_hcps()\n",
    "generic_util_instance.print_df_head(mimic_hosp_d_hcpcs)"
   ]
  },
  {
   "cell_type": "markdown",
   "id": "d0084ed7",
   "metadata": {},
   "source": [
    "# MIMIC &#8594; Hosp &#8594; d_icd_diagnoses"
   ]
  },
  {
   "cell_type": "code",
   "execution_count": null,
   "id": "33cdb17f",
   "metadata": {},
   "outputs": [],
   "source": [
    "mimic_hosp_d_icd_diagnoses = mimic_instance.get_mimic_hosp_d_icd_diagnoses()\n",
    "mimic_hosp_d_icd_diagnoses_shape = generic_util_instance.get_df_shape(mimic_hosp_d_icd_diagnoses)\n",
    "mimic_hosp_d_icd_diagnoses_shape"
   ]
  },
  {
   "cell_type": "code",
   "execution_count": null,
   "id": "2602d7ee",
   "metadata": {},
   "outputs": [],
   "source": [
    "mimic_hosp_d_icd_diagnoses = mimic_instance.get_mimic_hosp_d_icd_diagnoses()\n",
    "generic_util_instance.print_df_head(mimic_hosp_d_icd_diagnoses)"
   ]
  },
  {
   "cell_type": "markdown",
   "id": "2a0f268c",
   "metadata": {},
   "source": [
    "# MIMIC &#8594; Hosp &#8594; d_icd_procedures"
   ]
  },
  {
   "cell_type": "code",
   "execution_count": null,
   "id": "a2ab93fb",
   "metadata": {},
   "outputs": [],
   "source": [
    "mimic_hosp_d_icd_procedures = mimic_instance.get_mimic_hosp_d_icd_procedures()\n",
    "mimic_hosp_d_icd_procedures_shape = generic_util_instance.get_df_shape(mimic_hosp_d_icd_procedures)\n",
    "mimic_hosp_d_icd_procedures_shape"
   ]
  },
  {
   "cell_type": "code",
   "execution_count": null,
   "id": "a4581269",
   "metadata": {},
   "outputs": [],
   "source": [
    "mimic_hosp_d_icd_procedures = mimic_instance.get_mimic_hosp_d_icd_procedures()\n",
    "generic_util_instance.print_df_head(mimic_hosp_d_icd_procedures)"
   ]
  },
  {
   "cell_type": "markdown",
   "id": "5834294c",
   "metadata": {},
   "source": [
    "# MIMIC &#8594; Hosp &#8594; d_labitems"
   ]
  },
  {
   "cell_type": "code",
   "execution_count": null,
   "id": "2493cc1d",
   "metadata": {},
   "outputs": [],
   "source": [
    "mimic_hosp_d_labitems = mimic_instance.get_mimic_hosp_d_labitems()\n",
    "mimic_hosp_d_labitems_shape = generic_util_instance.get_df_shape(mimic_hosp_d_labitems)\n",
    "mimic_hosp_d_labitems_shape"
   ]
  },
  {
   "cell_type": "code",
   "execution_count": null,
   "id": "637e5809",
   "metadata": {},
   "outputs": [],
   "source": [
    "mimic_hosp_d_labitems = mimic_instance.get_mimic_hosp_d_labitems()\n",
    "generic_util_instance.print_df_head(mimic_hosp_d_labitems)"
   ]
  },
  {
   "cell_type": "markdown",
   "id": "f7f56c26",
   "metadata": {},
   "source": [
    "# MIMIC &#8594; Hosp &#8594; diagnoses_icd"
   ]
  },
  {
   "cell_type": "code",
   "execution_count": null,
   "id": "5677dc39",
   "metadata": {},
   "outputs": [],
   "source": [
    "mimic_hosp_diagnoses_icd = mimic_instance.get_mimic_hosp_diagnoses_icd()\n",
    "mimic_hosp_diagnoses_icd_shape = generic_util_instance.get_df_shape(mimic_hosp_diagnoses_icd)\n",
    "mimic_hosp_diagnoses_icd_shape"
   ]
  },
  {
   "cell_type": "code",
   "execution_count": null,
   "id": "5df9ed93",
   "metadata": {},
   "outputs": [],
   "source": [
    "mimic_hosp_diagnoses_icd = mimic_instance.get_mimic_hosp_diagnoses_icd()\n",
    "generic_util_instance.print_df_head(mimic_hosp_diagnoses_icd)"
   ]
  },
  {
   "cell_type": "markdown",
   "id": "a49ef69f",
   "metadata": {},
   "source": [
    "# MIMIC &#8594; Hosp &#8594; drgcodes"
   ]
  },
  {
   "cell_type": "code",
   "execution_count": null,
   "id": "daeafbf9",
   "metadata": {},
   "outputs": [],
   "source": [
    "mimic_hosp_drgcodes = mimic_instance.get_mimic_hosp_drgcodes()\n",
    "mimic_hosp_drgcodes_shape = generic_util_instance.get_df_shape(mimic_hosp_drgcodes)\n",
    "mimic_hosp_drgcodes_shape"
   ]
  },
  {
   "cell_type": "code",
   "execution_count": null,
   "id": "f9997add",
   "metadata": {},
   "outputs": [],
   "source": [
    "mimic_hosp_drgcodes = mimic_instance.get_mimic_hosp_drgcodes()\n",
    "generic_util_instance.print_df_head(mimic_hosp_drgcodes)"
   ]
  },
  {
   "cell_type": "markdown",
   "id": "6a99ecad",
   "metadata": {},
   "source": [
    "# MIMIC &#8594; Hosp &#8594; emar"
   ]
  },
  {
   "cell_type": "code",
   "execution_count": null,
   "id": "ebe30b60",
   "metadata": {},
   "outputs": [],
   "source": [
    "mimic_hosp_emar = mimic_instance.get_mimic_hosp_emar()\n",
    "mimic_hosp_emar_shape = generic_util_instance.get_df_shape(mimic_hosp_emar)\n",
    "mimic_hosp_emar_shape"
   ]
  },
  {
   "cell_type": "code",
   "execution_count": null,
   "id": "d0a7bcb9",
   "metadata": {},
   "outputs": [],
   "source": [
    "mimic_hosp_emar = mimic_instance.get_mimic_hosp_emar()\n",
    "generic_util_instance.print_df_head(mimic_hosp_emar)"
   ]
  },
  {
   "cell_type": "code",
   "execution_count": null,
   "id": "9f1e24ef",
   "metadata": {},
   "outputs": [],
   "source": [
    "import gc"
   ]
  },
  {
   "cell_type": "code",
   "execution_count": null,
   "id": "3d7a952c",
   "metadata": {},
   "outputs": [],
   "source": [
    "gc.collect()"
   ]
  },
  {
   "cell_type": "markdown",
   "id": "48dcae8e",
   "metadata": {},
   "source": [
    "# MIMIC &#8594; Hosp &#8594; emar_detail"
   ]
  },
  {
   "cell_type": "code",
   "execution_count": null,
   "id": "484a9f09",
   "metadata": {},
   "outputs": [],
   "source": [
    "# mimic_hosp_emar_detail = mimic_instance.get_mimic_hosp_emar_detail()\n",
    "# mimic_hosp_emar_detail_shape = generic_util_instance.get_df_shape(mimic_hosp_emar_detail)\n",
    "# mimic_hosp_emar_detail_shape"
   ]
  },
  {
   "cell_type": "code",
   "execution_count": null,
   "id": "7e85c7b5",
   "metadata": {},
   "outputs": [],
   "source": [
    "# mimic_hosp_emar_detail = mimic_instance.get_mimic_hosp_emar_detail()\n",
    "# generic_util_instance.print_df_head(mimic_hosp_emar_detail)"
   ]
  },
  {
   "cell_type": "markdown",
   "id": "1c61d738",
   "metadata": {},
   "source": [
    "# MIMIC &#8594; Hosp &#8594; hpcsevents"
   ]
  },
  {
   "cell_type": "code",
   "execution_count": null,
   "id": "af18661a",
   "metadata": {},
   "outputs": [],
   "source": [
    "mimic_hosp_hpcsevents = mimic_instance.get_mimic_hosp_hcpcsevents()\n",
    "mimic_hosp_hpcsevents_shape = generic_util_instance.get_df_shape(mimic_hosp_hpcsevents)\n",
    "mimic_hosp_hpcsevents_shape"
   ]
  },
  {
   "cell_type": "code",
   "execution_count": null,
   "id": "f4dc3430",
   "metadata": {},
   "outputs": [],
   "source": [
    "mimic_hosp_hpcsevents = mimic_instance.get_mimic_hosp_hcpcsevents()\n",
    "generic_util_instance.print_df_head(mimic_hosp_hpcsevents)"
   ]
  },
  {
   "cell_type": "markdown",
   "id": "4dcd6a1b",
   "metadata": {},
   "source": [
    "# MIMIC &#8594; Hosp &#8594; labevents"
   ]
  },
  {
   "cell_type": "code",
   "execution_count": null,
   "id": "531c1a16",
   "metadata": {},
   "outputs": [],
   "source": [
    "#This is breaking because of large data. Will use chunking in future.\n",
    "\n",
    "# mimic_hosp_labevents = mimic_instance.get_mimic_hosp_labevents()\n",
    "# mimic_hosp_labevents_shape = generic_util_instance.get_df_shape(mimic_hosp_labevents)\n",
    "# mimic_hosp_labevents_shape"
   ]
  },
  {
   "cell_type": "code",
   "execution_count": null,
   "id": "343f0625",
   "metadata": {},
   "outputs": [],
   "source": [
    "# mimic_hosp_labevents.head()\n",
    "# mimic_hosp_labevents = mimic_instance.get_mimic_hosp_labevents()\n",
    "# generic_util_instance.print_df_head(mimic_hosp_labevents)"
   ]
  },
  {
   "cell_type": "markdown",
   "id": "0ce6b547",
   "metadata": {},
   "source": [
    "# MIMIC &#8594; Hosp &#8594; microbiologyevents"
   ]
  },
  {
   "cell_type": "code",
   "execution_count": null,
   "id": "23f822c6",
   "metadata": {},
   "outputs": [],
   "source": [
    "mimic_hosp_microbiologyevents = mimic_instance.get_mimic_hosp_microbiologyevents()\n",
    "mimic_hosp_microbiologyevents_shape = generic_util_instance.get_df_shape(mimic_hosp_microbiologyevents)\n",
    "mimic_hosp_microbiologyevents_shape"
   ]
  },
  {
   "cell_type": "code",
   "execution_count": null,
   "id": "ab503b8c",
   "metadata": {},
   "outputs": [],
   "source": [
    "mimic_hosp_microbiologyevents = mimic_instance.get_mimic_hosp_microbiologyevents()\n",
    "generic_util_instance.print_df_head(mimic_hosp_microbiologyevents)"
   ]
  },
  {
   "cell_type": "markdown",
   "id": "9442cabf",
   "metadata": {},
   "source": [
    "# MIMIC &#8594; Hosp &#8594; pharmacy"
   ]
  },
  {
   "cell_type": "code",
   "execution_count": null,
   "id": "66e22ca3",
   "metadata": {},
   "outputs": [],
   "source": [
    "#This is breaking because of large data. Will use chunking in future.\n",
    "\n",
    "# mimic_hosp_pharmacy = mimic_instance.get_mimic_hosp_pharmacy()\n",
    "# mimic_hosp_pharmacy.shape"
   ]
  },
  {
   "cell_type": "code",
   "execution_count": null,
   "id": "60bb1a40",
   "metadata": {},
   "outputs": [],
   "source": [
    "# mimic_hosp_pharmacy.head()"
   ]
  },
  {
   "cell_type": "markdown",
   "id": "7376e4c4",
   "metadata": {},
   "source": [
    "# MIMIC &#8594; Hosp &#8594; poe"
   ]
  },
  {
   "cell_type": "code",
   "execution_count": null,
   "id": "c05b2177",
   "metadata": {},
   "outputs": [],
   "source": [
    "#This is breaking because of large data. Will use chunking in future.\n",
    "\n",
    "# mimic_hosp_poe = mimic_instance.get_mimic_hosp_poe()\n",
    "# mimic_hosp_poe.shape"
   ]
  },
  {
   "cell_type": "code",
   "execution_count": null,
   "id": "62079294",
   "metadata": {},
   "outputs": [],
   "source": [
    "# mimic_hosp_poe.head()"
   ]
  },
  {
   "cell_type": "markdown",
   "id": "85fce57a",
   "metadata": {},
   "source": [
    "# MIMIC &#8594; Hosp &#8594; poe_detail"
   ]
  },
  {
   "cell_type": "code",
   "execution_count": null,
   "id": "209c8875",
   "metadata": {},
   "outputs": [],
   "source": [
    "mimic_hosp_poe_detail = mimic_instance.get_mimic_hosp_poe_detail()\n",
    "mimic_hosp_poe_detail_shape = generic_util_instance.get_df_shape(mimic_hosp_poe_detail)\n",
    "mimic_hosp_poe_detail_shape"
   ]
  },
  {
   "cell_type": "code",
   "execution_count": null,
   "id": "5b00fcbb",
   "metadata": {},
   "outputs": [],
   "source": [
    "mimic_hosp_poe_detail = mimic_instance.get_mimic_hosp_poe_detail()\n",
    "generic_util_instance.print_df_head(mimic_hosp_poe_detail)"
   ]
  },
  {
   "cell_type": "markdown",
   "id": "f029e784",
   "metadata": {},
   "source": [
    "# MIMIC &#8594; Hosp &#8594; prescriptions"
   ]
  },
  {
   "cell_type": "code",
   "execution_count": null,
   "id": "7d41f2d0",
   "metadata": {},
   "outputs": [],
   "source": [
    "#This is breaking because of large data. Will use chunking in future.\n",
    "\n",
    "mimic_hosp_prescriptions = mimic_instance.get_mimic_hosp_prescriptions()\n",
    "mimic_hosp_prescriptions_shape = generic_util_instance.get_df_shape(mimic_hosp_prescriptions)"
   ]
  },
  {
   "cell_type": "code",
   "execution_count": null,
   "id": "72c8fdab",
   "metadata": {},
   "outputs": [],
   "source": [
    "mimic_hosp_prescriptions_shape"
   ]
  },
  {
   "cell_type": "code",
   "execution_count": null,
   "id": "5006c00e",
   "metadata": {},
   "outputs": [],
   "source": [
    "#mimic_hosp_prescriptions.head()"
   ]
  },
  {
   "cell_type": "markdown",
   "id": "fc969d2e",
   "metadata": {},
   "source": [
    "# MIMIC &#8594; Hosp &#8594; procedures_icd"
   ]
  },
  {
   "cell_type": "code",
   "execution_count": null,
   "id": "8310b4c9",
   "metadata": {},
   "outputs": [],
   "source": [
    "mimic_hosp_procedures_icd = mimic_instance.get_mimic_hosp_procedures_icd()\n",
    "mimic_hosp_procedures_icd_shape = generic_util_instance.get_df_shape(mimic_hosp_procedures_icd)\n",
    "mimic_hosp_procedures_icd_shape"
   ]
  },
  {
   "cell_type": "code",
   "execution_count": null,
   "id": "abc5cb86",
   "metadata": {},
   "outputs": [],
   "source": [
    "mimic_hosp_procedures_icd = mimic_instance.get_mimic_hosp_procedures_icd()\n",
    "generic_util_instance.print_df_head(mimic_hosp_procedures_icd)"
   ]
  },
  {
   "cell_type": "markdown",
   "id": "e5f07535",
   "metadata": {},
   "source": [
    "# MIMIC &#8594; Hosp &#8594; services"
   ]
  },
  {
   "cell_type": "code",
   "execution_count": null,
   "id": "ecc5b739",
   "metadata": {},
   "outputs": [],
   "source": [
    "mimic_hosp_services = mimic_instance.get_mimic_hosp_services()\n",
    "mimic_hosp_services_shape = generic_util_instance.get_df_shape(mimic_hosp_services)\n",
    "mimic_hosp_services_shape"
   ]
  },
  {
   "cell_type": "code",
   "execution_count": null,
   "id": "d3b07672",
   "metadata": {},
   "outputs": [],
   "source": [
    "mimic_hosp_services = mimic_instance.get_mimic_hosp_services()\n",
    "generic_util_instance.print_df_head(mimic_hosp_services)"
   ]
  },
  {
   "cell_type": "markdown",
   "id": "ab21e650",
   "metadata": {},
   "source": [
    "# MIMIC &#8594; ICU &#8594; chartevents"
   ]
  },
  {
   "cell_type": "code",
   "execution_count": null,
   "id": "a1d8db79",
   "metadata": {},
   "outputs": [],
   "source": [
    "#This is breaking because of large data. Will use chunking in future.\n",
    "\n",
    "# mimic_icu_chartevents = mimic_instance.get_mimic_icu_chartevents()\n",
    "# mimic_icu_chartevents_shape = generic_util_instance.get_df_shape(mimic_icu_chartevents)\n",
    "# mimic_icu_chartevents_shape"
   ]
  },
  {
   "cell_type": "code",
   "execution_count": null,
   "id": "4ece66b6",
   "metadata": {},
   "outputs": [],
   "source": []
  },
  {
   "cell_type": "code",
   "execution_count": null,
   "id": "5bcc09b1",
   "metadata": {},
   "outputs": [],
   "source": [
    "# mimic_icu_chartevents.head()"
   ]
  },
  {
   "cell_type": "markdown",
   "id": "25bd7f7a",
   "metadata": {},
   "source": [
    "# MIMIC &#8594; ICU &#8594; procedureevents"
   ]
  },
  {
   "cell_type": "code",
   "execution_count": null,
   "id": "d4f3a5db",
   "metadata": {},
   "outputs": [],
   "source": [
    "mimic_icu_procedureevents = mimic_instance.get_mimic_icu_procedureevents()\n",
    "mimic_icu_procedureevents_shape = generic_util_instance.get_df_shape(mimic_icu_procedureevents)\n",
    "mimic_icu_procedureevents_shape"
   ]
  },
  {
   "cell_type": "code",
   "execution_count": null,
   "id": "33f836c0",
   "metadata": {},
   "outputs": [],
   "source": [
    "mimic_icu_procedureevents = mimic_instance.get_mimic_icu_procedureevents()\n",
    "generic_util_instance.print_df_head(mimic_icu_procedureevents)"
   ]
  },
  {
   "cell_type": "markdown",
   "id": "c7a62cd8",
   "metadata": {},
   "source": [
    "# MIMIC &#8594; ICU &#8594; icustays"
   ]
  },
  {
   "cell_type": "code",
   "execution_count": null,
   "id": "7c9d63ca",
   "metadata": {},
   "outputs": [],
   "source": [
    "mimic_icu_icustays = mimic_instance.get_mimic_icu_icustays()\n",
    "mimic_icu_icustays_shape = generic_util_instance.get_df_shape(mimic_icu_icustays)\n",
    "mimic_icu_icustays_shape"
   ]
  },
  {
   "cell_type": "code",
   "execution_count": null,
   "id": "8b48bea4",
   "metadata": {},
   "outputs": [],
   "source": [
    "mimic_icu_icustays = mimic_instance.get_mimic_icu_icustays()\n",
    "generic_util_instance.print_df_head(mimic_icu_icustays)"
   ]
  },
  {
   "cell_type": "markdown",
   "id": "7dbfe35b",
   "metadata": {},
   "source": [
    "# MIMIC &#8594; ICU &#8594; d_items"
   ]
  },
  {
   "cell_type": "code",
   "execution_count": null,
   "id": "e5501ae9",
   "metadata": {},
   "outputs": [],
   "source": [
    "mimic_icu_d_items = mimic_instance.get_mimic_icu_d_items()\n",
    "mimic_icu_d_items_shape = generic_util_instance.get_df_shape(mimic_icu_d_items)\n",
    "mimic_icu_d_items_shape"
   ]
  },
  {
   "cell_type": "code",
   "execution_count": null,
   "id": "bdf51dab",
   "metadata": {},
   "outputs": [],
   "source": [
    "mimic_icu_d_items = mimic_instance.get_mimic_icu_d_items()\n",
    "generic_util_instance.print_df_head(mimic_icu_d_items)"
   ]
  },
  {
   "cell_type": "markdown",
   "id": "795f9155",
   "metadata": {},
   "source": [
    "# MIMIC &#8594; ICU &#8594; datetimeevents"
   ]
  },
  {
   "cell_type": "code",
   "execution_count": null,
   "id": "dd2b089f",
   "metadata": {},
   "outputs": [],
   "source": [
    "mimic_icu_datetimeevents = mimic_instance.get_mimic_icu_datetimeevents()\n",
    "mimic_icu_datetimeevents_shape = generic_util_instance.get_df_shape(mimic_icu_datetimeevents)\n",
    "mimic_icu_datetimeevents_shape"
   ]
  },
  {
   "cell_type": "code",
   "execution_count": null,
   "id": "8f83153c",
   "metadata": {},
   "outputs": [],
   "source": [
    "mimic_icu_datetimeevents = mimic_instance.get_mimic_icu_datetimeevents()\n",
    "generic_util_instance.print_df_head(mimic_icu_datetimeevents)"
   ]
  },
  {
   "cell_type": "markdown",
   "id": "8934c0a9",
   "metadata": {},
   "source": [
    "# MIMIC &#8594; ICU &#8594; inputevents"
   ]
  },
  {
   "cell_type": "code",
   "execution_count": null,
   "id": "b837872d",
   "metadata": {},
   "outputs": [],
   "source": [
    "#This is breaking because of large data. Will use chunking in future.\n",
    "\n",
    "# mimic_icu_inputevents = mimic_instance.get_mimic_icu_inputevents()\n",
    "# mimic_icu_inputevents.shape"
   ]
  },
  {
   "cell_type": "code",
   "execution_count": null,
   "id": "bbe6ba80",
   "metadata": {},
   "outputs": [],
   "source": [
    "# mimic_icu_inputevents.head()"
   ]
  }
 ],
 "metadata": {
  "kernelspec": {
   "display_name": "Python 3 (ipykernel)",
   "language": "python",
   "name": "python3"
  },
  "language_info": {
   "codemirror_mode": {
    "name": "ipython",
    "version": 3
   },
   "file_extension": ".py",
   "mimetype": "text/x-python",
   "name": "python",
   "nbconvert_exporter": "python",
   "pygments_lexer": "ipython3",
   "version": "3.8.10"
  }
 },
 "nbformat": 4,
 "nbformat_minor": 5
}
