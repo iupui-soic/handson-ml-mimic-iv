{
 "cells": [
  {
   "cell_type": "code",
   "execution_count": 1,
   "id": "99d5cd8a",
   "metadata": {},
   "outputs": [],
   "source": [
    "from mimic.mimic import MIMIC"
   ]
  },
  {
   "cell_type": "code",
   "execution_count": 2,
   "id": "4329a04e",
   "metadata": {},
   "outputs": [
    {
     "name": "stdout",
     "output_type": "stream",
     "text": [
      "MIMIC dataset found at path : /home/pri2si17/Development/PLHI/hands_on_ml/mimic/handson_ml2_mimic_iv/dataset\n"
     ]
    }
   ],
   "source": [
    "mimic_instance = MIMIC('./dataset/')"
   ]
  },
  {
   "cell_type": "markdown",
   "id": "ac2bedfa",
   "metadata": {},
   "source": [
    "# MIMIC Core Admissions"
   ]
  },
  {
   "cell_type": "code",
   "execution_count": 3,
   "id": "a78ee5df",
   "metadata": {},
   "outputs": [],
   "source": [
    "df_admissions = mimic_instance.read_core_admissions_csv()"
   ]
  },
  {
   "cell_type": "code",
   "execution_count": 4,
   "id": "5d39575e",
   "metadata": {},
   "outputs": [
    {
     "data": {
      "text/html": [
       "<div>\n",
       "<style scoped>\n",
       "    .dataframe tbody tr th:only-of-type {\n",
       "        vertical-align: middle;\n",
       "    }\n",
       "\n",
       "    .dataframe tbody tr th {\n",
       "        vertical-align: top;\n",
       "    }\n",
       "\n",
       "    .dataframe thead th {\n",
       "        text-align: right;\n",
       "    }\n",
       "</style>\n",
       "<table border=\"1\" class=\"dataframe\">\n",
       "  <thead>\n",
       "    <tr style=\"text-align: right;\">\n",
       "      <th></th>\n",
       "      <th>subject_id</th>\n",
       "      <th>hadm_id</th>\n",
       "      <th>admittime</th>\n",
       "      <th>dischtime</th>\n",
       "      <th>deathtime</th>\n",
       "      <th>admission_type</th>\n",
       "      <th>admission_location</th>\n",
       "      <th>discharge_location</th>\n",
       "      <th>insurance</th>\n",
       "      <th>language</th>\n",
       "      <th>marital_status</th>\n",
       "      <th>ethnicity</th>\n",
       "      <th>edregtime</th>\n",
       "      <th>edouttime</th>\n",
       "      <th>hospital_expire_flag</th>\n",
       "    </tr>\n",
       "  </thead>\n",
       "  <tbody>\n",
       "    <tr>\n",
       "      <th>0</th>\n",
       "      <td>14679932</td>\n",
       "      <td>21038362</td>\n",
       "      <td>2139-09-26 14:16:00</td>\n",
       "      <td>2139-09-28 11:30:00</td>\n",
       "      <td>NaN</td>\n",
       "      <td>ELECTIVE</td>\n",
       "      <td>NaN</td>\n",
       "      <td>HOME</td>\n",
       "      <td>Other</td>\n",
       "      <td>ENGLISH</td>\n",
       "      <td>SINGLE</td>\n",
       "      <td>UNKNOWN</td>\n",
       "      <td>NaN</td>\n",
       "      <td>NaN</td>\n",
       "      <td>0</td>\n",
       "    </tr>\n",
       "    <tr>\n",
       "      <th>1</th>\n",
       "      <td>15585972</td>\n",
       "      <td>24941086</td>\n",
       "      <td>2123-10-07 23:56:00</td>\n",
       "      <td>2123-10-12 11:22:00</td>\n",
       "      <td>NaN</td>\n",
       "      <td>ELECTIVE</td>\n",
       "      <td>NaN</td>\n",
       "      <td>HOME</td>\n",
       "      <td>Other</td>\n",
       "      <td>ENGLISH</td>\n",
       "      <td>NaN</td>\n",
       "      <td>WHITE</td>\n",
       "      <td>NaN</td>\n",
       "      <td>NaN</td>\n",
       "      <td>0</td>\n",
       "    </tr>\n",
       "    <tr>\n",
       "      <th>2</th>\n",
       "      <td>11989120</td>\n",
       "      <td>21965160</td>\n",
       "      <td>2147-01-14 09:00:00</td>\n",
       "      <td>2147-01-17 14:25:00</td>\n",
       "      <td>NaN</td>\n",
       "      <td>ELECTIVE</td>\n",
       "      <td>NaN</td>\n",
       "      <td>HOME</td>\n",
       "      <td>Other</td>\n",
       "      <td>ENGLISH</td>\n",
       "      <td>NaN</td>\n",
       "      <td>UNKNOWN</td>\n",
       "      <td>NaN</td>\n",
       "      <td>NaN</td>\n",
       "      <td>0</td>\n",
       "    </tr>\n",
       "    <tr>\n",
       "      <th>3</th>\n",
       "      <td>17817079</td>\n",
       "      <td>24709883</td>\n",
       "      <td>2165-12-27 17:33:00</td>\n",
       "      <td>2165-12-31 21:18:00</td>\n",
       "      <td>NaN</td>\n",
       "      <td>ELECTIVE</td>\n",
       "      <td>NaN</td>\n",
       "      <td>HOME</td>\n",
       "      <td>Other</td>\n",
       "      <td>ENGLISH</td>\n",
       "      <td>NaN</td>\n",
       "      <td>OTHER</td>\n",
       "      <td>NaN</td>\n",
       "      <td>NaN</td>\n",
       "      <td>0</td>\n",
       "    </tr>\n",
       "    <tr>\n",
       "      <th>4</th>\n",
       "      <td>15078341</td>\n",
       "      <td>23272159</td>\n",
       "      <td>2122-08-28 08:48:00</td>\n",
       "      <td>2122-08-30 12:32:00</td>\n",
       "      <td>NaN</td>\n",
       "      <td>ELECTIVE</td>\n",
       "      <td>NaN</td>\n",
       "      <td>HOME</td>\n",
       "      <td>Other</td>\n",
       "      <td>ENGLISH</td>\n",
       "      <td>NaN</td>\n",
       "      <td>BLACK/AFRICAN AMERICAN</td>\n",
       "      <td>NaN</td>\n",
       "      <td>NaN</td>\n",
       "      <td>0</td>\n",
       "    </tr>\n",
       "  </tbody>\n",
       "</table>\n",
       "</div>"
      ],
      "text/plain": [
       "   subject_id   hadm_id            admittime            dischtime deathtime  \\\n",
       "0    14679932  21038362  2139-09-26 14:16:00  2139-09-28 11:30:00       NaN   \n",
       "1    15585972  24941086  2123-10-07 23:56:00  2123-10-12 11:22:00       NaN   \n",
       "2    11989120  21965160  2147-01-14 09:00:00  2147-01-17 14:25:00       NaN   \n",
       "3    17817079  24709883  2165-12-27 17:33:00  2165-12-31 21:18:00       NaN   \n",
       "4    15078341  23272159  2122-08-28 08:48:00  2122-08-30 12:32:00       NaN   \n",
       "\n",
       "  admission_type admission_location discharge_location insurance language  \\\n",
       "0       ELECTIVE                NaN               HOME     Other  ENGLISH   \n",
       "1       ELECTIVE                NaN               HOME     Other  ENGLISH   \n",
       "2       ELECTIVE                NaN               HOME     Other  ENGLISH   \n",
       "3       ELECTIVE                NaN               HOME     Other  ENGLISH   \n",
       "4       ELECTIVE                NaN               HOME     Other  ENGLISH   \n",
       "\n",
       "  marital_status               ethnicity edregtime edouttime  \\\n",
       "0         SINGLE                 UNKNOWN       NaN       NaN   \n",
       "1            NaN                   WHITE       NaN       NaN   \n",
       "2            NaN                 UNKNOWN       NaN       NaN   \n",
       "3            NaN                   OTHER       NaN       NaN   \n",
       "4            NaN  BLACK/AFRICAN AMERICAN       NaN       NaN   \n",
       "\n",
       "   hospital_expire_flag  \n",
       "0                     0  \n",
       "1                     0  \n",
       "2                     0  \n",
       "3                     0  \n",
       "4                     0  "
      ]
     },
     "execution_count": 4,
     "metadata": {},
     "output_type": "execute_result"
    }
   ],
   "source": [
    "df_admissions.head()"
   ]
  },
  {
   "cell_type": "code",
   "execution_count": 9,
   "id": "8a227481",
   "metadata": {},
   "outputs": [
    {
     "data": {
      "text/plain": [
       "523740"
      ]
     },
     "execution_count": 9,
     "metadata": {},
     "output_type": "execute_result"
    }
   ],
   "source": [
    "df_admissions.shape[0].compute()"
   ]
  },
  {
   "cell_type": "code",
   "execution_count": 15,
   "id": "21a7875a",
   "metadata": {},
   "outputs": [
    {
     "name": "stdout",
     "output_type": "stream",
     "text": [
      "<class 'dask.dataframe.core.DataFrame'>\n",
      "Columns: 15 entries, subject_id to hospital_expire_flag\n",
      "dtypes: object(12), int64(3)"
     ]
    }
   ],
   "source": [
    "df_admissions.info()"
   ]
  },
  {
   "cell_type": "code",
   "execution_count": 17,
   "id": "00a20756",
   "metadata": {},
   "outputs": [
    {
     "data": {
      "text/html": [
       "<div>\n",
       "<style scoped>\n",
       "    .dataframe tbody tr th:only-of-type {\n",
       "        vertical-align: middle;\n",
       "    }\n",
       "\n",
       "    .dataframe tbody tr th {\n",
       "        vertical-align: top;\n",
       "    }\n",
       "\n",
       "    .dataframe thead th {\n",
       "        text-align: right;\n",
       "    }\n",
       "</style>\n",
       "<table border=\"1\" class=\"dataframe\">\n",
       "  <thead>\n",
       "    <tr style=\"text-align: right;\">\n",
       "      <th></th>\n",
       "      <th>subject_id</th>\n",
       "      <th>hadm_id</th>\n",
       "      <th>hospital_expire_flag</th>\n",
       "    </tr>\n",
       "  </thead>\n",
       "  <tbody>\n",
       "    <tr>\n",
       "      <th>count</th>\n",
       "      <td>5.237400e+05</td>\n",
       "      <td>5.237400e+05</td>\n",
       "      <td>523740.000000</td>\n",
       "    </tr>\n",
       "    <tr>\n",
       "      <th>mean</th>\n",
       "      <td>1.500437e+07</td>\n",
       "      <td>2.500439e+07</td>\n",
       "      <td>0.017852</td>\n",
       "    </tr>\n",
       "    <tr>\n",
       "      <th>std</th>\n",
       "      <td>2.879606e+06</td>\n",
       "      <td>2.888664e+06</td>\n",
       "      <td>0.132415</td>\n",
       "    </tr>\n",
       "    <tr>\n",
       "      <th>min</th>\n",
       "      <td>1.000002e+07</td>\n",
       "      <td>2.000002e+07</td>\n",
       "      <td>0.000000</td>\n",
       "    </tr>\n",
       "    <tr>\n",
       "      <th>25%</th>\n",
       "      <td>1.251283e+07</td>\n",
       "      <td>2.250358e+07</td>\n",
       "      <td>0.000000</td>\n",
       "    </tr>\n",
       "    <tr>\n",
       "      <th>50%</th>\n",
       "      <td>1.500770e+07</td>\n",
       "      <td>2.500701e+07</td>\n",
       "      <td>0.000000</td>\n",
       "    </tr>\n",
       "    <tr>\n",
       "      <th>75%</th>\n",
       "      <td>1.749548e+07</td>\n",
       "      <td>2.750772e+07</td>\n",
       "      <td>0.000000</td>\n",
       "    </tr>\n",
       "    <tr>\n",
       "      <th>max</th>\n",
       "      <td>1.999999e+07</td>\n",
       "      <td>2.999993e+07</td>\n",
       "      <td>1.000000</td>\n",
       "    </tr>\n",
       "  </tbody>\n",
       "</table>\n",
       "</div>"
      ],
      "text/plain": [
       "         subject_id       hadm_id  hospital_expire_flag\n",
       "count  5.237400e+05  5.237400e+05         523740.000000\n",
       "mean   1.500437e+07  2.500439e+07              0.017852\n",
       "std    2.879606e+06  2.888664e+06              0.132415\n",
       "min    1.000002e+07  2.000002e+07              0.000000\n",
       "25%    1.251283e+07  2.250358e+07              0.000000\n",
       "50%    1.500770e+07  2.500701e+07              0.000000\n",
       "75%    1.749548e+07  2.750772e+07              0.000000\n",
       "max    1.999999e+07  2.999993e+07              1.000000"
      ]
     },
     "execution_count": 17,
     "metadata": {},
     "output_type": "execute_result"
    }
   ],
   "source": [
    "df_admissions.describe().compute()"
   ]
  },
  {
   "cell_type": "code",
   "execution_count": 19,
   "id": "98a55651",
   "metadata": {},
   "outputs": [
    {
     "data": {
      "text/plain": [
       "subject_id                   0\n",
       "hadm_id                      0\n",
       "admittime                    0\n",
       "dischtime                    0\n",
       "deathtime               514403\n",
       "admission_type               0\n",
       "admission_location       60435\n",
       "discharge_location      126657\n",
       "insurance                    0\n",
       "language                     0\n",
       "marital_status           66107\n",
       "ethnicity                    0\n",
       "edregtime               212236\n",
       "edouttime               212236\n",
       "hospital_expire_flag         0\n",
       "dtype: int64"
      ]
     },
     "execution_count": 19,
     "metadata": {},
     "output_type": "execute_result"
    }
   ],
   "source": [
    "df_admissions.isna().sum().compute()"
   ]
  },
  {
   "cell_type": "code",
   "execution_count": 20,
   "id": "404f6b35",
   "metadata": {},
   "outputs": [
    {
     "data": {
      "text/plain": [
       "Index(['subject_id', 'hadm_id', 'admittime', 'dischtime', 'deathtime',\n",
       "       'admission_type', 'admission_location', 'discharge_location',\n",
       "       'insurance', 'language', 'marital_status', 'ethnicity', 'edregtime',\n",
       "       'edouttime', 'hospital_expire_flag'],\n",
       "      dtype='object')"
      ]
     },
     "execution_count": 20,
     "metadata": {},
     "output_type": "execute_result"
    }
   ],
   "source": [
    "df_admissions.columns"
   ]
  },
  {
   "cell_type": "code",
   "execution_count": 21,
   "id": "2f44164d",
   "metadata": {},
   "outputs": [
    {
     "data": {
      "text/plain": [
       "subject_id               int64\n",
       "hadm_id                  int64\n",
       "admittime               object\n",
       "dischtime               object\n",
       "deathtime               object\n",
       "admission_type          object\n",
       "admission_location      object\n",
       "discharge_location      object\n",
       "insurance               object\n",
       "language                object\n",
       "marital_status          object\n",
       "ethnicity               object\n",
       "edregtime               object\n",
       "edouttime               object\n",
       "hospital_expire_flag     int64\n",
       "dtype: object"
      ]
     },
     "execution_count": 21,
     "metadata": {},
     "output_type": "execute_result"
    }
   ],
   "source": [
    "df_admissions.dtypes"
   ]
  },
  {
   "cell_type": "code",
   "execution_count": 23,
   "id": "47b5de34",
   "metadata": {},
   "outputs": [
    {
     "data": {
      "text/html": [
       "<div>\n",
       "<style scoped>\n",
       "    .dataframe tbody tr th:only-of-type {\n",
       "        vertical-align: middle;\n",
       "    }\n",
       "\n",
       "    .dataframe tbody tr th {\n",
       "        vertical-align: top;\n",
       "    }\n",
       "\n",
       "    .dataframe thead th {\n",
       "        text-align: right;\n",
       "    }\n",
       "</style>\n",
       "<table border=\"1\" class=\"dataframe\">\n",
       "  <thead>\n",
       "    <tr style=\"text-align: right;\">\n",
       "      <th></th>\n",
       "      <th>subject_id</th>\n",
       "      <th>hadm_id</th>\n",
       "      <th>admittime</th>\n",
       "      <th>dischtime</th>\n",
       "      <th>admission_type</th>\n",
       "      <th>admission_location</th>\n",
       "      <th>discharge_location</th>\n",
       "      <th>insurance</th>\n",
       "      <th>language</th>\n",
       "      <th>marital_status</th>\n",
       "      <th>ethnicity</th>\n",
       "      <th>hospital_expire_flag</th>\n",
       "    </tr>\n",
       "  </thead>\n",
       "  <tbody>\n",
       "    <tr>\n",
       "      <th>0</th>\n",
       "      <td>14679932</td>\n",
       "      <td>21038362</td>\n",
       "      <td>2139-09-26 14:16:00</td>\n",
       "      <td>2139-09-28 11:30:00</td>\n",
       "      <td>ELECTIVE</td>\n",
       "      <td>NaN</td>\n",
       "      <td>HOME</td>\n",
       "      <td>Other</td>\n",
       "      <td>ENGLISH</td>\n",
       "      <td>SINGLE</td>\n",
       "      <td>UNKNOWN</td>\n",
       "      <td>0</td>\n",
       "    </tr>\n",
       "    <tr>\n",
       "      <th>1</th>\n",
       "      <td>15585972</td>\n",
       "      <td>24941086</td>\n",
       "      <td>2123-10-07 23:56:00</td>\n",
       "      <td>2123-10-12 11:22:00</td>\n",
       "      <td>ELECTIVE</td>\n",
       "      <td>NaN</td>\n",
       "      <td>HOME</td>\n",
       "      <td>Other</td>\n",
       "      <td>ENGLISH</td>\n",
       "      <td>NaN</td>\n",
       "      <td>WHITE</td>\n",
       "      <td>0</td>\n",
       "    </tr>\n",
       "    <tr>\n",
       "      <th>2</th>\n",
       "      <td>11989120</td>\n",
       "      <td>21965160</td>\n",
       "      <td>2147-01-14 09:00:00</td>\n",
       "      <td>2147-01-17 14:25:00</td>\n",
       "      <td>ELECTIVE</td>\n",
       "      <td>NaN</td>\n",
       "      <td>HOME</td>\n",
       "      <td>Other</td>\n",
       "      <td>ENGLISH</td>\n",
       "      <td>NaN</td>\n",
       "      <td>UNKNOWN</td>\n",
       "      <td>0</td>\n",
       "    </tr>\n",
       "    <tr>\n",
       "      <th>3</th>\n",
       "      <td>17817079</td>\n",
       "      <td>24709883</td>\n",
       "      <td>2165-12-27 17:33:00</td>\n",
       "      <td>2165-12-31 21:18:00</td>\n",
       "      <td>ELECTIVE</td>\n",
       "      <td>NaN</td>\n",
       "      <td>HOME</td>\n",
       "      <td>Other</td>\n",
       "      <td>ENGLISH</td>\n",
       "      <td>NaN</td>\n",
       "      <td>OTHER</td>\n",
       "      <td>0</td>\n",
       "    </tr>\n",
       "    <tr>\n",
       "      <th>4</th>\n",
       "      <td>15078341</td>\n",
       "      <td>23272159</td>\n",
       "      <td>2122-08-28 08:48:00</td>\n",
       "      <td>2122-08-30 12:32:00</td>\n",
       "      <td>ELECTIVE</td>\n",
       "      <td>NaN</td>\n",
       "      <td>HOME</td>\n",
       "      <td>Other</td>\n",
       "      <td>ENGLISH</td>\n",
       "      <td>NaN</td>\n",
       "      <td>BLACK/AFRICAN AMERICAN</td>\n",
       "      <td>0</td>\n",
       "    </tr>\n",
       "  </tbody>\n",
       "</table>\n",
       "</div>"
      ],
      "text/plain": [
       "   subject_id   hadm_id            admittime            dischtime  \\\n",
       "0    14679932  21038362  2139-09-26 14:16:00  2139-09-28 11:30:00   \n",
       "1    15585972  24941086  2123-10-07 23:56:00  2123-10-12 11:22:00   \n",
       "2    11989120  21965160  2147-01-14 09:00:00  2147-01-17 14:25:00   \n",
       "3    17817079  24709883  2165-12-27 17:33:00  2165-12-31 21:18:00   \n",
       "4    15078341  23272159  2122-08-28 08:48:00  2122-08-30 12:32:00   \n",
       "\n",
       "  admission_type admission_location discharge_location insurance language  \\\n",
       "0       ELECTIVE                NaN               HOME     Other  ENGLISH   \n",
       "1       ELECTIVE                NaN               HOME     Other  ENGLISH   \n",
       "2       ELECTIVE                NaN               HOME     Other  ENGLISH   \n",
       "3       ELECTIVE                NaN               HOME     Other  ENGLISH   \n",
       "4       ELECTIVE                NaN               HOME     Other  ENGLISH   \n",
       "\n",
       "  marital_status               ethnicity  hospital_expire_flag  \n",
       "0         SINGLE                 UNKNOWN                     0  \n",
       "1            NaN                   WHITE                     0  \n",
       "2            NaN                 UNKNOWN                     0  \n",
       "3            NaN                   OTHER                     0  \n",
       "4            NaN  BLACK/AFRICAN AMERICAN                     0  "
      ]
     },
     "execution_count": 23,
     "metadata": {},
     "output_type": "execute_result"
    }
   ],
   "source": [
    "df_admissions[['subject_id', 'hadm_id', 'admittime', 'dischtime', 'admission_type', 'admission_location', 'discharge_location', 'insurance', 'language', \n",
    "                    'marital_status', 'ethnicity', 'hospital_expire_flag']].head()"
   ]
  },
  {
   "cell_type": "code",
   "execution_count": 36,
   "id": "bcd9da41",
   "metadata": {},
   "outputs": [],
   "source": [
    "df_patients = mimic_instance.read_core_patients_csv()"
   ]
  },
  {
   "cell_type": "code",
   "execution_count": 37,
   "id": "ae821c07",
   "metadata": {},
   "outputs": [],
   "source": [
    "df_patients = df_patients.drop(['dod'], axis=1)"
   ]
  },
  {
   "cell_type": "code",
   "execution_count": 39,
   "id": "7d0bb14a",
   "metadata": {},
   "outputs": [
    {
     "data": {
      "text/plain": [
       "subject_id           0\n",
       "gender               0\n",
       "anchor_age           0\n",
       "anchor_year          0\n",
       "anchor_year_group    0\n",
       "dtype: int64"
      ]
     },
     "execution_count": 39,
     "metadata": {},
     "output_type": "execute_result"
    }
   ],
   "source": [
    "df_patients.isna().sum().compute()"
   ]
  },
  {
   "cell_type": "code",
   "execution_count": 40,
   "id": "599835bf",
   "metadata": {},
   "outputs": [],
   "source": [
    "df_transfer = mimic_instance.read_core_transfers_csv()"
   ]
  },
  {
   "cell_type": "code",
   "execution_count": 41,
   "id": "ede4bbb8",
   "metadata": {},
   "outputs": [
    {
     "data": {
      "text/html": [
       "<div>\n",
       "<style scoped>\n",
       "    .dataframe tbody tr th:only-of-type {\n",
       "        vertical-align: middle;\n",
       "    }\n",
       "\n",
       "    .dataframe tbody tr th {\n",
       "        vertical-align: top;\n",
       "    }\n",
       "\n",
       "    .dataframe thead th {\n",
       "        text-align: right;\n",
       "    }\n",
       "</style>\n",
       "<table border=\"1\" class=\"dataframe\">\n",
       "  <thead>\n",
       "    <tr style=\"text-align: right;\">\n",
       "      <th></th>\n",
       "      <th>subject_id</th>\n",
       "      <th>hadm_id</th>\n",
       "      <th>transfer_id</th>\n",
       "      <th>eventtype</th>\n",
       "      <th>careunit</th>\n",
       "      <th>intime</th>\n",
       "      <th>outtime</th>\n",
       "    </tr>\n",
       "  </thead>\n",
       "  <tbody>\n",
       "    <tr>\n",
       "      <th>0</th>\n",
       "      <td>14550633</td>\n",
       "      <td>24512724.0</td>\n",
       "      <td>35906369</td>\n",
       "      <td>admit</td>\n",
       "      <td>NaN</td>\n",
       "      <td>2176-10-10 01:58:40</td>\n",
       "      <td>2176-10-10 10:00:30</td>\n",
       "    </tr>\n",
       "    <tr>\n",
       "      <th>1</th>\n",
       "      <td>15216953</td>\n",
       "      <td>25759433.0</td>\n",
       "      <td>37381511</td>\n",
       "      <td>admit</td>\n",
       "      <td>NaN</td>\n",
       "      <td>2173-06-14 00:08:04</td>\n",
       "      <td>2173-06-14 13:35:19</td>\n",
       "    </tr>\n",
       "    <tr>\n",
       "      <th>2</th>\n",
       "      <td>15776555</td>\n",
       "      <td>28490372.0</td>\n",
       "      <td>34638843</td>\n",
       "      <td>admit</td>\n",
       "      <td>NaN</td>\n",
       "      <td>2187-02-01 00:09:41</td>\n",
       "      <td>2187-02-01 14:25:07</td>\n",
       "    </tr>\n",
       "    <tr>\n",
       "      <th>3</th>\n",
       "      <td>12248661</td>\n",
       "      <td>23426497.0</td>\n",
       "      <td>39272104</td>\n",
       "      <td>discharge</td>\n",
       "      <td>NaN</td>\n",
       "      <td>2141-12-05 14:11:09</td>\n",
       "      <td>NaN</td>\n",
       "    </tr>\n",
       "    <tr>\n",
       "      <th>4</th>\n",
       "      <td>14261068</td>\n",
       "      <td>20086032.0</td>\n",
       "      <td>36182135</td>\n",
       "      <td>discharge</td>\n",
       "      <td>NaN</td>\n",
       "      <td>2144-09-13 14:14:50</td>\n",
       "      <td>NaN</td>\n",
       "    </tr>\n",
       "  </tbody>\n",
       "</table>\n",
       "</div>"
      ],
      "text/plain": [
       "   subject_id     hadm_id  transfer_id  eventtype careunit  \\\n",
       "0    14550633  24512724.0     35906369      admit      NaN   \n",
       "1    15216953  25759433.0     37381511      admit      NaN   \n",
       "2    15776555  28490372.0     34638843      admit      NaN   \n",
       "3    12248661  23426497.0     39272104  discharge      NaN   \n",
       "4    14261068  20086032.0     36182135  discharge      NaN   \n",
       "\n",
       "                intime              outtime  \n",
       "0  2176-10-10 01:58:40  2176-10-10 10:00:30  \n",
       "1  2173-06-14 00:08:04  2173-06-14 13:35:19  \n",
       "2  2187-02-01 00:09:41  2187-02-01 14:25:07  \n",
       "3  2141-12-05 14:11:09                  NaN  \n",
       "4  2144-09-13 14:14:50                  NaN  "
      ]
     },
     "execution_count": 41,
     "metadata": {},
     "output_type": "execute_result"
    }
   ],
   "source": [
    "df_transfer.head()"
   ]
  },
  {
   "cell_type": "code",
   "execution_count": 42,
   "id": "090b7549",
   "metadata": {},
   "outputs": [
    {
     "data": {
      "text/plain": [
       "subject_id          0\n",
       "hadm_id        348553\n",
       "transfer_id         0\n",
       "eventtype           0\n",
       "careunit       585397\n",
       "intime              0\n",
       "outtime        523737\n",
       "dtype: int64"
      ]
     },
     "execution_count": 42,
     "metadata": {},
     "output_type": "execute_result"
    }
   ],
   "source": [
    "df_transfer.isna().sum().compute()"
   ]
  },
  {
   "cell_type": "code",
   "execution_count": 43,
   "id": "388240be",
   "metadata": {},
   "outputs": [
    {
     "data": {
      "text/plain": [
       "2189535"
      ]
     },
     "execution_count": 43,
     "metadata": {},
     "output_type": "execute_result"
    }
   ],
   "source": [
    "df_transfer.shape[0].compute()"
   ]
  },
  {
   "cell_type": "code",
   "execution_count": null,
   "id": "b50b4be1",
   "metadata": {},
   "outputs": [],
   "source": [
    "mimic_instance.read_hosp_d_hcpcs_csv().head()"
   ]
  },
  {
   "cell_type": "code",
   "execution_count": null,
   "id": "a7e0e78d",
   "metadata": {},
   "outputs": [],
   "source": [
    "mimic_instance.read_hosp_d_icd_diagnoses_csv().head()"
   ]
  },
  {
   "cell_type": "code",
   "execution_count": null,
   "id": "a2ca6ed4",
   "metadata": {},
   "outputs": [],
   "source": [
    "mimic_instance.read_hosp_d_icd_procedures_csv().head()"
   ]
  },
  {
   "cell_type": "code",
   "execution_count": null,
   "id": "10688397",
   "metadata": {},
   "outputs": [],
   "source": [
    "mimic_instance.read_hosp_d_labitems_csv().head()"
   ]
  },
  {
   "cell_type": "code",
   "execution_count": null,
   "id": "b04d89b3",
   "metadata": {},
   "outputs": [],
   "source": [
    "mimic_instance.read_hosp_diagnoses_icd_csv().head()"
   ]
  },
  {
   "cell_type": "code",
   "execution_count": null,
   "id": "30b379a5",
   "metadata": {},
   "outputs": [],
   "source": [
    "mimic_instance.read_hosp_drgcodes_csv().head()"
   ]
  },
  {
   "cell_type": "code",
   "execution_count": null,
   "id": "1084783e",
   "metadata": {},
   "outputs": [],
   "source": [
    "mimic_instance.read_hosp_emar_csv().head()"
   ]
  },
  {
   "cell_type": "code",
   "execution_count": null,
   "id": "3c78e1ef",
   "metadata": {},
   "outputs": [],
   "source": [
    "mimic_instance.read_hosp_emar_detail_csv().head()"
   ]
  },
  {
   "cell_type": "code",
   "execution_count": null,
   "id": "c2e335bb",
   "metadata": {},
   "outputs": [],
   "source": [
    "mimic_instance.read_hosp_hcpcsevents_csv().head()"
   ]
  },
  {
   "cell_type": "code",
   "execution_count": null,
   "id": "ee76eff0",
   "metadata": {
    "scrolled": false
   },
   "outputs": [],
   "source": [
    "mimic_instance.read_hosp_labevents_csv().head()"
   ]
  },
  {
   "cell_type": "code",
   "execution_count": null,
   "id": "3a2aa127",
   "metadata": {},
   "outputs": [],
   "source": [
    "mimic_instance.read_hosp_microbiologyevents_csv().head()"
   ]
  },
  {
   "cell_type": "code",
   "execution_count": null,
   "id": "35170ce5",
   "metadata": {},
   "outputs": [],
   "source": [
    "mimic_instance.read_hosp_pharmacy_csv().head()"
   ]
  },
  {
   "cell_type": "code",
   "execution_count": null,
   "id": "ed6b8686",
   "metadata": {},
   "outputs": [],
   "source": [
    "mimic_instance.read_hosp_poe_csv().head()"
   ]
  },
  {
   "cell_type": "code",
   "execution_count": null,
   "id": "44219d86",
   "metadata": {},
   "outputs": [],
   "source": [
    "mimic_instance.read_hosp_poe_detail_csv().head()"
   ]
  },
  {
   "cell_type": "code",
   "execution_count": null,
   "id": "18f9e2d2",
   "metadata": {},
   "outputs": [],
   "source": [
    "mimic_instance.read_hosp_procedures_icd_csv().head()"
   ]
  },
  {
   "cell_type": "code",
   "execution_count": null,
   "id": "372bcf11",
   "metadata": {},
   "outputs": [],
   "source": [
    "mimic_instance.read_hosp_services_csv().head()"
   ]
  },
  {
   "cell_type": "code",
   "execution_count": null,
   "id": "b9bf1bc0",
   "metadata": {},
   "outputs": [],
   "source": [
    "mimic_instance.read_icu_chartevents_csv().head()"
   ]
  },
  {
   "cell_type": "code",
   "execution_count": null,
   "id": "0f62a3ba",
   "metadata": {},
   "outputs": [],
   "source": [
    "mimic_instance.read_icu_d_items_csv().head()"
   ]
  },
  {
   "cell_type": "code",
   "execution_count": null,
   "id": "e465d6ae",
   "metadata": {},
   "outputs": [],
   "source": [
    "mimic_instance.read_icu_datetimeevents_csv().head()"
   ]
  },
  {
   "cell_type": "code",
   "execution_count": null,
   "id": "602c0a0b",
   "metadata": {},
   "outputs": [],
   "source": [
    "mimic_instance.read_icu_icustays_csv().head()"
   ]
  },
  {
   "cell_type": "code",
   "execution_count": null,
   "id": "0c5c0552",
   "metadata": {},
   "outputs": [],
   "source": [
    "mimic_instance.read_icu_inputevents_csv().head()"
   ]
  },
  {
   "cell_type": "code",
   "execution_count": null,
   "id": "559c6e3e",
   "metadata": {},
   "outputs": [],
   "source": [
    "mimic_instance.read_icu_outputevents_csv().head()"
   ]
  },
  {
   "cell_type": "code",
   "execution_count": null,
   "id": "9c2b9d6d",
   "metadata": {},
   "outputs": [],
   "source": [
    "mimic_instance.read_icu_procedureevents_csv().head()"
   ]
  },
  {
   "cell_type": "code",
   "execution_count": null,
   "id": "7762f11e",
   "metadata": {},
   "outputs": [],
   "source": []
  }
 ],
 "metadata": {
  "kernelspec": {
   "display_name": "Python 3 (ipykernel)",
   "language": "python",
   "name": "python3"
  },
  "language_info": {
   "codemirror_mode": {
    "name": "ipython",
    "version": 3
   },
   "file_extension": ".py",
   "mimetype": "text/x-python",
   "name": "python",
   "nbconvert_exporter": "python",
   "pygments_lexer": "ipython3",
   "version": "3.8.10"
  }
 },
 "nbformat": 4,
 "nbformat_minor": 5
}
