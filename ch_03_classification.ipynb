{
 "cells": [
  {
   "cell_type": "markdown",
   "id": "91a2b85b",
   "metadata": {},
   "source": [
    "# Importing Libraries"
   ]
  },
  {
   "cell_type": "code",
   "execution_count": 1,
   "id": "2da5cb30",
   "metadata": {},
   "outputs": [],
   "source": [
    "from mimic.mimic import MIMIC, MIMICManipulations"
   ]
  },
  {
   "cell_type": "code",
   "execution_count": 2,
   "id": "6985474c",
   "metadata": {},
   "outputs": [],
   "source": [
    "from utils.util import generic_utils"
   ]
  },
  {
   "cell_type": "code",
   "execution_count": 3,
   "id": "4c29e327",
   "metadata": {},
   "outputs": [],
   "source": [
    "import pandas as pd\n",
    "import numpy as np\n",
    "import matplotlib.pyplot as plt\n",
    "import os"
   ]
  },
  {
   "cell_type": "markdown",
   "id": "c854dfd3",
   "metadata": {},
   "source": [
    "# Load Data"
   ]
  },
  {
   "cell_type": "code",
   "execution_count": 4,
   "id": "fd2c05b8",
   "metadata": {},
   "outputs": [
    {
     "data": {
      "text/html": [
       "<div>\n",
       "<style scoped>\n",
       "    .dataframe tbody tr th:only-of-type {\n",
       "        vertical-align: middle;\n",
       "    }\n",
       "\n",
       "    .dataframe tbody tr th {\n",
       "        vertical-align: top;\n",
       "    }\n",
       "\n",
       "    .dataframe thead th {\n",
       "        text-align: right;\n",
       "    }\n",
       "</style>\n",
       "<table border=\"1\" class=\"dataframe\">\n",
       "  <thead>\n",
       "    <tr style=\"text-align: right;\">\n",
       "      <th></th>\n",
       "      <th>admission_type</th>\n",
       "      <th>admission_location</th>\n",
       "      <th>discharge_location</th>\n",
       "      <th>insurance</th>\n",
       "      <th>language</th>\n",
       "      <th>marital_status</th>\n",
       "      <th>ethnicity</th>\n",
       "      <th>hospital_expire_flag</th>\n",
       "      <th>los_admission</th>\n",
       "      <th>gender</th>\n",
       "      <th>...</th>\n",
       "      <th>flag</th>\n",
       "      <th>priority</th>\n",
       "      <th>drg_type</th>\n",
       "      <th>drg_code</th>\n",
       "      <th>drug</th>\n",
       "      <th>route</th>\n",
       "      <th>org_name</th>\n",
       "      <th>test_name</th>\n",
       "      <th>ab_name</th>\n",
       "      <th>curr_service</th>\n",
       "    </tr>\n",
       "  </thead>\n",
       "  <tbody>\n",
       "    <tr>\n",
       "      <th>0</th>\n",
       "      <td>ELECTIVE</td>\n",
       "      <td>Other</td>\n",
       "      <td>HOME</td>\n",
       "      <td>Other</td>\n",
       "      <td>ENGLISH</td>\n",
       "      <td>Other</td>\n",
       "      <td>WHITE</td>\n",
       "      <td>0.0</td>\n",
       "      <td>1.968056</td>\n",
       "      <td>M</td>\n",
       "      <td>...</td>\n",
       "      <td>normal</td>\n",
       "      <td>STAT</td>\n",
       "      <td>HCFA</td>\n",
       "      <td>795.0</td>\n",
       "      <td>Other</td>\n",
       "      <td>IM</td>\n",
       "      <td>None</td>\n",
       "      <td>Blood Culture, Routine</td>\n",
       "      <td>None</td>\n",
       "      <td>NB</td>\n",
       "    </tr>\n",
       "    <tr>\n",
       "      <th>1</th>\n",
       "      <td>EW EMER.</td>\n",
       "      <td>EMERGENCY ROOM</td>\n",
       "      <td>HOME</td>\n",
       "      <td>Medicaid</td>\n",
       "      <td>ENGLISH</td>\n",
       "      <td>WIDOWED</td>\n",
       "      <td>WHITE</td>\n",
       "      <td>0.0</td>\n",
       "      <td>2.222222</td>\n",
       "      <td>F</td>\n",
       "      <td>...</td>\n",
       "      <td>abnormal</td>\n",
       "      <td>ROUTINE</td>\n",
       "      <td>HCFA</td>\n",
       "      <td>442.0</td>\n",
       "      <td>Influenza Vaccine Quadrivalent</td>\n",
       "      <td>IM</td>\n",
       "      <td>None</td>\n",
       "      <td>Other</td>\n",
       "      <td>None</td>\n",
       "      <td>MED</td>\n",
       "    </tr>\n",
       "    <tr>\n",
       "      <th>2</th>\n",
       "      <td>ELECTIVE</td>\n",
       "      <td>Other</td>\n",
       "      <td>HOME</td>\n",
       "      <td>Other</td>\n",
       "      <td>ENGLISH</td>\n",
       "      <td>Other</td>\n",
       "      <td>ASIAN</td>\n",
       "      <td>0.0</td>\n",
       "      <td>1.865278</td>\n",
       "      <td>F</td>\n",
       "      <td>...</td>\n",
       "      <td>normal</td>\n",
       "      <td>STAT</td>\n",
       "      <td>HCFA</td>\n",
       "      <td>795.0</td>\n",
       "      <td>Erythromycin 0.5% Ophth Oint</td>\n",
       "      <td>BOTH EYES</td>\n",
       "      <td>None</td>\n",
       "      <td>Other</td>\n",
       "      <td>None</td>\n",
       "      <td>NB</td>\n",
       "    </tr>\n",
       "    <tr>\n",
       "      <th>3</th>\n",
       "      <td>EU OBSERVATION</td>\n",
       "      <td>EMERGENCY ROOM</td>\n",
       "      <td>Other</td>\n",
       "      <td>Other</td>\n",
       "      <td>ENGLISH</td>\n",
       "      <td>SINGLE</td>\n",
       "      <td>WHITE</td>\n",
       "      <td>0.0</td>\n",
       "      <td>0.298611</td>\n",
       "      <td>F</td>\n",
       "      <td>...</td>\n",
       "      <td>normal</td>\n",
       "      <td>OTHER</td>\n",
       "      <td>OTHER</td>\n",
       "      <td>0.0</td>\n",
       "      <td>None</td>\n",
       "      <td>None</td>\n",
       "      <td>None</td>\n",
       "      <td>None</td>\n",
       "      <td>None</td>\n",
       "      <td>MED</td>\n",
       "    </tr>\n",
       "    <tr>\n",
       "      <th>4</th>\n",
       "      <td>ELECTIVE</td>\n",
       "      <td>Other</td>\n",
       "      <td>HOME</td>\n",
       "      <td>Other</td>\n",
       "      <td>ENGLISH</td>\n",
       "      <td>Other</td>\n",
       "      <td>WHITE</td>\n",
       "      <td>0.0</td>\n",
       "      <td>4.109722</td>\n",
       "      <td>M</td>\n",
       "      <td>...</td>\n",
       "      <td>normal</td>\n",
       "      <td>STAT</td>\n",
       "      <td>HCFA</td>\n",
       "      <td>795.0</td>\n",
       "      <td>Erythromycin 0.5% Ophth Oint</td>\n",
       "      <td>BOTH EYES</td>\n",
       "      <td>None</td>\n",
       "      <td>None</td>\n",
       "      <td>None</td>\n",
       "      <td>NB</td>\n",
       "    </tr>\n",
       "  </tbody>\n",
       "</table>\n",
       "<p>5 rows × 22 columns</p>\n",
       "</div>"
      ],
      "text/plain": [
       "   admission_type admission_location discharge_location insurance language  \\\n",
       "0        ELECTIVE              Other               HOME     Other  ENGLISH   \n",
       "1        EW EMER.     EMERGENCY ROOM               HOME  Medicaid  ENGLISH   \n",
       "2        ELECTIVE              Other               HOME     Other  ENGLISH   \n",
       "3  EU OBSERVATION     EMERGENCY ROOM              Other     Other  ENGLISH   \n",
       "4        ELECTIVE              Other               HOME     Other  ENGLISH   \n",
       "\n",
       "  marital_status ethnicity  hospital_expire_flag  los_admission gender  ...  \\\n",
       "0          Other     WHITE                   0.0       1.968056      M  ...   \n",
       "1        WIDOWED     WHITE                   0.0       2.222222      F  ...   \n",
       "2          Other     ASIAN                   0.0       1.865278      F  ...   \n",
       "3         SINGLE     WHITE                   0.0       0.298611      F  ...   \n",
       "4          Other     WHITE                   0.0       4.109722      M  ...   \n",
       "\n",
       "       flag priority drg_type drg_code                            drug  \\\n",
       "0    normal     STAT     HCFA    795.0                           Other   \n",
       "1  abnormal  ROUTINE     HCFA    442.0  Influenza Vaccine Quadrivalent   \n",
       "2    normal     STAT     HCFA    795.0    Erythromycin 0.5% Ophth Oint   \n",
       "3    normal    OTHER    OTHER      0.0                            None   \n",
       "4    normal     STAT     HCFA    795.0    Erythromycin 0.5% Ophth Oint   \n",
       "\n",
       "       route org_name               test_name ab_name curr_service  \n",
       "0         IM     None  Blood Culture, Routine    None           NB  \n",
       "1         IM     None                   Other    None          MED  \n",
       "2  BOTH EYES     None                   Other    None           NB  \n",
       "3       None     None                    None    None          MED  \n",
       "4  BOTH EYES     None                    None    None           NB  \n",
       "\n",
       "[5 rows x 22 columns]"
      ]
     },
     "execution_count": 4,
     "metadata": {},
     "output_type": "execute_result"
    }
   ],
   "source": [
    "df = pd.read_csv('./dataset/ch_03_dataset.csv')\n",
    "df.head()"
   ]
  },
  {
   "cell_type": "code",
   "execution_count": 5,
   "id": "8976c817",
   "metadata": {},
   "outputs": [
    {
     "data": {
      "text/plain": [
       "normal      227037\n",
       "abnormal     29759\n",
       "Name: flag, dtype: int64"
      ]
     },
     "execution_count": 5,
     "metadata": {},
     "output_type": "execute_result"
    }
   ],
   "source": [
    "df.flag.value_counts()"
   ]
  },
  {
   "cell_type": "code",
   "execution_count": 6,
   "id": "f2bd0746",
   "metadata": {},
   "outputs": [
    {
     "data": {
      "text/plain": [
       "None                        83079\n",
       "URINE CULTURE               58901\n",
       "Blood Culture, Routine      34109\n",
       "Other                       27219\n",
       "MRSA SCREEN                 23028\n",
       "Blood Culture, Neonate      11207\n",
       "WOUND CULTURE                6335\n",
       "Staph aureus Screen          4438\n",
       "RAPID PLASMA REAGIN TEST     3576\n",
       "GRAM STAIN                   2815\n",
       "FLUID CULTURE                2089\n",
       "Name: test_name, dtype: int64"
      ]
     },
     "execution_count": 6,
     "metadata": {},
     "output_type": "execute_result"
    }
   ],
   "source": [
    "df.test_name.value_counts()"
   ]
  },
  {
   "cell_type": "code",
   "execution_count": 7,
   "id": "3b08e004",
   "metadata": {},
   "outputs": [
    {
     "data": {
      "text/plain": [
       "MED      88405\n",
       "NB       59972\n",
       "SURG     17386\n",
       "CMED     15344\n",
       "ORTHO    13681\n",
       "OBS      10748\n",
       "NMED     10447\n",
       "NSURG     7448\n",
       "CSURG     5621\n",
       "TRAUM     5071\n",
       "OMED      4948\n",
       "VSURG     3452\n",
       "GYN       3336\n",
       "PSYCH     2545\n",
       "PSURG     2534\n",
       "GU        2415\n",
       "TSURG     2019\n",
       "Other     1424\n",
       "Name: curr_service, dtype: int64"
      ]
     },
     "execution_count": 7,
     "metadata": {},
     "output_type": "execute_result"
    }
   ],
   "source": [
    "df.curr_service.value_counts()"
   ]
  },
  {
   "cell_type": "code",
   "execution_count": 8,
   "id": "0f2b5dfe",
   "metadata": {},
   "outputs": [],
   "source": [
    "#For binary classification, use flag and for multi class classification use current service"
   ]
  },
  {
   "cell_type": "code",
   "execution_count": 9,
   "id": "118c831a",
   "metadata": {},
   "outputs": [],
   "source": [
    "df.loc[df['flag'] == 'normal', 'flag'] = '1'\n",
    "df.loc[df['flag'] == 'abnormal', 'flag'] = '0'"
   ]
  },
  {
   "cell_type": "code",
   "execution_count": 10,
   "id": "525dacaf",
   "metadata": {},
   "outputs": [
    {
     "data": {
      "text/plain": [
       "1    227037\n",
       "0     29759\n",
       "Name: flag, dtype: int64"
      ]
     },
     "execution_count": 10,
     "metadata": {},
     "output_type": "execute_result"
    }
   ],
   "source": [
    "df.flag.value_counts()"
   ]
  },
  {
   "cell_type": "code",
   "execution_count": 11,
   "id": "1c45e7cd",
   "metadata": {},
   "outputs": [],
   "source": [
    "df.flag = df.flag.astype('int64')"
   ]
  },
  {
   "cell_type": "code",
   "execution_count": 12,
   "id": "5a9bbc8a",
   "metadata": {},
   "outputs": [
    {
     "data": {
      "text/plain": [
       "dtype('int64')"
      ]
     },
     "execution_count": 12,
     "metadata": {},
     "output_type": "execute_result"
    }
   ],
   "source": [
    "df.flag.dtype"
   ]
  },
  {
   "cell_type": "markdown",
   "id": "8a7a11a3",
   "metadata": {},
   "source": [
    "# Transformation Pipelines"
   ]
  },
  {
   "cell_type": "code",
   "execution_count": 13,
   "id": "a0d1667f",
   "metadata": {},
   "outputs": [],
   "source": [
    "for column in df.columns:\n",
    "    if column in ['hospital_expire_flag', 'los_admission', 'anchor_age', 'drg_code']:\n",
    "        try:\n",
    "            df[column] = df[column].astype('float64')\n",
    "        except Exception as ex:\n",
    "            pass\n",
    "    else:\n",
    "        df[column] = df[column].astype('string')"
   ]
  },
  {
   "cell_type": "code",
   "execution_count": 14,
   "id": "a70dc94a",
   "metadata": {},
   "outputs": [],
   "source": [
    "categorical_columns = df.select_dtypes(include=['string']).columns.tolist()"
   ]
  },
  {
   "cell_type": "code",
   "execution_count": 15,
   "id": "a0a4fbd9",
   "metadata": {},
   "outputs": [],
   "source": [
    "categorical_columns.remove('flag')"
   ]
  },
  {
   "cell_type": "code",
   "execution_count": 16,
   "id": "44195729",
   "metadata": {},
   "outputs": [
    {
     "data": {
      "text/plain": [
       "['anchor_age']"
      ]
     },
     "execution_count": 16,
     "metadata": {},
     "output_type": "execute_result"
    }
   ],
   "source": [
    "numerical_columns = [df.select_dtypes(exclude=['string']).columns.tolist()[2]]\n",
    "numerical_columns"
   ]
  },
  {
   "cell_type": "code",
   "execution_count": 17,
   "id": "322cdb71",
   "metadata": {},
   "outputs": [],
   "source": [
    "from sklearn.pipeline import Pipeline\n",
    "from sklearn.impute import SimpleImputer\n",
    "from sklearn.preprocessing import StandardScaler, OrdinalEncoder\n",
    "from sklearn.compose import ColumnTransformer\n"
   ]
  },
  {
   "cell_type": "code",
   "execution_count": 18,
   "id": "6a609052",
   "metadata": {},
   "outputs": [],
   "source": [
    "num_pipeline = Pipeline([\n",
    "        ('std_scaler', StandardScaler())\n",
    "    ])"
   ]
  },
  {
   "cell_type": "code",
   "execution_count": 19,
   "id": "2431f224",
   "metadata": {},
   "outputs": [],
   "source": [
    "\n",
    "num_attribs = numerical_columns\n",
    "cat_attribs = categorical_columns\n",
    "\n",
    "full_pipeline = ColumnTransformer([\n",
    "        (\"num\", num_pipeline, num_attribs),\n",
    "        (\"cat\", OrdinalEncoder(), cat_attribs),\n",
    "    ])"
   ]
  },
  {
   "cell_type": "markdown",
   "id": "52a337e8",
   "metadata": {},
   "source": [
    "# Create Test Set"
   ]
  },
  {
   "cell_type": "code",
   "execution_count": 20,
   "id": "728236d6",
   "metadata": {},
   "outputs": [],
   "source": [
    "np.random.seed(42)"
   ]
  },
  {
   "cell_type": "code",
   "execution_count": 21,
   "id": "759a1a1c",
   "metadata": {},
   "outputs": [],
   "source": [
    "from sklearn.model_selection import StratifiedShuffleSplit\n",
    "\n",
    "split = StratifiedShuffleSplit(n_splits=1, test_size=0.2, random_state=42)\n",
    "for train_index, test_index in split.split(df, df[\"flag\"]):\n",
    "    strat_train_set = df.loc[train_index]\n",
    "    strat_test_set = df.loc[test_index]"
   ]
  },
  {
   "cell_type": "code",
   "execution_count": 22,
   "id": "46feacd1",
   "metadata": {},
   "outputs": [],
   "source": [
    "train_set_X = strat_train_set.drop(\"flag\", axis = 1)\n",
    "train_set_y = strat_train_set[\"flag\"]\n",
    "\n",
    "test_set_X = strat_test_set.drop(\"flag\", axis = 1)\n",
    "test_set_y = strat_test_set[\"flag\"]"
   ]
  },
  {
   "cell_type": "code",
   "execution_count": 23,
   "id": "7d73f508",
   "metadata": {},
   "outputs": [],
   "source": [
    "train_set_X_prepared = full_pipeline.fit_transform(train_set_X)"
   ]
  },
  {
   "cell_type": "code",
   "execution_count": 24,
   "id": "a338467a",
   "metadata": {},
   "outputs": [
    {
     "data": {
      "text/plain": [
       "(205436, 18)"
      ]
     },
     "execution_count": 24,
     "metadata": {},
     "output_type": "execute_result"
    }
   ],
   "source": [
    "train_set_X_prepared.shape"
   ]
  },
  {
   "cell_type": "code",
   "execution_count": 25,
   "id": "2fa3f246",
   "metadata": {},
   "outputs": [
    {
     "data": {
      "text/plain": [
       "numpy.ndarray"
      ]
     },
     "execution_count": 25,
     "metadata": {},
     "output_type": "execute_result"
    }
   ],
   "source": [
    "type(train_set_X_prepared)"
   ]
  },
  {
   "cell_type": "code",
   "execution_count": 26,
   "id": "e2e812ce",
   "metadata": {},
   "outputs": [
    {
     "data": {
      "text/plain": [
       "array([[ 0.39909861,  2.        ,  4.        , ...,  6.        ,\n",
       "         4.        ,  4.        ],\n",
       "       [-0.11151772,  7.        ,  4.        , ...,  9.        ,\n",
       "         0.        ,  6.        ],\n",
       "       [-1.43912018,  3.        ,  2.        , ...,  5.        ,\n",
       "         4.        ,  5.        ],\n",
       "       ...,\n",
       "       [-1.43912018,  3.        ,  2.        , ...,  5.        ,\n",
       "         4.        ,  5.        ],\n",
       "       [ 0.50122187,  5.        ,  1.        , ...,  6.        ,\n",
       "         4.        ,  0.        ],\n",
       "       [ 1.35224909,  4.        ,  1.        , ...,  1.        ,\n",
       "         4.        ,  4.        ]])"
      ]
     },
     "execution_count": 26,
     "metadata": {},
     "output_type": "execute_result"
    }
   ],
   "source": [
    "train_set_X_prepared"
   ]
  },
  {
   "cell_type": "code",
   "execution_count": 27,
   "id": "cf59d6c2",
   "metadata": {},
   "outputs": [],
   "source": [
    "X_test_prepared = full_pipeline.transform(test_set_X)"
   ]
  },
  {
   "cell_type": "code",
   "execution_count": 28,
   "id": "cb27999f",
   "metadata": {},
   "outputs": [
    {
     "data": {
      "text/plain": [
       "array(['1', '1', '1', ..., '1', '1', '1'], dtype=object)"
      ]
     },
     "execution_count": 28,
     "metadata": {},
     "output_type": "execute_result"
    }
   ],
   "source": [
    "train_set_y = train_set_y.to_numpy()\n",
    "train_set_y"
   ]
  },
  {
   "cell_type": "code",
   "execution_count": 29,
   "id": "f0eb108c",
   "metadata": {},
   "outputs": [
    {
     "data": {
      "text/plain": [
       "array(['1', '1', '1', ..., '1', '1', '1'], dtype=object)"
      ]
     },
     "execution_count": 29,
     "metadata": {},
     "output_type": "execute_result"
    }
   ],
   "source": [
    "test_set_y = test_set_y.to_numpy()\n",
    "test_set_y"
   ]
  },
  {
   "cell_type": "markdown",
   "id": "892b956b",
   "metadata": {},
   "source": [
    "# Training a Binary Classifier"
   ]
  },
  {
   "cell_type": "code",
   "execution_count": 30,
   "id": "c81a328b",
   "metadata": {},
   "outputs": [
    {
     "data": {
      "text/plain": [
       "SGDClassifier(random_state=42)"
      ]
     },
     "execution_count": 30,
     "metadata": {},
     "output_type": "execute_result"
    }
   ],
   "source": [
    "from sklearn.linear_model import SGDClassifier\n",
    "\n",
    "sgd_clf = SGDClassifier(max_iter=1000, tol=1e-3, random_state=42)\n",
    "sgd_clf.fit(train_set_X_prepared, train_set_y)"
   ]
  },
  {
   "cell_type": "code",
   "execution_count": 31,
   "id": "03eb1abf",
   "metadata": {},
   "outputs": [
    {
     "data": {
      "text/plain": [
       "array(['1'], dtype='<U1')"
      ]
     },
     "execution_count": 31,
     "metadata": {},
     "output_type": "execute_result"
    }
   ],
   "source": [
    "sgd_clf.predict([train_set_X_prepared[2]])"
   ]
  },
  {
   "cell_type": "code",
   "execution_count": 32,
   "id": "fbf24ffd",
   "metadata": {},
   "outputs": [
    {
     "data": {
      "text/plain": [
       "array([0.88411046, 0.88411046, 0.88412337])"
      ]
     },
     "execution_count": 32,
     "metadata": {},
     "output_type": "execute_result"
    }
   ],
   "source": [
    "from sklearn.model_selection import cross_val_score\n",
    "cross_val_score(sgd_clf, train_set_X_prepared, train_set_y, cv=3, scoring=\"accuracy\")"
   ]
  },
  {
   "cell_type": "markdown",
   "id": "3361c136",
   "metadata": {},
   "source": [
    "# Performance Measures"
   ]
  },
  {
   "cell_type": "markdown",
   "id": "f89b7269",
   "metadata": {},
   "source": [
    "## Measuring Accuracy Using Cross-Validation"
   ]
  },
  {
   "cell_type": "code",
   "execution_count": 33,
   "id": "c44bafae",
   "metadata": {},
   "outputs": [
    {
     "name": "stdout",
     "output_type": "stream",
     "text": [
      "0.8841104572204618\n",
      "0.8841104572204618\n",
      "0.8841233680890213\n"
     ]
    }
   ],
   "source": [
    "from sklearn.model_selection import StratifiedKFold\n",
    "from sklearn.base import clone\n",
    "\n",
    "skfolds = StratifiedKFold(n_splits=3, shuffle=True, random_state=42)\n",
    "\n",
    "for train_index, test_index in skfolds.split(train_set_X_prepared, train_set_y):\n",
    "    clone_clf = clone(sgd_clf)\n",
    "    X_train_folds = train_set_X_prepared[train_index]\n",
    "    y_train_folds = train_set_y[train_index]\n",
    "    X_test_fold = train_set_X_prepared[test_index]\n",
    "    y_test_fold = train_set_y[test_index]\n",
    "\n",
    "    clone_clf.fit(X_train_folds, y_train_folds)\n",
    "    y_pred = clone_clf.predict(X_test_fold)\n",
    "    n_correct = sum(y_pred == y_test_fold)\n",
    "    print(n_correct / len(y_pred))"
   ]
  },
  {
   "cell_type": "markdown",
   "id": "1dd1a4d5",
   "metadata": {},
   "source": [
    "## Confusion Matrix"
   ]
  },
  {
   "cell_type": "code",
   "execution_count": 34,
   "id": "44ff17b7",
   "metadata": {},
   "outputs": [],
   "source": [
    "from sklearn.model_selection import cross_val_predict\n",
    "\n",
    "y_train_pred = cross_val_predict(sgd_clf, train_set_X_prepared, train_set_y, cv=3)"
   ]
  },
  {
   "cell_type": "code",
   "execution_count": 35,
   "id": "ff465683",
   "metadata": {},
   "outputs": [
    {
     "data": {
      "text/plain": [
       "array([[     1,  23806],\n",
       "       [     1, 181628]])"
      ]
     },
     "execution_count": 35,
     "metadata": {},
     "output_type": "execute_result"
    }
   ],
   "source": [
    "from sklearn.metrics import confusion_matrix\n",
    "\n",
    "confusion_matrix(train_set_y, y_train_pred)"
   ]
  },
  {
   "cell_type": "markdown",
   "id": "c856341b",
   "metadata": {},
   "source": [
    "## Precision and Recall"
   ]
  },
  {
   "cell_type": "code",
   "execution_count": 36,
   "id": "cf97dd8f",
   "metadata": {},
   "outputs": [
    {
     "data": {
      "text/plain": [
       "0.8841185003456098"
      ]
     },
     "execution_count": 36,
     "metadata": {},
     "output_type": "execute_result"
    }
   ],
   "source": [
    "from sklearn.metrics import precision_score, recall_score\n",
    "\n",
    "precision_score(train_set_y, y_train_pred, pos_label=\"1\")"
   ]
  },
  {
   "cell_type": "code",
   "execution_count": 37,
   "id": "0e205a70",
   "metadata": {},
   "outputs": [
    {
     "data": {
      "text/plain": [
       "0.8841185003456098"
      ]
     },
     "execution_count": 37,
     "metadata": {},
     "output_type": "execute_result"
    }
   ],
   "source": [
    "cm = confusion_matrix(train_set_y, y_train_pred)\n",
    "cm[1, 1] / (cm[0, 1] + cm[1, 1])"
   ]
  },
  {
   "cell_type": "code",
   "execution_count": 38,
   "id": "72f0ca0f",
   "metadata": {},
   "outputs": [
    {
     "data": {
      "text/plain": [
       "0.9999944942712893"
      ]
     },
     "execution_count": 38,
     "metadata": {},
     "output_type": "execute_result"
    }
   ],
   "source": [
    "recall_score(train_set_y, y_train_pred, pos_label=\"1\")"
   ]
  },
  {
   "cell_type": "code",
   "execution_count": 39,
   "id": "d9902923",
   "metadata": {},
   "outputs": [
    {
     "data": {
      "text/plain": [
       "0.9999944942712893"
      ]
     },
     "execution_count": 39,
     "metadata": {},
     "output_type": "execute_result"
    }
   ],
   "source": [
    "cm[1, 1] / (cm[1, 0] + cm[1, 1])"
   ]
  },
  {
   "cell_type": "code",
   "execution_count": 40,
   "id": "f430488d",
   "metadata": {},
   "outputs": [
    {
     "data": {
      "text/plain": [
       "0.938493216866505"
      ]
     },
     "execution_count": 40,
     "metadata": {},
     "output_type": "execute_result"
    }
   ],
   "source": [
    "from sklearn.metrics import f1_score\n",
    "\n",
    "f1_score(train_set_y, y_train_pred, pos_label=\"1\")"
   ]
  },
  {
   "cell_type": "code",
   "execution_count": 41,
   "id": "caa1de50",
   "metadata": {},
   "outputs": [
    {
     "data": {
      "text/plain": [
       "0.9384932168665049"
      ]
     },
     "execution_count": 41,
     "metadata": {},
     "output_type": "execute_result"
    }
   ],
   "source": [
    "cm[1, 1] / (cm[1, 1] + (cm[1, 0] + cm[0, 1]) / 2)"
   ]
  },
  {
   "cell_type": "markdown",
   "id": "1f17eb92",
   "metadata": {},
   "source": [
    "## Precision/Recall Trade-off"
   ]
  },
  {
   "cell_type": "code",
   "execution_count": 42,
   "id": "805e6992",
   "metadata": {},
   "outputs": [
    {
     "data": {
      "text/plain": [
       "array([0.97163006])"
      ]
     },
     "execution_count": 42,
     "metadata": {},
     "output_type": "execute_result"
    }
   ],
   "source": [
    "y_scores = sgd_clf.decision_function([train_set_X_prepared[546]])\n",
    "y_scores"
   ]
  },
  {
   "cell_type": "code",
   "execution_count": 43,
   "id": "cffe1d64",
   "metadata": {},
   "outputs": [],
   "source": [
    "threshold = 0\n",
    "y_some_digit_pred = (y_scores > threshold)"
   ]
  },
  {
   "cell_type": "code",
   "execution_count": 44,
   "id": "8cbbd438",
   "metadata": {},
   "outputs": [
    {
     "data": {
      "text/plain": [
       "array([ True])"
      ]
     },
     "execution_count": 44,
     "metadata": {},
     "output_type": "execute_result"
    }
   ],
   "source": [
    "y_some_digit_pred"
   ]
  },
  {
   "cell_type": "code",
   "execution_count": 45,
   "id": "af62b76e",
   "metadata": {},
   "outputs": [
    {
     "data": {
      "text/plain": [
       "array([False])"
      ]
     },
     "execution_count": 45,
     "metadata": {},
     "output_type": "execute_result"
    }
   ],
   "source": [
    "threshold = 8000\n",
    "y_some_digit_pred = (y_scores > threshold)\n",
    "y_some_digit_pred"
   ]
  },
  {
   "cell_type": "code",
   "execution_count": 46,
   "id": "6b6e26c0",
   "metadata": {},
   "outputs": [],
   "source": [
    "y_scores = cross_val_predict(sgd_clf, train_set_X_prepared, train_set_y, cv=3,\n",
    "                             method=\"decision_function\")"
   ]
  },
  {
   "cell_type": "code",
   "execution_count": 47,
   "id": "6cbdbb9e",
   "metadata": {},
   "outputs": [],
   "source": [
    "from sklearn.metrics import precision_recall_curve\n",
    "\n",
    "precisions, recalls, thresholds = precision_recall_curve(train_set_y, y_scores, pos_label='1')"
   ]
  },
  {
   "cell_type": "code",
   "execution_count": 48,
   "id": "dc51b99f",
   "metadata": {},
   "outputs": [
    {
     "data": {
      "image/png": "[encoded data removed]",
      "text/plain": [
       "<Figure size 576x288 with 1 Axes>"
      ]
     },
     "metadata": {
      "needs_background": "light"
     },
     "output_type": "display_data"
    }
   ],
   "source": [
    "def plot_precision_recall_vs_threshold(precisions, recalls, thresholds):\n",
    "    plt.plot(thresholds, precisions[:-1], \"b--\", label=\"Precision\", linewidth=2)\n",
    "    plt.plot(thresholds, recalls[:-1], \"g-\", label=\"Recall\", linewidth=2)\n",
    "    plt.legend(loc=\"center right\", fontsize=16) # Not shown in the book\n",
    "    plt.xlabel(\"Threshold\", fontsize=16)        # Not shown\n",
    "    plt.grid(True)                              # Not shown\n",
    "    plt.axis([-50000, 50000, 0, 1])             # Not shown\n",
    "\n",
    "\n",
    "\n",
    "recall_90_precision = recalls[np.argmax(precisions >= 0.90)]\n",
    "threshold_90_precision = thresholds[np.argmax(precisions >= 0.90)]\n",
    "\n",
    "\n",
    "plt.figure(figsize=(8, 4))                                                                  # Not shown\n",
    "plot_precision_recall_vs_threshold(precisions, recalls, thresholds)\n",
    "plt.plot([threshold_90_precision, threshold_90_precision], [0., 0.9], \"r:\")                 # Not shown\n",
    "plt.plot([-50000, threshold_90_precision], [0.9, 0.9], \"r:\")                                # Not shown\n",
    "plt.plot([-50000, threshold_90_precision], [recall_90_precision, recall_90_precision], \"r:\")# Not shown\n",
    "plt.plot([threshold_90_precision], [0.9], \"ro\")                                             # Not shown\n",
    "plt.plot([threshold_90_precision], [recall_90_precision], \"ro\")                             # Not shown\n",
    "#save_fig(\"precision_recall_vs_threshold_plot\")                                              # Not shown\n",
    "plt.show()"
   ]
  },
  {
   "cell_type": "code",
   "execution_count": 49,
   "id": "786e317d",
   "metadata": {},
   "outputs": [
    {
     "name": "stderr",
     "output_type": "stream",
     "text": [
      "/tmp/ipykernel_1674/1146860681.py:1: FutureWarning: elementwise comparison failed; returning scalar instead, but in the future will perform elementwise comparison\n",
      "  (y_train_pred == (y_scores > 0))\n"
     ]
    },
    {
     "data": {
      "text/plain": [
       "False"
      ]
     },
     "execution_count": 49,
     "metadata": {},
     "output_type": "execute_result"
    }
   ],
   "source": [
    "(y_train_pred == (y_scores > 0))"
   ]
  },
  {
   "cell_type": "code",
   "execution_count": 50,
   "id": "8b17808b",
   "metadata": {},
   "outputs": [
    {
     "data": {
      "image/png": "[encoded data removed]",
      "text/plain": [
       "<Figure size 576x432 with 1 Axes>"
      ]
     },
     "metadata": {
      "needs_background": "light"
     },
     "output_type": "display_data"
    }
   ],
   "source": [
    "def plot_precision_vs_recall(precisions, recalls):\n",
    "    plt.plot(recalls, precisions, \"b-\", linewidth=2)\n",
    "    plt.xlabel(\"Recall\", fontsize=16)\n",
    "    plt.ylabel(\"Precision\", fontsize=16)\n",
    "    plt.axis([0, 1, 0, 1])\n",
    "    plt.grid(True)\n",
    "\n",
    "plt.figure(figsize=(8, 6))\n",
    "plot_precision_vs_recall(precisions, recalls)\n",
    "plt.plot([recall_90_precision, recall_90_precision], [0., 0.9], \"r:\")\n",
    "plt.plot([0.0, recall_90_precision], [0.9, 0.9], \"r:\")\n",
    "plt.plot([recall_90_precision], [0.9], \"ro\")\n",
    "#save_fig(\"precision_vs_recall_plot\")\n",
    "plt.show()"
   ]
  },
  {
   "cell_type": "code",
   "execution_count": 51,
   "id": "692a31ba",
   "metadata": {},
   "outputs": [],
   "source": [
    "threshold_90_precision = thresholds[np.argmax(precisions >= 0.90)]"
   ]
  },
  {
   "cell_type": "code",
   "execution_count": 52,
   "id": "843646ce",
   "metadata": {},
   "outputs": [
    {
     "data": {
      "text/plain": [
       "1.4165053991977394"
      ]
     },
     "execution_count": 52,
     "metadata": {},
     "output_type": "execute_result"
    }
   ],
   "source": [
    "threshold_90_precision"
   ]
  },
  {
   "cell_type": "code",
   "execution_count": 53,
   "id": "b6c5e56f",
   "metadata": {},
   "outputs": [],
   "source": [
    "y_train_pred_90 = (y_scores >= threshold_90_precision)\n",
    "y_train_pred_90 = y_train_pred_90.astype('int')\n",
    "y_train_90 = []\n",
    "for item in y_train_pred_90:\n",
    "    if item == 1:\n",
    "        y_train_90.append('1')\n",
    "    elif item == 0:\n",
    "        y_train_90.append('0')"
   ]
  },
  {
   "cell_type": "code",
   "execution_count": 54,
   "id": "58611139",
   "metadata": {},
   "outputs": [
    {
     "data": {
      "text/plain": [
       "0.9"
      ]
     },
     "execution_count": 54,
     "metadata": {},
     "output_type": "execute_result"
    }
   ],
   "source": [
    "precision_score(train_set_y, y_train_90, pos_label='1')"
   ]
  },
  {
   "cell_type": "code",
   "execution_count": 55,
   "id": "2cf3c041",
   "metadata": {},
   "outputs": [
    {
     "data": {
      "text/plain": [
       "0.2563797631435509"
      ]
     },
     "execution_count": 55,
     "metadata": {},
     "output_type": "execute_result"
    }
   ],
   "source": [
    "recall_score(train_set_y, y_train_90, pos_label='1')"
   ]
  },
  {
   "cell_type": "markdown",
   "id": "e5b8ed05",
   "metadata": {},
   "source": [
    "## The ROC Curve"
   ]
  },
  {
   "cell_type": "code",
   "execution_count": 56,
   "id": "2741ad98",
   "metadata": {},
   "outputs": [],
   "source": [
    "from sklearn.metrics import roc_curve\n",
    "\n",
    "fpr, tpr, thresholds = roc_curve(train_set_y, y_scores, pos_label='1')"
   ]
  },
  {
   "cell_type": "code",
   "execution_count": 57,
   "id": "9b9687bc",
   "metadata": {},
   "outputs": [
    {
     "data": {
      "image/png": "[encoded data removed]",
      "text/plain": [
       "<Figure size 576x432 with 1 Axes>"
      ]
     },
     "metadata": {
      "needs_background": "light"
     },
     "output_type": "display_data"
    }
   ],
   "source": [
    "def plot_roc_curve(fpr, tpr, label=None):\n",
    "    plt.plot(fpr, tpr, linewidth=2, label=label)\n",
    "    plt.plot([0, 1], [0, 1], 'k--') # dashed diagonal\n",
    "    plt.axis([0, 1, 0, 1])                                    # Not shown in the book\n",
    "    plt.xlabel('False Positive Rate (Fall-Out)', fontsize=16) # Not shown\n",
    "    plt.ylabel('True Positive Rate (Recall)', fontsize=16)    # Not shown\n",
    "    plt.grid(True)                                            # Not shown\n",
    "\n",
    "plt.figure(figsize=(8, 6))                                    # Not shown\n",
    "plot_roc_curve(fpr, tpr)\n",
    "fpr_90 = fpr[np.argmax(tpr >= recall_90_precision)]           # Not shown\n",
    "plt.plot([fpr_90, fpr_90], [0., recall_90_precision], \"r:\")   # Not shown\n",
    "plt.plot([0.0, fpr_90], [recall_90_precision, recall_90_precision], \"r:\")  # Not shown\n",
    "plt.plot([fpr_90], [recall_90_precision], \"ro\")               # Not shown\n",
    "#save_fig(\"roc_curve_plot\")                                    # Not shown\n",
    "plt.show()"
   ]
  },
  {
   "cell_type": "code",
   "execution_count": 58,
   "id": "40501d6e",
   "metadata": {},
   "outputs": [
    {
     "data": {
      "text/plain": [
       "0.550572925419654"
      ]
     },
     "execution_count": 58,
     "metadata": {},
     "output_type": "execute_result"
    }
   ],
   "source": [
    "from sklearn.metrics import roc_auc_score\n",
    "\n",
    "roc_auc_score(train_set_y, y_scores)"
   ]
  },
  {
   "cell_type": "markdown",
   "id": "26b105ba",
   "metadata": {},
   "source": [
    "**Note**: we set `n_estimators=100` to be future-proof since this will be the default value in Scikit-Learn 0.22."
   ]
  },
  {
   "cell_type": "code",
   "execution_count": 59,
   "id": "9585e1e0",
   "metadata": {},
   "outputs": [],
   "source": [
    "from sklearn.ensemble import RandomForestClassifier\n",
    "forest_clf = RandomForestClassifier(n_estimators=100, random_state=42)\n",
    "y_probas_forest = cross_val_predict(forest_clf, train_set_X_prepared, train_set_y, cv=3,\n",
    "                                    method=\"predict_proba\")"
   ]
  },
  {
   "cell_type": "code",
   "execution_count": 60,
   "id": "8e74fad1",
   "metadata": {},
   "outputs": [],
   "source": [
    "y_scores_forest = y_probas_forest[:, 1] # score = proba of positive class\n",
    "fpr_forest, tpr_forest, thresholds_forest = roc_curve(train_set_y,y_scores_forest, pos_label='1')"
   ]
  },
  {
   "cell_type": "code",
   "execution_count": 61,
   "id": "ca78249f",
   "metadata": {},
   "outputs": [
    {
     "data": {
      "image/png": "[encoded data removed]",
      "text/plain": [
       "<Figure size 576x432 with 1 Axes>"
      ]
     },
     "metadata": {
      "needs_background": "light"
     },
     "output_type": "display_data"
    }
   ],
   "source": [
    "recall_for_forest = tpr_forest[np.argmax(fpr_forest >= fpr_90)]\n",
    "\n",
    "plt.figure(figsize=(8, 6))\n",
    "plt.plot(fpr, tpr, \"b:\", linewidth=2, label=\"SGD\")\n",
    "plot_roc_curve(fpr_forest, tpr_forest, \"Random Forest\")\n",
    "plt.plot([fpr_90, fpr_90], [0., recall_90_precision], \"r:\")\n",
    "plt.plot([0.0, fpr_90], [recall_90_precision, recall_90_precision], \"r:\")\n",
    "plt.plot([fpr_90], [recall_90_precision], \"ro\")\n",
    "plt.plot([fpr_90, fpr_90], [0., recall_for_forest], \"r:\")\n",
    "plt.plot([fpr_90], [recall_for_forest], \"ro\")\n",
    "plt.grid(True)\n",
    "plt.legend(loc=\"lower right\", fontsize=16)\n",
    "#save_fig(\"roc_curve_comparison_plot\")\n",
    "plt.show()"
   ]
  },
  {
   "cell_type": "code",
   "execution_count": 62,
   "id": "450b7426",
   "metadata": {},
   "outputs": [
    {
     "data": {
      "text/plain": [
       "0.6513689581630975"
      ]
     },
     "execution_count": 62,
     "metadata": {},
     "output_type": "execute_result"
    }
   ],
   "source": [
    "roc_auc_score(train_set_y, y_scores_forest)"
   ]
  },
  {
   "cell_type": "code",
   "execution_count": 63,
   "id": "58078050",
   "metadata": {},
   "outputs": [
    {
     "data": {
      "text/plain": [
       "0.8871488385658426"
      ]
     },
     "execution_count": 63,
     "metadata": {},
     "output_type": "execute_result"
    }
   ],
   "source": [
    "y_train_pred_forest = cross_val_predict(forest_clf, train_set_X_prepared, train_set_y, cv=3)\n",
    "precision_score(train_set_y, y_train_pred_forest, pos_label='1')"
   ]
  },
  {
   "cell_type": "code",
   "execution_count": 64,
   "id": "f7f6a086",
   "metadata": {},
   "outputs": [
    {
     "data": {
      "text/plain": [
       "0.9880800973412837"
      ]
     },
     "execution_count": 64,
     "metadata": {},
     "output_type": "execute_result"
    }
   ],
   "source": [
    "recall_score(train_set_y, y_train_pred_forest, pos_label='1')"
   ]
  },
  {
   "cell_type": "markdown",
   "id": "5ea0990b",
   "metadata": {},
   "source": [
    "# Multiclass Classification"
   ]
  },
  {
   "cell_type": "code",
   "execution_count": 65,
   "id": "6c6303a5",
   "metadata": {},
   "outputs": [],
   "source": [
    "from sklearn.preprocessing import LabelEncoder"
   ]
  },
  {
   "cell_type": "code",
   "execution_count": 66,
   "id": "210ca6db",
   "metadata": {},
   "outputs": [],
   "source": [
    "le = LabelEncoder()"
   ]
  },
  {
   "cell_type": "code",
   "execution_count": 67,
   "id": "101fdd17",
   "metadata": {},
   "outputs": [],
   "source": [
    "df.curr_service = le.fit_transform(df.curr_service)"
   ]
  },
  {
   "cell_type": "code",
   "execution_count": 68,
   "id": "c0819501",
   "metadata": {},
   "outputs": [
    {
     "data": {
      "text/html": [
       "<div>\n",
       "<style scoped>\n",
       "    .dataframe tbody tr th:only-of-type {\n",
       "        vertical-align: middle;\n",
       "    }\n",
       "\n",
       "    .dataframe tbody tr th {\n",
       "        vertical-align: top;\n",
       "    }\n",
       "\n",
       "    .dataframe thead th {\n",
       "        text-align: right;\n",
       "    }\n",
       "</style>\n",
       "<table border=\"1\" class=\"dataframe\">\n",
       "  <thead>\n",
       "    <tr style=\"text-align: right;\">\n",
       "      <th></th>\n",
       "      <th>admission_type</th>\n",
       "      <th>admission_location</th>\n",
       "      <th>discharge_location</th>\n",
       "      <th>insurance</th>\n",
       "      <th>language</th>\n",
       "      <th>marital_status</th>\n",
       "      <th>ethnicity</th>\n",
       "      <th>hospital_expire_flag</th>\n",
       "      <th>los_admission</th>\n",
       "      <th>gender</th>\n",
       "      <th>...</th>\n",
       "      <th>flag</th>\n",
       "      <th>priority</th>\n",
       "      <th>drg_type</th>\n",
       "      <th>drg_code</th>\n",
       "      <th>drug</th>\n",
       "      <th>route</th>\n",
       "      <th>org_name</th>\n",
       "      <th>test_name</th>\n",
       "      <th>ab_name</th>\n",
       "      <th>curr_service</th>\n",
       "    </tr>\n",
       "  </thead>\n",
       "  <tbody>\n",
       "    <tr>\n",
       "      <th>0</th>\n",
       "      <td>ELECTIVE</td>\n",
       "      <td>Other</td>\n",
       "      <td>HOME</td>\n",
       "      <td>Other</td>\n",
       "      <td>ENGLISH</td>\n",
       "      <td>Other</td>\n",
       "      <td>WHITE</td>\n",
       "      <td>0.0</td>\n",
       "      <td>1.968056</td>\n",
       "      <td>M</td>\n",
       "      <td>...</td>\n",
       "      <td>1</td>\n",
       "      <td>STAT</td>\n",
       "      <td>HCFA</td>\n",
       "      <td>795.0</td>\n",
       "      <td>Other</td>\n",
       "      <td>IM</td>\n",
       "      <td>None</td>\n",
       "      <td>Blood Culture, Routine</td>\n",
       "      <td>None</td>\n",
       "      <td>5</td>\n",
       "    </tr>\n",
       "    <tr>\n",
       "      <th>1</th>\n",
       "      <td>EW EMER.</td>\n",
       "      <td>EMERGENCY ROOM</td>\n",
       "      <td>HOME</td>\n",
       "      <td>Medicaid</td>\n",
       "      <td>ENGLISH</td>\n",
       "      <td>WIDOWED</td>\n",
       "      <td>WHITE</td>\n",
       "      <td>0.0</td>\n",
       "      <td>2.222222</td>\n",
       "      <td>F</td>\n",
       "      <td>...</td>\n",
       "      <td>0</td>\n",
       "      <td>ROUTINE</td>\n",
       "      <td>HCFA</td>\n",
       "      <td>442.0</td>\n",
       "      <td>Influenza Vaccine Quadrivalent</td>\n",
       "      <td>IM</td>\n",
       "      <td>None</td>\n",
       "      <td>Other</td>\n",
       "      <td>None</td>\n",
       "      <td>4</td>\n",
       "    </tr>\n",
       "    <tr>\n",
       "      <th>2</th>\n",
       "      <td>ELECTIVE</td>\n",
       "      <td>Other</td>\n",
       "      <td>HOME</td>\n",
       "      <td>Other</td>\n",
       "      <td>ENGLISH</td>\n",
       "      <td>Other</td>\n",
       "      <td>ASIAN</td>\n",
       "      <td>0.0</td>\n",
       "      <td>1.865278</td>\n",
       "      <td>F</td>\n",
       "      <td>...</td>\n",
       "      <td>1</td>\n",
       "      <td>STAT</td>\n",
       "      <td>HCFA</td>\n",
       "      <td>795.0</td>\n",
       "      <td>Erythromycin 0.5% Ophth Oint</td>\n",
       "      <td>BOTH EYES</td>\n",
       "      <td>None</td>\n",
       "      <td>Other</td>\n",
       "      <td>None</td>\n",
       "      <td>5</td>\n",
       "    </tr>\n",
       "    <tr>\n",
       "      <th>3</th>\n",
       "      <td>EU OBSERVATION</td>\n",
       "      <td>EMERGENCY ROOM</td>\n",
       "      <td>Other</td>\n",
       "      <td>Other</td>\n",
       "      <td>ENGLISH</td>\n",
       "      <td>SINGLE</td>\n",
       "      <td>WHITE</td>\n",
       "      <td>0.0</td>\n",
       "      <td>0.298611</td>\n",
       "      <td>F</td>\n",
       "      <td>...</td>\n",
       "      <td>1</td>\n",
       "      <td>OTHER</td>\n",
       "      <td>OTHER</td>\n",
       "      <td>0.0</td>\n",
       "      <td>None</td>\n",
       "      <td>None</td>\n",
       "      <td>None</td>\n",
       "      <td>None</td>\n",
       "      <td>None</td>\n",
       "      <td>4</td>\n",
       "    </tr>\n",
       "    <tr>\n",
       "      <th>4</th>\n",
       "      <td>ELECTIVE</td>\n",
       "      <td>Other</td>\n",
       "      <td>HOME</td>\n",
       "      <td>Other</td>\n",
       "      <td>ENGLISH</td>\n",
       "      <td>Other</td>\n",
       "      <td>WHITE</td>\n",
       "      <td>0.0</td>\n",
       "      <td>4.109722</td>\n",
       "      <td>M</td>\n",
       "      <td>...</td>\n",
       "      <td>1</td>\n",
       "      <td>STAT</td>\n",
       "      <td>HCFA</td>\n",
       "      <td>795.0</td>\n",
       "      <td>Erythromycin 0.5% Ophth Oint</td>\n",
       "      <td>BOTH EYES</td>\n",
       "      <td>None</td>\n",
       "      <td>None</td>\n",
       "      <td>None</td>\n",
       "      <td>5</td>\n",
       "    </tr>\n",
       "  </tbody>\n",
       "</table>\n",
       "<p>5 rows × 22 columns</p>\n",
       "</div>"
      ],
      "text/plain": [
       "   admission_type admission_location discharge_location insurance language  \\\n",
       "0        ELECTIVE              Other               HOME     Other  ENGLISH   \n",
       "1        EW EMER.     EMERGENCY ROOM               HOME  Medicaid  ENGLISH   \n",
       "2        ELECTIVE              Other               HOME     Other  ENGLISH   \n",
       "3  EU OBSERVATION     EMERGENCY ROOM              Other     Other  ENGLISH   \n",
       "4        ELECTIVE              Other               HOME     Other  ENGLISH   \n",
       "\n",
       "  marital_status ethnicity  hospital_expire_flag  los_admission gender  ...  \\\n",
       "0          Other     WHITE                   0.0       1.968056      M  ...   \n",
       "1        WIDOWED     WHITE                   0.0       2.222222      F  ...   \n",
       "2          Other     ASIAN                   0.0       1.865278      F  ...   \n",
       "3         SINGLE     WHITE                   0.0       0.298611      F  ...   \n",
       "4          Other     WHITE                   0.0       4.109722      M  ...   \n",
       "\n",
       "   flag priority drg_type drg_code                            drug      route  \\\n",
       "0     1     STAT     HCFA    795.0                           Other         IM   \n",
       "1     0  ROUTINE     HCFA    442.0  Influenza Vaccine Quadrivalent         IM   \n",
       "2     1     STAT     HCFA    795.0    Erythromycin 0.5% Ophth Oint  BOTH EYES   \n",
       "3     1    OTHER    OTHER      0.0                            None       None   \n",
       "4     1     STAT     HCFA    795.0    Erythromycin 0.5% Ophth Oint  BOTH EYES   \n",
       "\n",
       "  org_name               test_name ab_name curr_service  \n",
       "0     None  Blood Culture, Routine    None            5  \n",
       "1     None                   Other    None            4  \n",
       "2     None                   Other    None            5  \n",
       "3     None                    None    None            4  \n",
       "4     None                    None    None            5  \n",
       "\n",
       "[5 rows x 22 columns]"
      ]
     },
     "execution_count": 68,
     "metadata": {},
     "output_type": "execute_result"
    }
   ],
   "source": [
    "df.head()"
   ]
  },
  {
   "cell_type": "code",
   "execution_count": 69,
   "id": "3e52f82b",
   "metadata": {},
   "outputs": [
    {
     "data": {
      "text/plain": [
       "4     88405\n",
       "5     59972\n",
       "14    17386\n",
       "0     15344\n",
       "10    13681\n",
       "8     10748\n",
       "6     10447\n",
       "7      7448\n",
       "1      5621\n",
       "15     5071\n",
       "9      4948\n",
       "17     3452\n",
       "3      3336\n",
       "13     2545\n",
       "12     2534\n",
       "2      2415\n",
       "16     2019\n",
       "11     1424\n",
       "Name: curr_service, dtype: int64"
      ]
     },
     "execution_count": 69,
     "metadata": {},
     "output_type": "execute_result"
    }
   ],
   "source": [
    "df.curr_service.value_counts()"
   ]
  },
  {
   "cell_type": "code",
   "execution_count": 70,
   "id": "f7015cfa",
   "metadata": {},
   "outputs": [
    {
     "data": {
      "text/plain": [
       "['admission_type',\n",
       " 'admission_location',\n",
       " 'discharge_location',\n",
       " 'insurance',\n",
       " 'language',\n",
       " 'marital_status',\n",
       " 'ethnicity',\n",
       " 'gender',\n",
       " 'eventtype',\n",
       " 'flag',\n",
       " 'priority',\n",
       " 'drg_type',\n",
       " 'drug',\n",
       " 'route',\n",
       " 'org_name',\n",
       " 'test_name',\n",
       " 'ab_name']"
      ]
     },
     "execution_count": 70,
     "metadata": {},
     "output_type": "execute_result"
    }
   ],
   "source": [
    "categorical_columns = df.select_dtypes(include=['string']).columns.tolist()\n",
    "#categorical_columns.remove('curr_service')\n",
    "categorical_columns"
   ]
  },
  {
   "cell_type": "code",
   "execution_count": 71,
   "id": "66ed6c87",
   "metadata": {},
   "outputs": [
    {
     "data": {
      "text/plain": [
       "['los_admission', 'anchor_age']"
      ]
     },
     "execution_count": 71,
     "metadata": {},
     "output_type": "execute_result"
    }
   ],
   "source": [
    "numerical_columns = df.select_dtypes(exclude=['string']).columns.tolist()[1:3]\n",
    "numerical_columns"
   ]
  },
  {
   "cell_type": "code",
   "execution_count": 72,
   "id": "ae039176",
   "metadata": {},
   "outputs": [],
   "source": [
    "num_attribs = numerical_columns\n",
    "cat_attribs = categorical_columns\n",
    "\n",
    "full_pipeline = ColumnTransformer([\n",
    "        (\"num\", num_pipeline, num_attribs),\n",
    "        (\"cat\", OrdinalEncoder(), cat_attribs),\n",
    "    ])"
   ]
  },
  {
   "cell_type": "code",
   "execution_count": 73,
   "id": "64e26450",
   "metadata": {},
   "outputs": [],
   "source": [
    "from sklearn.model_selection import StratifiedShuffleSplit\n",
    "\n",
    "split = StratifiedShuffleSplit(n_splits=1, test_size=0.2, random_state=42)\n",
    "for train_index, test_index in split.split(df, df[\"flag\"]):\n",
    "    strat_train_set = df.loc[train_index]\n",
    "    strat_test_set = df.loc[test_index]"
   ]
  },
  {
   "cell_type": "code",
   "execution_count": 74,
   "id": "eadb93a7",
   "metadata": {},
   "outputs": [],
   "source": [
    "train_set_X = strat_train_set.drop(\"curr_service\", axis = 1)\n",
    "train_set_y = strat_train_set[\"curr_service\"].to_numpy()\n",
    "\n",
    "test_set_X = strat_test_set.drop(\"curr_service\", axis = 1)\n",
    "test_set_y = strat_test_set[\"curr_service\"].to_numpy()"
   ]
  },
  {
   "cell_type": "code",
   "execution_count": 75,
   "id": "04749269",
   "metadata": {},
   "outputs": [],
   "source": [
    "train_set_X_prepared = full_pipeline.fit_transform(train_set_X)"
   ]
  },
  {
   "cell_type": "code",
   "execution_count": 76,
   "id": "2532d8bb",
   "metadata": {},
   "outputs": [],
   "source": [
    "test_set_X_prepared = full_pipeline.fit_transform(test_set_X)"
   ]
  },
  {
   "cell_type": "code",
   "execution_count": 77,
   "id": "fd3dab48",
   "metadata": {},
   "outputs": [],
   "source": [
    "from sklearn.svm import SVC\n",
    "from sklearn.multiclass import OneVsRestClassifier"
   ]
  },
  {
   "cell_type": "code",
   "execution_count": 78,
   "id": "569123e7",
   "metadata": {},
   "outputs": [
    {
     "data": {
      "text/plain": [
       "OneVsRestClassifier(estimator=SVC(gamma='auto', random_state=42))"
      ]
     },
     "execution_count": 78,
     "metadata": {},
     "output_type": "execute_result"
    }
   ],
   "source": [
    "ovr_clf = OneVsRestClassifier(SVC(gamma=\"auto\", random_state=42))\n",
    "ovr_clf.fit(train_set_X_prepared[:1000], train_set_y[:1000])"
   ]
  },
  {
   "cell_type": "code",
   "execution_count": 79,
   "id": "62780eb0",
   "metadata": {},
   "outputs": [
    {
     "data": {
      "text/plain": [
       "array([14])"
      ]
     },
     "execution_count": 79,
     "metadata": {},
     "output_type": "execute_result"
    }
   ],
   "source": [
    "ovr_clf.predict([train_set_X_prepared[52]])"
   ]
  },
  {
   "cell_type": "code",
   "execution_count": 80,
   "id": "8ffcbdb3",
   "metadata": {},
   "outputs": [
    {
     "data": {
      "text/plain": [
       "18"
      ]
     },
     "execution_count": 80,
     "metadata": {},
     "output_type": "execute_result"
    }
   ],
   "source": [
    "len(ovr_clf.estimators_)"
   ]
  },
  {
   "cell_type": "code",
   "execution_count": 81,
   "id": "d40c6b57",
   "metadata": {},
   "outputs": [
    {
     "data": {
      "text/plain": [
       "array([10])"
      ]
     },
     "execution_count": 81,
     "metadata": {},
     "output_type": "execute_result"
    }
   ],
   "source": [
    "sgd_clf.fit(train_set_X_prepared, train_set_y)\n",
    "sgd_clf.predict([train_set_X_prepared[52]])"
   ]
  },
  {
   "cell_type": "code",
   "execution_count": 83,
   "id": "2f4a2730",
   "metadata": {},
   "outputs": [
    {
     "data": {
      "text/plain": [
       "14"
      ]
     },
     "execution_count": 83,
     "metadata": {},
     "output_type": "execute_result"
    }
   ],
   "source": [
    "train_set_y[52]"
   ]
  },
  {
   "cell_type": "code",
   "execution_count": 84,
   "id": "d972df64",
   "metadata": {},
   "outputs": [
    {
     "data": {
      "text/plain": [
       "array([[ -1.32779146,  -1.08781789,  -1.63157524,  -3.18839774,\n",
       "         -1.75153898, -27.01120603,  -1.35871746,  -1.137276  ,\n",
       "        -23.87295587,  -1.58222721,  -1.06029787,  -4.51988364,\n",
       "         -1.76432238,  -5.67973405,  -1.14035372,  -1.67443212,\n",
       "         -1.3781951 ,  -1.70979585]])"
      ]
     },
     "execution_count": 84,
     "metadata": {},
     "output_type": "execute_result"
    }
   ],
   "source": [
    "sgd_clf.decision_function([train_set_X_prepared[52]])"
   ]
  },
  {
   "cell_type": "code",
   "execution_count": 85,
   "id": "06f7c8f4",
   "metadata": {},
   "outputs": [
    {
     "data": {
      "text/plain": [
       "array([0.60465252, 0.54422524, 0.58027396])"
      ]
     },
     "execution_count": 85,
     "metadata": {},
     "output_type": "execute_result"
    }
   ],
   "source": [
    "cross_val_score(sgd_clf, train_set_X_prepared, train_set_y, cv=3, scoring=\"accuracy\")"
   ]
  },
  {
   "cell_type": "markdown",
   "id": "b1151b32",
   "metadata": {},
   "source": [
    "# Error Analysis"
   ]
  },
  {
   "cell_type": "code",
   "execution_count": 86,
   "id": "f6dd6eb2",
   "metadata": {},
   "outputs": [
    {
     "data": {
      "text/plain": [
       "array([[ 1369,   186,     0,    20,  7914,    14,   670,     0,   116,\n",
       "           11,   263,     0,    18,    35,  1590,     6,     6,   114],\n",
       "       [  425,   337,     0,     8,  1352,     6,   198,     0,    66,\n",
       "            7,   616,     2,     8,     5,  1364,     3,     2,    47],\n",
       "       [   90,    37,     1,     8,   838,    11,    78,     0,    12,\n",
       "            1,   267,     1,     8,     8,   540,     1,     5,    12],\n",
       "       [   50,     1,     0,    70,  1110,    57,   100,     0,   157,\n",
       "            8,   268,     1,    20,     9,   837,     0,     4,     6],\n",
       "       [ 2453,   273,     4,    88, 55802,   211,  2964,     0,  1254,\n",
       "          114,   869,    23,    51,   728,  5619,    81,    11,   187],\n",
       "       [    0,     0,     0,     0,     0, 47898,     0,     0,    23,\n",
       "            0,     0,     3,     0,    10,     0,     1,     0,     0],\n",
       "       [  397,    64,     0,    11,  5782,    29,   711,     0,   230,\n",
       "           14,    93,     2,     6,    56,   917,    14,     0,    18],\n",
       "       [  221,    59,     0,    20,  2845,    33,   383,     0,   106,\n",
       "            9,   629,     1,    59,    30,  1476,    23,     6,    28],\n",
       "       [   48,     0,     0,    38,   961,    74,   177,     0,  6529,\n",
       "           10,   110,     0,    22,    65,   577,     3,     1,     1],\n",
       "       [  280,    18,     0,    23,  2367,    54,   352,     1,    29,\n",
       "           21,   127,     0,     6,    15,   654,     6,     1,    30],\n",
       "       [  294,   177,     0,    26,  4494,    61,   510,     0,   209,\n",
       "            9,  1805,     3,   104,    71,  3120,    27,    11,    32],\n",
       "       [   30,     6,     0,     4,   194,   386,    17,     0,   161,\n",
       "            0,    66,    78,     6,     3,   183,     1,     0,     3],\n",
       "       [   45,     6,     0,    10,   724,    20,    52,     0,    40,\n",
       "            2,   376,     0,    84,    13,   674,     4,     1,     6],\n",
       "       [   66,     3,     0,     2,  1070,     8,   158,     0,   166,\n",
       "            6,    24,     0,     3,   354,   161,    14,     0,     3],\n",
       "       [  606,    96,     0,    63,  7252,   118,   700,     0,   337,\n",
       "           21,  1166,     3,   102,    61,  3261,    31,    18,    67],\n",
       "       [  112,    16,     0,     4,  2853,    31,   304,     0,    81,\n",
       "            4,    54,     4,     2,    31,   502,    41,     0,     8],\n",
       "       [   61,    18,     0,     8,   612,     5,    63,     0,    22,\n",
       "            0,   232,     0,    21,     7,   549,     3,     5,    19],\n",
       "       [  253,    35,     0,     6,  1524,     5,   149,     0,    16,\n",
       "            6,   196,     0,    16,     8,   482,     2,     1,    44]])"
      ]
     },
     "execution_count": 86,
     "metadata": {},
     "output_type": "execute_result"
    }
   ],
   "source": [
    "y_train_pred = cross_val_predict(sgd_clf, train_set_X_prepared, train_set_y, cv=3)\n",
    "conf_mx = confusion_matrix(train_set_y, y_train_pred)\n",
    "conf_mx"
   ]
  },
  {
   "cell_type": "code",
   "execution_count": 99,
   "id": "e2ecfabe",
   "metadata": {},
   "outputs": [],
   "source": [
    "from sklearn.metrics import plot_confusion_matrix\n"
   ]
  },
  {
   "cell_type": "code",
   "execution_count": 100,
   "id": "f7648938",
   "metadata": {},
   "outputs": [
    {
     "name": "stderr",
     "output_type": "stream",
     "text": [
      "/home/pri2si17/Development/virtual_envs/homl_mimic/lib/python3.8/site-packages/sklearn/utils/deprecation.py:87: FutureWarning: Function plot_confusion_matrix is deprecated; Function `plot_confusion_matrix` is deprecated in 1.0 and will be removed in 1.2. Use one of the class methods: ConfusionMatrixDisplay.from_predictions or ConfusionMatrixDisplay.from_estimator.\n",
      "  warnings.warn(msg, category=FutureWarning)\n"
     ]
    },
    {
     "data": {
      "text/plain": [
       "<sklearn.metrics._plot.confusion_matrix.ConfusionMatrixDisplay at 0x7f569ebacaf0>"
      ]
     },
     "execution_count": 100,
     "metadata": {},
     "output_type": "execute_result"
    },
    {
     "data": {
      "image/png": "[encoded data removed]",
      "text/plain": [
       "<Figure size 720x720 with 2 Axes>"
      ]
     },
     "metadata": {
      "needs_background": "light"
     },
     "output_type": "display_data"
    }
   ],
   "source": [
    "fig, ax = plt.subplots(figsize=(10, 10))\n",
    "plot_confusion_matrix(sgd_clf, train_set_X_prepared, train_set_y, ax = ax)"
   ]
  },
  {
   "cell_type": "markdown",
   "id": "b9182528",
   "metadata": {},
   "source": [
    "# Multilabel Multioutput Classification"
   ]
  },
  {
   "cell_type": "code",
   "execution_count": 101,
   "id": "647cd980",
   "metadata": {},
   "outputs": [],
   "source": [
    "# Include flag and current_service as multilabel classification"
   ]
  },
  {
   "cell_type": "code",
   "execution_count": 102,
   "id": "939a19cb",
   "metadata": {},
   "outputs": [],
   "source": [
    "df.flag = le.fit_transform(df.flag)"
   ]
  },
  {
   "cell_type": "code",
   "execution_count": 103,
   "id": "2cbf64f3",
   "metadata": {},
   "outputs": [
    {
     "data": {
      "text/html": [
       "<div>\n",
       "<style scoped>\n",
       "    .dataframe tbody tr th:only-of-type {\n",
       "        vertical-align: middle;\n",
       "    }\n",
       "\n",
       "    .dataframe tbody tr th {\n",
       "        vertical-align: top;\n",
       "    }\n",
       "\n",
       "    .dataframe thead th {\n",
       "        text-align: right;\n",
       "    }\n",
       "</style>\n",
       "<table border=\"1\" class=\"dataframe\">\n",
       "  <thead>\n",
       "    <tr style=\"text-align: right;\">\n",
       "      <th></th>\n",
       "      <th>admission_type</th>\n",
       "      <th>admission_location</th>\n",
       "      <th>discharge_location</th>\n",
       "      <th>insurance</th>\n",
       "      <th>language</th>\n",
       "      <th>marital_status</th>\n",
       "      <th>ethnicity</th>\n",
       "      <th>hospital_expire_flag</th>\n",
       "      <th>los_admission</th>\n",
       "      <th>gender</th>\n",
       "      <th>...</th>\n",
       "      <th>flag</th>\n",
       "      <th>priority</th>\n",
       "      <th>drg_type</th>\n",
       "      <th>drg_code</th>\n",
       "      <th>drug</th>\n",
       "      <th>route</th>\n",
       "      <th>org_name</th>\n",
       "      <th>test_name</th>\n",
       "      <th>ab_name</th>\n",
       "      <th>curr_service</th>\n",
       "    </tr>\n",
       "  </thead>\n",
       "  <tbody>\n",
       "    <tr>\n",
       "      <th>0</th>\n",
       "      <td>ELECTIVE</td>\n",
       "      <td>Other</td>\n",
       "      <td>HOME</td>\n",
       "      <td>Other</td>\n",
       "      <td>ENGLISH</td>\n",
       "      <td>Other</td>\n",
       "      <td>WHITE</td>\n",
       "      <td>0.0</td>\n",
       "      <td>1.968056</td>\n",
       "      <td>M</td>\n",
       "      <td>...</td>\n",
       "      <td>1</td>\n",
       "      <td>STAT</td>\n",
       "      <td>HCFA</td>\n",
       "      <td>795.0</td>\n",
       "      <td>Other</td>\n",
       "      <td>IM</td>\n",
       "      <td>None</td>\n",
       "      <td>Blood Culture, Routine</td>\n",
       "      <td>None</td>\n",
       "      <td>5</td>\n",
       "    </tr>\n",
       "    <tr>\n",
       "      <th>1</th>\n",
       "      <td>EW EMER.</td>\n",
       "      <td>EMERGENCY ROOM</td>\n",
       "      <td>HOME</td>\n",
       "      <td>Medicaid</td>\n",
       "      <td>ENGLISH</td>\n",
       "      <td>WIDOWED</td>\n",
       "      <td>WHITE</td>\n",
       "      <td>0.0</td>\n",
       "      <td>2.222222</td>\n",
       "      <td>F</td>\n",
       "      <td>...</td>\n",
       "      <td>0</td>\n",
       "      <td>ROUTINE</td>\n",
       "      <td>HCFA</td>\n",
       "      <td>442.0</td>\n",
       "      <td>Influenza Vaccine Quadrivalent</td>\n",
       "      <td>IM</td>\n",
       "      <td>None</td>\n",
       "      <td>Other</td>\n",
       "      <td>None</td>\n",
       "      <td>4</td>\n",
       "    </tr>\n",
       "    <tr>\n",
       "      <th>2</th>\n",
       "      <td>ELECTIVE</td>\n",
       "      <td>Other</td>\n",
       "      <td>HOME</td>\n",
       "      <td>Other</td>\n",
       "      <td>ENGLISH</td>\n",
       "      <td>Other</td>\n",
       "      <td>ASIAN</td>\n",
       "      <td>0.0</td>\n",
       "      <td>1.865278</td>\n",
       "      <td>F</td>\n",
       "      <td>...</td>\n",
       "      <td>1</td>\n",
       "      <td>STAT</td>\n",
       "      <td>HCFA</td>\n",
       "      <td>795.0</td>\n",
       "      <td>Erythromycin 0.5% Ophth Oint</td>\n",
       "      <td>BOTH EYES</td>\n",
       "      <td>None</td>\n",
       "      <td>Other</td>\n",
       "      <td>None</td>\n",
       "      <td>5</td>\n",
       "    </tr>\n",
       "    <tr>\n",
       "      <th>3</th>\n",
       "      <td>EU OBSERVATION</td>\n",
       "      <td>EMERGENCY ROOM</td>\n",
       "      <td>Other</td>\n",
       "      <td>Other</td>\n",
       "      <td>ENGLISH</td>\n",
       "      <td>SINGLE</td>\n",
       "      <td>WHITE</td>\n",
       "      <td>0.0</td>\n",
       "      <td>0.298611</td>\n",
       "      <td>F</td>\n",
       "      <td>...</td>\n",
       "      <td>1</td>\n",
       "      <td>OTHER</td>\n",
       "      <td>OTHER</td>\n",
       "      <td>0.0</td>\n",
       "      <td>None</td>\n",
       "      <td>None</td>\n",
       "      <td>None</td>\n",
       "      <td>None</td>\n",
       "      <td>None</td>\n",
       "      <td>4</td>\n",
       "    </tr>\n",
       "    <tr>\n",
       "      <th>4</th>\n",
       "      <td>ELECTIVE</td>\n",
       "      <td>Other</td>\n",
       "      <td>HOME</td>\n",
       "      <td>Other</td>\n",
       "      <td>ENGLISH</td>\n",
       "      <td>Other</td>\n",
       "      <td>WHITE</td>\n",
       "      <td>0.0</td>\n",
       "      <td>4.109722</td>\n",
       "      <td>M</td>\n",
       "      <td>...</td>\n",
       "      <td>1</td>\n",
       "      <td>STAT</td>\n",
       "      <td>HCFA</td>\n",
       "      <td>795.0</td>\n",
       "      <td>Erythromycin 0.5% Ophth Oint</td>\n",
       "      <td>BOTH EYES</td>\n",
       "      <td>None</td>\n",
       "      <td>None</td>\n",
       "      <td>None</td>\n",
       "      <td>5</td>\n",
       "    </tr>\n",
       "  </tbody>\n",
       "</table>\n",
       "<p>5 rows × 22 columns</p>\n",
       "</div>"
      ],
      "text/plain": [
       "   admission_type admission_location discharge_location insurance language  \\\n",
       "0        ELECTIVE              Other               HOME     Other  ENGLISH   \n",
       "1        EW EMER.     EMERGENCY ROOM               HOME  Medicaid  ENGLISH   \n",
       "2        ELECTIVE              Other               HOME     Other  ENGLISH   \n",
       "3  EU OBSERVATION     EMERGENCY ROOM              Other     Other  ENGLISH   \n",
       "4        ELECTIVE              Other               HOME     Other  ENGLISH   \n",
       "\n",
       "  marital_status ethnicity  hospital_expire_flag  los_admission gender  ...  \\\n",
       "0          Other     WHITE                   0.0       1.968056      M  ...   \n",
       "1        WIDOWED     WHITE                   0.0       2.222222      F  ...   \n",
       "2          Other     ASIAN                   0.0       1.865278      F  ...   \n",
       "3         SINGLE     WHITE                   0.0       0.298611      F  ...   \n",
       "4          Other     WHITE                   0.0       4.109722      M  ...   \n",
       "\n",
       "   flag priority  drg_type drg_code                            drug  \\\n",
       "0     1     STAT      HCFA    795.0                           Other   \n",
       "1     0  ROUTINE      HCFA    442.0  Influenza Vaccine Quadrivalent   \n",
       "2     1     STAT      HCFA    795.0    Erythromycin 0.5% Ophth Oint   \n",
       "3     1    OTHER     OTHER      0.0                            None   \n",
       "4     1     STAT      HCFA    795.0    Erythromycin 0.5% Ophth Oint   \n",
       "\n",
       "       route org_name               test_name ab_name curr_service  \n",
       "0         IM     None  Blood Culture, Routine    None            5  \n",
       "1         IM     None                   Other    None            4  \n",
       "2  BOTH EYES     None                   Other    None            5  \n",
       "3       None     None                    None    None            4  \n",
       "4  BOTH EYES     None                    None    None            5  \n",
       "\n",
       "[5 rows x 22 columns]"
      ]
     },
     "execution_count": 103,
     "metadata": {},
     "output_type": "execute_result"
    }
   ],
   "source": [
    "df.head()"
   ]
  },
  {
   "cell_type": "code",
   "execution_count": 104,
   "id": "8823b7a5",
   "metadata": {},
   "outputs": [
    {
     "data": {
      "text/plain": [
       "['admission_type',\n",
       " 'admission_location',\n",
       " 'discharge_location',\n",
       " 'insurance',\n",
       " 'language',\n",
       " 'marital_status',\n",
       " 'ethnicity',\n",
       " 'gender',\n",
       " 'eventtype',\n",
       " 'priority',\n",
       " 'drg_type',\n",
       " 'drug',\n",
       " 'route',\n",
       " 'org_name',\n",
       " 'test_name',\n",
       " 'ab_name']"
      ]
     },
     "execution_count": 104,
     "metadata": {},
     "output_type": "execute_result"
    }
   ],
   "source": [
    "categorical_columns = df.select_dtypes(include=['string']).columns.tolist()\n",
    "#categorical_columns.remove('curr_service')\n",
    "categorical_columns"
   ]
  },
  {
   "cell_type": "code",
   "execution_count": 105,
   "id": "1991ec4a",
   "metadata": {},
   "outputs": [
    {
     "data": {
      "text/plain": [
       "['los_admission', 'anchor_age']"
      ]
     },
     "execution_count": 105,
     "metadata": {},
     "output_type": "execute_result"
    }
   ],
   "source": [
    "numerical_columns = df.select_dtypes(exclude=['string']).columns.tolist()[1:3]\n",
    "numerical_columns"
   ]
  },
  {
   "cell_type": "code",
   "execution_count": 106,
   "id": "07ed8c98",
   "metadata": {},
   "outputs": [],
   "source": [
    "num_attribs = numerical_columns\n",
    "cat_attribs = categorical_columns\n",
    "\n",
    "full_pipeline = ColumnTransformer([\n",
    "        (\"num\", num_pipeline, num_attribs),\n",
    "        (\"cat\", OrdinalEncoder(), cat_attribs),\n",
    "    ])"
   ]
  },
  {
   "cell_type": "code",
   "execution_count": 107,
   "id": "17d8bf51",
   "metadata": {},
   "outputs": [],
   "source": [
    "from sklearn.model_selection import StratifiedShuffleSplit\n",
    "\n",
    "split = StratifiedShuffleSplit(n_splits=1, test_size=0.2, random_state=42)\n",
    "for train_index, test_index in split.split(df, df[\"flag\"]):\n",
    "    strat_train_set = df.loc[train_index]\n",
    "    strat_test_set = df.loc[test_index]"
   ]
  },
  {
   "cell_type": "code",
   "execution_count": 108,
   "id": "f60cd72e",
   "metadata": {},
   "outputs": [],
   "source": [
    "train_set_X = strat_train_set.drop([\"flag\", \"curr_service\"], axis = 1)\n",
    "train_set_y = strat_train_set[[\"flag\", \"curr_service\"]].to_numpy()\n",
    "\n",
    "test_set_X = strat_test_set.drop([\"flag\", \"curr_service\"], axis = 1)\n",
    "test_set_y = strat_test_set[[\"flag\", \"curr_service\"]].to_numpy()"
   ]
  },
  {
   "cell_type": "code",
   "execution_count": 109,
   "id": "e1d74817",
   "metadata": {},
   "outputs": [],
   "source": [
    "train_set_X_prepared = full_pipeline.fit_transform(train_set_X)"
   ]
  },
  {
   "cell_type": "code",
   "execution_count": 110,
   "id": "56a396e3",
   "metadata": {},
   "outputs": [],
   "source": [
    "test_set_X_prepared = full_pipeline.fit_transform(test_set_X)"
   ]
  },
  {
   "cell_type": "code",
   "execution_count": 111,
   "id": "2913ecc1",
   "metadata": {},
   "outputs": [
    {
     "data": {
      "text/plain": [
       "array([[1, 4],\n",
       "       [1, 6],\n",
       "       [1, 5],\n",
       "       ...,\n",
       "       [1, 5],\n",
       "       [1, 0],\n",
       "       [1, 4]])"
      ]
     },
     "execution_count": 111,
     "metadata": {},
     "output_type": "execute_result"
    }
   ],
   "source": [
    "train_set_y"
   ]
  },
  {
   "cell_type": "code",
   "execution_count": 112,
   "id": "5c4ab221",
   "metadata": {},
   "outputs": [
    {
     "data": {
      "text/plain": [
       "KNeighborsClassifier()"
      ]
     },
     "execution_count": 112,
     "metadata": {},
     "output_type": "execute_result"
    }
   ],
   "source": [
    "from sklearn.neighbors import KNeighborsClassifier\n",
    "knn_clf = KNeighborsClassifier()\n",
    "knn_clf.fit(train_set_X_prepared, train_set_y)"
   ]
  },
  {
   "cell_type": "code",
   "execution_count": 113,
   "id": "a5147a51",
   "metadata": {},
   "outputs": [
    {
     "data": {
      "text/plain": [
       "array([[ 1, 10]])"
      ]
     },
     "execution_count": 113,
     "metadata": {},
     "output_type": "execute_result"
    }
   ],
   "source": [
    "knn_clf.predict([train_set_X_prepared[52]])"
   ]
  },
  {
   "cell_type": "code",
   "execution_count": 115,
   "id": "b85d271b",
   "metadata": {},
   "outputs": [],
   "source": [
    "y_train_knn_pred = cross_val_predict(knn_clf, train_set_X_prepared, train_set_y, cv=3)"
   ]
  },
  {
   "cell_type": "code",
   "execution_count": 119,
   "id": "c515eb16",
   "metadata": {},
   "outputs": [
    {
     "data": {
      "text/plain": [
       "array([[1, 4],\n",
       "       [1, 2],\n",
       "       [1, 5],\n",
       "       ...,\n",
       "       [1, 5],\n",
       "       [1, 4],\n",
       "       [1, 4]])"
      ]
     },
     "execution_count": 119,
     "metadata": {},
     "output_type": "execute_result"
    }
   ],
   "source": [
    "y_train_knn_pred"
   ]
  },
  {
   "cell_type": "code",
   "execution_count": 120,
   "id": "1d2ae7b3",
   "metadata": {},
   "outputs": [
    {
     "data": {
      "text/plain": [
       "array([[1, 4],\n",
       "       [1, 6],\n",
       "       [1, 5],\n",
       "       ...,\n",
       "       [1, 5],\n",
       "       [1, 0],\n",
       "       [1, 4]])"
      ]
     },
     "execution_count": 120,
     "metadata": {},
     "output_type": "execute_result"
    }
   ],
   "source": [
    "train_set_y"
   ]
  },
  {
   "cell_type": "code",
   "execution_count": null,
   "id": "4dcd4965",
   "metadata": {},
   "outputs": [],
   "source": []
  }
 ],
 "metadata": {
  "kernelspec": {
   "display_name": "Python 3 (ipykernel)",
   "language": "python",
   "name": "python3"
  },
  "language_info": {
   "codemirror_mode": {
    "name": "ipython",
    "version": 3
   },
   "file_extension": ".py",
   "mimetype": "text/x-python",
   "name": "python",
   "nbconvert_exporter": "python",
   "pygments_lexer": "ipython3",
   "version": "3.8.10"
  }
 },
 "nbformat": 4,
 "nbformat_minor": 5
}
