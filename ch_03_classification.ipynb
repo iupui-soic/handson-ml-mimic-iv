{
 "cells": [
  {
   "cell_type": "markdown",
   "id": "91a2b85b",
   "metadata": {},
   "source": [
    "# Importing Libraries"
   ]
  },
  {
   "cell_type": "code",
   "execution_count": 1,
   "id": "2da5cb30",
   "metadata": {},
   "outputs": [],
   "source": [
    "from mimic.mimic import MIMIC, MIMICManipulations"
   ]
  },
  {
   "cell_type": "code",
   "execution_count": 2,
   "id": "6985474c",
   "metadata": {},
   "outputs": [],
   "source": [
    "from utils.util import generic_utils"
   ]
  },
  {
   "cell_type": "code",
   "execution_count": 3,
   "id": "4c29e327",
   "metadata": {},
   "outputs": [],
   "source": [
    "import pandas as pd\n",
    "import numpy as np\n",
    "import matplotlib.pyplot as plt\n",
    "import os"
   ]
  },
  {
   "cell_type": "markdown",
   "id": "c854dfd3",
   "metadata": {},
   "source": [
    "# Load Data"
   ]
  },
  {
   "cell_type": "code",
   "execution_count": 4,
   "id": "fd2c05b8",
   "metadata": {
    "scrolled": false
   },
   "outputs": [
    {
     "data": {
      "text/html": [
       "<div>\n",
       "<style scoped>\n",
       "    .dataframe tbody tr th:only-of-type {\n",
       "        vertical-align: middle;\n",
       "    }\n",
       "\n",
       "    .dataframe tbody tr th {\n",
       "        vertical-align: top;\n",
       "    }\n",
       "\n",
       "    .dataframe thead th {\n",
       "        text-align: right;\n",
       "    }\n",
       "</style>\n",
       "<table border=\"1\" class=\"dataframe\">\n",
       "  <thead>\n",
       "    <tr style=\"text-align: right;\">\n",
       "      <th></th>\n",
       "      <th>admission_type</th>\n",
       "      <th>admission_location</th>\n",
       "      <th>discharge_location</th>\n",
       "      <th>insurance</th>\n",
       "      <th>language</th>\n",
       "      <th>marital_status</th>\n",
       "      <th>ethnicity</th>\n",
       "      <th>hospital_expire_flag</th>\n",
       "      <th>los_admission</th>\n",
       "      <th>gender</th>\n",
       "      <th>...</th>\n",
       "      <th>flag</th>\n",
       "      <th>priority</th>\n",
       "      <th>drg_type</th>\n",
       "      <th>drg_code</th>\n",
       "      <th>drug</th>\n",
       "      <th>route</th>\n",
       "      <th>org_name</th>\n",
       "      <th>test_name</th>\n",
       "      <th>ab_name</th>\n",
       "      <th>curr_service</th>\n",
       "    </tr>\n",
       "  </thead>\n",
       "  <tbody>\n",
       "    <tr>\n",
       "      <th>0</th>\n",
       "      <td>ELECTIVE</td>\n",
       "      <td>Other</td>\n",
       "      <td>HOME</td>\n",
       "      <td>Other</td>\n",
       "      <td>ENGLISH</td>\n",
       "      <td>Other</td>\n",
       "      <td>WHITE</td>\n",
       "      <td>0.0</td>\n",
       "      <td>1.968056</td>\n",
       "      <td>M</td>\n",
       "      <td>...</td>\n",
       "      <td>normal</td>\n",
       "      <td>STAT</td>\n",
       "      <td>HCFA</td>\n",
       "      <td>795.0</td>\n",
       "      <td>Other</td>\n",
       "      <td>IM</td>\n",
       "      <td>None</td>\n",
       "      <td>Blood Culture, Routine</td>\n",
       "      <td>None</td>\n",
       "      <td>NB</td>\n",
       "    </tr>\n",
       "    <tr>\n",
       "      <th>1</th>\n",
       "      <td>EW EMER.</td>\n",
       "      <td>EMERGENCY ROOM</td>\n",
       "      <td>HOME</td>\n",
       "      <td>Medicaid</td>\n",
       "      <td>ENGLISH</td>\n",
       "      <td>WIDOWED</td>\n",
       "      <td>WHITE</td>\n",
       "      <td>0.0</td>\n",
       "      <td>2.222222</td>\n",
       "      <td>F</td>\n",
       "      <td>...</td>\n",
       "      <td>abnormal</td>\n",
       "      <td>ROUTINE</td>\n",
       "      <td>HCFA</td>\n",
       "      <td>442.0</td>\n",
       "      <td>Influenza Vaccine Quadrivalent</td>\n",
       "      <td>IM</td>\n",
       "      <td>None</td>\n",
       "      <td>Other</td>\n",
       "      <td>None</td>\n",
       "      <td>MED</td>\n",
       "    </tr>\n",
       "    <tr>\n",
       "      <th>2</th>\n",
       "      <td>ELECTIVE</td>\n",
       "      <td>Other</td>\n",
       "      <td>HOME</td>\n",
       "      <td>Other</td>\n",
       "      <td>ENGLISH</td>\n",
       "      <td>Other</td>\n",
       "      <td>ASIAN</td>\n",
       "      <td>0.0</td>\n",
       "      <td>1.865278</td>\n",
       "      <td>F</td>\n",
       "      <td>...</td>\n",
       "      <td>normal</td>\n",
       "      <td>STAT</td>\n",
       "      <td>HCFA</td>\n",
       "      <td>795.0</td>\n",
       "      <td>Erythromycin 0.5% Ophth Oint</td>\n",
       "      <td>BOTH EYES</td>\n",
       "      <td>None</td>\n",
       "      <td>Other</td>\n",
       "      <td>None</td>\n",
       "      <td>NB</td>\n",
       "    </tr>\n",
       "    <tr>\n",
       "      <th>3</th>\n",
       "      <td>EU OBSERVATION</td>\n",
       "      <td>EMERGENCY ROOM</td>\n",
       "      <td>Other</td>\n",
       "      <td>Other</td>\n",
       "      <td>ENGLISH</td>\n",
       "      <td>SINGLE</td>\n",
       "      <td>WHITE</td>\n",
       "      <td>0.0</td>\n",
       "      <td>0.298611</td>\n",
       "      <td>F</td>\n",
       "      <td>...</td>\n",
       "      <td>normal</td>\n",
       "      <td>OTHER</td>\n",
       "      <td>OTHER</td>\n",
       "      <td>0.0</td>\n",
       "      <td>None</td>\n",
       "      <td>None</td>\n",
       "      <td>None</td>\n",
       "      <td>None</td>\n",
       "      <td>None</td>\n",
       "      <td>MED</td>\n",
       "    </tr>\n",
       "    <tr>\n",
       "      <th>4</th>\n",
       "      <td>ELECTIVE</td>\n",
       "      <td>Other</td>\n",
       "      <td>HOME</td>\n",
       "      <td>Other</td>\n",
       "      <td>ENGLISH</td>\n",
       "      <td>Other</td>\n",
       "      <td>WHITE</td>\n",
       "      <td>0.0</td>\n",
       "      <td>4.109722</td>\n",
       "      <td>M</td>\n",
       "      <td>...</td>\n",
       "      <td>normal</td>\n",
       "      <td>STAT</td>\n",
       "      <td>HCFA</td>\n",
       "      <td>795.0</td>\n",
       "      <td>Erythromycin 0.5% Ophth Oint</td>\n",
       "      <td>BOTH EYES</td>\n",
       "      <td>None</td>\n",
       "      <td>None</td>\n",
       "      <td>None</td>\n",
       "      <td>NB</td>\n",
       "    </tr>\n",
       "  </tbody>\n",
       "</table>\n",
       "<p>5 rows × 22 columns</p>\n",
       "</div>"
      ],
      "text/plain": [
       "   admission_type admission_location discharge_location insurance language  \\\n",
       "0        ELECTIVE              Other               HOME     Other  ENGLISH   \n",
       "1        EW EMER.     EMERGENCY ROOM               HOME  Medicaid  ENGLISH   \n",
       "2        ELECTIVE              Other               HOME     Other  ENGLISH   \n",
       "3  EU OBSERVATION     EMERGENCY ROOM              Other     Other  ENGLISH   \n",
       "4        ELECTIVE              Other               HOME     Other  ENGLISH   \n",
       "\n",
       "  marital_status ethnicity  hospital_expire_flag  los_admission gender  ...  \\\n",
       "0          Other     WHITE                   0.0       1.968056      M  ...   \n",
       "1        WIDOWED     WHITE                   0.0       2.222222      F  ...   \n",
       "2          Other     ASIAN                   0.0       1.865278      F  ...   \n",
       "3         SINGLE     WHITE                   0.0       0.298611      F  ...   \n",
       "4          Other     WHITE                   0.0       4.109722      M  ...   \n",
       "\n",
       "       flag priority drg_type drg_code                            drug  \\\n",
       "0    normal     STAT     HCFA    795.0                           Other   \n",
       "1  abnormal  ROUTINE     HCFA    442.0  Influenza Vaccine Quadrivalent   \n",
       "2    normal     STAT     HCFA    795.0    Erythromycin 0.5% Ophth Oint   \n",
       "3    normal    OTHER    OTHER      0.0                            None   \n",
       "4    normal     STAT     HCFA    795.0    Erythromycin 0.5% Ophth Oint   \n",
       "\n",
       "       route org_name               test_name ab_name curr_service  \n",
       "0         IM     None  Blood Culture, Routine    None           NB  \n",
       "1         IM     None                   Other    None          MED  \n",
       "2  BOTH EYES     None                   Other    None           NB  \n",
       "3       None     None                    None    None          MED  \n",
       "4  BOTH EYES     None                    None    None           NB  \n",
       "\n",
       "[5 rows x 22 columns]"
      ]
     },
     "execution_count": 4,
     "metadata": {},
     "output_type": "execute_result"
    }
   ],
   "source": [
    "df = pd.read_csv('./dataset/ch_03_dataset.csv')\n",
    "df.head()"
   ]
  },
  {
   "cell_type": "markdown",
   "id": "b46bedd3",
   "metadata": {},
   "source": [
    "## Select data to be used in classification"
   ]
  },
  {
   "cell_type": "markdown",
   "id": "b9f64f4a",
   "metadata": {},
   "source": [
    "### For binary classification, use \"flag\" column and for multi-class classification, use \"current service\""
   ]
  },
  {
   "cell_type": "code",
   "execution_count": 5,
   "id": "8976c817",
   "metadata": {},
   "outputs": [
    {
     "data": {
      "text/plain": [
       "normal      227037\n",
       "abnormal     29759\n",
       "Name: flag, dtype: int64"
      ]
     },
     "execution_count": 5,
     "metadata": {},
     "output_type": "execute_result"
    }
   ],
   "source": [
    "df.flag.value_counts()"
   ]
  },
  {
   "cell_type": "code",
   "execution_count": 6,
   "id": "3b08e004",
   "metadata": {},
   "outputs": [
    {
     "data": {
      "text/plain": [
       "MED      88405\n",
       "NB       59972\n",
       "SURG     17386\n",
       "CMED     15344\n",
       "ORTHO    13681\n",
       "OBS      10748\n",
       "NMED     10447\n",
       "NSURG     7448\n",
       "CSURG     5621\n",
       "TRAUM     5071\n",
       "OMED      4948\n",
       "VSURG     3452\n",
       "GYN       3336\n",
       "PSYCH     2545\n",
       "PSURG     2534\n",
       "GU        2415\n",
       "TSURG     2019\n",
       "Other     1424\n",
       "Name: curr_service, dtype: int64"
      ]
     },
     "execution_count": 6,
     "metadata": {},
     "output_type": "execute_result"
    }
   ],
   "source": [
    "df.curr_service.value_counts()"
   ]
  },
  {
   "cell_type": "code",
   "execution_count": 7,
   "id": "118c831a",
   "metadata": {},
   "outputs": [],
   "source": [
    "# Set \"flag\" value to 1 (normal) or 0 (abnormal)\n",
    "df.loc[df['flag'] == 'normal', 'flag'] = '1'\n",
    "df.loc[df['flag'] == 'abnormal', 'flag'] = '0'\n",
    "df.flag = df.flag.astype('int64')"
   ]
  },
  {
   "cell_type": "code",
   "execution_count": 8,
   "id": "525dacaf",
   "metadata": {
    "scrolled": true
   },
   "outputs": [
    {
     "data": {
      "text/plain": [
       "1    227037\n",
       "0     29759\n",
       "Name: flag, dtype: int64"
      ]
     },
     "execution_count": 8,
     "metadata": {},
     "output_type": "execute_result"
    }
   ],
   "source": [
    "# Get count of each class \n",
    "df.flag.value_counts()"
   ]
  },
  {
   "cell_type": "markdown",
   "id": "8a7a11a3",
   "metadata": {},
   "source": [
    "# Transformation Pipelines"
   ]
  },
  {
   "cell_type": "code",
   "execution_count": 9,
   "id": "a0d1667f",
   "metadata": {},
   "outputs": [],
   "source": [
    "# Convert data type to float64 or string\n",
    "for column in df.columns:\n",
    "    if column in ['hospital_expire_flag', 'los_admission', 'anchor_age', 'flag','drg_code']:\n",
    "        try:\n",
    "            df[column] = df[column].astype('float64')\n",
    "        except Exception as ex:\n",
    "            pass\n",
    "    else:\n",
    "        df[column] = df[column].astype('string')"
   ]
  },
  {
   "cell_type": "code",
   "execution_count": 10,
   "id": "66cbcda1",
   "metadata": {},
   "outputs": [
    {
     "data": {
      "text/plain": [
       "0         1.0\n",
       "1         0.0\n",
       "2         1.0\n",
       "3         1.0\n",
       "4         1.0\n",
       "         ... \n",
       "256791    1.0\n",
       "256792    1.0\n",
       "256793    1.0\n",
       "256794    1.0\n",
       "256795    1.0\n",
       "Name: flag, Length: 256796, dtype: float64"
      ]
     },
     "execution_count": 10,
     "metadata": {},
     "output_type": "execute_result"
    }
   ],
   "source": [
    "df['flag'].astype('float64')"
   ]
  },
  {
   "cell_type": "code",
   "execution_count": 11,
   "id": "44195729",
   "metadata": {},
   "outputs": [],
   "source": [
    "# Convert values to list\n",
    "categorical_columns = df.select_dtypes(include=['string']).columns.tolist()\n",
    "numerical_columns = df.select_dtypes(exclude=['string']).columns.tolist()[2:4] #keep columns 'anchor_age' and 'flag'"
   ]
  },
  {
   "cell_type": "code",
   "execution_count": 12,
   "id": "2f05db98",
   "metadata": {},
   "outputs": [
    {
     "data": {
      "text/plain": [
       "['admission_type',\n",
       " 'admission_location',\n",
       " 'discharge_location',\n",
       " 'insurance',\n",
       " 'language',\n",
       " 'marital_status',\n",
       " 'ethnicity',\n",
       " 'gender',\n",
       " 'eventtype',\n",
       " 'priority',\n",
       " 'drg_type',\n",
       " 'drug',\n",
       " 'route',\n",
       " 'org_name',\n",
       " 'test_name',\n",
       " 'ab_name',\n",
       " 'curr_service']"
      ]
     },
     "execution_count": 12,
     "metadata": {},
     "output_type": "execute_result"
    }
   ],
   "source": [
    "categorical_columns"
   ]
  },
  {
   "cell_type": "code",
   "execution_count": 13,
   "id": "1527cd4e",
   "metadata": {},
   "outputs": [
    {
     "data": {
      "text/plain": [
       "['anchor_age', 'flag']"
      ]
     },
     "execution_count": 13,
     "metadata": {},
     "output_type": "execute_result"
    }
   ],
   "source": [
    "numerical_columns"
   ]
  },
  {
   "cell_type": "code",
   "execution_count": 14,
   "id": "a0a4fbd9",
   "metadata": {},
   "outputs": [],
   "source": [
    "# Remove \"flag\" column, which will be the labels for classification\n",
    "numerical_columns.remove('flag')"
   ]
  },
  {
   "cell_type": "code",
   "execution_count": 15,
   "id": "322cdb71",
   "metadata": {},
   "outputs": [],
   "source": [
    "from sklearn.pipeline import Pipeline\n",
    "from sklearn.impute import SimpleImputer\n",
    "from sklearn.preprocessing import StandardScaler, OrdinalEncoder\n",
    "from sklearn.compose import ColumnTransformer"
   ]
  },
  {
   "cell_type": "code",
   "execution_count": 16,
   "id": "6a609052",
   "metadata": {},
   "outputs": [],
   "source": [
    "# Define pipeline for numerical column transformation\n",
    "num_pipeline = Pipeline([\n",
    "        ('std_scaler', StandardScaler())\n",
    "    ])"
   ]
  },
  {
   "cell_type": "code",
   "execution_count": 17,
   "id": "2431f224",
   "metadata": {},
   "outputs": [],
   "source": [
    "# Construct ColumnTransformer\n",
    "num_attribs = numerical_columns\n",
    "cat_attribs = categorical_columns\n",
    "\n",
    "full_pipeline = ColumnTransformer([\n",
    "        (\"num\", num_pipeline, num_attribs),\n",
    "        (\"cat\", OrdinalEncoder(), cat_attribs),\n",
    "    ])"
   ]
  },
  {
   "cell_type": "markdown",
   "id": "52a337e8",
   "metadata": {},
   "source": [
    "# Create Test Set"
   ]
  },
  {
   "cell_type": "code",
   "execution_count": 18,
   "id": "728236d6",
   "metadata": {},
   "outputs": [],
   "source": [
    "np.random.seed(42)"
   ]
  },
  {
   "cell_type": "code",
   "execution_count": 19,
   "id": "759a1a1c",
   "metadata": {},
   "outputs": [],
   "source": [
    "# Split data into training and testing set\n",
    "from sklearn.model_selection import StratifiedShuffleSplit\n",
    "\n",
    "split = StratifiedShuffleSplit(n_splits=1, test_size=0.2, random_state=42)\n",
    "for train_index, test_index in split.split(df, df[\"flag\"]):\n",
    "    strat_train_set = df.loc[train_index]\n",
    "    strat_test_set = df.loc[test_index]"
   ]
  },
  {
   "cell_type": "code",
   "execution_count": 20,
   "id": "46feacd1",
   "metadata": {},
   "outputs": [],
   "source": [
    "# Separate data from labels and define labels as \"flag\" value\n",
    "train_set_X = strat_train_set.drop(\"flag\", axis = 1)\n",
    "train_set_y = strat_train_set[\"flag\"]\n",
    "\n",
    "test_set_X = strat_test_set.drop(\"flag\", axis = 1)\n",
    "test_set_y = strat_test_set[\"flag\"]"
   ]
  },
  {
   "cell_type": "code",
   "execution_count": 21,
   "id": "7d73f508",
   "metadata": {
    "scrolled": true
   },
   "outputs": [],
   "source": [
    "# Transform training data using pipeline\n",
    "train_set_X_prepared = full_pipeline.fit_transform(train_set_X)"
   ]
  },
  {
   "cell_type": "code",
   "execution_count": 22,
   "id": "a338467a",
   "metadata": {},
   "outputs": [
    {
     "data": {
      "text/plain": [
       "(205436, 18)"
      ]
     },
     "execution_count": 22,
     "metadata": {},
     "output_type": "execute_result"
    }
   ],
   "source": [
    "train_set_X_prepared.shape"
   ]
  },
  {
   "cell_type": "code",
   "execution_count": 23,
   "id": "e2e812ce",
   "metadata": {},
   "outputs": [
    {
     "data": {
      "text/plain": [
       "array([[ 0.39909861,  2.        ,  4.        , ...,  6.        ,\n",
       "         4.        ,  4.        ],\n",
       "       [-0.11151772,  7.        ,  4.        , ...,  9.        ,\n",
       "         0.        ,  6.        ],\n",
       "       [-1.43912018,  3.        ,  2.        , ...,  5.        ,\n",
       "         4.        ,  5.        ],\n",
       "       ...,\n",
       "       [-1.43912018,  3.        ,  2.        , ...,  5.        ,\n",
       "         4.        ,  5.        ],\n",
       "       [ 0.50122187,  5.        ,  1.        , ...,  6.        ,\n",
       "         4.        ,  0.        ],\n",
       "       [ 1.35224909,  4.        ,  1.        , ...,  1.        ,\n",
       "         4.        ,  4.        ]])"
      ]
     },
     "execution_count": 23,
     "metadata": {},
     "output_type": "execute_result"
    }
   ],
   "source": [
    "train_set_X_prepared"
   ]
  },
  {
   "cell_type": "code",
   "execution_count": 24,
   "id": "cf59d6c2",
   "metadata": {},
   "outputs": [],
   "source": [
    "# Transform testing data using pipeline\n",
    "X_test_prepared = full_pipeline.transform(test_set_X)"
   ]
  },
  {
   "cell_type": "code",
   "execution_count": 25,
   "id": "cb27999f",
   "metadata": {},
   "outputs": [
    {
     "data": {
      "text/plain": [
       "array([1., 1., 1., ..., 1., 1., 1.])"
      ]
     },
     "execution_count": 25,
     "metadata": {},
     "output_type": "execute_result"
    }
   ],
   "source": [
    "# Convert training labels to a NumPy array\n",
    "train_set_y = train_set_y.to_numpy()\n",
    "train_set_y"
   ]
  },
  {
   "cell_type": "code",
   "execution_count": 26,
   "id": "f0eb108c",
   "metadata": {},
   "outputs": [
    {
     "data": {
      "text/plain": [
       "array([1., 1., 1., ..., 1., 1., 1.])"
      ]
     },
     "execution_count": 26,
     "metadata": {},
     "output_type": "execute_result"
    }
   ],
   "source": [
    "# Convert testing labels to a NumPy array\n",
    "test_set_y = test_set_y.to_numpy()\n",
    "test_set_y"
   ]
  },
  {
   "cell_type": "markdown",
   "id": "892b956b",
   "metadata": {},
   "source": [
    "# Training a Binary Classifier"
   ]
  },
  {
   "cell_type": "code",
   "execution_count": 27,
   "id": "c81a328b",
   "metadata": {},
   "outputs": [
    {
     "data": {
      "text/plain": [
       "SGDClassifier(random_state=42)"
      ]
     },
     "execution_count": 27,
     "metadata": {},
     "output_type": "execute_result"
    }
   ],
   "source": [
    "# Fit a Stochastic Gradient Descent (SGD) classifier\n",
    "from sklearn.linear_model import SGDClassifier\n",
    "\n",
    "sgd_clf = SGDClassifier(max_iter=1000, tol=1e-3, random_state=42)\n",
    "sgd_clf.fit(train_set_X_prepared, train_set_y)"
   ]
  },
  {
   "cell_type": "code",
   "execution_count": 28,
   "id": "03eb1abf",
   "metadata": {},
   "outputs": [
    {
     "data": {
      "text/plain": [
       "array([1.])"
      ]
     },
     "execution_count": 28,
     "metadata": {},
     "output_type": "execute_result"
    }
   ],
   "source": [
    "# Use SGD to predict \"flag\" of a sample\n",
    "sgd_clf.predict([train_set_X_prepared[2]])"
   ]
  },
  {
   "cell_type": "markdown",
   "id": "3361c136",
   "metadata": {},
   "source": [
    "# Performance Measures"
   ]
  },
  {
   "cell_type": "markdown",
   "id": "f89b7269",
   "metadata": {},
   "source": [
    "## Measuring Accuracy Using Cross-Validation"
   ]
  },
  {
   "cell_type": "code",
   "execution_count": 29,
   "id": "fbf24ffd",
   "metadata": {},
   "outputs": [
    {
     "data": {
      "text/plain": [
       "array([0.88411046, 0.88411046, 0.88412337])"
      ]
     },
     "execution_count": 29,
     "metadata": {},
     "output_type": "execute_result"
    }
   ],
   "source": [
    "# Get scores from running the SGD model with cross-validation using cross_val_score function\n",
    "from sklearn.model_selection import cross_val_score\n",
    "cross_val_score(sgd_clf, train_set_X_prepared, train_set_y, cv=3, scoring=\"accuracy\")"
   ]
  },
  {
   "cell_type": "code",
   "execution_count": 30,
   "id": "c44bafae",
   "metadata": {},
   "outputs": [
    {
     "name": "stdout",
     "output_type": "stream",
     "text": [
      "0.8841104572204618\n",
      "0.8841104572204618\n",
      "0.8841233680890213\n"
     ]
    }
   ],
   "source": [
    "# For more control over the cross-validation process, implement cross-validation code step by step\n",
    "from sklearn.model_selection import StratifiedKFold\n",
    "from sklearn.base import clone\n",
    "\n",
    "skfolds = StratifiedKFold(n_splits=3, shuffle=True, random_state=42)\n",
    "\n",
    "for train_index, test_index in skfolds.split(train_set_X_prepared, train_set_y):\n",
    "    clone_clf = clone(sgd_clf)\n",
    "    X_train_folds = train_set_X_prepared[train_index]\n",
    "    y_train_folds = train_set_y[train_index]\n",
    "    X_test_fold = train_set_X_prepared[test_index]\n",
    "    y_test_fold = train_set_y[test_index]\n",
    "\n",
    "    clone_clf.fit(X_train_folds, y_train_folds)\n",
    "    y_pred = clone_clf.predict(X_test_fold)\n",
    "    n_correct = sum(y_pred == y_test_fold)\n",
    "    print(n_correct / len(y_pred))"
   ]
  },
  {
   "cell_type": "code",
   "execution_count": 31,
   "id": "72e6d24c",
   "metadata": {},
   "outputs": [
    {
     "data": {
      "text/plain": [
       "array([0.88411046, 0.88345332, 0.88478051])"
      ]
     },
     "execution_count": 31,
     "metadata": {},
     "output_type": "execute_result"
    }
   ],
   "source": [
    "# Show that high accuracy may be due to imbalanced (skewed) datasets\n",
    "\n",
    "# Set up a BaseEstimator that always predicts flag of '1.0' \n",
    "from sklearn.base import BaseEstimator\n",
    "\n",
    "class Always1Classifier(BaseEstimator): \n",
    "    def fit(self,X,y=None):\n",
    "        return self\n",
    "    def predict(self,X):\n",
    "        return np.ones(len(X))\n",
    "    \n",
    "always_1_clf = Always1Classifier()\n",
    "cross_val_score(always_1_clf,train_set_X_prepared,train_set_y, cv=3, scoring = 'accuracy')"
   ]
  },
  {
   "cell_type": "markdown",
   "id": "1dd1a4d5",
   "metadata": {},
   "source": [
    "## Confusion Matrix"
   ]
  },
  {
   "cell_type": "code",
   "execution_count": 32,
   "id": "44ff17b7",
   "metadata": {},
   "outputs": [],
   "source": [
    "# Get predictions (instead of scores above) for SGD model \n",
    "from sklearn.model_selection import cross_val_predict\n",
    "\n",
    "y_train_pred = cross_val_predict(sgd_clf, train_set_X_prepared, train_set_y, cv=3)"
   ]
  },
  {
   "cell_type": "code",
   "execution_count": 33,
   "id": "ff465683",
   "metadata": {},
   "outputs": [
    {
     "data": {
      "text/plain": [
       "array([[     1,  23806],\n",
       "       [     1, 181628]])"
      ]
     },
     "execution_count": 33,
     "metadata": {},
     "output_type": "execute_result"
    }
   ],
   "source": [
    "# Confusion matrix (row = true class, column = predicted class)\n",
    "from sklearn.metrics import confusion_matrix\n",
    "\n",
    "confusion_matrix(train_set_y, y_train_pred)"
   ]
  },
  {
   "cell_type": "markdown",
   "id": "de24b337",
   "metadata": {},
   "source": [
    "In our case, the first row is the class 'flag' = 0 and the second row is class 'flag' = 1. For both class, most of the samples were classified as 'flag' = 1 and only one sample was classified as 'flag' = 0. This suggests the model learned to classify almost everything as '1' due to the unbalanced dataset."
   ]
  },
  {
   "cell_type": "markdown",
   "id": "c856341b",
   "metadata": {},
   "source": [
    "## Precision and Recall"
   ]
  },
  {
   "cell_type": "code",
   "execution_count": 34,
   "id": "cf97dd8f",
   "metadata": {},
   "outputs": [
    {
     "data": {
      "text/plain": [
       "0.8841185003456098"
      ]
     },
     "execution_count": 34,
     "metadata": {},
     "output_type": "execute_result"
    }
   ],
   "source": [
    "# Compute precision metric\n",
    "from sklearn.metrics import precision_score, recall_score\n",
    "\n",
    "precision_score(train_set_y, y_train_pred, pos_label=1)"
   ]
  },
  {
   "cell_type": "code",
   "execution_count": 35,
   "id": "0e205a70",
   "metadata": {},
   "outputs": [
    {
     "data": {
      "text/plain": [
       "0.8841185003456098"
      ]
     },
     "execution_count": 35,
     "metadata": {},
     "output_type": "execute_result"
    }
   ],
   "source": [
    "# Check precision metric by calculating from confusion matrix\n",
    "cm = confusion_matrix(train_set_y, y_train_pred)\n",
    "cm[1, 1] / (cm[0, 1] + cm[1, 1])"
   ]
  },
  {
   "cell_type": "code",
   "execution_count": 36,
   "id": "72f0ca0f",
   "metadata": {},
   "outputs": [
    {
     "data": {
      "text/plain": [
       "0.9999944942712893"
      ]
     },
     "execution_count": 36,
     "metadata": {},
     "output_type": "execute_result"
    }
   ],
   "source": [
    "# Compute recall metric\n",
    "recall_score(train_set_y, y_train_pred, pos_label=1)"
   ]
  },
  {
   "cell_type": "code",
   "execution_count": 37,
   "id": "d9902923",
   "metadata": {},
   "outputs": [
    {
     "data": {
      "text/plain": [
       "0.9999944942712893"
      ]
     },
     "execution_count": 37,
     "metadata": {},
     "output_type": "execute_result"
    }
   ],
   "source": [
    "# Check recall metric by calculating from confusion matrix\n",
    "cm[1, 1] / (cm[1, 0] + cm[1, 1])"
   ]
  },
  {
   "cell_type": "code",
   "execution_count": 38,
   "id": "f430488d",
   "metadata": {},
   "outputs": [
    {
     "data": {
      "text/plain": [
       "0.938493216866505"
      ]
     },
     "execution_count": 38,
     "metadata": {},
     "output_type": "execute_result"
    }
   ],
   "source": [
    "# Compute F1 score which combines precision and recall metrics\n",
    "from sklearn.metrics import f1_score\n",
    "\n",
    "f1_score(train_set_y, y_train_pred, pos_label=1)"
   ]
  },
  {
   "cell_type": "code",
   "execution_count": 39,
   "id": "caa1de50",
   "metadata": {},
   "outputs": [
    {
     "data": {
      "text/plain": [
       "0.9384932168665049"
      ]
     },
     "execution_count": 39,
     "metadata": {},
     "output_type": "execute_result"
    }
   ],
   "source": [
    "# Check F1 score by calculating from confusion matrix\n",
    "cm[1, 1] / (cm[1, 1] + (cm[1, 0] + cm[0, 1]) / 2)"
   ]
  },
  {
   "cell_type": "markdown",
   "id": "1f17eb92",
   "metadata": {},
   "source": [
    "## Precision/Recall Trade-off"
   ]
  },
  {
   "cell_type": "code",
   "execution_count": 40,
   "id": "805e6992",
   "metadata": {},
   "outputs": [
    {
     "data": {
      "text/plain": [
       "array([0.97163006])"
      ]
     },
     "execution_count": 40,
     "metadata": {},
     "output_type": "execute_result"
    }
   ],
   "source": [
    "# Get score used by SGD model to make prediction for a random sample\n",
    "y_scores = sgd_clf.decision_function([train_set_X_prepared[546]])\n",
    "y_scores"
   ]
  },
  {
   "cell_type": "code",
   "execution_count": 41,
   "id": "cffe1d64",
   "metadata": {},
   "outputs": [
    {
     "data": {
      "text/plain": [
       "array([ True])"
      ]
     },
     "execution_count": 41,
     "metadata": {},
     "output_type": "execute_result"
    }
   ],
   "source": [
    "# Set the threshold to 0 (what the SGD classifer uses) and get prediction\n",
    "threshold = 0\n",
    "y_some_digit_pred = (y_scores > threshold)\n",
    "y_some_digit_pred"
   ]
  },
  {
   "cell_type": "code",
   "execution_count": 42,
   "id": "af62b76e",
   "metadata": {},
   "outputs": [
    {
     "data": {
      "text/plain": [
       "array([False])"
      ]
     },
     "execution_count": 42,
     "metadata": {},
     "output_type": "execute_result"
    }
   ],
   "source": [
    "# Set the threshold to 8000 and get prediction\n",
    "threshold = 8000\n",
    "y_some_digit_pred = (y_scores > threshold)\n",
    "y_some_digit_pred"
   ]
  },
  {
   "cell_type": "code",
   "execution_count": 43,
   "id": "6b6e26c0",
   "metadata": {},
   "outputs": [],
   "source": [
    "# Get all scores in training set\n",
    "y_scores = cross_val_predict(sgd_clf, train_set_X_prepared, train_set_y, cv=3,\n",
    "                             method=\"decision_function\")"
   ]
  },
  {
   "cell_type": "code",
   "execution_count": 44,
   "id": "6cbdbb9e",
   "metadata": {},
   "outputs": [],
   "source": [
    "# Compute precision and recall for all possible thresholds\n",
    "from sklearn.metrics import precision_recall_curve\n",
    "\n",
    "precisions, recalls, thresholds = precision_recall_curve(train_set_y, y_scores, pos_label=1)"
   ]
  },
  {
   "cell_type": "code",
   "execution_count": 45,
   "id": "fe62938c",
   "metadata": {},
   "outputs": [
    {
     "data": {
      "text/plain": [
       "0.2563797631435509"
      ]
     },
     "execution_count": 45,
     "metadata": {},
     "output_type": "execute_result"
    }
   ],
   "source": [
    "recalls[np.argmax(precisions >= 0.90)]"
   ]
  },
  {
   "cell_type": "code",
   "execution_count": 46,
   "id": "dc51b99f",
   "metadata": {
    "scrolled": true
   },
   "outputs": [],
   "source": [
    "def plot_precision_recall_vs_threshold(precisions, recalls, thresholds):\n",
    "    plt.plot(thresholds, precisions[:-1], \"b--\", label=\"Precision\", linewidth=2)\n",
    "    plt.plot(thresholds, recalls[:-1], \"g-\", label=\"Recall\", linewidth=2)\n",
    "    #plot specificiations (not shown in the HOML book)\n",
    "    plt.legend(loc=\"center right\", fontsize=16) \n",
    "    plt.xlabel(\"Threshold\", fontsize=16)        \n",
    "    plt.grid(True)                              \n",
    "    plt.axis([min(thresholds), max(thresholds), 0, 1])                                           "
   ]
  },
  {
   "cell_type": "code",
   "execution_count": 47,
   "id": "29f95bf6",
   "metadata": {},
   "outputs": [
    {
     "data": {
      "text/plain": [
       "0.2563797631435509"
      ]
     },
     "execution_count": 47,
     "metadata": {},
     "output_type": "execute_result"
    }
   ],
   "source": [
    "# Lowest recall that gives 90% precision\n",
    "recall_90_precision = recalls[np.argmax(precisions >= 0.90)] \n",
    "recall_90_precision"
   ]
  },
  {
   "cell_type": "code",
   "execution_count": 48,
   "id": "46811992",
   "metadata": {},
   "outputs": [
    {
     "data": {
      "text/plain": [
       "1.4165053991977394"
      ]
     },
     "execution_count": 48,
     "metadata": {},
     "output_type": "execute_result"
    }
   ],
   "source": [
    "# Lowest threshold that gives 90% precision\n",
    "threshold_90_precision = thresholds[np.argmax(precisions >= 0.90)]\n",
    "threshold_90_precision"
   ]
  },
  {
   "cell_type": "code",
   "execution_count": 49,
   "id": "bec3070d",
   "metadata": {},
   "outputs": [
    {
     "data": {
      "text/plain": [
       "[<matplotlib.lines.Line2D at 0x13b1c7b20>]"
      ]
     },
     "execution_count": 49,
     "metadata": {},
     "output_type": "execute_result"
    },
    {
     "data": {
      "image/png": "[encoded data removed]",
      "text/plain": [
       "<Figure size 576x288 with 1 Axes>"
      ]
     },
     "metadata": {
      "needs_background": "light"
     },
     "output_type": "display_data"
    }
   ],
   "source": [
    "# Plot precision vs recall graph\n",
    "plt.figure(figsize=(8, 4))                                                                  \n",
    "plot_precision_recall_vs_threshold(precisions, recalls, thresholds)\n",
    "    \n",
    "# Plot visual guide for 50% and 90% precision/recall (code not shown in book)\n",
    "plt.plot([threshold_90_precision, threshold_90_precision], [0., 0.9], \"r:\")               \n",
    "plt.plot([-50000, threshold_90_precision], [0.9, 0.9], \"r:\")                               \n",
    "plt.plot([-50000, threshold_90_precision], [recall_90_precision, recall_90_precision], \"r:\")\n",
    "plt.plot([threshold_90_precision], [0.9], \"ro\")                                            \n",
    "plt.plot([threshold_90_precision], [recall_90_precision], \"ro\")    \n",
    "                         \n",
    "#save_fig(\"precision_recall_vs_threshold_plot\")         "
   ]
  },
  {
   "cell_type": "code",
   "execution_count": 50,
   "id": "8b17808b",
   "metadata": {},
   "outputs": [
    {
     "data": {
      "image/png": "[encoded data removed]",
      "text/plain": [
       "<Figure size 576x432 with 1 Axes>"
      ]
     },
     "metadata": {
      "needs_background": "light"
     },
     "output_type": "display_data"
    }
   ],
   "source": [
    "# Plot precision directly against recall\n",
    "def plot_precision_vs_recall(precisions, recalls):\n",
    "    plt.plot(recalls, precisions, \"b-\", linewidth=2)\n",
    "    plt.xlabel(\"Recall\", fontsize=16)\n",
    "    plt.ylabel(\"Precision\", fontsize=16)\n",
    "    plt.axis([0, 1, 0, 1])\n",
    "    plt.grid(True)\n",
    "\n",
    "plt.figure(figsize=(8, 6))\n",
    "plot_precision_vs_recall(precisions, recalls)\n",
    "plt.plot([recall_90_precision, recall_90_precision], [0., 0.9], \"r:\")\n",
    "plt.plot([0.0, recall_90_precision], [0.9, 0.9], \"r:\")\n",
    "plt.plot([recall_90_precision], [0.9], \"ro\")\n",
    "#save_fig(\"precision_vs_recall_plot\")\n",
    "plt.show()"
   ]
  },
  {
   "cell_type": "code",
   "execution_count": 51,
   "id": "786e317d",
   "metadata": {},
   "outputs": [
    {
     "data": {
      "text/plain": [
       "array([ True,  True,  True, ...,  True,  True,  True])"
      ]
     },
     "execution_count": 51,
     "metadata": {},
     "output_type": "execute_result"
    }
   ],
   "source": [
    "(y_train_pred == (y_scores > 0))"
   ]
  },
  {
   "cell_type": "code",
   "execution_count": 52,
   "id": "b6c5e56f",
   "metadata": {},
   "outputs": [],
   "source": [
    "# Make predictions based on minimum threshold that gives 90% precision\n",
    "y_train_pred_90 = (y_scores >= threshold_90_precision)\n",
    "y_train_pred_90 = y_train_pred_90.astype('int')\n",
    "# y_train_90 = []\n",
    "# for item in y_train_pred_90:\n",
    "#     if item == 1:\n",
    "#         y_train_90.append(1)\n",
    "#     elif item == 0:\n",
    "#         y_train_90.append(0)"
   ]
  },
  {
   "cell_type": "code",
   "execution_count": 53,
   "id": "58611139",
   "metadata": {},
   "outputs": [
    {
     "data": {
      "text/plain": [
       "0.9"
      ]
     },
     "execution_count": 53,
     "metadata": {},
     "output_type": "execute_result"
    }
   ],
   "source": [
    "# Get precision\n",
    "precision_score(train_set_y, y_train_pred_90, pos_label=1)"
   ]
  },
  {
   "cell_type": "code",
   "execution_count": 54,
   "id": "2cf3c041",
   "metadata": {},
   "outputs": [
    {
     "data": {
      "text/plain": [
       "0.2563797631435509"
      ]
     },
     "execution_count": 54,
     "metadata": {},
     "output_type": "execute_result"
    }
   ],
   "source": [
    "recall_score(train_set_y, y_train_pred_90, pos_label=1)"
   ]
  },
  {
   "cell_type": "markdown",
   "id": "e5b8ed05",
   "metadata": {},
   "source": [
    "## The ROC Curve"
   ]
  },
  {
   "cell_type": "code",
   "execution_count": 55,
   "id": "2741ad98",
   "metadata": {},
   "outputs": [],
   "source": [
    "# Calculate false positive rates and true positive rates at different thresholds for SGD model\n",
    "from sklearn.metrics import roc_curve\n",
    "\n",
    "fpr, tpr, thresholds = roc_curve(train_set_y, y_scores, pos_label=1)"
   ]
  },
  {
   "cell_type": "code",
   "execution_count": 56,
   "id": "9b9687bc",
   "metadata": {},
   "outputs": [
    {
     "data": {
      "image/png": "[encoded data removed]",
      "text/plain": [
       "<Figure size 576x432 with 1 Axes>"
      ]
     },
     "metadata": {
      "needs_background": "light"
     },
     "output_type": "display_data"
    }
   ],
   "source": [
    "def plot_roc_curve(fpr, tpr, label=None):\n",
    "    plt.plot(fpr, tpr, linewidth=2, label=label)\n",
    "    plt.plot([0, 1], [0, 1], 'k--') #dashed diagonal\n",
    "    #plot specificiations (not shown in the HOML book)\n",
    "    plt.axis([0, 1, 0, 1])                                    \n",
    "    plt.xlabel('False Positive Rate (Fall-Out)', fontsize=16) \n",
    "    plt.ylabel('True Positive Rate (Recall)', fontsize=16)    \n",
    "    plt.grid(True)                                            \n",
    "\n",
    "plt.figure(figsize=(8, 6))                                   \n",
    "plot_roc_curve(fpr, tpr)\n",
    "\n",
    "# Plot visual guide of TPR and FPR at 90% precision (code not shown in book)\n",
    "fpr_90 = fpr[np.argmax(tpr >= recall_90_precision)] #find fpr corresponding to lowest recall that gives 90% precision       \n",
    "plt.plot([fpr_90, fpr_90], [0., recall_90_precision], \"r:\") \n",
    "plt.plot([0.0, fpr_90], [recall_90_precision, recall_90_precision], \"r:\") \n",
    "plt.plot([fpr_90], [recall_90_precision], \"ro\")           \n",
    "#save_fig(\"roc_curve_plot\")                               \n",
    "plt.show()"
   ]
  },
  {
   "cell_type": "code",
   "execution_count": 57,
   "id": "40501d6e",
   "metadata": {
    "scrolled": true
   },
   "outputs": [
    {
     "data": {
      "text/plain": [
       "0.5505729009055513"
      ]
     },
     "execution_count": 57,
     "metadata": {},
     "output_type": "execute_result"
    }
   ],
   "source": [
    "# Calculate AUC for SGD model\n",
    "from sklearn.metrics import roc_auc_score\n",
    "\n",
    "roc_auc_score(train_set_y, y_scores)"
   ]
  },
  {
   "cell_type": "markdown",
   "id": "9e3bc089",
   "metadata": {},
   "source": [
    "### Compare performance of SGD classifier with Random Forest classifier "
   ]
  },
  {
   "cell_type": "markdown",
   "id": "26b105ba",
   "metadata": {},
   "source": [
    "**Note**: we set `n_estimators=100` to be future-proof since this will be the default value in Scikit-Learn 0.22."
   ]
  },
  {
   "cell_type": "code",
   "execution_count": 58,
   "id": "9585e1e0",
   "metadata": {},
   "outputs": [],
   "source": [
    "# Get class probabilities using Random Forest\n",
    "from sklearn.ensemble import RandomForestClassifier\n",
    "forest_clf = RandomForestClassifier(n_estimators=100, random_state=42)\n",
    "y_probas_forest = cross_val_predict(forest_clf, train_set_X_prepared, train_set_y, cv=3,\n",
    "                                    method=\"predict_proba\")"
   ]
  },
  {
   "cell_type": "code",
   "execution_count": 59,
   "id": "8e74fad1",
   "metadata": {},
   "outputs": [],
   "source": [
    "# Use class probabilities to find FPR and TPR at different thresholds\n",
    "y_scores_forest = y_probas_forest[:, 1] #score = probability of positive class\n",
    "fpr_forest, tpr_forest, thresholds_forest = roc_curve(train_set_y,y_scores_forest, pos_label=1)"
   ]
  },
  {
   "cell_type": "code",
   "execution_count": 60,
   "id": "ca78249f",
   "metadata": {},
   "outputs": [
    {
     "data": {
      "image/png": "[encoded data removed]",
      "text/plain": [
       "<Figure size 576x432 with 1 Axes>"
      ]
     },
     "metadata": {
      "needs_background": "light"
     },
     "output_type": "display_data"
    }
   ],
   "source": [
    "# Compare Random Forest classifier TPR to the SGD classifer's TPR at the SGD classifer's FPR at 90% precision \n",
    "recall_for_forest = tpr_forest[np.argmax(fpr_forest >= fpr_90)]\n",
    "fpr_90 = fpr[np.argmax(tpr >= recall_90_precision)]\n",
    "\n",
    "\n",
    "# Plot random forest ROC curve on top of SGD classifer's ROC\n",
    "plt.figure(figsize=(8, 6))\n",
    "plt.plot(fpr, tpr, \"b:\", linewidth=2, label=\"SGD\")\n",
    "plot_roc_curve(fpr_forest, tpr_forest, \"Random Forest\")\n",
    "plt.plot([fpr_90, fpr_90], [0., recall_90_precision], \"r:\")\n",
    "plt.plot([0.0, fpr_90], [recall_90_precision, recall_90_precision], \"r:\")\n",
    "plt.plot([fpr_90], [recall_90_precision], \"ro\")\n",
    "plt.plot([fpr_90, fpr_90], [0., recall_for_forest], \"r:\")\n",
    "plt.plot([fpr_90], [recall_for_forest], \"ro\")\n",
    "plt.grid(True)\n",
    "plt.legend(loc=\"lower right\", fontsize=16)\n",
    "#save_fig(\"roc_curve_comparison_plot\")\n",
    "plt.show()"
   ]
  },
  {
   "cell_type": "code",
   "execution_count": 61,
   "id": "450b7426",
   "metadata": {},
   "outputs": [
    {
     "data": {
      "text/plain": [
       "0.6513689581630975"
      ]
     },
     "execution_count": 61,
     "metadata": {},
     "output_type": "execute_result"
    }
   ],
   "source": [
    "# AUC score\n",
    "roc_auc_score(train_set_y, y_scores_forest)"
   ]
  },
  {
   "cell_type": "code",
   "execution_count": 62,
   "id": "58078050",
   "metadata": {},
   "outputs": [
    {
     "data": {
      "text/plain": [
       "0.8871488385658426"
      ]
     },
     "execution_count": 62,
     "metadata": {},
     "output_type": "execute_result"
    }
   ],
   "source": [
    "# Make predictions and calculate precision\n",
    "y_train_pred_forest = cross_val_predict(forest_clf, train_set_X_prepared, train_set_y, cv=3)\n",
    "precision_score(train_set_y, y_train_pred_forest, pos_label=1)"
   ]
  },
  {
   "cell_type": "code",
   "execution_count": 63,
   "id": "f7f6a086",
   "metadata": {},
   "outputs": [
    {
     "data": {
      "text/plain": [
       "0.9880800973412837"
      ]
     },
     "execution_count": 63,
     "metadata": {},
     "output_type": "execute_result"
    }
   ],
   "source": [
    "# Calculate rcall \n",
    "recall_score(train_set_y, y_train_pred_forest, pos_label=1)"
   ]
  },
  {
   "cell_type": "markdown",
   "id": "5ea0990b",
   "metadata": {},
   "source": [
    "# Multiclass Classification"
   ]
  },
  {
   "cell_type": "code",
   "execution_count": 64,
   "id": "6c6303a5",
   "metadata": {},
   "outputs": [
    {
     "data": {
      "text/html": [
       "<div>\n",
       "<style scoped>\n",
       "    .dataframe tbody tr th:only-of-type {\n",
       "        vertical-align: middle;\n",
       "    }\n",
       "\n",
       "    .dataframe tbody tr th {\n",
       "        vertical-align: top;\n",
       "    }\n",
       "\n",
       "    .dataframe thead th {\n",
       "        text-align: right;\n",
       "    }\n",
       "</style>\n",
       "<table border=\"1\" class=\"dataframe\">\n",
       "  <thead>\n",
       "    <tr style=\"text-align: right;\">\n",
       "      <th></th>\n",
       "      <th>admission_type</th>\n",
       "      <th>admission_location</th>\n",
       "      <th>discharge_location</th>\n",
       "      <th>insurance</th>\n",
       "      <th>language</th>\n",
       "      <th>marital_status</th>\n",
       "      <th>ethnicity</th>\n",
       "      <th>hospital_expire_flag</th>\n",
       "      <th>los_admission</th>\n",
       "      <th>gender</th>\n",
       "      <th>...</th>\n",
       "      <th>flag</th>\n",
       "      <th>priority</th>\n",
       "      <th>drg_type</th>\n",
       "      <th>drg_code</th>\n",
       "      <th>drug</th>\n",
       "      <th>route</th>\n",
       "      <th>org_name</th>\n",
       "      <th>test_name</th>\n",
       "      <th>ab_name</th>\n",
       "      <th>curr_service</th>\n",
       "    </tr>\n",
       "  </thead>\n",
       "  <tbody>\n",
       "    <tr>\n",
       "      <th>0</th>\n",
       "      <td>ELECTIVE</td>\n",
       "      <td>Other</td>\n",
       "      <td>HOME</td>\n",
       "      <td>Other</td>\n",
       "      <td>ENGLISH</td>\n",
       "      <td>Other</td>\n",
       "      <td>WHITE</td>\n",
       "      <td>0.0</td>\n",
       "      <td>1.968056</td>\n",
       "      <td>M</td>\n",
       "      <td>...</td>\n",
       "      <td>1.0</td>\n",
       "      <td>STAT</td>\n",
       "      <td>HCFA</td>\n",
       "      <td>795.0</td>\n",
       "      <td>Other</td>\n",
       "      <td>IM</td>\n",
       "      <td>None</td>\n",
       "      <td>Blood Culture, Routine</td>\n",
       "      <td>None</td>\n",
       "      <td>5</td>\n",
       "    </tr>\n",
       "    <tr>\n",
       "      <th>1</th>\n",
       "      <td>EW EMER.</td>\n",
       "      <td>EMERGENCY ROOM</td>\n",
       "      <td>HOME</td>\n",
       "      <td>Medicaid</td>\n",
       "      <td>ENGLISH</td>\n",
       "      <td>WIDOWED</td>\n",
       "      <td>WHITE</td>\n",
       "      <td>0.0</td>\n",
       "      <td>2.222222</td>\n",
       "      <td>F</td>\n",
       "      <td>...</td>\n",
       "      <td>0.0</td>\n",
       "      <td>ROUTINE</td>\n",
       "      <td>HCFA</td>\n",
       "      <td>442.0</td>\n",
       "      <td>Influenza Vaccine Quadrivalent</td>\n",
       "      <td>IM</td>\n",
       "      <td>None</td>\n",
       "      <td>Other</td>\n",
       "      <td>None</td>\n",
       "      <td>4</td>\n",
       "    </tr>\n",
       "    <tr>\n",
       "      <th>2</th>\n",
       "      <td>ELECTIVE</td>\n",
       "      <td>Other</td>\n",
       "      <td>HOME</td>\n",
       "      <td>Other</td>\n",
       "      <td>ENGLISH</td>\n",
       "      <td>Other</td>\n",
       "      <td>ASIAN</td>\n",
       "      <td>0.0</td>\n",
       "      <td>1.865278</td>\n",
       "      <td>F</td>\n",
       "      <td>...</td>\n",
       "      <td>1.0</td>\n",
       "      <td>STAT</td>\n",
       "      <td>HCFA</td>\n",
       "      <td>795.0</td>\n",
       "      <td>Erythromycin 0.5% Ophth Oint</td>\n",
       "      <td>BOTH EYES</td>\n",
       "      <td>None</td>\n",
       "      <td>Other</td>\n",
       "      <td>None</td>\n",
       "      <td>5</td>\n",
       "    </tr>\n",
       "    <tr>\n",
       "      <th>3</th>\n",
       "      <td>EU OBSERVATION</td>\n",
       "      <td>EMERGENCY ROOM</td>\n",
       "      <td>Other</td>\n",
       "      <td>Other</td>\n",
       "      <td>ENGLISH</td>\n",
       "      <td>SINGLE</td>\n",
       "      <td>WHITE</td>\n",
       "      <td>0.0</td>\n",
       "      <td>0.298611</td>\n",
       "      <td>F</td>\n",
       "      <td>...</td>\n",
       "      <td>1.0</td>\n",
       "      <td>OTHER</td>\n",
       "      <td>OTHER</td>\n",
       "      <td>0.0</td>\n",
       "      <td>None</td>\n",
       "      <td>None</td>\n",
       "      <td>None</td>\n",
       "      <td>None</td>\n",
       "      <td>None</td>\n",
       "      <td>4</td>\n",
       "    </tr>\n",
       "    <tr>\n",
       "      <th>4</th>\n",
       "      <td>ELECTIVE</td>\n",
       "      <td>Other</td>\n",
       "      <td>HOME</td>\n",
       "      <td>Other</td>\n",
       "      <td>ENGLISH</td>\n",
       "      <td>Other</td>\n",
       "      <td>WHITE</td>\n",
       "      <td>0.0</td>\n",
       "      <td>4.109722</td>\n",
       "      <td>M</td>\n",
       "      <td>...</td>\n",
       "      <td>1.0</td>\n",
       "      <td>STAT</td>\n",
       "      <td>HCFA</td>\n",
       "      <td>795.0</td>\n",
       "      <td>Erythromycin 0.5% Ophth Oint</td>\n",
       "      <td>BOTH EYES</td>\n",
       "      <td>None</td>\n",
       "      <td>None</td>\n",
       "      <td>None</td>\n",
       "      <td>5</td>\n",
       "    </tr>\n",
       "  </tbody>\n",
       "</table>\n",
       "<p>5 rows × 22 columns</p>\n",
       "</div>"
      ],
      "text/plain": [
       "   admission_type admission_location discharge_location insurance language  \\\n",
       "0        ELECTIVE              Other               HOME     Other  ENGLISH   \n",
       "1        EW EMER.     EMERGENCY ROOM               HOME  Medicaid  ENGLISH   \n",
       "2        ELECTIVE              Other               HOME     Other  ENGLISH   \n",
       "3  EU OBSERVATION     EMERGENCY ROOM              Other     Other  ENGLISH   \n",
       "4        ELECTIVE              Other               HOME     Other  ENGLISH   \n",
       "\n",
       "  marital_status ethnicity  hospital_expire_flag  los_admission gender  ...  \\\n",
       "0          Other     WHITE                   0.0       1.968056      M  ...   \n",
       "1        WIDOWED     WHITE                   0.0       2.222222      F  ...   \n",
       "2          Other     ASIAN                   0.0       1.865278      F  ...   \n",
       "3         SINGLE     WHITE                   0.0       0.298611      F  ...   \n",
       "4          Other     WHITE                   0.0       4.109722      M  ...   \n",
       "\n",
       "   flag priority  drg_type drg_code                            drug  \\\n",
       "0   1.0     STAT      HCFA    795.0                           Other   \n",
       "1   0.0  ROUTINE      HCFA    442.0  Influenza Vaccine Quadrivalent   \n",
       "2   1.0     STAT      HCFA    795.0    Erythromycin 0.5% Ophth Oint   \n",
       "3   1.0    OTHER     OTHER      0.0                            None   \n",
       "4   1.0     STAT      HCFA    795.0    Erythromycin 0.5% Ophth Oint   \n",
       "\n",
       "       route org_name               test_name ab_name curr_service  \n",
       "0         IM     None  Blood Culture, Routine    None            5  \n",
       "1         IM     None                   Other    None            4  \n",
       "2  BOTH EYES     None                   Other    None            5  \n",
       "3       None     None                    None    None            4  \n",
       "4  BOTH EYES     None                    None    None            5  \n",
       "\n",
       "[5 rows x 22 columns]"
      ]
     },
     "execution_count": 64,
     "metadata": {},
     "output_type": "execute_result"
    }
   ],
   "source": [
    "# Use LabelEncoder to converting 'curr_service' column to numerical values\n",
    "from sklearn.preprocessing import LabelEncoder\n",
    "\n",
    "le = LabelEncoder()\n",
    "df.curr_service = le.fit_transform(df.curr_service)\n",
    "df.head()"
   ]
  },
  {
   "cell_type": "code",
   "execution_count": 65,
   "id": "210ca6db",
   "metadata": {},
   "outputs": [
    {
     "data": {
      "text/plain": [
       "4     88405\n",
       "5     59972\n",
       "14    17386\n",
       "0     15344\n",
       "10    13681\n",
       "8     10748\n",
       "6     10447\n",
       "7      7448\n",
       "1      5621\n",
       "15     5071\n",
       "9      4948\n",
       "17     3452\n",
       "3      3336\n",
       "13     2545\n",
       "12     2534\n",
       "2      2415\n",
       "16     2019\n",
       "11     1424\n",
       "Name: curr_service, dtype: int64"
      ]
     },
     "execution_count": 65,
     "metadata": {},
     "output_type": "execute_result"
    }
   ],
   "source": [
    "df.curr_service.value_counts()"
   ]
  },
  {
   "cell_type": "code",
   "execution_count": 66,
   "id": "f7015cfa",
   "metadata": {},
   "outputs": [
    {
     "data": {
      "text/plain": [
       "['admission_type',\n",
       " 'admission_location',\n",
       " 'discharge_location',\n",
       " 'insurance',\n",
       " 'language',\n",
       " 'marital_status',\n",
       " 'ethnicity',\n",
       " 'gender',\n",
       " 'eventtype',\n",
       " 'priority',\n",
       " 'drg_type',\n",
       " 'drug',\n",
       " 'route',\n",
       " 'org_name',\n",
       " 'test_name',\n",
       " 'ab_name']"
      ]
     },
     "execution_count": 66,
     "metadata": {},
     "output_type": "execute_result"
    }
   ],
   "source": [
    "categorical_columns = df.select_dtypes(include=['string']).columns.tolist()\n",
    "categorical_columns"
   ]
  },
  {
   "cell_type": "code",
   "execution_count": 67,
   "id": "66ed6c87",
   "metadata": {},
   "outputs": [
    {
     "data": {
      "text/plain": [
       "['los_admission', 'anchor_age']"
      ]
     },
     "execution_count": 67,
     "metadata": {},
     "output_type": "execute_result"
    }
   ],
   "source": [
    "numerical_columns = df.select_dtypes(exclude=['string']).columns.tolist()[1:3]\n",
    "numerical_columns"
   ]
  },
  {
   "cell_type": "code",
   "execution_count": 68,
   "id": "ae039176",
   "metadata": {},
   "outputs": [],
   "source": [
    "# Run data through preprocessing pipeline \n",
    "num_attribs = numerical_columns\n",
    "cat_attribs = categorical_columns\n",
    "\n",
    "full_pipeline = ColumnTransformer([\n",
    "        (\"num\", num_pipeline, num_attribs),\n",
    "        (\"cat\", OrdinalEncoder(), cat_attribs),\n",
    "    ])"
   ]
  },
  {
   "cell_type": "code",
   "execution_count": 69,
   "id": "64e26450",
   "metadata": {},
   "outputs": [],
   "source": [
    "# Split into training and testing set\n",
    "from sklearn.model_selection import StratifiedShuffleSplit\n",
    "\n",
    "split = StratifiedShuffleSplit(n_splits=1, test_size=0.2, random_state=42)\n",
    "for train_index, test_index in split.split(df, df[\"curr_service\"]):\n",
    "    strat_train_set = df.loc[train_index]\n",
    "    strat_test_set = df.loc[test_index]"
   ]
  },
  {
   "cell_type": "code",
   "execution_count": 70,
   "id": "eadb93a7",
   "metadata": {},
   "outputs": [],
   "source": [
    "# Separate features from labels\n",
    "train_set_X = strat_train_set.drop(\"curr_service\", axis = 1)\n",
    "train_set_y = strat_train_set[\"curr_service\"].to_numpy()\n",
    "\n",
    "test_set_X = strat_test_set.drop(\"curr_service\", axis = 1)\n",
    "test_set_y = strat_test_set[\"curr_service\"].to_numpy()"
   ]
  },
  {
   "cell_type": "code",
   "execution_count": 71,
   "id": "04749269",
   "metadata": {},
   "outputs": [],
   "source": [
    "# Feed training and testing data through pipeline\n",
    "train_set_X_prepared = full_pipeline.fit_transform(train_set_X)\n",
    "test_set_X_prepared = full_pipeline.fit_transform(test_set_X)"
   ]
  },
  {
   "cell_type": "code",
   "execution_count": 72,
   "id": "fd3dab48",
   "metadata": {},
   "outputs": [],
   "source": [
    "# Use an SVM classifier with One vs. Rest (OvR) strategy\n",
    "from sklearn.svm import SVC\n",
    "from sklearn.multiclass import OneVsRestClassifier"
   ]
  },
  {
   "cell_type": "code",
   "execution_count": 73,
   "id": "569123e7",
   "metadata": {},
   "outputs": [
    {
     "data": {
      "text/plain": [
       "OneVsRestClassifier(estimator=SVC(gamma='auto', random_state=42))"
      ]
     },
     "execution_count": 73,
     "metadata": {},
     "output_type": "execute_result"
    }
   ],
   "source": [
    "# Train classifier\n",
    "ovr_clf = OneVsRestClassifier(SVC(gamma=\"auto\", random_state=42))\n",
    "ovr_clf.fit(train_set_X_prepared[:1000], train_set_y[:1000])"
   ]
  },
  {
   "cell_type": "code",
   "execution_count": 74,
   "id": "62780eb0",
   "metadata": {},
   "outputs": [
    {
     "data": {
      "text/plain": [
       "array([0])"
      ]
     },
     "execution_count": 74,
     "metadata": {},
     "output_type": "execute_result"
    }
   ],
   "source": [
    "# Make prediction for sample at a random index\n",
    "ovr_clf.predict([train_set_X_prepared[52]])"
   ]
  },
  {
   "cell_type": "code",
   "execution_count": 75,
   "id": "8ffcbdb3",
   "metadata": {},
   "outputs": [
    {
     "data": {
      "text/plain": [
       "18"
      ]
     },
     "execution_count": 75,
     "metadata": {},
     "output_type": "execute_result"
    }
   ],
   "source": [
    "# Get the number of classifiers run using the OvR strategy (equal to number of output classes)\n",
    "len(ovr_clf.estimators_)"
   ]
  },
  {
   "cell_type": "code",
   "execution_count": 76,
   "id": "d40c6b57",
   "metadata": {},
   "outputs": [
    {
     "data": {
      "text/plain": [
       "array([4])"
      ]
     },
     "execution_count": 76,
     "metadata": {},
     "output_type": "execute_result"
    }
   ],
   "source": [
    "# Train SGD model and make prediction for sample at random index\n",
    "sgd_clf.fit(train_set_X_prepared, train_set_y)\n",
    "sgd_clf.predict([train_set_X_prepared[52]])"
   ]
  },
  {
   "cell_type": "code",
   "execution_count": 77,
   "id": "2f4a2730",
   "metadata": {},
   "outputs": [
    {
     "data": {
      "text/plain": [
       "0"
      ]
     },
     "execution_count": 77,
     "metadata": {},
     "output_type": "execute_result"
    }
   ],
   "source": [
    "# See if the prediction is correct\n",
    "train_set_y[52]"
   ]
  },
  {
   "cell_type": "code",
   "execution_count": 78,
   "id": "d972df64",
   "metadata": {},
   "outputs": [
    {
     "data": {
      "text/plain": [
       "array([[ -1.29231241,  -1.98639279,  -1.96803049,  -1.84167022,\n",
       "         -0.47202684, -20.01948937,  -0.83815541,  -1.44884151,\n",
       "         -8.49072951,  -1.1501844 ,  -1.68792577,  -2.79300838,\n",
       "         -1.57665861,  -4.35431812,  -1.4202394 ,  -1.5888321 ,\n",
       "         -2.05043652,  -1.73817895]])"
      ]
     },
     "execution_count": 78,
     "metadata": {},
     "output_type": "execute_result"
    }
   ],
   "source": [
    "# Get the scores used by SGD classifier to make prediction on one sample\n",
    "sgd_clf.decision_function([train_set_X_prepared[52]])"
   ]
  },
  {
   "cell_type": "code",
   "execution_count": 79,
   "id": "06f7c8f4",
   "metadata": {},
   "outputs": [
    {
     "data": {
      "text/plain": [
       "array([0.57953533, 0.59190409, 0.47910278])"
      ]
     },
     "execution_count": 79,
     "metadata": {},
     "output_type": "execute_result"
    }
   ],
   "source": [
    "# Get accuracy of SGD classifier with 3-fold cross-validation\n",
    "cross_val_score(sgd_clf, train_set_X_prepared, train_set_y, cv=3, scoring=\"accuracy\")"
   ]
  },
  {
   "cell_type": "markdown",
   "id": "b1151b32",
   "metadata": {},
   "source": [
    "# Error Analysis"
   ]
  },
  {
   "cell_type": "code",
   "execution_count": 80,
   "id": "f6dd6eb2",
   "metadata": {},
   "outputs": [
    {
     "data": {
      "text/plain": [
       "array([[   17,   471,   649,     5,  7611,     3,     1,  2395,    86,\n",
       "            2,     1,     3,    31,     1,   569,   110,   315,     5],\n",
       "       [    5,   844,   563,     0,  1356,     4,     0,  1151,    40,\n",
       "            1,     6,     2,    20,     1,   311,    39,   151,     3],\n",
       "       [    1,    69,   457,     2,   775,     0,     0,   338,    11,\n",
       "            0,     1,     0,     8,     0,   120,    13,   137,     0],\n",
       "       [    0,    43,   150,    14,  1115,    22,     1,   449,   126,\n",
       "            0,     1,     0,    21,     1,   551,    57,   118,     0],\n",
       "       [  104,  1133,  1648,    21, 54162,    74,     6,  8691,   879,\n",
       "           25,     7,    33,   165,   127,  2046,   719,   881,     3],\n",
       "       [    0,     0,     4,     0,     9, 47858,     0,    30,    29,\n",
       "            0,     0,     6,     1,     7,     4,    25,     4,     0],\n",
       "       [    3,   175,   357,     3,  5588,     9,     1,  1478,   162,\n",
       "            4,     1,     4,    21,     8,   275,   163,   106,     0],\n",
       "       [   11,   191,   437,     6,  2832,    15,     0,  1302,    77,\n",
       "            4,    15,     0,    22,     2,   786,   121,   137,     0],\n",
       "       [    0,    33,    54,     5,  1185,    24,     2,   444,  6087,\n",
       "            2,     0,     0,    50,     8,   452,   177,    75,     0],\n",
       "       [    9,   145,   171,    10,  2220,    32,     1,   722,    16,\n",
       "            8,     2,     2,    15,     3,   316,    72,   213,     1],\n",
       "       [    4,   474,   987,    13,  4415,    17,     0,  2449,   138,\n",
       "            0,   100,     6,    36,    15,  1747,   161,   383,     0],\n",
       "       [    0,    12,    47,     1,   210,   378,     0,   124,   151,\n",
       "            1,     0,    53,     5,     0,    97,    31,    29,     0],\n",
       "       [    0,    42,   100,     9,   732,     5,     0,   420,    28,\n",
       "            0,     8,     0,    17,     3,   532,    29,   102,     0],\n",
       "       [    0,    19,    51,     2,  1238,     1,     1,   354,   112,\n",
       "            2,     0,     0,    12,    93,    47,    62,    42,     0],\n",
       "       [   13,   406,   914,    23,  6919,    39,     1,  2685,   225,\n",
       "            7,    16,     9,    61,     8,  1734,   289,   559,     1],\n",
       "       [    8,    74,   134,     1,  2635,     4,     0,   826,    61,\n",
       "            2,     0,     4,     2,     9,    81,   184,    31,     1],\n",
       "       [    1,    81,   120,     3,   570,     1,     0,   352,    16,\n",
       "            2,     5,     0,     8,     0,   336,    25,    95,     0],\n",
       "       [    4,   133,   188,     0,  1548,     3,     0,   490,     9,\n",
       "            3,     5,     0,     8,     0,   215,    18,   137,     1]])"
      ]
     },
     "execution_count": 80,
     "metadata": {},
     "output_type": "execute_result"
    }
   ],
   "source": [
    "# Get predictions of SGD classifier and calculate confusion matrix\n",
    "y_train_pred = cross_val_predict(sgd_clf, train_set_X_prepared, train_set_y, cv=3)\n",
    "conf_mx = confusion_matrix(train_set_y, y_train_pred)\n",
    "conf_mx"
   ]
  },
  {
   "cell_type": "code",
   "execution_count": 81,
   "id": "b55f5ecc",
   "metadata": {
    "scrolled": true
   },
   "outputs": [
    {
     "data": {
      "image/png": "[encoded data removed]",
      "text/plain": [
       "<Figure size 288x288 with 1 Axes>"
      ]
     },
     "metadata": {
      "needs_background": "light"
     },
     "output_type": "display_data"
    }
   ],
   "source": [
    "# Plot confusion matrix in grayscale with lighter colors representing higher values\n",
    "plt.matshow(conf_mx,cmap=plt.cm.gray)\n",
    "plt.show()"
   ]
  },
  {
   "cell_type": "code",
   "execution_count": 82,
   "id": "3472accb",
   "metadata": {},
   "outputs": [
    {
     "data": {
      "text/plain": [
       "<matplotlib.image.AxesImage at 0x13c4ec670>"
      ]
     },
     "execution_count": 82,
     "metadata": {},
     "output_type": "execute_result"
    },
    {
     "data": {
      "image/png": "[encoded data removed]",
      "text/plain": [
       "<Figure size 288x288 with 1 Axes>"
      ]
     },
     "metadata": {
      "needs_background": "light"
     },
     "output_type": "display_data"
    }
   ],
   "source": [
    "# Plot error rates in grayscale\n",
    "row_sums = conf_mx.sum(axis=1, keepdims=True)\n",
    "norm_conf_mx = conf_mx/row_sums #convert absolute error to error rate\n",
    "np.fill_diagonal(norm_conf_mx,0) #fill diagonal with zeros \n",
    "plt.matshow(norm_conf_mx, cmap=plt.cm.gray)"
   ]
  },
  {
   "cell_type": "code",
   "execution_count": 83,
   "id": "e2ecfabe",
   "metadata": {},
   "outputs": [],
   "source": [
    "from sklearn.metrics import ConfusionMatrixDisplay"
   ]
  },
  {
   "cell_type": "code",
   "execution_count": 84,
   "id": "f7648938",
   "metadata": {},
   "outputs": [
    {
     "data": {
      "image/png": "[encoded data removed]",
      "text/plain": [
       "<Figure size 720x720 with 2 Axes>"
      ]
     },
     "metadata": {
      "needs_background": "light"
     },
     "output_type": "display_data"
    }
   ],
   "source": [
    "# Plot confusion matrix \n",
    "fig, ax = plt.subplots(figsize=(10,10))\n",
    "conf_mx_plot = ConfusionMatrixDisplay.from_estimator(sgd_clf, train_set_X_prepared, train_set_y, ax=ax)"
   ]
  },
  {
   "cell_type": "markdown",
   "id": "b9182528",
   "metadata": {},
   "source": [
    "# Multilabel Multioutput Classification\n",
    "\n",
    "### Use \"flag\" and \"curr_service\" as multilabel classes"
   ]
  },
  {
   "cell_type": "code",
   "execution_count": 85,
   "id": "939a19cb",
   "metadata": {},
   "outputs": [],
   "source": [
    "df.flag = le.fit_transform(df.flag)"
   ]
  },
  {
   "cell_type": "code",
   "execution_count": 86,
   "id": "2cbf64f3",
   "metadata": {},
   "outputs": [
    {
     "data": {
      "text/html": [
       "<div>\n",
       "<style scoped>\n",
       "    .dataframe tbody tr th:only-of-type {\n",
       "        vertical-align: middle;\n",
       "    }\n",
       "\n",
       "    .dataframe tbody tr th {\n",
       "        vertical-align: top;\n",
       "    }\n",
       "\n",
       "    .dataframe thead th {\n",
       "        text-align: right;\n",
       "    }\n",
       "</style>\n",
       "<table border=\"1\" class=\"dataframe\">\n",
       "  <thead>\n",
       "    <tr style=\"text-align: right;\">\n",
       "      <th></th>\n",
       "      <th>admission_type</th>\n",
       "      <th>admission_location</th>\n",
       "      <th>discharge_location</th>\n",
       "      <th>insurance</th>\n",
       "      <th>language</th>\n",
       "      <th>marital_status</th>\n",
       "      <th>ethnicity</th>\n",
       "      <th>hospital_expire_flag</th>\n",
       "      <th>los_admission</th>\n",
       "      <th>gender</th>\n",
       "      <th>...</th>\n",
       "      <th>flag</th>\n",
       "      <th>priority</th>\n",
       "      <th>drg_type</th>\n",
       "      <th>drg_code</th>\n",
       "      <th>drug</th>\n",
       "      <th>route</th>\n",
       "      <th>org_name</th>\n",
       "      <th>test_name</th>\n",
       "      <th>ab_name</th>\n",
       "      <th>curr_service</th>\n",
       "    </tr>\n",
       "  </thead>\n",
       "  <tbody>\n",
       "    <tr>\n",
       "      <th>0</th>\n",
       "      <td>ELECTIVE</td>\n",
       "      <td>Other</td>\n",
       "      <td>HOME</td>\n",
       "      <td>Other</td>\n",
       "      <td>ENGLISH</td>\n",
       "      <td>Other</td>\n",
       "      <td>WHITE</td>\n",
       "      <td>0.0</td>\n",
       "      <td>1.968056</td>\n",
       "      <td>M</td>\n",
       "      <td>...</td>\n",
       "      <td>1</td>\n",
       "      <td>STAT</td>\n",
       "      <td>HCFA</td>\n",
       "      <td>795.0</td>\n",
       "      <td>Other</td>\n",
       "      <td>IM</td>\n",
       "      <td>None</td>\n",
       "      <td>Blood Culture, Routine</td>\n",
       "      <td>None</td>\n",
       "      <td>5</td>\n",
       "    </tr>\n",
       "    <tr>\n",
       "      <th>1</th>\n",
       "      <td>EW EMER.</td>\n",
       "      <td>EMERGENCY ROOM</td>\n",
       "      <td>HOME</td>\n",
       "      <td>Medicaid</td>\n",
       "      <td>ENGLISH</td>\n",
       "      <td>WIDOWED</td>\n",
       "      <td>WHITE</td>\n",
       "      <td>0.0</td>\n",
       "      <td>2.222222</td>\n",
       "      <td>F</td>\n",
       "      <td>...</td>\n",
       "      <td>0</td>\n",
       "      <td>ROUTINE</td>\n",
       "      <td>HCFA</td>\n",
       "      <td>442.0</td>\n",
       "      <td>Influenza Vaccine Quadrivalent</td>\n",
       "      <td>IM</td>\n",
       "      <td>None</td>\n",
       "      <td>Other</td>\n",
       "      <td>None</td>\n",
       "      <td>4</td>\n",
       "    </tr>\n",
       "    <tr>\n",
       "      <th>2</th>\n",
       "      <td>ELECTIVE</td>\n",
       "      <td>Other</td>\n",
       "      <td>HOME</td>\n",
       "      <td>Other</td>\n",
       "      <td>ENGLISH</td>\n",
       "      <td>Other</td>\n",
       "      <td>ASIAN</td>\n",
       "      <td>0.0</td>\n",
       "      <td>1.865278</td>\n",
       "      <td>F</td>\n",
       "      <td>...</td>\n",
       "      <td>1</td>\n",
       "      <td>STAT</td>\n",
       "      <td>HCFA</td>\n",
       "      <td>795.0</td>\n",
       "      <td>Erythromycin 0.5% Ophth Oint</td>\n",
       "      <td>BOTH EYES</td>\n",
       "      <td>None</td>\n",
       "      <td>Other</td>\n",
       "      <td>None</td>\n",
       "      <td>5</td>\n",
       "    </tr>\n",
       "    <tr>\n",
       "      <th>3</th>\n",
       "      <td>EU OBSERVATION</td>\n",
       "      <td>EMERGENCY ROOM</td>\n",
       "      <td>Other</td>\n",
       "      <td>Other</td>\n",
       "      <td>ENGLISH</td>\n",
       "      <td>SINGLE</td>\n",
       "      <td>WHITE</td>\n",
       "      <td>0.0</td>\n",
       "      <td>0.298611</td>\n",
       "      <td>F</td>\n",
       "      <td>...</td>\n",
       "      <td>1</td>\n",
       "      <td>OTHER</td>\n",
       "      <td>OTHER</td>\n",
       "      <td>0.0</td>\n",
       "      <td>None</td>\n",
       "      <td>None</td>\n",
       "      <td>None</td>\n",
       "      <td>None</td>\n",
       "      <td>None</td>\n",
       "      <td>4</td>\n",
       "    </tr>\n",
       "    <tr>\n",
       "      <th>4</th>\n",
       "      <td>ELECTIVE</td>\n",
       "      <td>Other</td>\n",
       "      <td>HOME</td>\n",
       "      <td>Other</td>\n",
       "      <td>ENGLISH</td>\n",
       "      <td>Other</td>\n",
       "      <td>WHITE</td>\n",
       "      <td>0.0</td>\n",
       "      <td>4.109722</td>\n",
       "      <td>M</td>\n",
       "      <td>...</td>\n",
       "      <td>1</td>\n",
       "      <td>STAT</td>\n",
       "      <td>HCFA</td>\n",
       "      <td>795.0</td>\n",
       "      <td>Erythromycin 0.5% Ophth Oint</td>\n",
       "      <td>BOTH EYES</td>\n",
       "      <td>None</td>\n",
       "      <td>None</td>\n",
       "      <td>None</td>\n",
       "      <td>5</td>\n",
       "    </tr>\n",
       "  </tbody>\n",
       "</table>\n",
       "<p>5 rows × 22 columns</p>\n",
       "</div>"
      ],
      "text/plain": [
       "   admission_type admission_location discharge_location insurance language  \\\n",
       "0        ELECTIVE              Other               HOME     Other  ENGLISH   \n",
       "1        EW EMER.     EMERGENCY ROOM               HOME  Medicaid  ENGLISH   \n",
       "2        ELECTIVE              Other               HOME     Other  ENGLISH   \n",
       "3  EU OBSERVATION     EMERGENCY ROOM              Other     Other  ENGLISH   \n",
       "4        ELECTIVE              Other               HOME     Other  ENGLISH   \n",
       "\n",
       "  marital_status ethnicity  hospital_expire_flag  los_admission gender  ...  \\\n",
       "0          Other     WHITE                   0.0       1.968056      M  ...   \n",
       "1        WIDOWED     WHITE                   0.0       2.222222      F  ...   \n",
       "2          Other     ASIAN                   0.0       1.865278      F  ...   \n",
       "3         SINGLE     WHITE                   0.0       0.298611      F  ...   \n",
       "4          Other     WHITE                   0.0       4.109722      M  ...   \n",
       "\n",
       "   flag priority  drg_type drg_code                            drug  \\\n",
       "0     1     STAT      HCFA    795.0                           Other   \n",
       "1     0  ROUTINE      HCFA    442.0  Influenza Vaccine Quadrivalent   \n",
       "2     1     STAT      HCFA    795.0    Erythromycin 0.5% Ophth Oint   \n",
       "3     1    OTHER     OTHER      0.0                            None   \n",
       "4     1     STAT      HCFA    795.0    Erythromycin 0.5% Ophth Oint   \n",
       "\n",
       "       route org_name               test_name ab_name curr_service  \n",
       "0         IM     None  Blood Culture, Routine    None            5  \n",
       "1         IM     None                   Other    None            4  \n",
       "2  BOTH EYES     None                   Other    None            5  \n",
       "3       None     None                    None    None            4  \n",
       "4  BOTH EYES     None                    None    None            5  \n",
       "\n",
       "[5 rows x 22 columns]"
      ]
     },
     "execution_count": 86,
     "metadata": {},
     "output_type": "execute_result"
    }
   ],
   "source": [
    "df.head()"
   ]
  },
  {
   "cell_type": "code",
   "execution_count": 87,
   "id": "8823b7a5",
   "metadata": {},
   "outputs": [
    {
     "data": {
      "text/plain": [
       "['admission_type',\n",
       " 'admission_location',\n",
       " 'discharge_location',\n",
       " 'insurance',\n",
       " 'language',\n",
       " 'marital_status',\n",
       " 'ethnicity',\n",
       " 'gender',\n",
       " 'eventtype',\n",
       " 'priority',\n",
       " 'drg_type',\n",
       " 'drug',\n",
       " 'route',\n",
       " 'org_name',\n",
       " 'test_name',\n",
       " 'ab_name']"
      ]
     },
     "execution_count": 87,
     "metadata": {},
     "output_type": "execute_result"
    }
   ],
   "source": [
    "# Display categorical features\n",
    "categorical_columns = df.select_dtypes(include=['string']).columns.tolist()\n",
    "categorical_columns"
   ]
  },
  {
   "cell_type": "code",
   "execution_count": 88,
   "id": "1991ec4a",
   "metadata": {},
   "outputs": [
    {
     "data": {
      "text/plain": [
       "['los_admission', 'anchor_age']"
      ]
     },
     "execution_count": 88,
     "metadata": {},
     "output_type": "execute_result"
    }
   ],
   "source": [
    "# Display numerical features\n",
    "numerical_columns = df.select_dtypes(exclude=['string']).columns.tolist()[1:3]\n",
    "numerical_columns"
   ]
  },
  {
   "cell_type": "code",
   "execution_count": 89,
   "id": "07ed8c98",
   "metadata": {},
   "outputs": [],
   "source": [
    "# Pass data through pipeline\n",
    "num_attribs = numerical_columns\n",
    "cat_attribs = categorical_columns\n",
    "\n",
    "full_pipeline = ColumnTransformer([\n",
    "        (\"num\", num_pipeline, num_attribs),\n",
    "        (\"cat\", OrdinalEncoder(), cat_attribs),\n",
    "    ])"
   ]
  },
  {
   "cell_type": "code",
   "execution_count": 90,
   "id": "17d8bf51",
   "metadata": {},
   "outputs": [],
   "source": [
    "# Split training and testing data\n",
    "from sklearn.model_selection import StratifiedShuffleSplit\n",
    "\n",
    "split = StratifiedShuffleSplit(n_splits=1, test_size=0.2, random_state=42)\n",
    "for train_index, test_index in split.split(df, df[[\"flag\",\"curr_service\"]]):\n",
    "    strat_train_set = df.loc[train_index]\n",
    "    strat_test_set = df.loc[test_index]"
   ]
  },
  {
   "cell_type": "code",
   "execution_count": 91,
   "id": "f60cd72e",
   "metadata": {},
   "outputs": [],
   "source": [
    "# Separate features and labels\n",
    "train_set_X = strat_train_set.drop([\"flag\", \"curr_service\"], axis = 1)\n",
    "train_set_y = strat_train_set[[\"flag\", \"curr_service\"]].to_numpy()\n",
    "\n",
    "test_set_X = strat_test_set.drop([\"flag\", \"curr_service\"], axis = 1)\n",
    "test_set_y = strat_test_set[[\"flag\", \"curr_service\"]].to_numpy()"
   ]
  },
  {
   "cell_type": "code",
   "execution_count": 92,
   "id": "e1d74817",
   "metadata": {},
   "outputs": [],
   "source": [
    "# Pass training and testing data through pipeline\n",
    "train_set_X_prepared = full_pipeline.fit_transform(train_set_X)\n",
    "test_set_X_prepared = full_pipeline.fit_transform(test_set_X)"
   ]
  },
  {
   "cell_type": "code",
   "execution_count": 93,
   "id": "2913ecc1",
   "metadata": {},
   "outputs": [
    {
     "data": {
      "text/plain": [
       "array([[ 0,  4],\n",
       "       [ 1,  9],\n",
       "       [ 1,  4],\n",
       "       ...,\n",
       "       [ 1,  5],\n",
       "       [ 1, 14],\n",
       "       [ 1,  4]])"
      ]
     },
     "execution_count": 93,
     "metadata": {},
     "output_type": "execute_result"
    }
   ],
   "source": [
    "train_set_y"
   ]
  },
  {
   "cell_type": "code",
   "execution_count": 94,
   "id": "5c4ab221",
   "metadata": {},
   "outputs": [
    {
     "data": {
      "text/plain": [
       "KNeighborsClassifier()"
      ]
     },
     "execution_count": 94,
     "metadata": {},
     "output_type": "execute_result"
    }
   ],
   "source": [
    "# Fit KNN Classifier to training data\n",
    "from sklearn.neighbors import KNeighborsClassifier\n",
    "knn_clf = KNeighborsClassifier()\n",
    "knn_clf.fit(train_set_X_prepared, train_set_y)"
   ]
  },
  {
   "cell_type": "code",
   "execution_count": 95,
   "id": "a5147a51",
   "metadata": {},
   "outputs": [
    {
     "data": {
      "text/plain": [
       "array([[1, 5]])"
      ]
     },
     "execution_count": 95,
     "metadata": {},
     "output_type": "execute_result"
    }
   ],
   "source": [
    "# Make prediction for single sample\n",
    "knn_clf.predict([train_set_X_prepared[52]])"
   ]
  },
  {
   "cell_type": "code",
   "execution_count": 96,
   "id": "b85d271b",
   "metadata": {},
   "outputs": [],
   "source": [
    "# Get predictions from KNN with 3-fold cross-validation\n",
    "y_train_knn_pred = cross_val_predict(knn_clf, train_set_X_prepared, train_set_y, cv=3)"
   ]
  },
  {
   "cell_type": "code",
   "execution_count": 97,
   "id": "c515eb16",
   "metadata": {
    "scrolled": true
   },
   "outputs": [
    {
     "data": {
      "text/plain": [
       "array([[1, 4],\n",
       "       [1, 4],\n",
       "       [1, 4],\n",
       "       ...,\n",
       "       [0, 5],\n",
       "       [1, 4],\n",
       "       [1, 4]])"
      ]
     },
     "execution_count": 97,
     "metadata": {},
     "output_type": "execute_result"
    }
   ],
   "source": [
    "# Print predictions\n",
    "y_train_knn_pred"
   ]
  },
  {
   "cell_type": "code",
   "execution_count": 99,
   "id": "1d2ae7b3",
   "metadata": {},
   "outputs": [
    {
     "data": {
      "text/plain": [
       "array([[ 0,  4],\n",
       "       [ 1,  9],\n",
       "       [ 1,  4],\n",
       "       ...,\n",
       "       [ 1,  5],\n",
       "       [ 1, 14],\n",
       "       [ 1,  4]])"
      ]
     },
     "execution_count": 99,
     "metadata": {},
     "output_type": "execute_result"
    }
   ],
   "source": [
    "# Print training labels\n",
    "train_set_y"
   ]
  }
 ],
 "metadata": {
  "kernelspec": {
   "display_name": "Python 3 (ipykernel)",
   "language": "python",
   "name": "python3"
  },
  "language_info": {
   "codemirror_mode": {
    "name": "ipython",
    "version": 3
   },
   "file_extension": ".py",
   "mimetype": "text/x-python",
   "name": "python",
   "nbconvert_exporter": "python",
   "pygments_lexer": "ipython3",
   "version": "3.9.10"
  }
 },
 "nbformat": 4,
 "nbformat_minor": 5
}
