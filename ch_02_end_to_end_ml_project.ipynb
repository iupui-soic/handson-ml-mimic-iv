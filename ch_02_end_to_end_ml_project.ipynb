{
 "cells": [
  {
   "cell_type": "markdown",
   "id": "2a5998ed",
   "metadata": {},
   "source": [
    "# Import Necessary Modules"
   ]
  },
  {
   "cell_type": "code",
   "execution_count": null,
   "id": "64066be0",
   "metadata": {},
   "outputs": [],
   "source": [
    "import os\n",
    "import pandas as pd\n",
    "import numpy as np\n",
    "import sklearn\n",
    "from mimic.mimic import MIMIC, MIMICManipulations\n",
    "from utils.util import generic_utils"
   ]
  },
  {
   "cell_type": "code",
   "execution_count": null,
   "id": "d155b520",
   "metadata": {},
   "outputs": [],
   "source": [
    "CRED_PATH = os.path.abspath('./mimic/credentials.json')"
   ]
  },
  {
   "cell_type": "code",
   "execution_count": null,
   "id": "60ef19f2",
   "metadata": {},
   "outputs": [],
   "source": [
    "mimic_instance = MIMIC(CRED_PATH)\n",
    "mimic_manipulation_instance = MIMICManipulations(CRED_PATH)\n",
    "generic_util_instance = generic_utils()"
   ]
  },
  {
   "cell_type": "markdown",
   "id": "d57435c6",
   "metadata": {},
   "source": [
    "# Data Gathering"
   ]
  },
  {
   "cell_type": "code",
   "execution_count": null,
   "id": "adb1d3cc",
   "metadata": {},
   "outputs": [],
   "source": [
    "df_adm = mimic_instance.get_mimic_core_addissions()\n",
    "print(df_adm.shape)\n",
    "df_adm.sort_values(by=['subject_id'], inplace=True)"
   ]
  },
  {
   "cell_type": "code",
   "execution_count": null,
   "id": "43a8501b",
   "metadata": {},
   "outputs": [],
   "source": [
    "df_adm.reset_index(inplace=True, drop=True)"
   ]
  },
  {
   "cell_type": "code",
   "execution_count": null,
   "id": "fba0ddd5",
   "metadata": {},
   "outputs": [],
   "source": [
    "df_adm.head()"
   ]
  },
  {
   "cell_type": "code",
   "execution_count": null,
   "id": "d2cb7f76",
   "metadata": {},
   "outputs": [],
   "source": [
    "df_adm.hadm_id.isna().sum()"
   ]
  },
  {
   "cell_type": "code",
   "execution_count": null,
   "id": "c0ce7fc2",
   "metadata": {},
   "outputs": [],
   "source": [
    "df_adm.isna().sum()"
   ]
  },
  {
   "cell_type": "code",
   "execution_count": null,
   "id": "d3234f21",
   "metadata": {},
   "outputs": [],
   "source": [
    "df_pat = mimic_instance.get_mimic_core_patients()\n",
    "print(df_pat.shape)\n",
    "df_pat.sort_values(by=['subject_id'], inplace=True)"
   ]
  },
  {
   "cell_type": "code",
   "execution_count": null,
   "id": "75efc6ba",
   "metadata": {},
   "outputs": [],
   "source": [
    "df_pat.reset_index(inplace=True, drop=True)"
   ]
  },
  {
   "cell_type": "code",
   "execution_count": null,
   "id": "f3fd356b",
   "metadata": {},
   "outputs": [],
   "source": [
    "df_pat.head()"
   ]
  },
  {
   "cell_type": "code",
   "execution_count": null,
   "id": "a59b7cd6",
   "metadata": {},
   "outputs": [],
   "source": [
    "df_pat.isna().sum()"
   ]
  },
  {
   "cell_type": "code",
   "execution_count": null,
   "id": "9e056f2b",
   "metadata": {},
   "outputs": [],
   "source": [
    "df_adm_pat = df_adm.merge(df_pat, how='left', on=['subject_id'])\n",
    "df_adm_pat.shape"
   ]
  },
  {
   "cell_type": "code",
   "execution_count": null,
   "id": "a23f9035",
   "metadata": {},
   "outputs": [],
   "source": [
    "df_adm_pat.isna().sum()"
   ]
  },
  {
   "cell_type": "code",
   "execution_count": null,
   "id": "8dee85fa",
   "metadata": {},
   "outputs": [],
   "source": [
    "df_transfer = mimic_instance.get_mimic_core_transfers()\n",
    "print(df_transfer.shape)\n",
    "df_transfer.sort_values(by=['subject_id'], inplace=True)"
   ]
  },
  {
   "cell_type": "code",
   "execution_count": null,
   "id": "bfe9201d",
   "metadata": {},
   "outputs": [],
   "source": [
    "df_transfer.reset_index(inplace=True, drop=True)\n",
    "df_transfer.head()"
   ]
  },
  {
   "cell_type": "code",
   "execution_count": null,
   "id": "6506de96",
   "metadata": {},
   "outputs": [],
   "source": [
    "df_transfer.isna().sum()"
   ]
  },
  {
   "cell_type": "code",
   "execution_count": null,
   "id": "386c6dba",
   "metadata": {},
   "outputs": [],
   "source": [
    "df_transfer.isnull().sum()"
   ]
  },
  {
   "cell_type": "code",
   "execution_count": null,
   "id": "19a459ad",
   "metadata": {},
   "outputs": [],
   "source": [
    "df_transfer.loc[df_transfer['hadm_id'].isna()]"
   ]
  },
  {
   "cell_type": "code",
   "execution_count": null,
   "id": "b47bac93",
   "metadata": {},
   "outputs": [],
   "source": [
    "df_pat_transfer_adm = df_transfer.merge(df_adm_pat, how='outer', on=['subject_id', 'hadm_id'])\n",
    "df_pat_transfer_adm.shape"
   ]
  },
  {
   "cell_type": "code",
   "execution_count": null,
   "id": "fbbb2c01",
   "metadata": {},
   "outputs": [],
   "source": [
    "df_pat_transfer_adm.head()"
   ]
  },
  {
   "cell_type": "code",
   "execution_count": null,
   "id": "2bc210fe",
   "metadata": {},
   "outputs": [],
   "source": [
    "df_pat_transfer_adm.isna().sum()"
   ]
  },
  {
   "cell_type": "code",
   "execution_count": null,
   "id": "310eb9d8",
   "metadata": {},
   "outputs": [],
   "source": [
    "df_icd_procedures = mimic_instance.get_mimic_hosp_d_icd_procedures()\n",
    "df_procedures_icd = mimic_instance.get_mimic_hosp_procedures_icd()"
   ]
  },
  {
   "cell_type": "code",
   "execution_count": null,
   "id": "2b8ec1e2",
   "metadata": {},
   "outputs": [],
   "source": [
    "df_icd_procedures.shape"
   ]
  },
  {
   "cell_type": "code",
   "execution_count": null,
   "id": "3c9a8eba",
   "metadata": {},
   "outputs": [],
   "source": [
    "df_procedures_icd.shape"
   ]
  },
  {
   "cell_type": "code",
   "execution_count": null,
   "id": "1765c8c7",
   "metadata": {},
   "outputs": [],
   "source": [
    "df_icd_procedures.head()"
   ]
  },
  {
   "cell_type": "code",
   "execution_count": null,
   "id": "eef692f3",
   "metadata": {},
   "outputs": [],
   "source": [
    "df_procedures_icd.head()"
   ]
  },
  {
   "cell_type": "code",
   "execution_count": null,
   "id": "2d0ecc94",
   "metadata": {},
   "outputs": [],
   "source": [
    "df_procedures_icd.sort_values(by=['subject_id'], inplace=True)"
   ]
  },
  {
   "cell_type": "code",
   "execution_count": null,
   "id": "bf4ce4fe",
   "metadata": {},
   "outputs": [],
   "source": [
    "df_procedures_icd.reset_index(inplace=True, drop=True)"
   ]
  },
  {
   "cell_type": "code",
   "execution_count": null,
   "id": "3117e6c3",
   "metadata": {},
   "outputs": [],
   "source": [
    "df_procedures_icd.head()"
   ]
  },
  {
   "cell_type": "code",
   "execution_count": null,
   "id": "72a741e1",
   "metadata": {},
   "outputs": [],
   "source": [
    "df_proc_final = df_procedures_icd.merge(df_icd_procedures, how='left', on=['icd_code'])\n",
    "df_proc_final.shape"
   ]
  },
  {
   "cell_type": "code",
   "execution_count": null,
   "id": "ed9565f8",
   "metadata": {},
   "outputs": [],
   "source": [
    "df_proc_final.head()"
   ]
  },
  {
   "cell_type": "code",
   "execution_count": null,
   "id": "4ec6e21c",
   "metadata": {},
   "outputs": [],
   "source": [
    "df_proc_final.hadm_id.isna().sum()"
   ]
  },
  {
   "cell_type": "code",
   "execution_count": null,
   "id": "2727fbe3",
   "metadata": {},
   "outputs": [],
   "source": [
    "df_adm_pat_trans_proc = df_pat_transfer_adm.merge(df_proc_final, how='outer', on=['subject_id', 'hadm_id'])"
   ]
  },
  {
   "cell_type": "code",
   "execution_count": null,
   "id": "51426876",
   "metadata": {},
   "outputs": [],
   "source": [
    "df_adm_pat_trans_proc.shape"
   ]
  },
  {
   "cell_type": "code",
   "execution_count": null,
   "id": "1c9e0cec",
   "metadata": {},
   "outputs": [],
   "source": [
    "df_adm_pat_trans_proc.head()"
   ]
  },
  {
   "cell_type": "code",
   "execution_count": null,
   "id": "f73879f0",
   "metadata": {},
   "outputs": [],
   "source": [
    "df_adm_pat_trans_proc.isna().sum()"
   ]
  },
  {
   "cell_type": "code",
   "execution_count": null,
   "id": "a70c0d24",
   "metadata": {},
   "outputs": [],
   "source": [
    "df_drgcodes = mimic_instance.get_mimic_hosp_drgcodes()\n",
    "df_drgcodes.shape"
   ]
  },
  {
   "cell_type": "code",
   "execution_count": null,
   "id": "ed815acd",
   "metadata": {},
   "outputs": [],
   "source": [
    "df_drgcodes.head()"
   ]
  },
  {
   "cell_type": "code",
   "execution_count": null,
   "id": "22355847",
   "metadata": {},
   "outputs": [],
   "source": [
    "df_drgcodes.isna().sum()"
   ]
  },
  {
   "cell_type": "code",
   "execution_count": null,
   "id": "6b823720",
   "metadata": {},
   "outputs": [],
   "source": [
    "df_adm_pat_trans_proc_drg = df_adm_pat_trans_proc.merge(df_drgcodes, how='outer', on=['subject_id', 'hadm_id'])"
   ]
  },
  {
   "cell_type": "code",
   "execution_count": null,
   "id": "46c97915",
   "metadata": {},
   "outputs": [],
   "source": [
    "df_adm_pat_trans_proc_drg.shape"
   ]
  },
  {
   "cell_type": "code",
   "execution_count": null,
   "id": "11df491f",
   "metadata": {},
   "outputs": [],
   "source": [
    "df_adm_pat_trans_proc_drg.head()"
   ]
  },
  {
   "cell_type": "code",
   "execution_count": null,
   "id": "31ccd088",
   "metadata": {},
   "outputs": [],
   "source": [
    "df_adm_pat_trans_proc_drg.isna().sum()"
   ]
  },
  {
   "cell_type": "code",
   "execution_count": null,
   "id": "272c776f",
   "metadata": {},
   "outputs": [],
   "source": [
    "df_proc_events = mimic_instance.get_mimic_icu_procedureevents()\n",
    "df_proc_events.shape"
   ]
  },
  {
   "cell_type": "code",
   "execution_count": null,
   "id": "63343798",
   "metadata": {},
   "outputs": [],
   "source": [
    "df_proc_events.head()"
   ]
  },
  {
   "cell_type": "code",
   "execution_count": null,
   "id": "5d9531e2",
   "metadata": {},
   "outputs": [],
   "source": [
    "df_proc_events.isna().sum()"
   ]
  },
  {
   "cell_type": "code",
   "execution_count": null,
   "id": "01221951",
   "metadata": {},
   "outputs": [],
   "source": [
    "df_merge_all = df_adm_pat_trans_proc_drg.merge(df_proc_events, how='left', on=['subject_id', 'hadm_id'])\n",
    "df_merge_all.shape"
   ]
  },
  {
   "cell_type": "code",
   "execution_count": null,
   "id": "811b32e9",
   "metadata": {},
   "outputs": [],
   "source": []
  }
 ],
 "metadata": {
  "kernelspec": {
   "display_name": "Python 3 (ipykernel)",
   "language": "python",
   "name": "python3"
  },
  "language_info": {
   "codemirror_mode": {
    "name": "ipython",
    "version": 3
   },
   "file_extension": ".py",
   "mimetype": "text/x-python",
   "name": "python",
   "nbconvert_exporter": "python",
   "pygments_lexer": "ipython3",
   "version": "3.8.10"
  }
 },
 "nbformat": 4,
 "nbformat_minor": 5
}
