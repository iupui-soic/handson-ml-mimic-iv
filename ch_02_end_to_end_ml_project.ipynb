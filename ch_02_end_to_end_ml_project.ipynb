{
 "cells": [
  {
   "cell_type": "markdown",
   "id": "22f1d998",
   "metadata": {},
   "source": [
    "# Importing Libraries"
   ]
  },
  {
   "cell_type": "code",
   "execution_count": 1,
   "id": "71b8e426",
   "metadata": {},
   "outputs": [],
   "source": [
    "from mimic.mimic import MIMIC, MIMICManipulations\n",
    "from utils.util import generic_utils\n",
    "import pandas as pd\n",
    "import numpy as np\n",
    "import os\n",
    "import matplotlib.pyplot as plt"
   ]
  },
  {
   "cell_type": "code",
   "execution_count": 2,
   "id": "4db814a2",
   "metadata": {},
   "outputs": [],
   "source": [
    "generic_util_instance = generic_utils()"
   ]
  },
  {
   "cell_type": "markdown",
   "id": "d37edc8f",
   "metadata": {},
   "source": [
    "# Load Data"
   ]
  },
  {
   "cell_type": "code",
   "execution_count": 3,
   "id": "58c67798",
   "metadata": {},
   "outputs": [
    {
     "name": "stderr",
     "output_type": "stream",
     "text": [
      "/home/pri2si17/Development/virtual_envs/homl_mimic/lib/python3.8/site-packages/IPython/core/interactiveshell.py:3457: DtypeWarning: Columns (25) have mixed types.Specify dtype option on import or set low_memory=False.\n",
      "  exec(code_obj, self.user_global_ns, self.user_ns)\n"
     ]
    }
   ],
   "source": [
    "df = pd.read_csv('./dataset/ch_02_end_to_end_ml.csv')"
   ]
  },
  {
   "cell_type": "code",
   "execution_count": 4,
   "id": "38f83e70",
   "metadata": {},
   "outputs": [
    {
     "data": {
      "text/html": [
       "<div>\n",
       "<style scoped>\n",
       "    .dataframe tbody tr th:only-of-type {\n",
       "        vertical-align: middle;\n",
       "    }\n",
       "\n",
       "    .dataframe tbody tr th {\n",
       "        vertical-align: top;\n",
       "    }\n",
       "\n",
       "    .dataframe thead th {\n",
       "        text-align: right;\n",
       "    }\n",
       "</style>\n",
       "<table border=\"1\" class=\"dataframe\">\n",
       "  <thead>\n",
       "    <tr style=\"text-align: right;\">\n",
       "      <th></th>\n",
       "      <th>subject_id</th>\n",
       "      <th>admission_type</th>\n",
       "      <th>admission_location</th>\n",
       "      <th>discharge_location</th>\n",
       "      <th>insurance</th>\n",
       "      <th>language</th>\n",
       "      <th>marital_status</th>\n",
       "      <th>ethnicity</th>\n",
       "      <th>hospital_expire_flag</th>\n",
       "      <th>los_admission</th>\n",
       "      <th>...</th>\n",
       "      <th>priority</th>\n",
       "      <th>drg_type</th>\n",
       "      <th>drg_code</th>\n",
       "      <th>drug</th>\n",
       "      <th>route</th>\n",
       "      <th>org_name</th>\n",
       "      <th>test_name</th>\n",
       "      <th>quantity</th>\n",
       "      <th>ab_name</th>\n",
       "      <th>curr_service</th>\n",
       "    </tr>\n",
       "  </thead>\n",
       "  <tbody>\n",
       "    <tr>\n",
       "      <th>0</th>\n",
       "      <td>10000019.0</td>\n",
       "      <td>ELECTIVE</td>\n",
       "      <td>NaN</td>\n",
       "      <td>HOME</td>\n",
       "      <td>Other</td>\n",
       "      <td>ENGLISH</td>\n",
       "      <td>NaN</td>\n",
       "      <td>WHITE</td>\n",
       "      <td>0</td>\n",
       "      <td>1.968056</td>\n",
       "      <td>...</td>\n",
       "      <td>STAT</td>\n",
       "      <td>HCFA</td>\n",
       "      <td>795.0</td>\n",
       "      <td>Vaccine Book</td>\n",
       "      <td>IM</td>\n",
       "      <td>NaN</td>\n",
       "      <td>Blood Culture, Routine</td>\n",
       "      <td>NaN</td>\n",
       "      <td>NaN</td>\n",
       "      <td>NB</td>\n",
       "    </tr>\n",
       "    <tr>\n",
       "      <th>1</th>\n",
       "      <td>10000032.0</td>\n",
       "      <td>EW EMER.</td>\n",
       "      <td>EMERGENCY ROOM</td>\n",
       "      <td>HOME</td>\n",
       "      <td>Medicaid</td>\n",
       "      <td>ENGLISH</td>\n",
       "      <td>WIDOWED</td>\n",
       "      <td>WHITE</td>\n",
       "      <td>0</td>\n",
       "      <td>2.222222</td>\n",
       "      <td>...</td>\n",
       "      <td>ROUTINE</td>\n",
       "      <td>HCFA</td>\n",
       "      <td>442.0</td>\n",
       "      <td>Influenza Vaccine Quadrivalent</td>\n",
       "      <td>IM</td>\n",
       "      <td>NaN</td>\n",
       "      <td>EPSTEIN-BARR VIRUS VCA-IgG AB</td>\n",
       "      <td>NaN</td>\n",
       "      <td>NaN</td>\n",
       "      <td>MED</td>\n",
       "    </tr>\n",
       "    <tr>\n",
       "      <th>2</th>\n",
       "      <td>10000044.0</td>\n",
       "      <td>ELECTIVE</td>\n",
       "      <td>NaN</td>\n",
       "      <td>HOME</td>\n",
       "      <td>Other</td>\n",
       "      <td>ENGLISH</td>\n",
       "      <td>NaN</td>\n",
       "      <td>ASIAN</td>\n",
       "      <td>0</td>\n",
       "      <td>1.865278</td>\n",
       "      <td>...</td>\n",
       "      <td>STAT</td>\n",
       "      <td>HCFA</td>\n",
       "      <td>795.0</td>\n",
       "      <td>Erythromycin 0.5% Ophth Oint</td>\n",
       "      <td>BOTH EYES</td>\n",
       "      <td>NaN</td>\n",
       "      <td>FECAL CULTURE</td>\n",
       "      <td>NaN</td>\n",
       "      <td>NaN</td>\n",
       "      <td>NB</td>\n",
       "    </tr>\n",
       "    <tr>\n",
       "      <th>3</th>\n",
       "      <td>10000068.0</td>\n",
       "      <td>EU OBSERVATION</td>\n",
       "      <td>EMERGENCY ROOM</td>\n",
       "      <td>NaN</td>\n",
       "      <td>Other</td>\n",
       "      <td>ENGLISH</td>\n",
       "      <td>SINGLE</td>\n",
       "      <td>WHITE</td>\n",
       "      <td>0</td>\n",
       "      <td>0.298611</td>\n",
       "      <td>...</td>\n",
       "      <td>NaN</td>\n",
       "      <td>NaN</td>\n",
       "      <td>NaN</td>\n",
       "      <td>NaN</td>\n",
       "      <td>NaN</td>\n",
       "      <td>NaN</td>\n",
       "      <td>NaN</td>\n",
       "      <td>NaN</td>\n",
       "      <td>NaN</td>\n",
       "      <td>MED</td>\n",
       "    </tr>\n",
       "    <tr>\n",
       "      <th>4</th>\n",
       "      <td>10000074.0</td>\n",
       "      <td>ELECTIVE</td>\n",
       "      <td>NaN</td>\n",
       "      <td>HOME</td>\n",
       "      <td>Other</td>\n",
       "      <td>ENGLISH</td>\n",
       "      <td>NaN</td>\n",
       "      <td>WHITE</td>\n",
       "      <td>0</td>\n",
       "      <td>4.109722</td>\n",
       "      <td>...</td>\n",
       "      <td>STAT</td>\n",
       "      <td>HCFA</td>\n",
       "      <td>795.0</td>\n",
       "      <td>Erythromycin 0.5% Ophth Oint</td>\n",
       "      <td>BOTH EYES</td>\n",
       "      <td>NaN</td>\n",
       "      <td>NaN</td>\n",
       "      <td>NaN</td>\n",
       "      <td>NaN</td>\n",
       "      <td>NB</td>\n",
       "    </tr>\n",
       "  </tbody>\n",
       "</table>\n",
       "<p>5 rows × 28 columns</p>\n",
       "</div>"
      ],
      "text/plain": [
       "   subject_id  admission_type admission_location discharge_location insurance  \\\n",
       "0  10000019.0        ELECTIVE                NaN               HOME     Other   \n",
       "1  10000032.0        EW EMER.     EMERGENCY ROOM               HOME  Medicaid   \n",
       "2  10000044.0        ELECTIVE                NaN               HOME     Other   \n",
       "3  10000068.0  EU OBSERVATION     EMERGENCY ROOM                NaN     Other   \n",
       "4  10000074.0        ELECTIVE                NaN               HOME     Other   \n",
       "\n",
       "  language marital_status ethnicity  hospital_expire_flag  los_admission  ...  \\\n",
       "0  ENGLISH            NaN     WHITE                     0       1.968056  ...   \n",
       "1  ENGLISH        WIDOWED     WHITE                     0       2.222222  ...   \n",
       "2  ENGLISH            NaN     ASIAN                     0       1.865278  ...   \n",
       "3  ENGLISH         SINGLE     WHITE                     0       0.298611  ...   \n",
       "4  ENGLISH            NaN     WHITE                     0       4.109722  ...   \n",
       "\n",
       "  priority  drg_type drg_code                            drug      route  \\\n",
       "0     STAT      HCFA    795.0                    Vaccine Book         IM   \n",
       "1  ROUTINE      HCFA    442.0  Influenza Vaccine Quadrivalent         IM   \n",
       "2     STAT      HCFA    795.0    Erythromycin 0.5% Ophth Oint  BOTH EYES   \n",
       "3      NaN       NaN      NaN                             NaN        NaN   \n",
       "4     STAT      HCFA    795.0    Erythromycin 0.5% Ophth Oint  BOTH EYES   \n",
       "\n",
       "  org_name                      test_name quantity ab_name curr_service  \n",
       "0      NaN         Blood Culture, Routine      NaN     NaN           NB  \n",
       "1      NaN  EPSTEIN-BARR VIRUS VCA-IgG AB      NaN     NaN          MED  \n",
       "2      NaN                  FECAL CULTURE      NaN     NaN           NB  \n",
       "3      NaN                            NaN      NaN     NaN          MED  \n",
       "4      NaN                            NaN      NaN     NaN           NB  \n",
       "\n",
       "[5 rows x 28 columns]"
      ]
     },
     "execution_count": 4,
     "metadata": {},
     "output_type": "execute_result"
    }
   ],
   "source": [
    "df.head()"
   ]
  },
  {
   "cell_type": "code",
   "execution_count": 5,
   "id": "e8e7b93b",
   "metadata": {},
   "outputs": [
    {
     "data": {
      "text/plain": [
       "Index(['subject_id', 'admission_type', 'admission_location',\n",
       "       'discharge_location', 'insurance', 'language', 'marital_status',\n",
       "       'ethnicity', 'hospital_expire_flag', 'los_admission', 'gender',\n",
       "       'anchor_age', 'eventtype', 'careunit', 'diagnosis_icd_code',\n",
       "       'procedures_icd_code', 'value', 'flag', 'priority', 'drg_type',\n",
       "       'drg_code', 'drug', 'route', 'org_name', 'test_name', 'quantity',\n",
       "       'ab_name', 'curr_service'],\n",
       "      dtype='object')"
      ]
     },
     "execution_count": 5,
     "metadata": {},
     "output_type": "execute_result"
    }
   ],
   "source": [
    "df.columns"
   ]
  },
  {
   "cell_type": "code",
   "execution_count": 6,
   "id": "19000909",
   "metadata": {},
   "outputs": [
    {
     "data": {
      "text/plain": [
       "(256796, 28)"
      ]
     },
     "execution_count": 6,
     "metadata": {},
     "output_type": "execute_result"
    }
   ],
   "source": [
    "df.shape"
   ]
  },
  {
   "cell_type": "markdown",
   "id": "6efb9a19",
   "metadata": {},
   "source": [
    "# Data Exploration"
   ]
  },
  {
   "cell_type": "code",
   "execution_count": 7,
   "id": "c0e33f4f",
   "metadata": {},
   "outputs": [
    {
     "name": "stdout",
     "output_type": "stream",
     "text": [
      "<class 'pandas.core.frame.DataFrame'>\n",
      "RangeIndex: 256796 entries, 0 to 256795\n",
      "Data columns (total 28 columns):\n",
      " #   Column                Non-Null Count   Dtype  \n",
      "---  ------                --------------   -----  \n",
      " 0   subject_id            256796 non-null  float64\n",
      " 1   admission_type        256796 non-null  object \n",
      " 2   admission_location    196392 non-null  object \n",
      " 3   discharge_location    177537 non-null  object \n",
      " 4   insurance             256796 non-null  object \n",
      " 5   language              256796 non-null  object \n",
      " 6   marital_status        193336 non-null  object \n",
      " 7   ethnicity             256796 non-null  object \n",
      " 8   hospital_expire_flag  256796 non-null  int64  \n",
      " 9   los_admission         256796 non-null  float64\n",
      " 10  gender                256796 non-null  object \n",
      " 11  anchor_age            256796 non-null  int64  \n",
      " 12  eventtype             256796 non-null  object \n",
      " 13  careunit              793 non-null     object \n",
      " 14  diagnosis_icd_code    255024 non-null  object \n",
      " 15  procedures_icd_code   163661 non-null  object \n",
      " 16  value                 246121 non-null  object \n",
      " 17  flag                  29759 non-null   object \n",
      " 18  priority              234710 non-null  object \n",
      " 19  drg_type              216865 non-null  object \n",
      " 20  drg_code              216865 non-null  float64\n",
      " 21  drug                  232022 non-null  object \n",
      " 22  route                 231812 non-null  object \n",
      " 23  org_name              66120 non-null   object \n",
      " 24  test_name             173717 non-null  object \n",
      " 25  quantity              4 non-null       object \n",
      " 26  ab_name               29136 non-null   object \n",
      " 27  curr_service          256795 non-null  object \n",
      "dtypes: float64(3), int64(2), object(23)\n",
      "memory usage: 54.9+ MB\n"
     ]
    }
   ],
   "source": [
    "df.info()"
   ]
  },
  {
   "cell_type": "code",
   "execution_count": 8,
   "id": "bdb7a193",
   "metadata": {},
   "outputs": [
    {
     "data": {
      "text/html": [
       "<div>\n",
       "<style scoped>\n",
       "    .dataframe tbody tr th:only-of-type {\n",
       "        vertical-align: middle;\n",
       "    }\n",
       "\n",
       "    .dataframe tbody tr th {\n",
       "        vertical-align: top;\n",
       "    }\n",
       "\n",
       "    .dataframe thead th {\n",
       "        text-align: right;\n",
       "    }\n",
       "</style>\n",
       "<table border=\"1\" class=\"dataframe\">\n",
       "  <thead>\n",
       "    <tr style=\"text-align: right;\">\n",
       "      <th></th>\n",
       "      <th>subject_id</th>\n",
       "      <th>hospital_expire_flag</th>\n",
       "      <th>los_admission</th>\n",
       "      <th>anchor_age</th>\n",
       "      <th>drg_code</th>\n",
       "    </tr>\n",
       "  </thead>\n",
       "  <tbody>\n",
       "    <tr>\n",
       "      <th>count</th>\n",
       "      <td>2.567960e+05</td>\n",
       "      <td>256796.000000</td>\n",
       "      <td>256796.000000</td>\n",
       "      <td>256796.000000</td>\n",
       "      <td>216865.000000</td>\n",
       "    </tr>\n",
       "    <tr>\n",
       "      <th>mean</th>\n",
       "      <td>1.501224e+07</td>\n",
       "      <td>0.020705</td>\n",
       "      <td>4.040955</td>\n",
       "      <td>42.288708</td>\n",
       "      <td>552.191253</td>\n",
       "    </tr>\n",
       "    <tr>\n",
       "      <th>std</th>\n",
       "      <td>2.885679e+06</td>\n",
       "      <td>0.142396</td>\n",
       "      <td>7.634195</td>\n",
       "      <td>29.397485</td>\n",
       "      <td>274.933987</td>\n",
       "    </tr>\n",
       "    <tr>\n",
       "      <th>min</th>\n",
       "      <td>1.000002e+07</td>\n",
       "      <td>0.000000</td>\n",
       "      <td>0.000694</td>\n",
       "      <td>0.000000</td>\n",
       "      <td>1.000000</td>\n",
       "    </tr>\n",
       "    <tr>\n",
       "      <th>25%</th>\n",
       "      <td>1.251287e+07</td>\n",
       "      <td>0.000000</td>\n",
       "      <td>1.019444</td>\n",
       "      <td>19.000000</td>\n",
       "      <td>308.000000</td>\n",
       "    </tr>\n",
       "    <tr>\n",
       "      <th>50%</th>\n",
       "      <td>1.501818e+07</td>\n",
       "      <td>0.000000</td>\n",
       "      <td>2.240972</td>\n",
       "      <td>47.000000</td>\n",
       "      <td>621.000000</td>\n",
       "    </tr>\n",
       "    <tr>\n",
       "      <th>75%</th>\n",
       "      <td>1.751089e+07</td>\n",
       "      <td>0.000000</td>\n",
       "      <td>4.142361</td>\n",
       "      <td>66.000000</td>\n",
       "      <td>795.000000</td>\n",
       "    </tr>\n",
       "    <tr>\n",
       "      <th>max</th>\n",
       "      <td>1.999999e+07</td>\n",
       "      <td>1.000000</td>\n",
       "      <td>377.026389</td>\n",
       "      <td>91.000000</td>\n",
       "      <td>999.000000</td>\n",
       "    </tr>\n",
       "  </tbody>\n",
       "</table>\n",
       "</div>"
      ],
      "text/plain": [
       "         subject_id  hospital_expire_flag  los_admission     anchor_age  \\\n",
       "count  2.567960e+05         256796.000000  256796.000000  256796.000000   \n",
       "mean   1.501224e+07              0.020705       4.040955      42.288708   \n",
       "std    2.885679e+06              0.142396       7.634195      29.397485   \n",
       "min    1.000002e+07              0.000000       0.000694       0.000000   \n",
       "25%    1.251287e+07              0.000000       1.019444      19.000000   \n",
       "50%    1.501818e+07              0.000000       2.240972      47.000000   \n",
       "75%    1.751089e+07              0.000000       4.142361      66.000000   \n",
       "max    1.999999e+07              1.000000     377.026389      91.000000   \n",
       "\n",
       "            drg_code  \n",
       "count  216865.000000  \n",
       "mean      552.191253  \n",
       "std       274.933987  \n",
       "min         1.000000  \n",
       "25%       308.000000  \n",
       "50%       621.000000  \n",
       "75%       795.000000  \n",
       "max       999.000000  "
      ]
     },
     "execution_count": 8,
     "metadata": {},
     "output_type": "execute_result"
    }
   ],
   "source": [
    "df.describe()"
   ]
  },
  {
   "cell_type": "code",
   "execution_count": 9,
   "id": "dba55809",
   "metadata": {},
   "outputs": [
    {
     "data": {
      "text/plain": [
       "subject_id              float64\n",
       "admission_type           object\n",
       "admission_location       object\n",
       "discharge_location       object\n",
       "insurance                object\n",
       "language                 object\n",
       "marital_status           object\n",
       "ethnicity                object\n",
       "hospital_expire_flag      int64\n",
       "los_admission           float64\n",
       "gender                   object\n",
       "anchor_age                int64\n",
       "eventtype                object\n",
       "careunit                 object\n",
       "diagnosis_icd_code       object\n",
       "procedures_icd_code      object\n",
       "value                    object\n",
       "flag                     object\n",
       "priority                 object\n",
       "drg_type                 object\n",
       "drg_code                float64\n",
       "drug                     object\n",
       "route                    object\n",
       "org_name                 object\n",
       "test_name                object\n",
       "quantity                 object\n",
       "ab_name                  object\n",
       "curr_service             object\n",
       "dtype: object"
      ]
     },
     "execution_count": 9,
     "metadata": {},
     "output_type": "execute_result"
    }
   ],
   "source": [
    "df.dtypes"
   ]
  },
  {
   "cell_type": "markdown",
   "id": "cdb2b330",
   "metadata": {},
   "source": [
    "# Preparing Data for Machine Learning Algorithms"
   ]
  },
  {
   "cell_type": "markdown",
   "id": "7d9c3efd",
   "metadata": {},
   "source": [
    "# Data Cleaning"
   ]
  },
  {
   "cell_type": "code",
   "execution_count": 10,
   "id": "fcc9219d",
   "metadata": {},
   "outputs": [],
   "source": [
    "# Drop subject_id and quantity Column\n",
    "df.drop(['subject_id', 'quantity', 'diagnosis_icd_code', 'procedures_icd_code', 'value'], axis=1, inplace = True)"
   ]
  },
  {
   "cell_type": "code",
   "execution_count": 11,
   "id": "bf1f6b59",
   "metadata": {},
   "outputs": [
    {
     "data": {
      "text/html": [
       "<div>\n",
       "<style scoped>\n",
       "    .dataframe tbody tr th:only-of-type {\n",
       "        vertical-align: middle;\n",
       "    }\n",
       "\n",
       "    .dataframe tbody tr th {\n",
       "        vertical-align: top;\n",
       "    }\n",
       "\n",
       "    .dataframe thead th {\n",
       "        text-align: right;\n",
       "    }\n",
       "</style>\n",
       "<table border=\"1\" class=\"dataframe\">\n",
       "  <thead>\n",
       "    <tr style=\"text-align: right;\">\n",
       "      <th></th>\n",
       "      <th>admission_type</th>\n",
       "      <th>admission_location</th>\n",
       "      <th>discharge_location</th>\n",
       "      <th>insurance</th>\n",
       "      <th>language</th>\n",
       "      <th>marital_status</th>\n",
       "      <th>ethnicity</th>\n",
       "      <th>hospital_expire_flag</th>\n",
       "      <th>los_admission</th>\n",
       "      <th>gender</th>\n",
       "      <th>...</th>\n",
       "      <th>flag</th>\n",
       "      <th>priority</th>\n",
       "      <th>drg_type</th>\n",
       "      <th>drg_code</th>\n",
       "      <th>drug</th>\n",
       "      <th>route</th>\n",
       "      <th>org_name</th>\n",
       "      <th>test_name</th>\n",
       "      <th>ab_name</th>\n",
       "      <th>curr_service</th>\n",
       "    </tr>\n",
       "  </thead>\n",
       "  <tbody>\n",
       "    <tr>\n",
       "      <th>0</th>\n",
       "      <td>ELECTIVE</td>\n",
       "      <td>NaN</td>\n",
       "      <td>HOME</td>\n",
       "      <td>Other</td>\n",
       "      <td>ENGLISH</td>\n",
       "      <td>NaN</td>\n",
       "      <td>WHITE</td>\n",
       "      <td>0</td>\n",
       "      <td>1.968056</td>\n",
       "      <td>M</td>\n",
       "      <td>...</td>\n",
       "      <td>NaN</td>\n",
       "      <td>STAT</td>\n",
       "      <td>HCFA</td>\n",
       "      <td>795.0</td>\n",
       "      <td>Vaccine Book</td>\n",
       "      <td>IM</td>\n",
       "      <td>NaN</td>\n",
       "      <td>Blood Culture, Routine</td>\n",
       "      <td>NaN</td>\n",
       "      <td>NB</td>\n",
       "    </tr>\n",
       "    <tr>\n",
       "      <th>1</th>\n",
       "      <td>EW EMER.</td>\n",
       "      <td>EMERGENCY ROOM</td>\n",
       "      <td>HOME</td>\n",
       "      <td>Medicaid</td>\n",
       "      <td>ENGLISH</td>\n",
       "      <td>WIDOWED</td>\n",
       "      <td>WHITE</td>\n",
       "      <td>0</td>\n",
       "      <td>2.222222</td>\n",
       "      <td>F</td>\n",
       "      <td>...</td>\n",
       "      <td>abnormal</td>\n",
       "      <td>ROUTINE</td>\n",
       "      <td>HCFA</td>\n",
       "      <td>442.0</td>\n",
       "      <td>Influenza Vaccine Quadrivalent</td>\n",
       "      <td>IM</td>\n",
       "      <td>NaN</td>\n",
       "      <td>EPSTEIN-BARR VIRUS VCA-IgG AB</td>\n",
       "      <td>NaN</td>\n",
       "      <td>MED</td>\n",
       "    </tr>\n",
       "    <tr>\n",
       "      <th>2</th>\n",
       "      <td>ELECTIVE</td>\n",
       "      <td>NaN</td>\n",
       "      <td>HOME</td>\n",
       "      <td>Other</td>\n",
       "      <td>ENGLISH</td>\n",
       "      <td>NaN</td>\n",
       "      <td>ASIAN</td>\n",
       "      <td>0</td>\n",
       "      <td>1.865278</td>\n",
       "      <td>F</td>\n",
       "      <td>...</td>\n",
       "      <td>NaN</td>\n",
       "      <td>STAT</td>\n",
       "      <td>HCFA</td>\n",
       "      <td>795.0</td>\n",
       "      <td>Erythromycin 0.5% Ophth Oint</td>\n",
       "      <td>BOTH EYES</td>\n",
       "      <td>NaN</td>\n",
       "      <td>FECAL CULTURE</td>\n",
       "      <td>NaN</td>\n",
       "      <td>NB</td>\n",
       "    </tr>\n",
       "    <tr>\n",
       "      <th>3</th>\n",
       "      <td>EU OBSERVATION</td>\n",
       "      <td>EMERGENCY ROOM</td>\n",
       "      <td>NaN</td>\n",
       "      <td>Other</td>\n",
       "      <td>ENGLISH</td>\n",
       "      <td>SINGLE</td>\n",
       "      <td>WHITE</td>\n",
       "      <td>0</td>\n",
       "      <td>0.298611</td>\n",
       "      <td>F</td>\n",
       "      <td>...</td>\n",
       "      <td>NaN</td>\n",
       "      <td>NaN</td>\n",
       "      <td>NaN</td>\n",
       "      <td>NaN</td>\n",
       "      <td>NaN</td>\n",
       "      <td>NaN</td>\n",
       "      <td>NaN</td>\n",
       "      <td>NaN</td>\n",
       "      <td>NaN</td>\n",
       "      <td>MED</td>\n",
       "    </tr>\n",
       "    <tr>\n",
       "      <th>4</th>\n",
       "      <td>ELECTIVE</td>\n",
       "      <td>NaN</td>\n",
       "      <td>HOME</td>\n",
       "      <td>Other</td>\n",
       "      <td>ENGLISH</td>\n",
       "      <td>NaN</td>\n",
       "      <td>WHITE</td>\n",
       "      <td>0</td>\n",
       "      <td>4.109722</td>\n",
       "      <td>M</td>\n",
       "      <td>...</td>\n",
       "      <td>NaN</td>\n",
       "      <td>STAT</td>\n",
       "      <td>HCFA</td>\n",
       "      <td>795.0</td>\n",
       "      <td>Erythromycin 0.5% Ophth Oint</td>\n",
       "      <td>BOTH EYES</td>\n",
       "      <td>NaN</td>\n",
       "      <td>NaN</td>\n",
       "      <td>NaN</td>\n",
       "      <td>NB</td>\n",
       "    </tr>\n",
       "  </tbody>\n",
       "</table>\n",
       "<p>5 rows × 23 columns</p>\n",
       "</div>"
      ],
      "text/plain": [
       "   admission_type admission_location discharge_location insurance language  \\\n",
       "0        ELECTIVE                NaN               HOME     Other  ENGLISH   \n",
       "1        EW EMER.     EMERGENCY ROOM               HOME  Medicaid  ENGLISH   \n",
       "2        ELECTIVE                NaN               HOME     Other  ENGLISH   \n",
       "3  EU OBSERVATION     EMERGENCY ROOM                NaN     Other  ENGLISH   \n",
       "4        ELECTIVE                NaN               HOME     Other  ENGLISH   \n",
       "\n",
       "  marital_status ethnicity  hospital_expire_flag  los_admission gender  ...  \\\n",
       "0            NaN     WHITE                     0       1.968056      M  ...   \n",
       "1        WIDOWED     WHITE                     0       2.222222      F  ...   \n",
       "2            NaN     ASIAN                     0       1.865278      F  ...   \n",
       "3         SINGLE     WHITE                     0       0.298611      F  ...   \n",
       "4            NaN     WHITE                     0       4.109722      M  ...   \n",
       "\n",
       "       flag priority drg_type drg_code                            drug  \\\n",
       "0       NaN     STAT     HCFA    795.0                    Vaccine Book   \n",
       "1  abnormal  ROUTINE     HCFA    442.0  Influenza Vaccine Quadrivalent   \n",
       "2       NaN     STAT     HCFA    795.0    Erythromycin 0.5% Ophth Oint   \n",
       "3       NaN      NaN      NaN      NaN                             NaN   \n",
       "4       NaN     STAT     HCFA    795.0    Erythromycin 0.5% Ophth Oint   \n",
       "\n",
       "       route  org_name                      test_name ab_name curr_service  \n",
       "0         IM       NaN         Blood Culture, Routine     NaN           NB  \n",
       "1         IM       NaN  EPSTEIN-BARR VIRUS VCA-IgG AB     NaN          MED  \n",
       "2  BOTH EYES       NaN                  FECAL CULTURE     NaN           NB  \n",
       "3        NaN       NaN                            NaN     NaN          MED  \n",
       "4  BOTH EYES       NaN                            NaN     NaN           NB  \n",
       "\n",
       "[5 rows x 23 columns]"
      ]
     },
     "execution_count": 11,
     "metadata": {},
     "output_type": "execute_result"
    }
   ],
   "source": [
    "df.head()"
   ]
  },
  {
   "cell_type": "code",
   "execution_count": 12,
   "id": "e0301e96",
   "metadata": {},
   "outputs": [
    {
     "data": {
      "text/plain": [
       "ELECTIVE                       63763\n",
       "EU OBSERVATION                 61249\n",
       "EW EMER.                       53133\n",
       "URGENT                         21395\n",
       "OBSERVATION ADMIT              17905\n",
       "SURGICAL SAME DAY ADMISSION    17298\n",
       "DIRECT OBSERVATION             13208\n",
       "AMBULATORY OBSERVATION          4877\n",
       "DIRECT EMER.                    3968\n",
       "Name: admission_type, dtype: int64"
      ]
     },
     "execution_count": 12,
     "metadata": {},
     "output_type": "execute_result"
    }
   ],
   "source": [
    "df.admission_type.value_counts()"
   ]
  },
  {
   "cell_type": "code",
   "execution_count": 13,
   "id": "9daadced",
   "metadata": {},
   "outputs": [
    {
     "data": {
      "text/plain": [
       "0"
      ]
     },
     "execution_count": 13,
     "metadata": {},
     "output_type": "execute_result"
    }
   ],
   "source": [
    "df.admission_type.isna().sum()"
   ]
  },
  {
   "cell_type": "code",
   "execution_count": 14,
   "id": "349eb686",
   "metadata": {},
   "outputs": [
    {
     "data": {
      "text/plain": [
       "EMERGENCY ROOM                            104535\n",
       "PHYSICIAN REFERRAL                         51316\n",
       "TRANSFER FROM HOSPITAL                     21364\n",
       "WALK-IN/SELF REFERRAL                       7026\n",
       "PROCEDURE SITE                              4064\n",
       "PACU                                        3367\n",
       "CLINIC REFERRAL                             3050\n",
       "TRANSFER FROM SKILLED NURSING FACILITY      1105\n",
       "INTERNAL TRANSFER TO OR FROM PSYCH           250\n",
       "INFORMATION NOT AVAILABLE                    222\n",
       "AMBULATORY SURGERY TRANSFER                   93\n",
       "Name: admission_location, dtype: int64"
      ]
     },
     "execution_count": 14,
     "metadata": {},
     "output_type": "execute_result"
    }
   ],
   "source": [
    "df.admission_location.value_counts()"
   ]
  },
  {
   "cell_type": "code",
   "execution_count": 15,
   "id": "10fa4bce",
   "metadata": {},
   "outputs": [
    {
     "data": {
      "text/plain": [
       "60404"
      ]
     },
     "execution_count": 15,
     "metadata": {},
     "output_type": "execute_result"
    }
   ],
   "source": [
    "df.admission_location.isna().sum()"
   ]
  },
  {
   "cell_type": "code",
   "execution_count": 16,
   "id": "71fd7620",
   "metadata": {},
   "outputs": [
    {
     "data": {
      "text/html": [
       "<div>\n",
       "<style scoped>\n",
       "    .dataframe tbody tr th:only-of-type {\n",
       "        vertical-align: middle;\n",
       "    }\n",
       "\n",
       "    .dataframe tbody tr th {\n",
       "        vertical-align: top;\n",
       "    }\n",
       "\n",
       "    .dataframe thead th {\n",
       "        text-align: right;\n",
       "    }\n",
       "</style>\n",
       "<table border=\"1\" class=\"dataframe\">\n",
       "  <thead>\n",
       "    <tr style=\"text-align: right;\">\n",
       "      <th></th>\n",
       "      <th>admission_type</th>\n",
       "      <th>admission_location</th>\n",
       "      <th>discharge_location</th>\n",
       "      <th>insurance</th>\n",
       "      <th>language</th>\n",
       "      <th>marital_status</th>\n",
       "      <th>ethnicity</th>\n",
       "      <th>hospital_expire_flag</th>\n",
       "      <th>los_admission</th>\n",
       "      <th>gender</th>\n",
       "      <th>...</th>\n",
       "      <th>flag</th>\n",
       "      <th>priority</th>\n",
       "      <th>drg_type</th>\n",
       "      <th>drg_code</th>\n",
       "      <th>drug</th>\n",
       "      <th>route</th>\n",
       "      <th>org_name</th>\n",
       "      <th>test_name</th>\n",
       "      <th>ab_name</th>\n",
       "      <th>curr_service</th>\n",
       "    </tr>\n",
       "  </thead>\n",
       "  <tbody>\n",
       "    <tr>\n",
       "      <th>0</th>\n",
       "      <td>ELECTIVE</td>\n",
       "      <td>Other</td>\n",
       "      <td>HOME</td>\n",
       "      <td>Other</td>\n",
       "      <td>ENGLISH</td>\n",
       "      <td>NaN</td>\n",
       "      <td>WHITE</td>\n",
       "      <td>0</td>\n",
       "      <td>1.968056</td>\n",
       "      <td>M</td>\n",
       "      <td>...</td>\n",
       "      <td>NaN</td>\n",
       "      <td>STAT</td>\n",
       "      <td>HCFA</td>\n",
       "      <td>795.0</td>\n",
       "      <td>Vaccine Book</td>\n",
       "      <td>IM</td>\n",
       "      <td>NaN</td>\n",
       "      <td>Blood Culture, Routine</td>\n",
       "      <td>NaN</td>\n",
       "      <td>NB</td>\n",
       "    </tr>\n",
       "    <tr>\n",
       "      <th>1</th>\n",
       "      <td>EW EMER.</td>\n",
       "      <td>EMERGENCY ROOM</td>\n",
       "      <td>HOME</td>\n",
       "      <td>Medicaid</td>\n",
       "      <td>ENGLISH</td>\n",
       "      <td>WIDOWED</td>\n",
       "      <td>WHITE</td>\n",
       "      <td>0</td>\n",
       "      <td>2.222222</td>\n",
       "      <td>F</td>\n",
       "      <td>...</td>\n",
       "      <td>abnormal</td>\n",
       "      <td>ROUTINE</td>\n",
       "      <td>HCFA</td>\n",
       "      <td>442.0</td>\n",
       "      <td>Influenza Vaccine Quadrivalent</td>\n",
       "      <td>IM</td>\n",
       "      <td>NaN</td>\n",
       "      <td>EPSTEIN-BARR VIRUS VCA-IgG AB</td>\n",
       "      <td>NaN</td>\n",
       "      <td>MED</td>\n",
       "    </tr>\n",
       "    <tr>\n",
       "      <th>2</th>\n",
       "      <td>ELECTIVE</td>\n",
       "      <td>Other</td>\n",
       "      <td>HOME</td>\n",
       "      <td>Other</td>\n",
       "      <td>ENGLISH</td>\n",
       "      <td>NaN</td>\n",
       "      <td>ASIAN</td>\n",
       "      <td>0</td>\n",
       "      <td>1.865278</td>\n",
       "      <td>F</td>\n",
       "      <td>...</td>\n",
       "      <td>NaN</td>\n",
       "      <td>STAT</td>\n",
       "      <td>HCFA</td>\n",
       "      <td>795.0</td>\n",
       "      <td>Erythromycin 0.5% Ophth Oint</td>\n",
       "      <td>BOTH EYES</td>\n",
       "      <td>NaN</td>\n",
       "      <td>FECAL CULTURE</td>\n",
       "      <td>NaN</td>\n",
       "      <td>NB</td>\n",
       "    </tr>\n",
       "    <tr>\n",
       "      <th>3</th>\n",
       "      <td>EU OBSERVATION</td>\n",
       "      <td>EMERGENCY ROOM</td>\n",
       "      <td>NaN</td>\n",
       "      <td>Other</td>\n",
       "      <td>ENGLISH</td>\n",
       "      <td>SINGLE</td>\n",
       "      <td>WHITE</td>\n",
       "      <td>0</td>\n",
       "      <td>0.298611</td>\n",
       "      <td>F</td>\n",
       "      <td>...</td>\n",
       "      <td>NaN</td>\n",
       "      <td>NaN</td>\n",
       "      <td>NaN</td>\n",
       "      <td>NaN</td>\n",
       "      <td>NaN</td>\n",
       "      <td>NaN</td>\n",
       "      <td>NaN</td>\n",
       "      <td>NaN</td>\n",
       "      <td>NaN</td>\n",
       "      <td>MED</td>\n",
       "    </tr>\n",
       "    <tr>\n",
       "      <th>4</th>\n",
       "      <td>ELECTIVE</td>\n",
       "      <td>Other</td>\n",
       "      <td>HOME</td>\n",
       "      <td>Other</td>\n",
       "      <td>ENGLISH</td>\n",
       "      <td>NaN</td>\n",
       "      <td>WHITE</td>\n",
       "      <td>0</td>\n",
       "      <td>4.109722</td>\n",
       "      <td>M</td>\n",
       "      <td>...</td>\n",
       "      <td>NaN</td>\n",
       "      <td>STAT</td>\n",
       "      <td>HCFA</td>\n",
       "      <td>795.0</td>\n",
       "      <td>Erythromycin 0.5% Ophth Oint</td>\n",
       "      <td>BOTH EYES</td>\n",
       "      <td>NaN</td>\n",
       "      <td>NaN</td>\n",
       "      <td>NaN</td>\n",
       "      <td>NB</td>\n",
       "    </tr>\n",
       "  </tbody>\n",
       "</table>\n",
       "<p>5 rows × 23 columns</p>\n",
       "</div>"
      ],
      "text/plain": [
       "   admission_type admission_location discharge_location insurance language  \\\n",
       "0        ELECTIVE              Other               HOME     Other  ENGLISH   \n",
       "1        EW EMER.     EMERGENCY ROOM               HOME  Medicaid  ENGLISH   \n",
       "2        ELECTIVE              Other               HOME     Other  ENGLISH   \n",
       "3  EU OBSERVATION     EMERGENCY ROOM                NaN     Other  ENGLISH   \n",
       "4        ELECTIVE              Other               HOME     Other  ENGLISH   \n",
       "\n",
       "  marital_status ethnicity  hospital_expire_flag  los_admission gender  ...  \\\n",
       "0            NaN     WHITE                     0       1.968056      M  ...   \n",
       "1        WIDOWED     WHITE                     0       2.222222      F  ...   \n",
       "2            NaN     ASIAN                     0       1.865278      F  ...   \n",
       "3         SINGLE     WHITE                     0       0.298611      F  ...   \n",
       "4            NaN     WHITE                     0       4.109722      M  ...   \n",
       "\n",
       "       flag priority drg_type drg_code                            drug  \\\n",
       "0       NaN     STAT     HCFA    795.0                    Vaccine Book   \n",
       "1  abnormal  ROUTINE     HCFA    442.0  Influenza Vaccine Quadrivalent   \n",
       "2       NaN     STAT     HCFA    795.0    Erythromycin 0.5% Ophth Oint   \n",
       "3       NaN      NaN      NaN      NaN                             NaN   \n",
       "4       NaN     STAT     HCFA    795.0    Erythromycin 0.5% Ophth Oint   \n",
       "\n",
       "       route  org_name                      test_name ab_name curr_service  \n",
       "0         IM       NaN         Blood Culture, Routine     NaN           NB  \n",
       "1         IM       NaN  EPSTEIN-BARR VIRUS VCA-IgG AB     NaN          MED  \n",
       "2  BOTH EYES       NaN                  FECAL CULTURE     NaN           NB  \n",
       "3        NaN       NaN                            NaN     NaN          MED  \n",
       "4  BOTH EYES       NaN                            NaN     NaN           NB  \n",
       "\n",
       "[5 rows x 23 columns]"
      ]
     },
     "execution_count": 16,
     "metadata": {},
     "output_type": "execute_result"
    }
   ],
   "source": [
    "df = generic_util_instance.replace_nan(df, 'admission_location', 'Other')\n",
    "df.head()"
   ]
  },
  {
   "cell_type": "code",
   "execution_count": 17,
   "id": "ba8ad208",
   "metadata": {},
   "outputs": [
    {
     "data": {
      "text/plain": [
       "(256796, 23)"
      ]
     },
     "execution_count": 17,
     "metadata": {},
     "output_type": "execute_result"
    }
   ],
   "source": [
    "df.shape"
   ]
  },
  {
   "cell_type": "code",
   "execution_count": 18,
   "id": "d7e88c74",
   "metadata": {},
   "outputs": [
    {
     "data": {
      "text/plain": [
       "0"
      ]
     },
     "execution_count": 18,
     "metadata": {},
     "output_type": "execute_result"
    }
   ],
   "source": [
    "df.admission_location.isna().sum()"
   ]
  },
  {
   "cell_type": "code",
   "execution_count": 19,
   "id": "810949a2",
   "metadata": {},
   "outputs": [
    {
     "data": {
      "text/plain": [
       "EMERGENCY ROOM            104535\n",
       "Other                      62074\n",
       "PHYSICIAN REFERRAL         51316\n",
       "TRANSFER FROM HOSPITAL     21364\n",
       "WALK-IN/SELF REFERRAL       7026\n",
       "PROCEDURE SITE              4064\n",
       "PACU                        3367\n",
       "CLINIC REFERRAL             3050\n",
       "Name: admission_location, dtype: int64"
      ]
     },
     "execution_count": 19,
     "metadata": {},
     "output_type": "execute_result"
    }
   ],
   "source": [
    "df = generic_util_instance.replace_column_value(df, 'admission_location', 3000, 'Other')\n",
    "df.admission_location.value_counts()"
   ]
  },
  {
   "cell_type": "code",
   "execution_count": 20,
   "id": "3c9253d5",
   "metadata": {},
   "outputs": [
    {
     "data": {
      "text/plain": [
       "79259"
      ]
     },
     "execution_count": 20,
     "metadata": {},
     "output_type": "execute_result"
    }
   ],
   "source": [
    "df.discharge_location.isna().sum()"
   ]
  },
  {
   "cell_type": "code",
   "execution_count": 21,
   "id": "234d7800",
   "metadata": {},
   "outputs": [
    {
     "data": {
      "text/plain": [
       "HOME                            115951\n",
       "HOME HEALTH CARE                 27479\n",
       "SKILLED NURSING FACILITY         15246\n",
       "REHAB                             5272\n",
       "DIED                              5184\n",
       "ACUTE HOSPITAL                    2489\n",
       "CHRONIC/LONG TERM ACUTE CARE      2286\n",
       "HOSPICE                           1342\n",
       "PSYCH FACILITY                     823\n",
       "AGAINST ADVICE                     681\n",
       "OTHER FACILITY                     469\n",
       "ASSISTED LIVING                    175\n",
       "HEALTHCARE FACILITY                140\n",
       "Name: discharge_location, dtype: int64"
      ]
     },
     "execution_count": 21,
     "metadata": {},
     "output_type": "execute_result"
    }
   ],
   "source": [
    "df.discharge_location.value_counts()"
   ]
  },
  {
   "cell_type": "code",
   "execution_count": 22,
   "id": "4a1a2338",
   "metadata": {},
   "outputs": [
    {
     "data": {
      "text/plain": [
       "HOME                            115951\n",
       "Other                            82889\n",
       "HOME HEALTH CARE                 27479\n",
       "SKILLED NURSING FACILITY         15246\n",
       "REHAB                             5272\n",
       "DIED                              5184\n",
       "ACUTE HOSPITAL                    2489\n",
       "CHRONIC/LONG TERM ACUTE CARE      2286\n",
       "Name: discharge_location, dtype: int64"
      ]
     },
     "execution_count": 22,
     "metadata": {},
     "output_type": "execute_result"
    }
   ],
   "source": [
    "df = generic_util_instance.replace_nan(df, 'discharge_location', 'Other')\n",
    "df = generic_util_instance.replace_column_value(df, 'discharge_location', 2000, 'Other')\n",
    "df.discharge_location.value_counts()"
   ]
  },
  {
   "cell_type": "code",
   "execution_count": 23,
   "id": "a2aafa9d",
   "metadata": {},
   "outputs": [
    {
     "data": {
      "text/plain": [
       "Other       173946\n",
       "Medicare     60100\n",
       "Medicaid     22750\n",
       "Name: insurance, dtype: int64"
      ]
     },
     "execution_count": 23,
     "metadata": {},
     "output_type": "execute_result"
    }
   ],
   "source": [
    "df.insurance.value_counts()"
   ]
  },
  {
   "cell_type": "code",
   "execution_count": 24,
   "id": "127e91ae",
   "metadata": {},
   "outputs": [
    {
     "data": {
      "text/plain": [
       "0"
      ]
     },
     "execution_count": 24,
     "metadata": {},
     "output_type": "execute_result"
    }
   ],
   "source": [
    "df.insurance.isna().sum()"
   ]
  },
  {
   "cell_type": "code",
   "execution_count": 25,
   "id": "9252f052",
   "metadata": {},
   "outputs": [
    {
     "data": {
      "text/plain": [
       "0"
      ]
     },
     "execution_count": 25,
     "metadata": {},
     "output_type": "execute_result"
    }
   ],
   "source": [
    "df.language.isna().sum()"
   ]
  },
  {
   "cell_type": "code",
   "execution_count": 26,
   "id": "cf16c992",
   "metadata": {},
   "outputs": [
    {
     "data": {
      "text/plain": [
       "ENGLISH    237922\n",
       "?           18874\n",
       "Name: language, dtype: int64"
      ]
     },
     "execution_count": 26,
     "metadata": {},
     "output_type": "execute_result"
    }
   ],
   "source": [
    "df.language.value_counts()"
   ]
  },
  {
   "cell_type": "code",
   "execution_count": 27,
   "id": "e5cf798b",
   "metadata": {},
   "outputs": [
    {
     "data": {
      "text/plain": [
       "ENGLISH    237922\n",
       "Other       18874\n",
       "Name: language, dtype: int64"
      ]
     },
     "execution_count": 27,
     "metadata": {},
     "output_type": "execute_result"
    }
   ],
   "source": [
    "df = generic_util_instance.replace_column_value(df, 'language', 23000, 'Other')\n",
    "df.language.value_counts()"
   ]
  },
  {
   "cell_type": "code",
   "execution_count": 28,
   "id": "bacd9ebd",
   "metadata": {},
   "outputs": [
    {
     "data": {
      "text/plain": [
       "63460"
      ]
     },
     "execution_count": 28,
     "metadata": {},
     "output_type": "execute_result"
    }
   ],
   "source": [
    "df.marital_status.isna().sum()"
   ]
  },
  {
   "cell_type": "code",
   "execution_count": 29,
   "id": "b0e2e08d",
   "metadata": {},
   "outputs": [
    {
     "data": {
      "text/plain": [
       "MARRIED     84862\n",
       "SINGLE      78341\n",
       "WIDOWED     17862\n",
       "DIVORCED    12271\n",
       "Name: marital_status, dtype: int64"
      ]
     },
     "execution_count": 29,
     "metadata": {},
     "output_type": "execute_result"
    }
   ],
   "source": [
    "df.marital_status.value_counts()"
   ]
  },
  {
   "cell_type": "code",
   "execution_count": 30,
   "id": "0d034344",
   "metadata": {},
   "outputs": [
    {
     "data": {
      "text/plain": [
       "MARRIED     84862\n",
       "SINGLE      78341\n",
       "Other       63460\n",
       "WIDOWED     17862\n",
       "DIVORCED    12271\n",
       "Name: marital_status, dtype: int64"
      ]
     },
     "execution_count": 30,
     "metadata": {},
     "output_type": "execute_result"
    }
   ],
   "source": [
    "df = generic_util_instance.replace_nan(df, 'marital_status', 'Other')\n",
    "df.marital_status.value_counts()"
   ]
  },
  {
   "cell_type": "code",
   "execution_count": 31,
   "id": "21ba8ad7",
   "metadata": {},
   "outputs": [
    {
     "data": {
      "text/plain": [
       "0"
      ]
     },
     "execution_count": 31,
     "metadata": {},
     "output_type": "execute_result"
    }
   ],
   "source": [
    "df.ethnicity.isna().sum()"
   ]
  },
  {
   "cell_type": "code",
   "execution_count": 32,
   "id": "ef47df0c",
   "metadata": {},
   "outputs": [
    {
     "data": {
      "text/plain": [
       "WHITE                            159432\n",
       "BLACK/AFRICAN AMERICAN            31179\n",
       "ASIAN                             16522\n",
       "UNKNOWN                           16443\n",
       "OTHER                             15854\n",
       "HISPANIC/LATINO                   13334\n",
       "UNABLE TO OBTAIN                   3084\n",
       "AMERICAN INDIAN/ALASKA NATIVE       948\n",
       "Name: ethnicity, dtype: int64"
      ]
     },
     "execution_count": 32,
     "metadata": {},
     "output_type": "execute_result"
    }
   ],
   "source": [
    "df.ethnicity.value_counts()"
   ]
  },
  {
   "cell_type": "code",
   "execution_count": 33,
   "id": "ccd1199f",
   "metadata": {},
   "outputs": [
    {
     "data": {
      "text/plain": [
       "WHITE                     159432\n",
       "BLACK/AFRICAN AMERICAN     31179\n",
       "OTHER                      19886\n",
       "ASIAN                      16522\n",
       "UNKNOWN                    16443\n",
       "HISPANIC/LATINO            13334\n",
       "Name: ethnicity, dtype: int64"
      ]
     },
     "execution_count": 33,
     "metadata": {},
     "output_type": "execute_result"
    }
   ],
   "source": [
    "df = generic_util_instance.replace_column_value(df, 'ethnicity', 4500, 'OTHER')\n",
    "df.ethnicity.value_counts()"
   ]
  },
  {
   "cell_type": "code",
   "execution_count": 34,
   "id": "4314629a",
   "metadata": {},
   "outputs": [
    {
     "data": {
      "text/plain": [
       "0    251479\n",
       "1      5317\n",
       "Name: hospital_expire_flag, dtype: int64"
      ]
     },
     "execution_count": 34,
     "metadata": {},
     "output_type": "execute_result"
    }
   ],
   "source": [
    "df.hospital_expire_flag.value_counts()"
   ]
  },
  {
   "cell_type": "code",
   "execution_count": 35,
   "id": "80393c66",
   "metadata": {},
   "outputs": [
    {
     "data": {
      "text/plain": [
       "0"
      ]
     },
     "execution_count": 35,
     "metadata": {},
     "output_type": "execute_result"
    }
   ],
   "source": [
    "df.hospital_expire_flag.isna().sum()"
   ]
  },
  {
   "cell_type": "code",
   "execution_count": 36,
   "id": "455ecbca",
   "metadata": {},
   "outputs": [
    {
     "data": {
      "text/plain": [
       "F    133426\n",
       "M    123370\n",
       "Name: gender, dtype: int64"
      ]
     },
     "execution_count": 36,
     "metadata": {},
     "output_type": "execute_result"
    }
   ],
   "source": [
    "df.gender.value_counts()"
   ]
  },
  {
   "cell_type": "code",
   "execution_count": 37,
   "id": "9980e6ac",
   "metadata": {},
   "outputs": [
    {
     "data": {
      "text/plain": [
       "0"
      ]
     },
     "execution_count": 37,
     "metadata": {},
     "output_type": "execute_result"
    }
   ],
   "source": [
    "df.gender.isna().sum()"
   ]
  },
  {
   "cell_type": "code",
   "execution_count": 38,
   "id": "d53556a3",
   "metadata": {},
   "outputs": [
    {
     "data": {
      "text/plain": [
       "0"
      ]
     },
     "execution_count": 38,
     "metadata": {},
     "output_type": "execute_result"
    }
   ],
   "source": [
    "df.anchor_age.isna().sum()"
   ]
  },
  {
   "cell_type": "code",
   "execution_count": 39,
   "id": "bc669467",
   "metadata": {},
   "outputs": [
    {
     "data": {
      "text/plain": [
       "0"
      ]
     },
     "execution_count": 39,
     "metadata": {},
     "output_type": "execute_result"
    }
   ],
   "source": [
    "df.eventtype.isna().sum()"
   ]
  },
  {
   "cell_type": "code",
   "execution_count": 40,
   "id": "976ab5cc",
   "metadata": {},
   "outputs": [
    {
     "data": {
      "text/plain": [
       "discharge    227823\n",
       "admit         24732\n",
       "transfer       4131\n",
       "ED              110\n",
       "Name: eventtype, dtype: int64"
      ]
     },
     "execution_count": 40,
     "metadata": {},
     "output_type": "execute_result"
    }
   ],
   "source": [
    "df.eventtype.value_counts()"
   ]
  },
  {
   "cell_type": "code",
   "execution_count": 41,
   "id": "4fcf0369",
   "metadata": {},
   "outputs": [
    {
     "data": {
      "text/plain": [
       "256003"
      ]
     },
     "execution_count": 41,
     "metadata": {},
     "output_type": "execute_result"
    }
   ],
   "source": [
    "df.careunit.isna().sum()"
   ]
  },
  {
   "cell_type": "code",
   "execution_count": 42,
   "id": "14665d64",
   "metadata": {},
   "outputs": [
    {
     "data": {
      "text/plain": [
       "Medicine                               197\n",
       "PACU                                   138\n",
       "Emergency Department                   110\n",
       "Neurology                               64\n",
       "Med/Surg                                60\n",
       "Vascular                                53\n",
       "Labor & Delivery                        35\n",
       "Nursery - Well Babies                   23\n",
       "Surgery                                 17\n",
       "Surgery/Trauma                          15\n",
       "Cardiac Surgery                         10\n",
       "Med/Surg/GYN                             9\n",
       "Transplant                               9\n",
       "Medicine/Cardiology                      8\n",
       "Med/Surg/Trauma                          8\n",
       "Trauma SICU (TSICU)                      4\n",
       "Emergency Department Observation         4\n",
       "Coronary Care Unit (CCU)                 3\n",
       "Special Care Nursery (SCN)               3\n",
       "Observation                              3\n",
       "Hematology/Oncology                      3\n",
       "Medical/Surgical (Gynecology)            3\n",
       "Obstetrics Postpartum                    2\n",
       "Thoracic Surgery                         2\n",
       "Psychiatry                               2\n",
       "Cardiology                               2\n",
       "Neuro Stepdown                           2\n",
       "Obstetrics Antepartum                    1\n",
       "Cardiology Surgery Intermediate          1\n",
       "Medical Intensive Care Unit (MICU)       1\n",
       "Neonatal Intensive Care Unit (NICU)      1\n",
       "Name: careunit, dtype: int64"
      ]
     },
     "execution_count": 42,
     "metadata": {},
     "output_type": "execute_result"
    }
   ],
   "source": [
    "df.careunit.value_counts()"
   ]
  },
  {
   "cell_type": "code",
   "execution_count": 43,
   "id": "6d73ed57",
   "metadata": {},
   "outputs": [],
   "source": [
    "#Careunit has lot of nans, dropping it.\n",
    "df.drop('careunit', axis=1, inplace = True)"
   ]
  },
  {
   "cell_type": "code",
   "execution_count": 44,
   "id": "4a7d8376",
   "metadata": {},
   "outputs": [
    {
     "data": {
      "text/html": [
       "<div>\n",
       "<style scoped>\n",
       "    .dataframe tbody tr th:only-of-type {\n",
       "        vertical-align: middle;\n",
       "    }\n",
       "\n",
       "    .dataframe tbody tr th {\n",
       "        vertical-align: top;\n",
       "    }\n",
       "\n",
       "    .dataframe thead th {\n",
       "        text-align: right;\n",
       "    }\n",
       "</style>\n",
       "<table border=\"1\" class=\"dataframe\">\n",
       "  <thead>\n",
       "    <tr style=\"text-align: right;\">\n",
       "      <th></th>\n",
       "      <th>admission_type</th>\n",
       "      <th>admission_location</th>\n",
       "      <th>discharge_location</th>\n",
       "      <th>insurance</th>\n",
       "      <th>language</th>\n",
       "      <th>marital_status</th>\n",
       "      <th>ethnicity</th>\n",
       "      <th>hospital_expire_flag</th>\n",
       "      <th>los_admission</th>\n",
       "      <th>gender</th>\n",
       "      <th>...</th>\n",
       "      <th>flag</th>\n",
       "      <th>priority</th>\n",
       "      <th>drg_type</th>\n",
       "      <th>drg_code</th>\n",
       "      <th>drug</th>\n",
       "      <th>route</th>\n",
       "      <th>org_name</th>\n",
       "      <th>test_name</th>\n",
       "      <th>ab_name</th>\n",
       "      <th>curr_service</th>\n",
       "    </tr>\n",
       "  </thead>\n",
       "  <tbody>\n",
       "    <tr>\n",
       "      <th>0</th>\n",
       "      <td>ELECTIVE</td>\n",
       "      <td>Other</td>\n",
       "      <td>HOME</td>\n",
       "      <td>Other</td>\n",
       "      <td>ENGLISH</td>\n",
       "      <td>Other</td>\n",
       "      <td>WHITE</td>\n",
       "      <td>0</td>\n",
       "      <td>1.968056</td>\n",
       "      <td>M</td>\n",
       "      <td>...</td>\n",
       "      <td>NaN</td>\n",
       "      <td>STAT</td>\n",
       "      <td>HCFA</td>\n",
       "      <td>795.0</td>\n",
       "      <td>Vaccine Book</td>\n",
       "      <td>IM</td>\n",
       "      <td>NaN</td>\n",
       "      <td>Blood Culture, Routine</td>\n",
       "      <td>NaN</td>\n",
       "      <td>NB</td>\n",
       "    </tr>\n",
       "    <tr>\n",
       "      <th>1</th>\n",
       "      <td>EW EMER.</td>\n",
       "      <td>EMERGENCY ROOM</td>\n",
       "      <td>HOME</td>\n",
       "      <td>Medicaid</td>\n",
       "      <td>ENGLISH</td>\n",
       "      <td>WIDOWED</td>\n",
       "      <td>WHITE</td>\n",
       "      <td>0</td>\n",
       "      <td>2.222222</td>\n",
       "      <td>F</td>\n",
       "      <td>...</td>\n",
       "      <td>abnormal</td>\n",
       "      <td>ROUTINE</td>\n",
       "      <td>HCFA</td>\n",
       "      <td>442.0</td>\n",
       "      <td>Influenza Vaccine Quadrivalent</td>\n",
       "      <td>IM</td>\n",
       "      <td>NaN</td>\n",
       "      <td>EPSTEIN-BARR VIRUS VCA-IgG AB</td>\n",
       "      <td>NaN</td>\n",
       "      <td>MED</td>\n",
       "    </tr>\n",
       "    <tr>\n",
       "      <th>2</th>\n",
       "      <td>ELECTIVE</td>\n",
       "      <td>Other</td>\n",
       "      <td>HOME</td>\n",
       "      <td>Other</td>\n",
       "      <td>ENGLISH</td>\n",
       "      <td>Other</td>\n",
       "      <td>ASIAN</td>\n",
       "      <td>0</td>\n",
       "      <td>1.865278</td>\n",
       "      <td>F</td>\n",
       "      <td>...</td>\n",
       "      <td>NaN</td>\n",
       "      <td>STAT</td>\n",
       "      <td>HCFA</td>\n",
       "      <td>795.0</td>\n",
       "      <td>Erythromycin 0.5% Ophth Oint</td>\n",
       "      <td>BOTH EYES</td>\n",
       "      <td>NaN</td>\n",
       "      <td>FECAL CULTURE</td>\n",
       "      <td>NaN</td>\n",
       "      <td>NB</td>\n",
       "    </tr>\n",
       "    <tr>\n",
       "      <th>3</th>\n",
       "      <td>EU OBSERVATION</td>\n",
       "      <td>EMERGENCY ROOM</td>\n",
       "      <td>Other</td>\n",
       "      <td>Other</td>\n",
       "      <td>ENGLISH</td>\n",
       "      <td>SINGLE</td>\n",
       "      <td>WHITE</td>\n",
       "      <td>0</td>\n",
       "      <td>0.298611</td>\n",
       "      <td>F</td>\n",
       "      <td>...</td>\n",
       "      <td>NaN</td>\n",
       "      <td>NaN</td>\n",
       "      <td>NaN</td>\n",
       "      <td>NaN</td>\n",
       "      <td>NaN</td>\n",
       "      <td>NaN</td>\n",
       "      <td>NaN</td>\n",
       "      <td>NaN</td>\n",
       "      <td>NaN</td>\n",
       "      <td>MED</td>\n",
       "    </tr>\n",
       "    <tr>\n",
       "      <th>4</th>\n",
       "      <td>ELECTIVE</td>\n",
       "      <td>Other</td>\n",
       "      <td>HOME</td>\n",
       "      <td>Other</td>\n",
       "      <td>ENGLISH</td>\n",
       "      <td>Other</td>\n",
       "      <td>WHITE</td>\n",
       "      <td>0</td>\n",
       "      <td>4.109722</td>\n",
       "      <td>M</td>\n",
       "      <td>...</td>\n",
       "      <td>NaN</td>\n",
       "      <td>STAT</td>\n",
       "      <td>HCFA</td>\n",
       "      <td>795.0</td>\n",
       "      <td>Erythromycin 0.5% Ophth Oint</td>\n",
       "      <td>BOTH EYES</td>\n",
       "      <td>NaN</td>\n",
       "      <td>NaN</td>\n",
       "      <td>NaN</td>\n",
       "      <td>NB</td>\n",
       "    </tr>\n",
       "  </tbody>\n",
       "</table>\n",
       "<p>5 rows × 22 columns</p>\n",
       "</div>"
      ],
      "text/plain": [
       "   admission_type admission_location discharge_location insurance language  \\\n",
       "0        ELECTIVE              Other               HOME     Other  ENGLISH   \n",
       "1        EW EMER.     EMERGENCY ROOM               HOME  Medicaid  ENGLISH   \n",
       "2        ELECTIVE              Other               HOME     Other  ENGLISH   \n",
       "3  EU OBSERVATION     EMERGENCY ROOM              Other     Other  ENGLISH   \n",
       "4        ELECTIVE              Other               HOME     Other  ENGLISH   \n",
       "\n",
       "  marital_status ethnicity  hospital_expire_flag  los_admission gender  ...  \\\n",
       "0          Other     WHITE                     0       1.968056      M  ...   \n",
       "1        WIDOWED     WHITE                     0       2.222222      F  ...   \n",
       "2          Other     ASIAN                     0       1.865278      F  ...   \n",
       "3         SINGLE     WHITE                     0       0.298611      F  ...   \n",
       "4          Other     WHITE                     0       4.109722      M  ...   \n",
       "\n",
       "       flag priority drg_type drg_code                            drug  \\\n",
       "0       NaN     STAT     HCFA    795.0                    Vaccine Book   \n",
       "1  abnormal  ROUTINE     HCFA    442.0  Influenza Vaccine Quadrivalent   \n",
       "2       NaN     STAT     HCFA    795.0    Erythromycin 0.5% Ophth Oint   \n",
       "3       NaN      NaN      NaN      NaN                             NaN   \n",
       "4       NaN     STAT     HCFA    795.0    Erythromycin 0.5% Ophth Oint   \n",
       "\n",
       "       route org_name                      test_name ab_name curr_service  \n",
       "0         IM      NaN         Blood Culture, Routine     NaN           NB  \n",
       "1         IM      NaN  EPSTEIN-BARR VIRUS VCA-IgG AB     NaN          MED  \n",
       "2  BOTH EYES      NaN                  FECAL CULTURE     NaN           NB  \n",
       "3        NaN      NaN                            NaN     NaN          MED  \n",
       "4  BOTH EYES      NaN                            NaN     NaN           NB  \n",
       "\n",
       "[5 rows x 22 columns]"
      ]
     },
     "execution_count": 44,
     "metadata": {},
     "output_type": "execute_result"
    }
   ],
   "source": [
    "df.head()"
   ]
  },
  {
   "cell_type": "code",
   "execution_count": 45,
   "id": "bde07492",
   "metadata": {},
   "outputs": [
    {
     "ename": "AttributeError",
     "evalue": "'DataFrame' object has no attribute 'diagnosis_icd_code'",
     "output_type": "error",
     "traceback": [
      "\u001b[0;31m---------------------------------------------------------------------------\u001b[0m",
      "\u001b[0;31mAttributeError\u001b[0m                            Traceback (most recent call last)",
      "\u001b[0;32m/tmp/ipykernel_433/1270639773.py\u001b[0m in \u001b[0;36m<module>\u001b[0;34m\u001b[0m\n\u001b[0;32m----> 1\u001b[0;31m \u001b[0mdf\u001b[0m\u001b[0;34m.\u001b[0m\u001b[0mdiagnosis_icd_code\u001b[0m\u001b[0;34m.\u001b[0m\u001b[0misna\u001b[0m\u001b[0;34m(\u001b[0m\u001b[0;34m)\u001b[0m\u001b[0;34m.\u001b[0m\u001b[0msum\u001b[0m\u001b[0;34m(\u001b[0m\u001b[0;34m)\u001b[0m\u001b[0;34m\u001b[0m\u001b[0;34m\u001b[0m\u001b[0m\n\u001b[0m",
      "\u001b[0;32m~/Development/virtual_envs/homl_mimic/lib/python3.8/site-packages/pandas/core/generic.py\u001b[0m in \u001b[0;36m__getattr__\u001b[0;34m(self, name)\u001b[0m\n\u001b[1;32m   5485\u001b[0m         ):\n\u001b[1;32m   5486\u001b[0m             \u001b[0;32mreturn\u001b[0m \u001b[0mself\u001b[0m\u001b[0;34m[\u001b[0m\u001b[0mname\u001b[0m\u001b[0;34m]\u001b[0m\u001b[0;34m\u001b[0m\u001b[0;34m\u001b[0m\u001b[0m\n\u001b[0;32m-> 5487\u001b[0;31m         \u001b[0;32mreturn\u001b[0m \u001b[0mobject\u001b[0m\u001b[0;34m.\u001b[0m\u001b[0m__getattribute__\u001b[0m\u001b[0;34m(\u001b[0m\u001b[0mself\u001b[0m\u001b[0;34m,\u001b[0m \u001b[0mname\u001b[0m\u001b[0;34m)\u001b[0m\u001b[0;34m\u001b[0m\u001b[0;34m\u001b[0m\u001b[0m\n\u001b[0m\u001b[1;32m   5488\u001b[0m \u001b[0;34m\u001b[0m\u001b[0m\n\u001b[1;32m   5489\u001b[0m     \u001b[0;32mdef\u001b[0m \u001b[0m__setattr__\u001b[0m\u001b[0;34m(\u001b[0m\u001b[0mself\u001b[0m\u001b[0;34m,\u001b[0m \u001b[0mname\u001b[0m\u001b[0;34m:\u001b[0m \u001b[0mstr\u001b[0m\u001b[0;34m,\u001b[0m \u001b[0mvalue\u001b[0m\u001b[0;34m)\u001b[0m \u001b[0;34m->\u001b[0m \u001b[0;32mNone\u001b[0m\u001b[0;34m:\u001b[0m\u001b[0;34m\u001b[0m\u001b[0;34m\u001b[0m\u001b[0m\n",
      "\u001b[0;31mAttributeError\u001b[0m: 'DataFrame' object has no attribute 'diagnosis_icd_code'"
     ]
    }
   ],
   "source": [
    "#df.diagnosis_icd_code.isna().sum()"
   ]
  },
  {
   "cell_type": "code",
   "execution_count": 46,
   "id": "40ab472d",
   "metadata": {},
   "outputs": [
    {
     "ename": "KeyError",
     "evalue": "'diagnosis_icd_code'",
     "output_type": "error",
     "traceback": [
      "\u001b[0;31m---------------------------------------------------------------------------\u001b[0m",
      "\u001b[0;31mKeyError\u001b[0m                                  Traceback (most recent call last)",
      "\u001b[0;32m~/Development/virtual_envs/homl_mimic/lib/python3.8/site-packages/pandas/core/indexes/base.py\u001b[0m in \u001b[0;36mget_loc\u001b[0;34m(self, key, method, tolerance)\u001b[0m\n\u001b[1;32m   3360\u001b[0m             \u001b[0;32mtry\u001b[0m\u001b[0;34m:\u001b[0m\u001b[0;34m\u001b[0m\u001b[0;34m\u001b[0m\u001b[0m\n\u001b[0;32m-> 3361\u001b[0;31m                 \u001b[0;32mreturn\u001b[0m \u001b[0mself\u001b[0m\u001b[0;34m.\u001b[0m\u001b[0m_engine\u001b[0m\u001b[0;34m.\u001b[0m\u001b[0mget_loc\u001b[0m\u001b[0;34m(\u001b[0m\u001b[0mcasted_key\u001b[0m\u001b[0;34m)\u001b[0m\u001b[0;34m\u001b[0m\u001b[0;34m\u001b[0m\u001b[0m\n\u001b[0m\u001b[1;32m   3362\u001b[0m             \u001b[0;32mexcept\u001b[0m \u001b[0mKeyError\u001b[0m \u001b[0;32mas\u001b[0m \u001b[0merr\u001b[0m\u001b[0;34m:\u001b[0m\u001b[0;34m\u001b[0m\u001b[0;34m\u001b[0m\u001b[0m\n",
      "\u001b[0;32m~/Development/virtual_envs/homl_mimic/lib/python3.8/site-packages/pandas/_libs/index.pyx\u001b[0m in \u001b[0;36mpandas._libs.index.IndexEngine.get_loc\u001b[0;34m()\u001b[0m\n",
      "\u001b[0;32m~/Development/virtual_envs/homl_mimic/lib/python3.8/site-packages/pandas/_libs/index.pyx\u001b[0m in \u001b[0;36mpandas._libs.index.IndexEngine.get_loc\u001b[0;34m()\u001b[0m\n",
      "\u001b[0;32mpandas/_libs/hashtable_class_helper.pxi\u001b[0m in \u001b[0;36mpandas._libs.hashtable.PyObjectHashTable.get_item\u001b[0;34m()\u001b[0m\n",
      "\u001b[0;32mpandas/_libs/hashtable_class_helper.pxi\u001b[0m in \u001b[0;36mpandas._libs.hashtable.PyObjectHashTable.get_item\u001b[0;34m()\u001b[0m\n",
      "\u001b[0;31mKeyError\u001b[0m: 'diagnosis_icd_code'",
      "\nThe above exception was the direct cause of the following exception:\n",
      "\u001b[0;31mKeyError\u001b[0m                                  Traceback (most recent call last)",
      "\u001b[0;32m/tmp/ipykernel_433/260610618.py\u001b[0m in \u001b[0;36m<module>\u001b[0;34m\u001b[0m\n\u001b[0;32m----> 1\u001b[0;31m \u001b[0mdf\u001b[0m \u001b[0;34m=\u001b[0m \u001b[0mgeneric_util_instance\u001b[0m\u001b[0;34m.\u001b[0m\u001b[0mreplace_nan\u001b[0m\u001b[0;34m(\u001b[0m\u001b[0mdf\u001b[0m\u001b[0;34m,\u001b[0m \u001b[0;34m'diagnosis_icd_code'\u001b[0m\u001b[0;34m,\u001b[0m \u001b[0;34m'ICD_DIAGNOSIS'\u001b[0m\u001b[0;34m)\u001b[0m\u001b[0;34m\u001b[0m\u001b[0;34m\u001b[0m\u001b[0m\n\u001b[0m\u001b[1;32m      2\u001b[0m \u001b[0mdf\u001b[0m\u001b[0;34m.\u001b[0m\u001b[0mdiagnosis_icd_code\u001b[0m\u001b[0;34m.\u001b[0m\u001b[0misna\u001b[0m\u001b[0;34m(\u001b[0m\u001b[0;34m)\u001b[0m\u001b[0;34m.\u001b[0m\u001b[0msum\u001b[0m\u001b[0;34m(\u001b[0m\u001b[0;34m)\u001b[0m\u001b[0;34m\u001b[0m\u001b[0;34m\u001b[0m\u001b[0m\n",
      "\u001b[0;32m~/Development/PLHI/hands_on_ml/mimic/handson_ml2_mimic_iv/utils/util.py\u001b[0m in \u001b[0;36mreplace_nan\u001b[0;34m(self, df, column_name, value_to_replace)\u001b[0m\n\u001b[1;32m     20\u001b[0m \u001b[0;34m\u001b[0m\u001b[0m\n\u001b[1;32m     21\u001b[0m     \u001b[0;32mdef\u001b[0m \u001b[0mreplace_nan\u001b[0m\u001b[0;34m(\u001b[0m\u001b[0mself\u001b[0m\u001b[0;34m,\u001b[0m \u001b[0mdf\u001b[0m\u001b[0;34m,\u001b[0m \u001b[0mcolumn_name\u001b[0m\u001b[0;34m,\u001b[0m \u001b[0mvalue_to_replace\u001b[0m\u001b[0;34m)\u001b[0m\u001b[0;34m:\u001b[0m\u001b[0;34m\u001b[0m\u001b[0;34m\u001b[0m\u001b[0m\n\u001b[0;32m---> 22\u001b[0;31m         \u001b[0mdf\u001b[0m\u001b[0;34m.\u001b[0m\u001b[0mloc\u001b[0m\u001b[0;34m[\u001b[0m\u001b[0;34m(\u001b[0m\u001b[0mdf\u001b[0m\u001b[0;34m[\u001b[0m\u001b[0mcolumn_name\u001b[0m\u001b[0;34m]\u001b[0m\u001b[0;34m.\u001b[0m\u001b[0misna\u001b[0m\u001b[0;34m(\u001b[0m\u001b[0;34m)\u001b[0m\u001b[0;34m)\u001b[0m\u001b[0;34m,\u001b[0m \u001b[0mcolumn_name\u001b[0m\u001b[0;34m]\u001b[0m \u001b[0;34m=\u001b[0m \u001b[0mvalue_to_replace\u001b[0m\u001b[0;34m\u001b[0m\u001b[0;34m\u001b[0m\u001b[0m\n\u001b[0m\u001b[1;32m     23\u001b[0m         \u001b[0;32mreturn\u001b[0m \u001b[0mdf\u001b[0m\u001b[0;34m\u001b[0m\u001b[0;34m\u001b[0m\u001b[0m\n\u001b[1;32m     24\u001b[0m \u001b[0;34m\u001b[0m\u001b[0m\n",
      "\u001b[0;32m~/Development/virtual_envs/homl_mimic/lib/python3.8/site-packages/pandas/core/frame.py\u001b[0m in \u001b[0;36m__getitem__\u001b[0;34m(self, key)\u001b[0m\n\u001b[1;32m   3456\u001b[0m             \u001b[0;32mif\u001b[0m \u001b[0mself\u001b[0m\u001b[0;34m.\u001b[0m\u001b[0mcolumns\u001b[0m\u001b[0;34m.\u001b[0m\u001b[0mnlevels\u001b[0m \u001b[0;34m>\u001b[0m \u001b[0;36m1\u001b[0m\u001b[0;34m:\u001b[0m\u001b[0;34m\u001b[0m\u001b[0;34m\u001b[0m\u001b[0m\n\u001b[1;32m   3457\u001b[0m                 \u001b[0;32mreturn\u001b[0m \u001b[0mself\u001b[0m\u001b[0;34m.\u001b[0m\u001b[0m_getitem_multilevel\u001b[0m\u001b[0;34m(\u001b[0m\u001b[0mkey\u001b[0m\u001b[0;34m)\u001b[0m\u001b[0;34m\u001b[0m\u001b[0;34m\u001b[0m\u001b[0m\n\u001b[0;32m-> 3458\u001b[0;31m             \u001b[0mindexer\u001b[0m \u001b[0;34m=\u001b[0m \u001b[0mself\u001b[0m\u001b[0;34m.\u001b[0m\u001b[0mcolumns\u001b[0m\u001b[0;34m.\u001b[0m\u001b[0mget_loc\u001b[0m\u001b[0;34m(\u001b[0m\u001b[0mkey\u001b[0m\u001b[0;34m)\u001b[0m\u001b[0;34m\u001b[0m\u001b[0;34m\u001b[0m\u001b[0m\n\u001b[0m\u001b[1;32m   3459\u001b[0m             \u001b[0;32mif\u001b[0m \u001b[0mis_integer\u001b[0m\u001b[0;34m(\u001b[0m\u001b[0mindexer\u001b[0m\u001b[0;34m)\u001b[0m\u001b[0;34m:\u001b[0m\u001b[0;34m\u001b[0m\u001b[0;34m\u001b[0m\u001b[0m\n\u001b[1;32m   3460\u001b[0m                 \u001b[0mindexer\u001b[0m \u001b[0;34m=\u001b[0m \u001b[0;34m[\u001b[0m\u001b[0mindexer\u001b[0m\u001b[0;34m]\u001b[0m\u001b[0;34m\u001b[0m\u001b[0;34m\u001b[0m\u001b[0m\n",
      "\u001b[0;32m~/Development/virtual_envs/homl_mimic/lib/python3.8/site-packages/pandas/core/indexes/base.py\u001b[0m in \u001b[0;36mget_loc\u001b[0;34m(self, key, method, tolerance)\u001b[0m\n\u001b[1;32m   3361\u001b[0m                 \u001b[0;32mreturn\u001b[0m \u001b[0mself\u001b[0m\u001b[0;34m.\u001b[0m\u001b[0m_engine\u001b[0m\u001b[0;34m.\u001b[0m\u001b[0mget_loc\u001b[0m\u001b[0;34m(\u001b[0m\u001b[0mcasted_key\u001b[0m\u001b[0;34m)\u001b[0m\u001b[0;34m\u001b[0m\u001b[0;34m\u001b[0m\u001b[0m\n\u001b[1;32m   3362\u001b[0m             \u001b[0;32mexcept\u001b[0m \u001b[0mKeyError\u001b[0m \u001b[0;32mas\u001b[0m \u001b[0merr\u001b[0m\u001b[0;34m:\u001b[0m\u001b[0;34m\u001b[0m\u001b[0;34m\u001b[0m\u001b[0m\n\u001b[0;32m-> 3363\u001b[0;31m                 \u001b[0;32mraise\u001b[0m \u001b[0mKeyError\u001b[0m\u001b[0;34m(\u001b[0m\u001b[0mkey\u001b[0m\u001b[0;34m)\u001b[0m \u001b[0;32mfrom\u001b[0m \u001b[0merr\u001b[0m\u001b[0;34m\u001b[0m\u001b[0;34m\u001b[0m\u001b[0m\n\u001b[0m\u001b[1;32m   3364\u001b[0m \u001b[0;34m\u001b[0m\u001b[0m\n\u001b[1;32m   3365\u001b[0m         \u001b[0;32mif\u001b[0m \u001b[0mis_scalar\u001b[0m\u001b[0;34m(\u001b[0m\u001b[0mkey\u001b[0m\u001b[0;34m)\u001b[0m \u001b[0;32mand\u001b[0m \u001b[0misna\u001b[0m\u001b[0;34m(\u001b[0m\u001b[0mkey\u001b[0m\u001b[0;34m)\u001b[0m \u001b[0;32mand\u001b[0m \u001b[0;32mnot\u001b[0m \u001b[0mself\u001b[0m\u001b[0;34m.\u001b[0m\u001b[0mhasnans\u001b[0m\u001b[0;34m:\u001b[0m\u001b[0;34m\u001b[0m\u001b[0;34m\u001b[0m\u001b[0m\n",
      "\u001b[0;31mKeyError\u001b[0m: 'diagnosis_icd_code'"
     ]
    }
   ],
   "source": [
    "# df = generic_util_instance.replace_nan(df, 'diagnosis_icd_code', 'ICD_DIAGNOSIS')\n",
    "# df.diagnosis_icd_code.isna().sum()"
   ]
  },
  {
   "cell_type": "code",
   "execution_count": 47,
   "id": "b2ef7780",
   "metadata": {},
   "outputs": [
    {
     "ename": "AttributeError",
     "evalue": "'DataFrame' object has no attribute 'procedures_icd_code'",
     "output_type": "error",
     "traceback": [
      "\u001b[0;31m---------------------------------------------------------------------------\u001b[0m",
      "\u001b[0;31mAttributeError\u001b[0m                            Traceback (most recent call last)",
      "\u001b[0;32m/tmp/ipykernel_433/4096556030.py\u001b[0m in \u001b[0;36m<module>\u001b[0;34m\u001b[0m\n\u001b[0;32m----> 1\u001b[0;31m \u001b[0mdf\u001b[0m\u001b[0;34m.\u001b[0m\u001b[0mprocedures_icd_code\u001b[0m\u001b[0;34m.\u001b[0m\u001b[0misna\u001b[0m\u001b[0;34m(\u001b[0m\u001b[0;34m)\u001b[0m\u001b[0;34m.\u001b[0m\u001b[0msum\u001b[0m\u001b[0;34m(\u001b[0m\u001b[0;34m)\u001b[0m\u001b[0;34m\u001b[0m\u001b[0;34m\u001b[0m\u001b[0m\n\u001b[0m",
      "\u001b[0;32m~/Development/virtual_envs/homl_mimic/lib/python3.8/site-packages/pandas/core/generic.py\u001b[0m in \u001b[0;36m__getattr__\u001b[0;34m(self, name)\u001b[0m\n\u001b[1;32m   5485\u001b[0m         ):\n\u001b[1;32m   5486\u001b[0m             \u001b[0;32mreturn\u001b[0m \u001b[0mself\u001b[0m\u001b[0;34m[\u001b[0m\u001b[0mname\u001b[0m\u001b[0;34m]\u001b[0m\u001b[0;34m\u001b[0m\u001b[0;34m\u001b[0m\u001b[0m\n\u001b[0;32m-> 5487\u001b[0;31m         \u001b[0;32mreturn\u001b[0m \u001b[0mobject\u001b[0m\u001b[0;34m.\u001b[0m\u001b[0m__getattribute__\u001b[0m\u001b[0;34m(\u001b[0m\u001b[0mself\u001b[0m\u001b[0;34m,\u001b[0m \u001b[0mname\u001b[0m\u001b[0;34m)\u001b[0m\u001b[0;34m\u001b[0m\u001b[0;34m\u001b[0m\u001b[0m\n\u001b[0m\u001b[1;32m   5488\u001b[0m \u001b[0;34m\u001b[0m\u001b[0m\n\u001b[1;32m   5489\u001b[0m     \u001b[0;32mdef\u001b[0m \u001b[0m__setattr__\u001b[0m\u001b[0;34m(\u001b[0m\u001b[0mself\u001b[0m\u001b[0;34m,\u001b[0m \u001b[0mname\u001b[0m\u001b[0;34m:\u001b[0m \u001b[0mstr\u001b[0m\u001b[0;34m,\u001b[0m \u001b[0mvalue\u001b[0m\u001b[0;34m)\u001b[0m \u001b[0;34m->\u001b[0m \u001b[0;32mNone\u001b[0m\u001b[0;34m:\u001b[0m\u001b[0;34m\u001b[0m\u001b[0;34m\u001b[0m\u001b[0m\n",
      "\u001b[0;31mAttributeError\u001b[0m: 'DataFrame' object has no attribute 'procedures_icd_code'"
     ]
    }
   ],
   "source": [
    "# df.procedures_icd_code.isna().sum()"
   ]
  },
  {
   "cell_type": "code",
   "execution_count": 48,
   "id": "1f2145a6",
   "metadata": {},
   "outputs": [],
   "source": [
    "# df = generic_util_instance.replace_nan(df, 'procedures_icd_code', 'ICD_PROCEDURES')\n",
    "# df.procedures_icd_code.isna().sum()"
   ]
  },
  {
   "cell_type": "code",
   "execution_count": 49,
   "id": "964d82e1",
   "metadata": {},
   "outputs": [],
   "source": [
    "#df.value.isna().sum()"
   ]
  },
  {
   "cell_type": "code",
   "execution_count": 50,
   "id": "a69f5f93",
   "metadata": {},
   "outputs": [],
   "source": [
    "# #Fill value with 0.\n",
    "# df = generic_util_instance.replace_nan(df, 'value', 0.0)\n",
    "# df.value.isna().sum()"
   ]
  },
  {
   "cell_type": "code",
   "execution_count": 51,
   "id": "a054362d",
   "metadata": {},
   "outputs": [
    {
     "data": {
      "text/plain": [
       "227037"
      ]
     },
     "execution_count": 51,
     "metadata": {},
     "output_type": "execute_result"
    }
   ],
   "source": [
    "df.flag.isna().sum()"
   ]
  },
  {
   "cell_type": "code",
   "execution_count": 52,
   "id": "c7fb2271",
   "metadata": {},
   "outputs": [
    {
     "data": {
      "text/plain": [
       "abnormal    29759\n",
       "Name: flag, dtype: int64"
      ]
     },
     "execution_count": 52,
     "metadata": {},
     "output_type": "execute_result"
    }
   ],
   "source": [
    "df.flag.value_counts()"
   ]
  },
  {
   "cell_type": "code",
   "execution_count": 53,
   "id": "99f02084",
   "metadata": {},
   "outputs": [
    {
     "data": {
      "text/plain": [
       "normal      227037\n",
       "abnormal     29759\n",
       "Name: flag, dtype: int64"
      ]
     },
     "execution_count": 53,
     "metadata": {},
     "output_type": "execute_result"
    }
   ],
   "source": [
    "df = generic_util_instance.replace_nan(df, 'flag', 'normal')\n",
    "df.flag.value_counts()"
   ]
  },
  {
   "cell_type": "code",
   "execution_count": 54,
   "id": "b473f810",
   "metadata": {},
   "outputs": [
    {
     "data": {
      "text/plain": [
       "22086"
      ]
     },
     "execution_count": 54,
     "metadata": {},
     "output_type": "execute_result"
    }
   ],
   "source": [
    "df.priority.isna().sum()"
   ]
  },
  {
   "cell_type": "code",
   "execution_count": 55,
   "id": "30936db9",
   "metadata": {},
   "outputs": [
    {
     "data": {
      "text/plain": [
       "STAT       171757\n",
       "ROUTINE     62953\n",
       "Name: priority, dtype: int64"
      ]
     },
     "execution_count": 55,
     "metadata": {},
     "output_type": "execute_result"
    }
   ],
   "source": [
    "df.priority.value_counts()"
   ]
  },
  {
   "cell_type": "code",
   "execution_count": 56,
   "id": "13f57917",
   "metadata": {},
   "outputs": [
    {
     "data": {
      "text/plain": [
       "STAT       171757\n",
       "ROUTINE     62953\n",
       "OTHER       22086\n",
       "Name: priority, dtype: int64"
      ]
     },
     "execution_count": 56,
     "metadata": {},
     "output_type": "execute_result"
    }
   ],
   "source": [
    "df = generic_util_instance.replace_nan(df, 'priority', 'OTHER')\n",
    "df.priority.value_counts()"
   ]
  },
  {
   "cell_type": "code",
   "execution_count": 57,
   "id": "8f060244",
   "metadata": {},
   "outputs": [
    {
     "data": {
      "text/plain": [
       "Index(['admission_type', 'admission_location', 'discharge_location',\n",
       "       'insurance', 'language', 'marital_status', 'ethnicity',\n",
       "       'hospital_expire_flag', 'los_admission', 'gender', 'anchor_age',\n",
       "       'eventtype', 'flag', 'priority', 'drg_type', 'drg_code', 'drug',\n",
       "       'route', 'org_name', 'test_name', 'ab_name', 'curr_service'],\n",
       "      dtype='object')"
      ]
     },
     "execution_count": 57,
     "metadata": {},
     "output_type": "execute_result"
    }
   ],
   "source": [
    "df.columns"
   ]
  },
  {
   "cell_type": "code",
   "execution_count": 58,
   "id": "d40230f5",
   "metadata": {},
   "outputs": [
    {
     "data": {
      "text/plain": [
       "39931"
      ]
     },
     "execution_count": 58,
     "metadata": {},
     "output_type": "execute_result"
    }
   ],
   "source": [
    "df.drg_type.isna().sum()"
   ]
  },
  {
   "cell_type": "code",
   "execution_count": 59,
   "id": "a2c05e34",
   "metadata": {},
   "outputs": [
    {
     "data": {
      "text/plain": [
       "{'HCFA': 216865}"
      ]
     },
     "execution_count": 59,
     "metadata": {},
     "output_type": "execute_result"
    }
   ],
   "source": [
    "df.drg_type.value_counts().to_dict()"
   ]
  },
  {
   "cell_type": "code",
   "execution_count": 60,
   "id": "078c8707",
   "metadata": {},
   "outputs": [
    {
     "data": {
      "text/plain": [
       "HCFA     216865\n",
       "OTHER     39931\n",
       "Name: drg_type, dtype: int64"
      ]
     },
     "execution_count": 60,
     "metadata": {},
     "output_type": "execute_result"
    }
   ],
   "source": [
    "df = generic_util_instance.replace_nan(df, 'drg_type', 'OTHER')\n",
    "df.drg_type.value_counts()"
   ]
  },
  {
   "cell_type": "code",
   "execution_count": 61,
   "id": "dc990d49",
   "metadata": {},
   "outputs": [
    {
     "data": {
      "text/plain": [
       "39931"
      ]
     },
     "execution_count": 61,
     "metadata": {},
     "output_type": "execute_result"
    }
   ],
   "source": [
    "df.drg_code.isna().sum()"
   ]
  },
  {
   "cell_type": "code",
   "execution_count": 62,
   "id": "e9296b72",
   "metadata": {},
   "outputs": [
    {
     "data": {
      "text/plain": [
       "{795.0: 38175,\n",
       " 794.0: 11496,\n",
       " 775.0: 4758,\n",
       " 792.0: 3737,\n",
       " 885.0: 3278,\n",
       " 392.0: 2888,\n",
       " 793.0: 2444,\n",
       " 470.0: 2435,\n",
       " 871.0: 2310,\n",
       " 789.0: 1994,\n",
       " 236.0: 1986,\n",
       " 247.0: 1955,\n",
       " 790.0: 1774,\n",
       " 603.0: 1736,\n",
       " 765.0: 1735,\n",
       " 766.0: 1624,\n",
       " 65.0: 1599,\n",
       " 64.0: 1597,\n",
       " 287.0: 1365,\n",
       " 774.0: 1365,\n",
       " 494.0: 1357,\n",
       " 460.0: 1281,\n",
       " 552.0: 1280,\n",
       " 101.0: 1189,\n",
       " 220.0: 1180,\n",
       " 791.0: 1148,\n",
       " 378.0: 1140,\n",
       " 473.0: 1138,\n",
       " 312.0: 1056,\n",
       " 25.0: 1048,\n",
       " 690.0: 984,\n",
       " 66.0: 977,\n",
       " 330.0: 967,\n",
       " 897.0: 930,\n",
       " 743.0: 925,\n",
       " 683.0: 922,\n",
       " 491.0: 898,\n",
       " 627.0: 897,\n",
       " 313.0: 870,\n",
       " 641.0: 843,\n",
       " 194.0: 842,\n",
       " 27.0: 838,\n",
       " 481.0: 833,\n",
       " 621.0: 828,\n",
       " 853.0: 811,\n",
       " 234.0: 790,\n",
       " 3.0: 789,\n",
       " 176.0: 753,\n",
       " 291.0: 753,\n",
       " 87.0: 752,\n",
       " 310.0: 737,\n",
       " 280.0: 708,\n",
       " 872.0: 694,\n",
       " 343.0: 677,\n",
       " 419.0: 676,\n",
       " 219.0: 675,\n",
       " 445.0: 650,\n",
       " 917.0: 649,\n",
       " 454.0: 638,\n",
       " 292.0: 637,\n",
       " 781.0: 625,\n",
       " 331.0: 619,\n",
       " 246.0: 612,\n",
       " 918.0: 607,\n",
       " 208.0: 602,\n",
       " 86.0: 601,\n",
       " 682.0: 588,\n",
       " 193.0: 582,\n",
       " 493.0: 567,\n",
       " 881.0: 564,\n",
       " 251.0: 563,\n",
       " 581.0: 557,\n",
       " 444.0: 557,\n",
       " 309.0: 552,\n",
       " 482.0: 550,\n",
       " 435.0: 549,\n",
       " 439.0: 528,\n",
       " 253.0: 525,\n",
       " 308.0: 519,\n",
       " 329.0: 513,\n",
       " 394.0: 511,\n",
       " 391.0: 488,\n",
       " 286.0: 482,\n",
       " 195.0: 480,\n",
       " 217.0: 476,\n",
       " 446.0: 476,\n",
       " 432.0: 474,\n",
       " 455.0: 472,\n",
       " 377.0: 468,\n",
       " 249.0: 464,\n",
       " 563.0: 460,\n",
       " 103.0: 458,\n",
       " 216.0: 455,\n",
       " 689.0: 454,\n",
       " 164.0: 447,\n",
       " 812.0: 446,\n",
       " 472.0: 444,\n",
       " 638.0: 442,\n",
       " 441.0: 440,\n",
       " 300.0: 435,\n",
       " 440.0: 435,\n",
       " 438.0: 432,\n",
       " 26.0: 431,\n",
       " 238.0: 428,\n",
       " 85.0: 419,\n",
       " 981.0: 417,\n",
       " 418.0: 416,\n",
       " 165.0: 411,\n",
       " 254.0: 410,\n",
       " 23.0: 408,\n",
       " 390.0: 405,\n",
       " 386.0: 403,\n",
       " 4.0: 394,\n",
       " 742.0: 392,\n",
       " 301.0: 387,\n",
       " 314.0: 386,\n",
       " 57.0: 379,\n",
       " 870.0: 378,\n",
       " 393.0: 375,\n",
       " 235.0: 374,\n",
       " 580.0: 370,\n",
       " 480.0: 370,\n",
       " 442.0: 365,\n",
       " 166.0: 364,\n",
       " 74.0: 357,\n",
       " 69.0: 355,\n",
       " 395.0: 355,\n",
       " 54.0: 349,\n",
       " 153.0: 348,\n",
       " 149.0: 347,\n",
       " 252.0: 345,\n",
       " 221.0: 344,\n",
       " 167.0: 337,\n",
       " 328.0: 334,\n",
       " 406.0: 334,\n",
       " 281.0: 333,\n",
       " 948.0: 333,\n",
       " 920.0: 333,\n",
       " 964.0: 330,\n",
       " 100.0: 330,\n",
       " 327.0: 330,\n",
       " 207.0: 326,\n",
       " 605.0: 326,\n",
       " 433.0: 323,\n",
       " 640.0: 322,\n",
       " 237.0: 320,\n",
       " 299.0: 319,\n",
       " 93.0: 315,\n",
       " 243.0: 312,\n",
       " 92.0: 312,\n",
       " 39.0: 310,\n",
       " 177.0: 310,\n",
       " 163.0: 303,\n",
       " 708.0: 299,\n",
       " 244.0: 298,\n",
       " 863.0: 297,\n",
       " 520.0: 295,\n",
       " 387.0: 295,\n",
       " 847.0: 294,\n",
       " 405.0: 291,\n",
       " 585.0: 286,\n",
       " 315.0: 284,\n",
       " 326.0: 281,\n",
       " 807.0: 281,\n",
       " 512.0: 280,\n",
       " 203.0: 280,\n",
       " 202.0: 280,\n",
       " 684.0: 278,\n",
       " 200.0: 277,\n",
       " 305.0: 276,\n",
       " 866.0: 273,\n",
       " 293.0: 271,\n",
       " 551.0: 269,\n",
       " 372.0: 268,\n",
       " 282.0: 268,\n",
       " 379.0: 267,\n",
       " 864.0: 266,\n",
       " 490.0: 265,\n",
       " 190.0: 264,\n",
       " 558.0: 264,\n",
       " 191.0: 264,\n",
       " 982.0: 263,\n",
       " 652.0: 263,\n",
       " 639.0: 262,\n",
       " 233.0: 261,\n",
       " 956.0: 261,\n",
       " 958.0: 260,\n",
       " 373.0: 260,\n",
       " 517.0: 255,\n",
       " 355.0: 248,\n",
       " 699.0: 244,\n",
       " 389.0: 244,\n",
       " 882.0: 242,\n",
       " 694.0: 242,\n",
       " 908.0: 241,\n",
       " 896.0: 240,\n",
       " 502.0: 237,\n",
       " 180.0: 234,\n",
       " 184.0: 233,\n",
       " 583.0: 231,\n",
       " 556.0: 230,\n",
       " 417.0: 230,\n",
       " 957.0: 230,\n",
       " 880.0: 229,\n",
       " 206.0: 229,\n",
       " 91.0: 225,\n",
       " 84.0: 224,\n",
       " 841.0: 223,\n",
       " 698.0: 223,\n",
       " 178.0: 222,\n",
       " 192.0: 221,\n",
       " 834.0: 219,\n",
       " 55.0: 218,\n",
       " 919.0: 217,\n",
       " 175.0: 217,\n",
       " 375.0: 217,\n",
       " 714.0: 214,\n",
       " 82.0: 213,\n",
       " 242.0: 213,\n",
       " 813.0: 210,\n",
       " 248.0: 210,\n",
       " 658.0: 208,\n",
       " 516.0: 207,\n",
       " 767.0: 207,\n",
       " 602.0: 205,\n",
       " 443.0: 205,\n",
       " 316.0: 203,\n",
       " 951.0: 201,\n",
       " 536.0: 200,\n",
       " 840.0: 199,\n",
       " 607.0: 199,\n",
       " 181.0: 199,\n",
       " 227.0: 198,\n",
       " 189.0: 197,\n",
       " 637.0: 196,\n",
       " 469.0: 195,\n",
       " 250.0: 195,\n",
       " 204.0: 194,\n",
       " 371.0: 193,\n",
       " 809.0: 190,\n",
       " 29.0: 188,\n",
       " 907.0: 185,\n",
       " 354.0: 185,\n",
       " 83.0: 183,\n",
       " 374.0: 181,\n",
       " 478.0: 178,\n",
       " 464.0: 176,\n",
       " 436.0: 174,\n",
       " 303.0: 172,\n",
       " 20.0: 171,\n",
       " 644.0: 169,\n",
       " 336.0: 165,\n",
       " 620.0: 164,\n",
       " 657.0: 163,\n",
       " 519.0: 160,\n",
       " 76.0: 159,\n",
       " 60.0: 158,\n",
       " 862.0: 158,\n",
       " 56.0: 157,\n",
       " 489.0: 157,\n",
       " 453.0: 156,\n",
       " 492.0: 153,\n",
       " 543.0: 152,\n",
       " 132.0: 151,\n",
       " 906.0: 151,\n",
       " 884.0: 148,\n",
       " 988.0: 148,\n",
       " 582.0: 145,\n",
       " 661.0: 144,\n",
       " 741.0: 144,\n",
       " 811.0: 144,\n",
       " 267.0: 143,\n",
       " 123.0: 143,\n",
       " 41.0: 143,\n",
       " 407.0: 143,\n",
       " 737.0: 142,\n",
       " 883.0: 142,\n",
       " 554.0: 142,\n",
       " 987.0: 141,\n",
       " 70.0: 140,\n",
       " 501.0: 140,\n",
       " 857.0: 138,\n",
       " 131.0: 138,\n",
       " 643.0: 138,\n",
       " 909.0: 137,\n",
       " 125.0: 137,\n",
       " 921.0: 137,\n",
       " 778.0: 136,\n",
       " 38.0: 135,\n",
       " 201.0: 135,\n",
       " 963.0: 134,\n",
       " 776.0: 134,\n",
       " 270.0: 133,\n",
       " 357.0: 132,\n",
       " 229.0: 132,\n",
       " 505.0: 130,\n",
       " 788.0: 129,\n",
       " 740.0: 128,\n",
       " 158.0: 128,\n",
       " 415.0: 126,\n",
       " 385.0: 126,\n",
       " 545.0: 124,\n",
       " 660.0: 123,\n",
       " 916.0: 123,\n",
       " 867.0: 123,\n",
       " 269.0: 122,\n",
       " 728.0: 122,\n",
       " 854.0: 121,\n",
       " 546.0: 120,\n",
       " 975.0: 120,\n",
       " 511.0: 120,\n",
       " 868.0: 119,\n",
       " 155.0: 119,\n",
       " 168.0: 118,\n",
       " 340.0: 118,\n",
       " 669.0: 117,\n",
       " 459.0: 117,\n",
       " 356.0: 116,\n",
       " 21.0: 116,\n",
       " 40.0: 116,\n",
       " 352.0: 115,\n",
       " 264.0: 115,\n",
       " 914.0: 115,\n",
       " 337.0: 114,\n",
       " 645.0: 114,\n",
       " 748.0: 114,\n",
       " 497.0: 114,\n",
       " 28.0: 114,\n",
       " 283.0: 112,\n",
       " 72.0: 112,\n",
       " 513.0: 110,\n",
       " 24.0: 110,\n",
       " 218.0: 107,\n",
       " 824.0: 107,\n",
       " 496.0: 106,\n",
       " 134.0: 106,\n",
       " 983.0: 105,\n",
       " 700.0: 105,\n",
       " 514.0: 105,\n",
       " 479.0: 104,\n",
       " 562.0: 103,\n",
       " 842.0: 103,\n",
       " 989.0: 103,\n",
       " 782.0: 103,\n",
       " 457.0: 102,\n",
       " 463.0: 101,\n",
       " 71.0: 101,\n",
       " 183.0: 101,\n",
       " 835.0: 100,\n",
       " 483.0: 100,\n",
       " 837.0: 100,\n",
       " 596.0: 98,\n",
       " 626.0: 97,\n",
       " 673.0: 97,\n",
       " 761.0: 97,\n",
       " 777.0: 97,\n",
       " 823.0: 96,\n",
       " 974.0: 96,\n",
       " 349.0: 96,\n",
       " 156.0: 96,\n",
       " 965.0: 95,\n",
       " 266.0: 94,\n",
       " 760.0: 94,\n",
       " 770.0: 92,\n",
       " 30.0: 92,\n",
       " 274.0: 92,\n",
       " 629.0: 92,\n",
       " 759.0: 90,\n",
       " 578.0: 90,\n",
       " 856.0: 90,\n",
       " 894.0: 90,\n",
       " 159.0: 89,\n",
       " 75.0: 87,\n",
       " 707.0: 87,\n",
       " 941.0: 86,\n",
       " 307.0: 85,\n",
       " 185.0: 85,\n",
       " 358.0: 85,\n",
       " 577.0: 84,\n",
       " 614.0: 84,\n",
       " 205.0: 83,\n",
       " 547.0: 83,\n",
       " 271.0: 82,\n",
       " 806.0: 82,\n",
       " 471.0: 82,\n",
       " 670.0: 81,\n",
       " 179.0: 79,\n",
       " 977.0: 79,\n",
       " 869.0: 79,\n",
       " 37.0: 78,\n",
       " 654.0: 77,\n",
       " 477.0: 77,\n",
       " 388.0: 77,\n",
       " 96.0: 76,\n",
       " 42.0: 76,\n",
       " 865.0: 74,\n",
       " 542.0: 74,\n",
       " 515.0: 73,\n",
       " 810.0: 73,\n",
       " 342.0: 73,\n",
       " 617.0: 73,\n",
       " 674.0: 72,\n",
       " 623.0: 72,\n",
       " 226.0: 72,\n",
       " 416.0: 72,\n",
       " 408.0: 72,\n",
       " 421.0: 72,\n",
       " 157.0: 72,\n",
       " 215.0: 71,\n",
       " 696.0: 70,\n",
       " 786.0: 70,\n",
       " 304.0: 70,\n",
       " 240.0: 70,\n",
       " 821.0: 69,\n",
       " 5.0: 69,\n",
       " 36.0: 68,\n",
       " 414.0: 68,\n",
       " 228.0: 68,\n",
       " 467.0: 67,\n",
       " 565.0: 67,\n",
       " 815.0: 67,\n",
       " 420.0: 67,\n",
       " 187.0: 67,\n",
       " 409.0: 66,\n",
       " 196.0: 66,\n",
       " 59.0: 66,\n",
       " 133.0: 66,\n",
       " 199.0: 66,\n",
       " 805.0: 65,\n",
       " 90.0: 65,\n",
       " 62.0: 65,\n",
       " 152.0: 65,\n",
       " 306.0: 64,\n",
       " 99.0: 64,\n",
       " 348.0: 64,\n",
       " 947.0: 64,\n",
       " 98.0: 63,\n",
       " 381.0: 63,\n",
       " 747.0: 63,\n",
       " 584.0: 63,\n",
       " 335.0: 62,\n",
       " 685.0: 62,\n",
       " 923.0: 61,\n",
       " 95.0: 61,\n",
       " 484.0: 60,\n",
       " 787.0: 60,\n",
       " 816.0: 59,\n",
       " 535.0: 59,\n",
       " 959.0: 59,\n",
       " 488.0: 58,\n",
       " 829.0: 58,\n",
       " 73.0: 58,\n",
       " 339.0: 57,\n",
       " 97.0: 57,\n",
       " 239.0: 57,\n",
       " 423.0: 57,\n",
       " 808.0: 57,\n",
       " 456.0: 56,\n",
       " 755.0: 56,\n",
       " 380.0: 56,\n",
       " 68.0: 55,\n",
       " 273.0: 55,\n",
       " 288.0: 55,\n",
       " 333.0: 55,\n",
       " 571.0: 55,\n",
       " 224.0: 55,\n",
       " 615.0: 54,\n",
       " 744.0: 54,\n",
       " 904.0: 54,\n",
       " 296.0: 53,\n",
       " 675.0: 53,\n",
       " 825.0: 53,\n",
       " 22.0: 52,\n",
       " 604.0: 52,\n",
       " 61.0: 51,\n",
       " 504.0: 51,\n",
       " 557.0: 51,\n",
       " 137.0: 51,\n",
       " 186.0: 51,\n",
       " 659.0: 50,\n",
       " 35.0: 50,\n",
       " 820.0: 50,\n",
       " 369.0: 50,\n",
       " 579.0: 50,\n",
       " 268.0: 50,\n",
       " 311.0: 49,\n",
       " 710.0: 48,\n",
       " 593.0: 48,\n",
       " 713.0: 48,\n",
       " 566.0: 48,\n",
       " 758.0: 48,\n",
       " 94.0: 48,\n",
       " 31.0: 47,\n",
       " 656.0: 47,\n",
       " 468.0: 47,\n",
       " 500.0: 47,\n",
       " 769.0: 46,\n",
       " 955.0: 46,\n",
       " 915.0: 46,\n",
       " 260.0: 46,\n",
       " 384.0: 46,\n",
       " 465.0: 46,\n",
       " 154.0: 46,\n",
       " 734.0: 46,\n",
       " 693.0: 45,\n",
       " 601.0: 45,\n",
       " 822.0: 45,\n",
       " 151.0: 45,\n",
       " 139.0: 45,\n",
       " 289.0: 45,\n",
       " 844.0: 45,\n",
       " 544.0: 45,\n",
       " 486.0: 44,\n",
       " 6.0: 43,\n",
       " 768.0: 43,\n",
       " 33.0: 43,\n",
       " 846.0: 43,\n",
       " 843.0: 42,\n",
       " 368.0: 42,\n",
       " 272.0: 42,\n",
       " 376.0: 41,\n",
       " 976.0: 41,\n",
       " 351.0: 40,\n",
       " 245.0: 40,\n",
       " 353.0: 40,\n",
       " 81.0: 40,\n",
       " 940.0: 40,\n",
       " 52.0: 40,\n",
       " 804.0: 40,\n",
       " 827.0: 40,\n",
       " 506.0: 39,\n",
       " 606.0: 39,\n",
       " 462.0: 39,\n",
       " 437.0: 39,\n",
       " 655.0: 39,\n",
       " 261.0: 38,\n",
       " 838.0: 38,\n",
       " 572.0: 38,\n",
       " 197.0: 38,\n",
       " 32.0: 38,\n",
       " 574.0: 37,\n",
       " 230.0: 37,\n",
       " 564.0: 37,\n",
       " 539.0: 36,\n",
       " 687.0: 36,\n",
       " 828.0: 35,\n",
       " 832.0: 35,\n",
       " 334.0: 35,\n",
       " 510.0: 35,\n",
       " 745.0: 34,\n",
       " 736.0: 34,\n",
       " 738.0: 34,\n",
       " 11.0: 34,\n",
       " 114.0: 32,\n",
       " 814.0: 32,\n",
       " 12.0: 32,\n",
       " 553.0: 32,\n",
       " 53.0: 32,\n",
       " 466.0: 32,\n",
       " 518.0: 32,\n",
       " 302.0: 32,\n",
       " 256.0: 32,\n",
       " 735.0: 31,\n",
       " 619.0: 31,\n",
       " 922.0: 30,\n",
       " 754.0: 30,\n",
       " 642.0: 30,\n",
       " 555.0: 30,\n",
       " 779.0: 30,\n",
       " 598.0: 29,\n",
       " 746.0: 29,\n",
       " 222.0: 29,\n",
       " 561.0: 28,\n",
       " 803.0: 28,\n",
       " 833.0: 28,\n",
       " 138.0: 28,\n",
       " 749.0: 28,\n",
       " 198.0: 28,\n",
       " 485.0: 27,\n",
       " 370.0: 27,\n",
       " 89.0: 27,\n",
       " 902.0: 27,\n",
       " 560.0: 26,\n",
       " 124.0: 26,\n",
       " 225.0: 26,\n",
       " 686.0: 26,\n",
       " 653.0: 26,\n",
       " 259.0: 26,\n",
       " 712.0: 26,\n",
       " 382.0: 26,\n",
       " 726.0: 26,\n",
       " 58.0: 26,\n",
       " 115.0: 25,\n",
       " 858.0: 25,\n",
       " 668.0: 25,\n",
       " 876.0: 24,\n",
       " 345.0: 23,\n",
       " 540.0: 23,\n",
       " 887.0: 23,\n",
       " 495.0: 23,\n",
       " 34.0: 22,\n",
       " 434.0: 22,\n",
       " 826.0: 22,\n",
       " 102.0: 22,\n",
       " 625.0: 22,\n",
       " 949.0: 21,\n",
       " 830.0: 21,\n",
       " 410.0: 21,\n",
       " 780.0: 21,\n",
       " 969.0: 21,\n",
       " 739.0: 21,\n",
       " 549.0: 21,\n",
       " 188.0: 20,\n",
       " 113.0: 20,\n",
       " 424.0: 20,\n",
       " 508.0: 20,\n",
       " 121.0: 20,\n",
       " 801.0: 20,\n",
       " 799.0: 20,\n",
       " 458.0: 19,\n",
       " 129.0: 19,\n",
       " 886.0: 19,\n",
       " 628.0: 18,\n",
       " 1.0: 18,\n",
       " 727.0: 18,\n",
       " 338.0: 18,\n",
       " 534.0: 18,\n",
       " 14.0: 18,\n",
       " 231.0: 18,\n",
       " 475.0: 17,\n",
       " 16.0: 17,\n",
       " 664.0: 17,\n",
       " 498.0: 16,\n",
       " 262.0: 16,\n",
       " 541.0: 16,\n",
       " 595.0: 16,\n",
       " 10.0: 16,\n",
       " 709.0: 16,\n",
       " 600.0: 16,\n",
       " 667.0: 15,\n",
       " 499.0: 15,\n",
       " 294.0: 15,\n",
       " 905.0: 15,\n",
       " 347.0: 15,\n",
       " 630.0: 15,\n",
       " 332.0: 14,\n",
       " 849.0: 14,\n",
       " 597.0: 14,\n",
       " 663.0: 14,\n",
       " 576.0: 14,\n",
       " 182.0: 14,\n",
       " 750.0: 14,\n",
       " 350.0: 14,\n",
       " 559.0: 14,\n",
       " 8.0: 14,\n",
       " 616.0: 14,\n",
       " 422.0: 14,\n",
       " 255.0: 14,\n",
       " 802.0: 14,\n",
       " 284.0: 13,\n",
       " 130.0: 13,\n",
       " 63.0: 13,\n",
       " 913.0: 13,\n",
       " 717.0: 13,\n",
       " 80.0: 13,\n",
       " 757.0: 13,\n",
       " 232.0: 13,\n",
       " 263.0: 13,\n",
       " 147.0: 13,\n",
       " 711.0: 12,\n",
       " 9.0: 12,\n",
       " 622.0: 12,\n",
       " 592.0: 12,\n",
       " 903.0: 12,\n",
       " 800.0: 12,\n",
       " 67.0: 12,\n",
       " 346.0: 12,\n",
       " 265.0: 12,\n",
       " 836.0: 12,\n",
       " 13.0: 12,\n",
       " 150.0: 12,\n",
       " 570.0: 11,\n",
       " 722.0: 11,\n",
       " 550.0: 11,\n",
       " 341.0: 11,\n",
       " 845.0: 11,\n",
       " 695.0: 11,\n",
       " 413.0: 11,\n",
       " 344.0: 10,\n",
       " 487.0: 10,\n",
       " 383.0: 10,\n",
       " 146.0: 10,\n",
       " 78.0: 10,\n",
       " 950.0: 10,\n",
       " 723.0: 9,\n",
       " 258.0: 9,\n",
       " 77.0: 9,\n",
       " 476.0: 9,\n",
       " 116.0: 9,\n",
       " 594.0: 9,\n",
       " 935.0: 9,\n",
       " 573.0: 8,\n",
       " 503.0: 8,\n",
       " 88.0: 8,\n",
       " 412.0: 8,\n",
       " 533.0: 8,\n",
       " 507.0: 8,\n",
       " 135.0: 8,\n",
       " 725.0: 8,\n",
       " 122.0: 8,\n",
       " 901.0: 8,\n",
       " 474.0: 8,\n",
       " 425.0: 7,\n",
       " 285.0: 7,\n",
       " 117.0: 7,\n",
       " 666.0: 7,\n",
       " 718.0: 7,\n",
       " 855.0: 7,\n",
       " 411.0: 7,\n",
       " 785.0: 7,\n",
       " 697.0: 7,\n",
       " 223.0: 7,\n",
       " 831.0: 7,\n",
       " 939.0: 6,\n",
       " 715.0: 6,\n",
       " 575.0: 6,\n",
       " 148.0: 6,\n",
       " 538.0: 6,\n",
       " 970.0: 6,\n",
       " 672.0: 6,\n",
       " 730.0: 6,\n",
       " 624.0: 6,\n",
       " 729.0: 6,\n",
       " 783.0: 5,\n",
       " 548.0: 5,\n",
       " 509.0: 5,\n",
       " 671.0: 5,\n",
       " 257.0: 5,\n",
       " 537.0: 5,\n",
       " 839.0: 5,\n",
       " 818.0: 5,\n",
       " 934.0: 5,\n",
       " 817.0: 5,\n",
       " 79.0: 5,\n",
       " 784.0: 4,\n",
       " 688.0: 4,\n",
       " 295.0: 4,\n",
       " 290.0: 4,\n",
       " 618.0: 4,\n",
       " 716.0: 3,\n",
       " 297.0: 3,\n",
       " 298.0: 3,\n",
       " 662.0: 2,\n",
       " 928.0: 2,\n",
       " 17.0: 2,\n",
       " 756.0: 2,\n",
       " 241.0: 2,\n",
       " 848.0: 2,\n",
       " 797.0: 2,\n",
       " 819.0: 2,\n",
       " 999.0: 2,\n",
       " 665.0: 1,\n",
       " 692.0: 1,\n",
       " 461.0: 1,\n",
       " 15.0: 1,\n",
       " 319.0: 1,\n",
       " 691.0: 1,\n",
       " 998.0: 1,\n",
       " 895.0: 1,\n",
       " 798.0: 1}"
      ]
     },
     "execution_count": 62,
     "metadata": {},
     "output_type": "execute_result"
    }
   ],
   "source": [
    "df.drg_code.value_counts().to_dict()"
   ]
  },
  {
   "cell_type": "code",
   "execution_count": 63,
   "id": "762d1775",
   "metadata": {},
   "outputs": [
    {
     "data": {
      "text/plain": [
       "0"
      ]
     },
     "execution_count": 63,
     "metadata": {},
     "output_type": "execute_result"
    }
   ],
   "source": [
    "df = generic_util_instance.replace_nan(df, 'drg_code', 0.0)\n",
    "df.drg_code.isna().sum()"
   ]
  },
  {
   "cell_type": "code",
   "execution_count": 64,
   "id": "6a515d79",
   "metadata": {},
   "outputs": [
    {
     "data": {
      "text/plain": [
       "24774"
      ]
     },
     "execution_count": 64,
     "metadata": {},
     "output_type": "execute_result"
    }
   ],
   "source": [
    "df.drug.isna().sum()"
   ]
  },
  {
   "cell_type": "code",
   "execution_count": 65,
   "id": "4110a115",
   "metadata": {},
   "outputs": [
    {
     "data": {
      "text/plain": [
       "{'Erythromycin 0.5% Ophth Oint': 52253,\n",
       " 'Sodium Chloride 0.9%  Flush': 32575,\n",
       " 'Influenza Vaccine Quadrivalent': 17229,\n",
       " 'Influenza Virus Vaccine': 11106,\n",
       " 'Aspirin': 5148,\n",
       " 'Heparin': 4488,\n",
       " '0.9% Sodium Chloride': 4363,\n",
       " 'Iso-Osmotic Dextrose': 4020,\n",
       " 'PNEUMOcoccal 23-valent polysaccharide vaccine': 3930,\n",
       " 'Bag': 3912,\n",
       " 'Acetaminophen': 3522,\n",
       " 'Pneumococcal Vac Polyvalent': 3078,\n",
       " '5% Dextrose': 3052,\n",
       " 'Senna': 2804,\n",
       " 'Bisacodyl': 2636,\n",
       " 'Docusate Sodium': 2630,\n",
       " '1/2 NS': 2492,\n",
       " 'Insulin': 1951,\n",
       " 'Multivitamins': 1875,\n",
       " 'Aspirin EC': 1750,\n",
       " 'Naloxone': 1748,\n",
       " 'D10W': 1702,\n",
       " 'Levothyroxine Sodium': 1688,\n",
       " 'NS': 1631,\n",
       " 'SW': 1523,\n",
       " 'Glucagon': 1453,\n",
       " 'Vial': 1349,\n",
       " 'Lisinopril': 1294,\n",
       " 'Ondansetron': 1273,\n",
       " 'Omeprazole': 1202,\n",
       " 'Atorvastatin': 1171,\n",
       " 'Lactated Ringers': 1148,\n",
       " '0.45% Sodium Chloride': 1125,\n",
       " 'Atenolol': 1098,\n",
       " 'D5 1/2NS': 1034,\n",
       " 'LR': 1001,\n",
       " 'Sodium Chloride 0.9%': 998,\n",
       " 'Simvastatin': 908,\n",
       " 'Amlodipine': 900,\n",
       " 'Hepatitis B Vaccine': 861,\n",
       " 'D5W': 856,\n",
       " 'Morphine Sulfate': 805,\n",
       " 'Sterile Water': 786,\n",
       " 'Send 500mg Vial': 764,\n",
       " 'Vitamin D': 764,\n",
       " 'Hydrochlorothiazide': 703,\n",
       " 'Lorazepam': 598,\n",
       " 'CefazoLIN': 592,\n",
       " 'Enoxaparin Sodium': 578,\n",
       " 'Vancomycin': 541,\n",
       " 'Nicotine Patch': 539,\n",
       " 'Diazepam': 534,\n",
       " 'Warfarin': 510,\n",
       " 'Soln': 501,\n",
       " 'Pantoprazole': 484,\n",
       " 'Iso-Osmotic Sodium Chloride': 477,\n",
       " 'HYDROmorphone (Dilaudid)': 468,\n",
       " 'CefePIME': 460,\n",
       " 'FoLIC Acid': 454,\n",
       " 'Glucose Gel': 428,\n",
       " 'Phytonadione (Vitamin K1) (for L&D to NBN order set use only)': 420,\n",
       " 'Furosemide': 409,\n",
       " 'Heparin Flush (10 units/mL)': 391,\n",
       " 'Sertraline': 385,\n",
       " 'Clopidogrel': 370,\n",
       " 'PredniSONE': 367,\n",
       " 'Gabapentin': 364,\n",
       " 'Thiamine': 363,\n",
       " 'Syringe': 362,\n",
       " 'Ibuprofen': 356,\n",
       " 'Fluoxetine': 354,\n",
       " 'BuPROPion (Sustained Release)': 351,\n",
       " 'Allopurinol': 341,\n",
       " 'Metoprolol Succinate XL': 338,\n",
       " 'Phytonadione (Vitamin K1)': 335,\n",
       " 'Ketorolac': 329,\n",
       " 'Citalopram Hydrobromide': 328,\n",
       " 'Nephrocaps': 328,\n",
       " 'Citalopram': 323,\n",
       " '0.9% Sodium Chloride (Mini Bag Plus)': 292,\n",
       " 'Dextrose 5%': 290,\n",
       " 'Famotidine': 282,\n",
       " 'Metoprolol Tartrate': 274,\n",
       " 'Naloxone HCl': 249,\n",
       " 'Heparin Flush (10 units/ml)': 229,\n",
       " 'Dextrose 50%': 227,\n",
       " 'Syringe (Neonatal)': 225,\n",
       " 'TraMADol': 224,\n",
       " 'Fluticasone Propionate NASAL': 217,\n",
       " 'Ferrous Sulfate': 210,\n",
       " 'CeftriaXONE': 202,\n",
       " 'CeFAZolin': 200,\n",
       " 'Losartan Potassium': 198,\n",
       " 'Pregabalin': 198,\n",
       " 'Valsartan': 195,\n",
       " 'CefTRIAXone': 194,\n",
       " 'Calcium Gluconate': 189,\n",
       " 'Propofol': 181,\n",
       " 'Finasteride': 180,\n",
       " 'Vaccine Book': 179,\n",
       " 'D5NS': 175,\n",
       " 'Syringe (Neonatal) *NS*': 174,\n",
       " 'Fentanyl Citrate': 174,\n",
       " 'Escitalopram Oxalate': 173,\n",
       " 'Ramelteon': 171,\n",
       " '0.83% Sodium Chloride': 169,\n",
       " 'LORazepam': 162,\n",
       " 'Pravastatin': 156,\n",
       " 'Nadolol': 156,\n",
       " 'Simethicone': 155,\n",
       " 'Calcium Carbonate': 151,\n",
       " 'Amiodarone': 150,\n",
       " 'Ranitidine': 150,\n",
       " 'Scopolamine Patch': 148,\n",
       " 'HydrOXYzine': 148,\n",
       " 'Tiotropium Bromide': 148,\n",
       " 'Acetaminophen IV': 148,\n",
       " 'Meropenem': 146,\n",
       " 'Nicotine Polacrilex': 146,\n",
       " 'Diltiazem Extended-Release': 146,\n",
       " 'Polyethylene Glycol': 146,\n",
       " 'Paroxetine': 145,\n",
       " 'Rosuvastatin Calcium': 145,\n",
       " 'Venlafaxine XR': 144,\n",
       " 'Starter PN D10': 143,\n",
       " 'D5LR': 141,\n",
       " 'Duloxetine': 139,\n",
       " 'amLODIPine': 136,\n",
       " 'NEO*IM*Hepatitis B Vaccine': 133,\n",
       " 'Albuterol 0.083% Neb Soln': 132,\n",
       " 'Montelukast Sodium': 131,\n",
       " 'Potassium Chloride': 129,\n",
       " 'Haloperidol': 127,\n",
       " 'Potassium Chl 20 mEq / 1000 mL D5 1/2 NS': 127,\n",
       " 'Digoxin': 125,\n",
       " 'Sucrose Solution 24%': 123,\n",
       " 'Lidocaine Jelly 2% (Glydo)': 123,\n",
       " 'Chlorhexidine Gluconate 0.12% Oral Rinse': 120,\n",
       " 'Bupivacaine 0.1%': 117,\n",
       " 'LaMOTrigine': 117,\n",
       " 'OxyCODONE (Immediate Release)': 116,\n",
       " 'Triple Dye': 115,\n",
       " 'OxycoDONE (Immediate Release) ': 114,\n",
       " 'Lidocaine 5% Patch': 110,\n",
       " 'Albuterol Inhaler': 109,\n",
       " 'Dexamethasone': 107,\n",
       " 'Metoclopramide': 107,\n",
       " 'DiphenhydrAMINE': 103,\n",
       " 'traZODONE': 102,\n",
       " 'Acyclovir': 100,\n",
       " 'Heparin Flush (1 unit/mL)': 100,\n",
       " 'Milk of Magnesia': 99,\n",
       " 'Clonazepam': 96,\n",
       " 'Aripiprazole': 94,\n",
       " 'Syringe (0.9% Sodium Chloride)': 94,\n",
       " 'Docusate Sodium (Liquid)': 93,\n",
       " 'Labetalol': 93,\n",
       " 'Lansoprazole Oral Disintegrating Tab': 91,\n",
       " 'TraZODone': 91,\n",
       " 'Cyanocobalamin': 89,\n",
       " 'NIFEdipine CR': 89,\n",
       " 'Tuberculin Protein': 89,\n",
       " 'Ezetimibe': 88,\n",
       " 'Yellow CADD Cassette': 87,\n",
       " 'MoviPrep': 86,\n",
       " 'Levofloxacin': 85,\n",
       " 'CefTAZidime': 83,\n",
       " 'ClonazePAM': 82,\n",
       " 'Calcitriol': 81,\n",
       " 'Oxycodone-Acetaminophen': 81,\n",
       " 'Tamsulosin': 79,\n",
       " 'Midodrine': 78,\n",
       " 'Lidocaine Jelly 2% (Urojet)': 78,\n",
       " 'Atropine Sulfate': 78,\n",
       " 'Isotonic Sodium Chloride': 77,\n",
       " 'Ampicillin Sodium': 77,\n",
       " 'Spironolactone': 77,\n",
       " 'Syringe (Neonatal) *D5W*': 76,\n",
       " 'LOPERamide': 73,\n",
       " 'OLANZapine': 73,\n",
       " 'Gentamicin': 73,\n",
       " 'Syringe (Iso-Osmotic Dextrose)': 72,\n",
       " 'HydrALAzine': 70,\n",
       " 'Enalapril Maleate': 69,\n",
       " 'Prenatal Vitamins': 68,\n",
       " 'Fat Emulsion': 68,\n",
       " 'Isosorbide Mononitrate (Extended Release)': 66,\n",
       " 'Phenazopyridine': 65,\n",
       " 'Tacrolimus': 65,\n",
       " 'Ascorbic Acid': 64,\n",
       " 'Gentamicin Sulfate': 64,\n",
       " 'Oxytocin': 63,\n",
       " 'Multivitamins W/minerals': 62,\n",
       " 'Risperidone': 62,\n",
       " 'Quetiapine Fumarate': 62,\n",
       " 'Lidocaine 1%': 61,\n",
       " 'Torsemide': 60,\n",
       " 'Carbidopa-Levodopa (25-100)': 60,\n",
       " 'LeVETiracetam': 60,\n",
       " 'Terazosin': 58,\n",
       " 'Methadone': 58,\n",
       " 'Topiramate (Topamax)': 57,\n",
       " 'Oxazepam': 57,\n",
       " 'HydrALAZINE': 56,\n",
       " 'MetFORMIN (Glucophage)': 55,\n",
       " 'Phytonadione': 54,\n",
       " 'Fexofenadine': 54,\n",
       " 'Metolazone': 54,\n",
       " 'Tizanidine': 53,\n",
       " 'Aluminum-Magnesium Hydrox.-Simethicone': 52,\n",
       " 'Ciprofloxacin HCl': 52,\n",
       " 'GlyBURIDE': 52,\n",
       " 'Olanzapine': 51,\n",
       " 'D12.5W': 50,\n",
       " 'Soln.': 50,\n",
       " 'NS (Mini Bag Plus)': 49,\n",
       " 'Diltiazem': 49,\n",
       " 'Emtricitabine-Tenofovir (Truvada)': 47,\n",
       " 'GlipiZIDE': 46,\n",
       " 'Sulfameth/Trimethoprim SS': 46,\n",
       " 'Sulfameth/Trimethoprim DS': 46,\n",
       " 'Golytely': 46,\n",
       " 'Misoprostol': 44,\n",
       " '5% Dextrose (Syringe)': 44,\n",
       " 'Cepacol (Menthol)': 44,\n",
       " 'Phenytoin': 43,\n",
       " 'Loperamide': 43,\n",
       " 'Naproxen': 42,\n",
       " 'RisperiDONE': 42,\n",
       " 'Magnesium Sulfate': 42,\n",
       " 'Nitroglycerin SL': 40,\n",
       " 'Loratadine': 40,\n",
       " 'Lactulose': 39,\n",
       " 'Epidural Bag': 37,\n",
       " 'ALPRAZolam': 37,\n",
       " 'Triamterene-Hydrochlorothiazide': 37,\n",
       " 'Prochlorperazine': 36,\n",
       " 'Apixaban': 36,\n",
       " '0.9 % Sodium Chloride': 36,\n",
       " 'Baclofen': 36,\n",
       " 'BusPIRone': 36,\n",
       " 'Lithium Carbonate': 35,\n",
       " 'Poractant alfa': 35,\n",
       " 'Prazosin': 35,\n",
       " 'Potassium Chloride (1mEq/100mL)': 35,\n",
       " 'Fluticasone Propionate 110mcg': 34,\n",
       " 'Colchicine': 34,\n",
       " 'Syringe (Chemo)': 34,\n",
       " 'Potassium Chl 20 mEq / 1000 mL D5LR': 34,\n",
       " 'AMP': 33,\n",
       " 'Sirolimus': 33,\n",
       " 'Lidocaine 1% (Buffered)': 33,\n",
       " 'Nafcillin': 33,\n",
       " 'Donepezil': 33,\n",
       " 'QUEtiapine Fumarate': 33,\n",
       " 'FLUoxetine': 33,\n",
       " 'DOPamine': 32,\n",
       " 'Ramipril': 32,\n",
       " 'Metoprolol XL (Toprol XL)': 32,\n",
       " 'EPINEPHrine': 32,\n",
       " 'Carvedilol': 31,\n",
       " 'Multivitamin IV': 31,\n",
       " 'Psyllium': 31,\n",
       " 'Oxcarbazepine': 31,\n",
       " 'Daptomycin': 31,\n",
       " 'Potassium Chl 40 mEq / 1000 mL NS': 31,\n",
       " 'Bupivacaine 0.5%': 30,\n",
       " 'BuPROPion': 30,\n",
       " 'Bacitracin Ointment': 30,\n",
       " 'Meperidine': 30,\n",
       " 'Divalproex (DELayed Release)': 30,\n",
       " 'Ursodiol': 30,\n",
       " 'Zolpidem Tartrate': 30,\n",
       " 'CloniDINE': 30,\n",
       " 'Mycophenolate Mofetil': 30,\n",
       " 'Tetanus-DiphTox-Acellular Pertuss (Adacel)': 29,\n",
       " 'Azathioprine': 29,\n",
       " 'Potassium Chl 20 mEq / 1000 mL NS': 29,\n",
       " 'Cyclobenzaprine': 29,\n",
       " 'Cetirizine': 28,\n",
       " 'Felodipine': 28,\n",
       " 'LevETIRAcetam': 28,\n",
       " 'Heparin Flush (100 units/ml)': 28,\n",
       " 'Fish Oil (Omega 3)': 28,\n",
       " 'Insulin Pump (Self Administering Medication)': 28,\n",
       " 'Hydroxychloroquine Sulfate': 27,\n",
       " 'Methimazole': 27,\n",
       " 'Timolol Maleate 0.5%': 27,\n",
       " 'MethylPREDNISolone Sodium Succ': 27,\n",
       " 'Azithromycin': 26,\n",
       " 'Doxycycline Hyclate': 26,\n",
       " 'Fludrocortisone Acetate': 26,\n",
       " 'Venlafaxine': 26,\n",
       " 'Prismasate (B32 K2)': 26,\n",
       " 'Oxycodone-Acetaminophen (5mg-325mg)': 26,\n",
       " 'Chlorthalidone': 26,\n",
       " 'Blue CADD Cassette': 26,\n",
       " 'Phenytoin Sodium Extended': 25,\n",
       " 'Alteplase': 25,\n",
       " '10% Dextrose (Syringe)': 24,\n",
       " 'Propranolol': 24,\n",
       " 'Zonisamide': 24,\n",
       " 'Enoxaparin (Prophylaxis)': 24,\n",
       " 'Alprazolam': 24,\n",
       " 'Propranolol LA': 24,\n",
       " 'Midazolam': 24,\n",
       " 'Flecainide Acetate': 24,\n",
       " 'Ipratropium-Albuterol Neb': 24,\n",
       " 'TraMADOL (Ultram)': 24,\n",
       " 'Norepinephrine': 23,\n",
       " 'Clopidogrel Bisulfate': 23,\n",
       " 'Benztropine Mesylate': 23,\n",
       " 'Meclizine': 22,\n",
       " 'ARIPiprazole': 22,\n",
       " 'MetFORMIN XR (Glucophage XR)': 22,\n",
       " 'OxyCODONE SR (OxyconTIN)': 22,\n",
       " 'Hydrocortisone': 22,\n",
       " 'Fluticasone-Salmeterol Diskus (250/50) ': 22,\n",
       " 'Pioglitazone': 22,\n",
       " 'Doxazosin': 22,\n",
       " 'TiCAGRELOR': 22,\n",
       " 'Filgrastim': 21,\n",
       " 'LamoTRIgine': 21,\n",
       " 'Captopril': 21,\n",
       " 'Cephalexin': 20,\n",
       " 'MetRONIDAZOLE (FLagyl)': 20,\n",
       " 'Efavirenz': 20,\n",
       " 'Quinapril': 20,\n",
       " 'Mupirocin Ointment 2%': 20,\n",
       " 'Acetaminophen (Liquid)': 19,\n",
       " 'CloNIDine': 19,\n",
       " 'GlipiZIDE XL': 19,\n",
       " 'Oxycodone SR (OxyconTIN)': 19,\n",
       " 'Estrogens Conjugated': 19,\n",
       " 'Fentanyl': 19,\n",
       " 'Heparin Sodium (Preservative Free)': 19,\n",
       " 'PHENObarbital': 18,\n",
       " 'Propofol 1000mg/100mL 100mL VIAL': 18,\n",
       " 'Ipratropium Bromide Neb': 18,\n",
       " 'Alendronate Sodium': 18,\n",
       " 'Atazanavir': 18,\n",
       " 'Avapro': 18,\n",
       " 'Prismasate (B22 K4)': 18,\n",
       " 'Mirtazapine': 18,\n",
       " 'Sucralfate': 18,\n",
       " 'MetroNIDAZOLE': 17,\n",
       " 'Carbamazepine': 17,\n",
       " 'Sodium Bicarbonate': 17,\n",
       " 'Divalproex (EXTended Release)': 17,\n",
       " 'Magnesium Oxide': 17,\n",
       " 'Promethazine': 17,\n",
       " 'Ondansetron ODT': 17,\n",
       " 'Heparin Flush CVL  (100 units/ml)': 17,\n",
       " 'NEO*SC*Phytonadione': 17,\n",
       " 'Creon 12': 17,\n",
       " 'Neutra-Phos': 17,\n",
       " 'Amitriptyline': 16,\n",
       " 'Memantine': 16,\n",
       " 'Nitrofurantoin Monohyd (MacroBID)': 16,\n",
       " 'Aspirin (Buffered)': 16,\n",
       " 'Beractant': 16,\n",
       " 'Morphine SR (MS Contin)': 16,\n",
       " 'Montelukast': 16,\n",
       " 'Tenofovir Disoproxil (Viread)': 16,\n",
       " 'RiTONAvir': 16,\n",
       " 'Aztreonam': 16,\n",
       " 'Milrinone': 16,\n",
       " 'Hydroxyurea': 16,\n",
       " 'Potassium Chl 20 mEq / 1000 mL D5NS': 16,\n",
       " 'MethylPHENIDATE (Ritalin)': 16,\n",
       " 'Acetylcysteine 20%': 15,\n",
       " 'MedroxyPROGESTERone Acetate': 15,\n",
       " 'Rivaroxaban': 15,\n",
       " 'Oxybutynin': 15,\n",
       " 'Mesna': 15,\n",
       " 'Artificial Tears': 15,\n",
       " 'Estradiol': 15,\n",
       " 'PARoxetine': 15,\n",
       " 'Entecavir': 15,\n",
       " 'Insulin Pump': 15,\n",
       " 'Mercaptopurine': 14,\n",
       " 'Fenofibrate': 14,\n",
       " 'Methocarbamol': 14,\n",
       " 'Clonidine Patch 0.1 mg/24 hr': 14,\n",
       " 'Indomethacin': 14,\n",
       " 'Temazepam': 14,\n",
       " 'Verapamil SR': 14,\n",
       " 'NORepinephrine': 14,\n",
       " 'Clindamycin': 14,\n",
       " '5% Dextrose (EXCEL BAG)': 14,\n",
       " 'Gemfibrozil': 13,\n",
       " 'NIFEdipine': 13,\n",
       " 'DULoxetine': 13,\n",
       " 'Adderall XR': 13,\n",
       " 'Brimonidine Tartrate 0.15% Ophth.': 13,\n",
       " 'Tamoxifen Citrate': 13,\n",
       " 'Mouth Care Oral Rinse': 13,\n",
       " 'OSELTAMivir': 13,\n",
       " 'Albumin 5% (12.5g / 250mL)': 12,\n",
       " 'Starter PN D5': 12,\n",
       " 'Benzonatate': 12,\n",
       " 'Sodium Chloride 0.45% Flush': 12,\n",
       " 'Sodium Citrate': 12,\n",
       " 'NS Syringe (Intrapleural)': 12,\n",
       " 'Metoprolol': 12,\n",
       " 'Azithromycin ': 12,\n",
       " 'Sotalol': 12,\n",
       " 'Methylprednisolone': 12,\n",
       " 'Methylnaltrexone': 12,\n",
       " 'Vitamin B Complex': 11,\n",
       " 'Epoetin Alfa': 11,\n",
       " 'BuPROPion XL (Once Daily)': 11,\n",
       " 'Thyroid': 11,\n",
       " 'CARVedilol': 11,\n",
       " 'Mannitol 20 %': 11,\n",
       " 'Verapamil': 11,\n",
       " 'Albuterol-Ipratropium': 11,\n",
       " 'DOXOrubicin': 11,\n",
       " 'Dapsone': 11,\n",
       " 'Pyridoxine': 11,\n",
       " 'TB Syringe': 11,\n",
       " 'RISperidone': 11,\n",
       " 'Epinephrine': 11,\n",
       " 'Syringe (NS)': 11,\n",
       " 'Diazepam - CIWA protocol': 11,\n",
       " 'Fluticasone-Salmeterol Diskus (100/50)': 10,\n",
       " 'Adderall': 10,\n",
       " 'Olanzapine (Disintegrating Tablet)': 10,\n",
       " 'Promethazine HCl': 10,\n",
       " 'Fluconazole': 10,\n",
       " 'Dorzolamide 2%/Timolol 0.5% Ophth.': 10,\n",
       " 'Mannitol 20%': 10,\n",
       " 'PrednisoLONE Acetate 1% Ophth. Susp.': 10,\n",
       " 'Vancomycin Oral Liquid': 10,\n",
       " 'Mesalamine DR': 10,\n",
       " 'Albumin 5% (25g / 500mL)': 10,\n",
       " 'DOBUTamine': 10,\n",
       " 'Amoxicillin-Clavulanic Acid': 10,\n",
       " 'Hydrocortisone Na Succ.': 10,\n",
       " 'Hepatitis B Immune Globulin': 10,\n",
       " 'D15W': 10,\n",
       " 'CeftazIDIME': 10,\n",
       " 'Cytarabine': 10,\n",
       " 'Fentanyl Patch': 10,\n",
       " 'Hydrocodone-Acetaminophen': 9,\n",
       " 'ChlorproMAZINE': 9,\n",
       " 'Syringe (Neonatal) *D10W*': 9,\n",
       " 'Micafungin': 9,\n",
       " 'Heparin Sodium': 9,\n",
       " 'Isosorbide Dinitrate': 9,\n",
       " 'Amoxicillin': 9,\n",
       " 'Mesalamine (Rectal)': 9,\n",
       " 'Ropinirole': 9,\n",
       " 'Valproic Acid': 9,\n",
       " 'Fluvoxamine Maleate': 9,\n",
       " 'Buprenorphine-Naloxone (8mg-2mg)': 9,\n",
       " 'Chloraseptic Throat Spray': 9,\n",
       " 'ValGANCIclovir': 9,\n",
       " 'Bumetanide': 9,\n",
       " 'Dofetilide': 9,\n",
       " 'Artificial Tear Ointment': 9,\n",
       " 'Sodium Chloride': 9,\n",
       " '0.9% Sodium Chloride (Syringe)': 9,\n",
       " 'Namenda': 9,\n",
       " 'Sodium Chloride (2 mEq/100mL)': 9,\n",
       " 'Liothyronine Sodium': 9,\n",
       " '5 Syringes (NS)': 9,\n",
       " 'Carbamazepine XR': 9,\n",
       " 'Sumatriptan Succinate': 9,\n",
       " 'CycloSPORINE (Neoral) MODIFIED': 9,\n",
       " 'Provigil': 9,\n",
       " 'Vitamin D Oral Liquid': 8,\n",
       " 'Syringe (Intraperitoneal)': 8,\n",
       " 'Arimidex': 8,\n",
       " 'Acetaminophen-Caff-Butalbital': 8,\n",
       " 'Calcium Acetate': 8,\n",
       " 'Phenytoin (Suspension)': 8,\n",
       " 'Nitroglycerin': 8,\n",
       " 'LaMIVudine': 8,\n",
       " 'Acetaminophen w/Codeine': 8,\n",
       " 'Miconazole Powder 2%': 8,\n",
       " 'Ribavirin': 8,\n",
       " 'Calcitonin Salmon': 8,\n",
       " 'Moexipril': 8,\n",
       " 'Divalproex Sodium': 8,\n",
       " 'Amantadine': 8,\n",
       " 'Esmolol': 8,\n",
       " 'Albumin 25% (12.5g / 50mL)': 8,\n",
       " 'Morphine Sulfate IR': 7,\n",
       " 'Heparin Dwell (1000 Units/mL)': 7,\n",
       " 'Dermoplast Spray': 7,\n",
       " 'PrimiDONE': 7,\n",
       " 'CarBAMazepine': 7,\n",
       " 'Latanoprost 0.005% Ophth. Soln.': 7,\n",
       " 'Readi-Cat 2 (Barium Sulfate 2% Suspension)': 7,\n",
       " 'irbesartan': 7,\n",
       " 'PHENYLEPHrine': 7,\n",
       " 'Vitamin E': 7,\n",
       " 'Perphenazine': 7,\n",
       " 'Phenylephrine': 7,\n",
       " 'Methylphenidate': 7,\n",
       " 'OLANZapine (Disintegrating Tablet)': 7,\n",
       " 'Quetiapine extended-release': 7,\n",
       " 'Methylergonovine Maleate': 7,\n",
       " 'Cholestyramine': 7,\n",
       " 'Bicitra': 7,\n",
       " 'Oseltamivir': 7,\n",
       " 'Timolol Maleate 0.25%': 7,\n",
       " '300 mcg Vial': 7,\n",
       " 'Pyridostigmine Bromide': 7,\n",
       " 'Bengay Cream': 7,\n",
       " 'Cepacol (Sore Throat Lozenge)': 7,\n",
       " 'Potassium Chloride Replacement (Critical Care and Oncology) ': 7,\n",
       " 'Bottle': 7,\n",
       " 'Celecoxib': 7,\n",
       " 'Clonidine Patch 0.3 mg/24 hr': 7,\n",
       " 'Heparin Pres. Free': 6,\n",
       " 'Erythromycin': 6,\n",
       " 'Nalbuphine HCl': 6,\n",
       " 'GuaiFENesin': 6,\n",
       " 'Phosphorus': 6,\n",
       " 'Tricor': 6,\n",
       " 'Ferrous Gluconate': 6,\n",
       " 'Cepastat (Phenol) Lozenge': 6,\n",
       " 'D20W': 6,\n",
       " 'Methylene Blue 1%': 6,\n",
       " 'Abacavir Sulfate': 6,\n",
       " 'Nortriptyline': 6,\n",
       " 'OXcarbazepine': 6,\n",
       " 'Propafenone HCl': 6,\n",
       " 'Sodium Chloride 0.9%  (Mini Bag Plus)': 6,\n",
       " 'Glycopyrrolate': 6,\n",
       " 'Potassium Chloride (Powder)': 6,\n",
       " 'NEO*PO*Ferrous Sulfate Elixir': 6,\n",
       " 'Fluphenazine': 6,\n",
       " 'Zidovudine': 6,\n",
       " 'Budesonide': 6,\n",
       " 'Fleet Enema': 6,\n",
       " 'Ambisome': 6,\n",
       " 'Prasugrel': 6,\n",
       " 'Levetiracetam': 6,\n",
       " 'Oseltamivir Phosphate': 6,\n",
       " 'Ganciclovir': 6,\n",
       " 'Clonidine Patch 0.2 mg/24 hr': 6,\n",
       " 'Pseudoephedrine': 6,\n",
       " 'Sarna Lotion': 6,\n",
       " 'letrozole': 6,\n",
       " 'Rituximab': 6,\n",
       " 'Oxymetazoline': 6,\n",
       " 'Benicar': 6,\n",
       " 'Clevidipine': 6,\n",
       " 'Hydrocerin': 6,\n",
       " 'Sodium CITRATE 4%': 6,\n",
       " 'Pramipexole': 5,\n",
       " 'Eptifibatide': 5,\n",
       " 'Gentamicin 0.3% Ophth. Soln': 5,\n",
       " 'Isoniazid': 5,\n",
       " 'Piperacillin-Tazobactam': 5,\n",
       " 'Neo*Nasal*Sodium Chloride 0.9%': 5,\n",
       " 'Caspofungin': 5,\n",
       " 'Aquaphor': 5,\n",
       " 'Niacin': 5,\n",
       " 'Magnesium Citrate': 5,\n",
       " 'Sodium Chloride Nasal': 5,\n",
       " 'Hepatitis B Immune Globulin (Bayhep B)': 5,\n",
       " 'Nimodipine': 5,\n",
       " 'Clobetasol Propionate 0.05% Cream': 5,\n",
       " 'Carbamazepine (Extended-Release)': 5,\n",
       " 'Irbesartan': 5,\n",
       " 'Nicotine Lozenge': 5,\n",
       " 'Cinacalcet': 5,\n",
       " 'Bortezomib': 5,\n",
       " 'Tetracaine 0.5% Ophth Soln': 5,\n",
       " 'Guaifenesin-CODEINE Phosphate': 5,\n",
       " 'sevelamer CARBONATE': 5,\n",
       " 'HYDROmorphone': 5,\n",
       " 'Methylphenidate SR': 5,\n",
       " 'Nitrofurantoin (Macrodantin)': 5,\n",
       " 'SulfaSALAzine_': 5,\n",
       " 'MetOLazone': 5,\n",
       " 'Ziprasidone': 5,\n",
       " 'Lidocaine Viscous 2%': 5,\n",
       " 'Eplerenone': 5,\n",
       " 'Tolterodine': 5,\n",
       " 'MCT Oil': 5,\n",
       " 'D5W (EXCEL BAG)': 5,\n",
       " 'Ferrous GLUCONATE': 5,\n",
       " 'Aerogen Syringe (NS)': 5,\n",
       " 'Clozapine': 5,\n",
       " 'CycloSPORINE (Sandimmune)': 5,\n",
       " 'MetronidAZOLE Topical 1 % Gel': 5,\n",
       " 'Dolutegravir': 5,\n",
       " 'Alvimopan': 4,\n",
       " 'Lithium Carbonate CR (Eskalith)': 4,\n",
       " 'Carbidopa-Levodopa CR (50-200)': 4,\n",
       " 'Syringe (Neonatal) *D10W**': 4,\n",
       " 'QUEtiapine extended-release': 4,\n",
       " 'NEO*PO*Zidovudine Syrup': 4,\n",
       " 'NiCARdipine IV': 4,\n",
       " 'Anastrozole': 4,\n",
       " 'Gelclair': 4,\n",
       " 'Bromocriptine Mesylate': 4,\n",
       " 'Nystatin Oral Suspension': 4,\n",
       " 'OxycoDONE Liquid': 4,\n",
       " 'Minoxidil': 4,\n",
       " 'Codeine Sulfate': 4,\n",
       " 'Fentanyl 2.5mg 50mL Bag': 4,\n",
       " 'NIFEdipine (Extended Release)': 4,\n",
       " 'Pioglitazone HCl': 4,\n",
       " 'ClomiPRAMINE': 4,\n",
       " 'ValACYclovir': 4,\n",
       " 'Ranitidine (Liquid)': 4,\n",
       " 'Lidocaine 2%': 4,\n",
       " 'Bisoprolol Fumarate': 4,\n",
       " 'Zinc Sulfate': 4,\n",
       " 'Amphetamine-Dextroamphetamine': 4,\n",
       " 'PHENYLEPHrine (for dilution)': 4,\n",
       " 'rOPINIRole': 4,\n",
       " 'Syringe (0.45% Sodium Chloride)': 4,\n",
       " 'NS (Syringe)': 4,\n",
       " 'Evista': 4,\n",
       " 'Lyrica': 4,\n",
       " 'Clotrimazole Cream': 4,\n",
       " 'Fluticasone-Salmeterol Diskus (500/50) ': 4,\n",
       " 'Rifaximin': 4,\n",
       " 'Sodium Polystyrene Sulfonate': 4,\n",
       " 'Caffeine Citrate': 4,\n",
       " 'Mesalamine': 4,\n",
       " 'Desipramine': 4,\n",
       " 'Syringe (Sterile Water)': 4,\n",
       " 'Amiloride HCl': 4,\n",
       " 'Vitamin B Complex w/C': 4,\n",
       " 'Rosiglitazone Maleate': 4,\n",
       " 'Tirofiban': 4,\n",
       " 'NiMODipine': 4,\n",
       " 'Lumigan': 4,\n",
       " '0.9% NaCl (EXCEL/ViaFLO BAG)': 4,\n",
       " 'Megestrol Acetate': 4,\n",
       " 'Potassium Chl 40 mEq / 1000 mL D5NS': 4,\n",
       " 'Tiagabine': 3,\n",
       " 'Piroxicam': 3,\n",
       " 'Clobetasol Propionate 0.05% Ointment': 3,\n",
       " 'Potassium Chl 40 mEq / 1000 mL D5 1/2 NS': 3,\n",
       " 'Doxercalciferol': 3,\n",
       " 'Dorzolamide 2% Ophth. Soln.': 3,\n",
       " 'Bivalirudin': 3,\n",
       " 'Ondansetron 4mg/2mL 2mL VIAL': 3,\n",
       " 'OxycoDONE-Acetaminophen Elixir': 3,\n",
       " 'Valtrex': 3,\n",
       " 'Apri': 3,\n",
       " 'leflunomide': 3,\n",
       " 'Glycerin Supps': 3,\n",
       " 'Vecuronium Bromide': 3,\n",
       " 'Cyclopentolate 1%': 3,\n",
       " 'Ranexa': 3,\n",
       " 'Ciprofloxacin 0.3% Ophth Soln': 3,\n",
       " 'Creon 10': 3,\n",
       " 'NORepinephri 8mg/250mL 250mL BAG': 3,\n",
       " 'Triamcinolone Acetonide 0.1% Cream': 3,\n",
       " 'Maalox/Diphenhydramine/Lidocaine': 3,\n",
       " 'Norethindrone-Estradiol': 3,\n",
       " 'Aspirin ': 3,\n",
       " 'Belladonna & Opium (16.2/30mg)': 3,\n",
       " 'NS Epidural Bag': 3,\n",
       " 'Verapamil HCl': 3,\n",
       " 'Levobunolol 0.5%': 3,\n",
       " 'OxyCODONE (Immediate Rel 5mg TAB': 3,\n",
       " 'Soma': 3,\n",
       " 'NEO*IV*Parenteral Nutrition': 3,\n",
       " 'Dexmedetomidine': 3,\n",
       " 'Iron Polysaccharides Complex': 3,\n",
       " 'Psyllium Wafer': 3,\n",
       " 'CISplatin': 3,\n",
       " 'Ropinirole HCl': 3,\n",
       " 'Albuterol MDI': 3,\n",
       " 'Ertapenem Sodium': 3,\n",
       " 'OxyCODONE--Acetaminophen (5mg-325mg)': 3,\n",
       " 'Lithium Carbonate SR (Lithobid)': 3,\n",
       " 'Potassium Phosphate': 3,\n",
       " 'Dronabinol': 3,\n",
       " 'Doxepin HCl': 3,\n",
       " 'Pindolol': 3,\n",
       " 'Alprostadil': 3,\n",
       " 'Rifampin': 3,\n",
       " 'Propylthiouracil': 3,\n",
       " 'Stribild': 3,\n",
       " 'Nabumetone': 3,\n",
       " 'Theophylline SR': 3,\n",
       " 'Carbidopa-Levodopa (25-250)': 3,\n",
       " 'mannitol 20 %': 3,\n",
       " 'Heparin PF (0.5 Units/mL)': 3,\n",
       " 'HYDROcodone-Acetaminophen (5mg-325mg)': 3,\n",
       " 'Activated Charcoal-Sorbitol': 3,\n",
       " 'LACOSamide': 3,\n",
       " 'Exemestane': 3,\n",
       " 'Quinine Sulfate': 3,\n",
       " 'Infliximab': 3,\n",
       " 'Vasopressin': 3,\n",
       " 'Calcium Chloride': 3,\n",
       " 'IDArubicin': 3,\n",
       " 'Heparin Flush PICC (100 units/ml)': 3,\n",
       " 'Levoxyl': 3,\n",
       " 'DICYCLOMine': 3,\n",
       " 'Potassium C 20mEq/50mL 50mL IVPB': 3,\n",
       " 'Syringe (Intrapleural)': 3,\n",
       " 'Atropine Sulfate Ophth 1%': 3,\n",
       " 'CARBOplatin': 3,\n",
       " 'Niacin SR': 3,\n",
       " 'Tretinoin (ATRA-All Transretinoic Acid)': 3,\n",
       " 'Guaifenesin-Dextromethorphan': 3,\n",
       " 'Dipyridamole-Aspirin': 3,\n",
       " 'Tretinoin (ATRA, All-Transretinoic Acid)': 3,\n",
       " 'Phenytoin Infatab': 3,\n",
       " 'Letrozole': 3,\n",
       " 'Carbidopa-Levodopa (25-100) ODT': 3,\n",
       " 'Febuxostat': 3,\n",
       " 'PHENYLEPHrine (QuVa)': 3,\n",
       " 'Divalproex Sodium ER': 3,\n",
       " 'NORepinephrine (in NS)': 3,\n",
       " 'Glutamine': 3,\n",
       " 'Ampicillin-Sulbactam': 3,\n",
       " 'Divalproex Sod. Sprinkles': 3,\n",
       " 'ZIPRASidone Hydrochloride': 3,\n",
       " 'DiCYCLOmine': 3,\n",
       " 'Dextrose 5%  (*Glass Bottle*)': 3,\n",
       " 'Syringe (Neonatal) *SW*': 3,\n",
       " 'Darunavir': 3,\n",
       " 'Triamterene-HCTZ (37.5/25)': 3,\n",
       " 'InFLIXimab': 3,\n",
       " 'Ciprofloxacin IV': 3,\n",
       " 'D30W': 2,\n",
       " 'Imipramine': 2,\n",
       " 'Junel FE 1/20 (28)': 2,\n",
       " 'Prograf': 2,\n",
       " 'Rytary': 2,\n",
       " 'OxyCODONE Liquid': 2,\n",
       " 'DULoxetine DR': 2,\n",
       " 'Dipyridamole': 2,\n",
       " 'Pristiq': 2,\n",
       " 'Celebrex': 2,\n",
       " 'LaMICtal XR': 2,\n",
       " 'Wellbutrin XL': 2,\n",
       " 'D25W': 2,\n",
       " 'Carboprost Tromethamine': 2,\n",
       " 'Etravirine': 2,\n",
       " 'pramipexole': 2,\n",
       " 'Mirapex': 2,\n",
       " 'AcetaZOLamide': 2,\n",
       " 'Concerta': 2,\n",
       " 'Fentanyl PCA': 2,\n",
       " 'Tri-Sprintec (28)': 2,\n",
       " 'Mucinex': 2,\n",
       " 'Disopyramide Phosphate': 2,\n",
       " 'Sodium Bicarbonate 4.2% (2.4mEq)': 2,\n",
       " 'Maalox/Lidocaine': 2,\n",
       " 'Artificial Tears Preserv. Free': 2,\n",
       " 'Myfortic': 2,\n",
       " 'Isosorbide Mononitrate': 2,\n",
       " 'Risperidone (Disintegrating Tablet)': 2,\n",
       " 'Raltegravir': 2,\n",
       " 'LaMIVudine-Zidovudine (Combivir)': 2,\n",
       " 'Sodium Chloride 3% (Hypertonic)': 2,\n",
       " 'Cyproheptadine': 2,\n",
       " 'fenofibrate': 2,\n",
       " 'rilpivirine': 2,\n",
       " 'Aerogen Syringe (SW)': 2,\n",
       " 'Ketamine': 2,\n",
       " 'Triamterene': 2,\n",
       " '6 Syringes (NS)': 2,\n",
       " 'Latuda': 2,\n",
       " 'Tetanus-Diphtheria Tox (DECAVAC)': 2,\n",
       " 'Docusate': 2,\n",
       " 'anastrozole': 2,\n",
       " 'Metoprolol Tart 5mg/5mL 5mL VIAL': 2,\n",
       " 'Aminocaproic Acid': 2,\n",
       " 'Clorazepate Dipotassium': 2,\n",
       " 'Methyldopa': 2,\n",
       " 'Syringe (Intrathecal)': 2,\n",
       " 'Cisatracurium Besylate': 2,\n",
       " 'Multivitamin Liquid': 2,\n",
       " 'Modafinil': 2,\n",
       " 'Provera': 2,\n",
       " 'bisoprolol fumarate': 2,\n",
       " 'Amiodarone (f 150mg/3mL 3mL Vial': 2,\n",
       " 'Gastroview (Diatrizoate Meglumine & Sodium)': 2,\n",
       " 'Flumazenil': 2,\n",
       " 'Keppra': 2,\n",
       " 'Humulin N': 2,\n",
       " 'Isoproterenol': 2,\n",
       " 'Fluticasone-Salmeterol (100/50)': 2,\n",
       " 'CeleBREX': 2,\n",
       " 'Paxil CR': 2,\n",
       " 'Syringe (SW)': 2,\n",
       " 'Ziprasidone Hydrochloride': 2,\n",
       " 'NEO*IV*Gentamicin': 2,\n",
       " 'Viaflex Bag': 2,\n",
       " 'Lialda': 2,\n",
       " 'GuaiFENesin ER': 2,\n",
       " 'Nystatin Ointment': 2,\n",
       " 'NEO*PO*Vitamin E Drops': 2,\n",
       " 'Glimepiride': 2,\n",
       " 'Dulera': 2,\n",
       " 'Etoposide': 2,\n",
       " 'Lovastatin': 2,\n",
       " 'Qvar': 2,\n",
       " 'Lithium Oral Solution': 2,\n",
       " 'Donnatol': 2,\n",
       " 'Nitroglycerin Patch': 2,\n",
       " 'Prolensa': 2,\n",
       " 'Lacosamide': 2,\n",
       " 'Lidocaine 1% P.F.': 2,\n",
       " 'Linezolid': 2,\n",
       " 'Calcipotriene 0.005% Cream': 2,\n",
       " 'NS (Glass Bottle)': 2,\n",
       " 'Albuterol': 2,\n",
       " 'Viokase-8': 2,\n",
       " 'Heparin Flush Port (10 units/mL)': 2,\n",
       " 'Atovaquone Suspension': 2,\n",
       " 'AzaTHIOprine': 2,\n",
       " 'Microgestin Fe 1.5/30 (28)': 2,\n",
       " 'Complera': 2,\n",
       " 'YAZ 28': 2,\n",
       " 'Silver Sulfadiazine 1% Cream': 2,\n",
       " 'Multivitamin (Infant)': 2,\n",
       " 'Aviane': 2,\n",
       " 'Dabigatran Etexilate': 2,\n",
       " 'Hydrocodone-Acetaminophen (5mg-325mg)': 2,\n",
       " 'Lidocaine 0.9% (Buffered)': 2,\n",
       " 'NexIUM': 2,\n",
       " 'olmesartan': 2,\n",
       " 'galantamine': 2,\n",
       " 'Rufinamide': 2,\n",
       " 'Talc (Sterile)': 2,\n",
       " 'Indapamide': 2,\n",
       " 'celecoxib': 2,\n",
       " 'Femara': 2,\n",
       " 'Acamprosate': 2,\n",
       " 'Aspirin Desensitization (Urticaria/Angioedema)': 2,\n",
       " 'Furosemide 100mg/10mL 10mL VIAL': 2,\n",
       " 'Minocycline': 2,\n",
       " 'NEO*PO*Opium Tincture (Dilute)': 2,\n",
       " 'Trandolapril': 2,\n",
       " 'Dexameth': 2,\n",
       " 'Morphine Sulfate (Concentrated Oral Soln)': 2,\n",
       " 'Adefovir': 2,\n",
       " 'Xopenex Neb': 2,\n",
       " 'Dextrose 20% in Water (D20W)': 2,\n",
       " 'Thiothixene': 2,\n",
       " 'HumuLIN N': 2,\n",
       " 'Claritin': 2,\n",
       " 'Dextroamphetamine': 2,\n",
       " 'Acebutolol': 2,\n",
       " 'Ferric Gluconate': 2,\n",
       " 'Razadyne ER': 2,\n",
       " 'EPINEPHrine (EpiPEN)': 2,\n",
       " 'benazepril': 2,\n",
       " 'Melphalan': 2,\n",
       " 'Tradjenta': 2,\n",
       " 'Tigecycline': 2,\n",
       " 'Ketorolac 0.5% Ophth Soln': 2,\n",
       " 'Hydrocodone-Acetaminophen (5mg-500mg)': 2,\n",
       " 'EPINEPHrine (for dilution)': 2,\n",
       " 'Morphine': 2,\n",
       " 'Esomeprazole sodium': 2,\n",
       " 'NS Epidural Bag (0.9% NaCl)': 2,\n",
       " 'BuPROPion ': 2,\n",
       " 'V-C Forte': 1,\n",
       " 'HumaLOG': 1,\n",
       " 'Timoptic': 1,\n",
       " 'Lactaid Fast Act': 1,\n",
       " 'Docusate ': 1,\n",
       " 'metformin': 1,\n",
       " 'Diphenoxylate-Atropine': 1,\n",
       " 'Trileptal': 1,\n",
       " 'Dextrose 50% 25gm/50mL 50mL SYR': 1,\n",
       " 'Ranolazine ER': 1,\n",
       " 'Ipratropium Bromide MDI': 1,\n",
       " 'NiCARdipine': 1,\n",
       " 'Itraconazole': 1,\n",
       " 'Sutent': 1,\n",
       " 'Potassium Bicarbonate Eff': 1,\n",
       " 'Chloroquine': 1,\n",
       " 'ATRIPLA': 1,\n",
       " 'Acarbose': 1,\n",
       " 'methenamine hippurate': 1,\n",
       " 'Lidocaine-Prilocaine': 1,\n",
       " 'Tobramycin Inhalation Soln': 1,\n",
       " 'Levothroid': 1,\n",
       " 'baclofen': 1,\n",
       " 'PlasmaLyte': 1,\n",
       " 'hydrocorTISone Sod Succinate': 1,\n",
       " 'LevETIRAcetam Oral Solution': 1,\n",
       " 'Lantus': 1,\n",
       " 'venetoclax': 1,\n",
       " 'Emtricitabine-Tenofovir alafen (200mg-25mg) *DESCOVY*': 1,\n",
       " 'CarBAMazepine Chewable Tabs': 1,\n",
       " 'NEO*IV*Fat Emulsion': 1,\n",
       " 'Syringe (PCA)': 1,\n",
       " 'Romiplostim': 1,\n",
       " 'Junel FE 1.5/30 (28)': 1,\n",
       " 'Genvoya': 1,\n",
       " 'Vitamin B-12': 1,\n",
       " 'Asenapine': 1,\n",
       " 'ranolazine': 1,\n",
       " 'Carbidopa-Levodopa (10-100)': 1,\n",
       " 'Optivar': 1,\n",
       " 'Leflunomide': 1,\n",
       " 'Lescol': 1,\n",
       " 'Sprintec (28)': 1,\n",
       " 'Fentanyl 100mcg/2mL 2mL AMP': 1,\n",
       " 'Selenium Sulfide': 1,\n",
       " 'Cinacalcet HCl': 1,\n",
       " 'Tessalon ': 1,\n",
       " 'Chlordiazepoxide HCl': 1,\n",
       " '9Cinryze': 1,\n",
       " 'DTaP - IPV/Hib': 1,\n",
       " 'Aricept': 1,\n",
       " 'Fondaparinux Sodium': 1,\n",
       " 'Profend': 1,\n",
       " 'Betamethasone Dipro 0.05% Augmented Gel': 1,\n",
       " 'Halcion': 1,\n",
       " 'PHENYLEPHrine (for dilu 60mg/6mL': 1,\n",
       " 'CADD Cassette': 1,\n",
       " 'Betamethasone Dipro 0.05% Oint': 1,\n",
       " 'Lo Loestrin Fe': 1,\n",
       " 'Indomethacin Sodium': 1,\n",
       " 'Fosaprepitant': 1,\n",
       " 'Fosphenytoin': 1,\n",
       " 'Thiopental Sodium': 1,\n",
       " 'NEO*IV*Fentanyl': 1,\n",
       " 'Phenytek': 1,\n",
       " 'INV-EVICEL Fibrin Sealant (Human)': 1,\n",
       " 'Fosinopril': 1,\n",
       " 'Rocuronium': 1,\n",
       " 'Razadyne': 1,\n",
       " 'indocyanine green': 1,\n",
       " 'Nevirapine Suspension': 1,\n",
       " 'Sterile Diluent for Flolan': 1,\n",
       " 'Fondaparinux': 1,\n",
       " 'Abreva': 1,\n",
       " 'Triamcinolone Acetonide 0.1% Ointment': 1,\n",
       " 'Protamine Sulfate': 1,\n",
       " 'Lotemax': 1,\n",
       " 'Rasagiline': 1,\n",
       " 'fosinopril': 1,\n",
       " 'Jolessa': 1,\n",
       " 'Phenylephrine 2.5 % Ophth Soln': 1,\n",
       " 'Sodium Bica 50mEq/50mL 50mL VIAL': 1,\n",
       " 'Racepinephrine': 1,\n",
       " 'brinzolamide': 1,\n",
       " 'fenofibrate nanocrystallized': 1,\n",
       " 'Neomycin-Polymyxin-Bacitracin': 1,\n",
       " 'clopidogrel 150 mg': 1,\n",
       " 'Align': 1,\n",
       " 'Nystatin-Triamcinolone Cream': 1,\n",
       " 'Cosyntropin': 1,\n",
       " 'Selegiline HCl': 1,\n",
       " 'NS  W/  0.1% Albumin': 1,\n",
       " 'Decitabine': 1,\n",
       " 'Hydrocortisone (Rectal) 2.5% Cream': 1,\n",
       " 'Apraclonidine 0.5%': 1,\n",
       " 'Bacitracin Ophthalmic Oint': 1,\n",
       " 'diltia': 1,\n",
       " 'Tretinoin': 1,\n",
       " 'Multivitamins W/minerals Chewable': 1,\n",
       " 'Ethacrynic Acid': 1,\n",
       " 'Junel 1.5/30 (21)': 1,\n",
       " 'EPINEPHrine (for dil 2mg/2mL 2mL': 1,\n",
       " 'Tizanidine HCl': 1,\n",
       " 'Vagifem': 1,\n",
       " 'vancomycin': 1,\n",
       " 'Aluminum Hydroxide Suspension': 1,\n",
       " 'Errin': 1,\n",
       " 'Chlorothiazide': 1,\n",
       " 'Desmopressin Nasal': 1,\n",
       " 'Advair Diskus': 1,\n",
       " 'Adenosine': 1,\n",
       " 'DiCLOXacillin': 1,\n",
       " 'Morphine Sulfate 2mg/1mL 1mL SYR': 1,\n",
       " 'Imbruvica': 1,\n",
       " 'Biktarvy': 1,\n",
       " 'Byetta': 1,\n",
       " 'Xopenex': 1,\n",
       " 'PrednisoLONE Acetate 0.12% Ophth. Susp.': 1,\n",
       " 'Lidocaine 0.5%': 1,\n",
       " 'Insulin Human Regular': 1,\n",
       " 'Chantix': 1,\n",
       " 'Carbamide Peroxide 6.5%': 1,\n",
       " 'Triamcinolone Acetonide': 1,\n",
       " 'Ceftaroline': 1,\n",
       " 'LeVETiracetam Oral Solution': 1,\n",
       " 'Xyrem': 1,\n",
       " 'Pediatric Vitamins ADC': 1,\n",
       " 'Cyclopentolate-Phenylephrine': 1,\n",
       " 'Prepopik(Sod.Picosulf.-Mag.Oxide-Citric acid)': 1,\n",
       " 'Acetaminophen (Rectal)': 1,\n",
       " 'Ifosfamide': 1,\n",
       " 'Ferrous Sulfate (Liquid)': 1,\n",
       " 'FemARA': 1,\n",
       " 'Meper': 1,\n",
       " ...}"
      ]
     },
     "execution_count": 65,
     "metadata": {},
     "output_type": "execute_result"
    }
   ],
   "source": [
    "df.drug.value_counts().to_dict()"
   ]
  },
  {
   "cell_type": "code",
   "execution_count": 66,
   "id": "f5c024af",
   "metadata": {},
   "outputs": [
    {
     "data": {
      "text/plain": [
       "0"
      ]
     },
     "execution_count": 66,
     "metadata": {},
     "output_type": "execute_result"
    }
   ],
   "source": [
    "df = generic_util_instance.replace_nan(df, 'drug', 'None')\n",
    "df.drug.isna().sum()"
   ]
  },
  {
   "cell_type": "code",
   "execution_count": 67,
   "id": "9441693b",
   "metadata": {},
   "outputs": [
    {
     "data": {
      "text/plain": [
       "Other                                            83346\n",
       "Erythromycin 0.5% Ophth Oint                     52253\n",
       "Sodium Chloride 0.9%  Flush                      32575\n",
       "None                                             24774\n",
       "Influenza Vaccine Quadrivalent                   17229\n",
       "Influenza Virus Vaccine                          11106\n",
       "Aspirin                                           5148\n",
       "Heparin                                           4488\n",
       "0.9% Sodium Chloride                              4363\n",
       "Iso-Osmotic Dextrose                              4020\n",
       "PNEUMOcoccal 23-valent polysaccharide vaccine     3930\n",
       "Bag                                               3912\n",
       "Acetaminophen                                     3522\n",
       "Pneumococcal Vac Polyvalent                       3078\n",
       "5% Dextrose                                       3052\n",
       "Name: drug, dtype: int64"
      ]
     },
     "execution_count": 67,
     "metadata": {},
     "output_type": "execute_result"
    }
   ],
   "source": [
    "df = generic_util_instance.replace_column_value(df, 'drug', 3000, 'Other')\n",
    "df.drug.value_counts()"
   ]
  },
  {
   "cell_type": "code",
   "execution_count": 68,
   "id": "48ed8a98",
   "metadata": {},
   "outputs": [
    {
     "data": {
      "text/plain": [
       "24984"
      ]
     },
     "execution_count": 68,
     "metadata": {},
     "output_type": "execute_result"
    }
   ],
   "source": [
    "df.route.isna().sum()"
   ]
  },
  {
   "cell_type": "code",
   "execution_count": 69,
   "id": "ffd0b07b",
   "metadata": {},
   "outputs": [
    {
     "data": {
      "text/plain": [
       "{'IV': 75633,\n",
       " 'BOTH EYES': 52349,\n",
       " 'IM': 38930,\n",
       " 'PO': 30329,\n",
       " 'PO/NG': 19024,\n",
       " 'SC': 6960,\n",
       " 'IV DRIP': 2961,\n",
       " 'PIV': 993,\n",
       " 'TD': 827,\n",
       " 'IH': 530,\n",
       " 'ORAL': 495,\n",
       " 'TP': 456,\n",
       " 'IVPCA': 278,\n",
       " 'ED': 275,\n",
       " 'NU': 254,\n",
       " 'PR': 245,\n",
       " 'NG': 190,\n",
       " 'IV BOLUS': 112,\n",
       " 'ID': 105,\n",
       " 'DIALYS': 84,\n",
       " 'DLUVC': 82,\n",
       " 'UVC': 65,\n",
       " 'PB': 65,\n",
       " 'REPLACE': 62,\n",
       " 'SL': 60,\n",
       " 'OU': 51,\n",
       " 'ET': 51,\n",
       " 'BUCCAL': 48,\n",
       " 'PERIPHNERVE': 34,\n",
       " 'NEB': 33,\n",
       " 'VG': 31,\n",
       " 'LEFT EYE': 29,\n",
       " 'PL': 29,\n",
       " 'RIGHT EYE': 24,\n",
       " 'IT': 23,\n",
       " 'SUBCUT': 21,\n",
       " 'DWELL': 15,\n",
       " 'IP': 14,\n",
       " 'NAS': 7,\n",
       " 'IN': 4,\n",
       " 'UAC': 3,\n",
       " 'OD': 3,\n",
       " 'OS': 3,\n",
       " 'IMPELLA': 3,\n",
       " 'IVT': 2,\n",
       " 'LUMBAR PLEXUS': 2,\n",
       " 'IR': 2,\n",
       " 'INHALATION': 2,\n",
       " 'PAL': 1,\n",
       " 'LEFT EAR': 1,\n",
       " 'BOTH EARS': 1,\n",
       " 'PO OR ENTERAL TUBE': 1,\n",
       " 'PICC': 1,\n",
       " 'IA': 1,\n",
       " 'INTRAVITREAL': 1,\n",
       " 'G TUBE': 1,\n",
       " 'LOCK': 1,\n",
       " 'TT': 1,\n",
       " 'AD': 1,\n",
       " 'TRANSDERMAL': 1,\n",
       " 'IRR': 1,\n",
       " 'OG': 1}"
      ]
     },
     "execution_count": 69,
     "metadata": {},
     "output_type": "execute_result"
    }
   ],
   "source": [
    "df.route.value_counts().to_dict()"
   ]
  },
  {
   "cell_type": "code",
   "execution_count": 70,
   "id": "6b80b8d0",
   "metadata": {},
   "outputs": [
    {
     "data": {
      "text/plain": [
       "0"
      ]
     },
     "execution_count": 70,
     "metadata": {},
     "output_type": "execute_result"
    }
   ],
   "source": [
    "df = generic_util_instance.replace_nan(df, 'route', 'None')\n",
    "df.route.isna().sum()"
   ]
  },
  {
   "cell_type": "code",
   "execution_count": 71,
   "id": "b2b698ba",
   "metadata": {},
   "outputs": [
    {
     "data": {
      "text/plain": [
       "IV           75633\n",
       "BOTH EYES    52349\n",
       "IM           38930\n",
       "PO           30329\n",
       "None         24984\n",
       "PO/NG        19024\n",
       "SC            6960\n",
       "Other         5626\n",
       "IV DRIP       2961\n",
       "Name: route, dtype: int64"
      ]
     },
     "execution_count": 71,
     "metadata": {},
     "output_type": "execute_result"
    }
   ],
   "source": [
    "df = generic_util_instance.replace_column_value(df, 'route', 2500, 'Other')\n",
    "df.route.value_counts()"
   ]
  },
  {
   "cell_type": "code",
   "execution_count": 72,
   "id": "12c9696a",
   "metadata": {},
   "outputs": [
    {
     "data": {
      "text/plain": [
       "190676"
      ]
     },
     "execution_count": 72,
     "metadata": {},
     "output_type": "execute_result"
    }
   ],
   "source": [
    "df.org_name.isna().sum()"
   ]
  },
  {
   "cell_type": "code",
   "execution_count": 73,
   "id": "e5ef563d",
   "metadata": {},
   "outputs": [
    {
     "data": {
      "text/plain": [
       "{'ESCHERICHIA COLI': 10847,\n",
       " 'CANCELLED': 9466,\n",
       " 'STAPH AUREUS COAG +': 7036,\n",
       " 'GRAM POSITIVE BACTERIA': 4982,\n",
       " 'YEAST': 4657,\n",
       " 'STAPHYLOCOCCUS, COAGULASE NEGATIVE': 4215,\n",
       " 'ENTEROCOCCUS SP.': 2879,\n",
       " 'KLEBSIELLA PNEUMONIAE': 2330,\n",
       " 'POSITIVE FOR METHICILLIN RESISTANT STAPH AUREUS': 1543,\n",
       " 'POSITIVE FOR GROUP B BETA STREPTOCOCCI': 1529,\n",
       " 'BETA STREPTOCOCCUS GROUP B': 1325,\n",
       " 'PROTEUS MIRABILIS': 1103,\n",
       " 'PSEUDOMONAS AERUGINOSA': 1031,\n",
       " 'CORYNEBACTERIUM SPECIES (DIPHTHEROIDS)': 923,\n",
       " 'MIXED BACTERIAL FLORA': 771,\n",
       " 'VIRIDANS STREPTOCOCCI': 621,\n",
       " 'BACTEROIDES FRAGILIS GROUP': 487,\n",
       " 'PRESUMPTIVE GARDNERELLA VAGINALIS': 476,\n",
       " 'BETA STREPTOCOCCUS GROUP A': 443,\n",
       " 'GRAM NEGATIVE ROD(S)': 404,\n",
       " 'KLEBSIELLA OXYTOCA': 357,\n",
       " 'LACTOBACILLUS SPECIES': 341,\n",
       " 'STREPTOCOCCUS ANGINOSUS (MILLERI) GROUP': 295,\n",
       " 'SERRATIA MARCESCENS': 290,\n",
       " 'ENTEROBACTER CLOACAE COMPLEX': 288,\n",
       " 'STAPHYLOCOCCUS EPIDERMIDIS': 278,\n",
       " 'ENTEROBACTER AEROGENES': 276,\n",
       " 'GRAM POSITIVE COCCUS(COCCI)': 253,\n",
       " 'PROPIONIBACTERIUM ACNES': 242,\n",
       " 'S. AUREUS POSITIVE; MRSA NEGATIVE': 236,\n",
       " 'HERPES SIMPLEX VIRUS TYPE 2': 206,\n",
       " 'ANAEROBIC GRAM POSITIVE COCCUS(I)': 204,\n",
       " 'ENTEROBACTER CLOACAE': 195,\n",
       " 'HERPES SIMPLEX VIRUS TYPE 1': 181,\n",
       " 'ENTEROCOCCUS FAECALIS': 178,\n",
       " 'CITROBACTER FREUNDII COMPLEX': 176,\n",
       " 'CITROBACTER KOSERI': 172,\n",
       " 'MORGANELLA MORGANII': 167,\n",
       " 'ENTEROCOCCUS FAECIUM': 165,\n",
       " 'GRAM POSITIVE RODS': 161,\n",
       " 'PROBABLE ENTEROCOCCUS': 154,\n",
       " 'STREPTOCOCCUS PNEUMONIAE': 141,\n",
       " 'PREVOTELLA SPECIES': 138,\n",
       " 'CANDIDA ALBICANS': 124,\n",
       " 'CANDIDA ALBICANS, PRESUMPTIVE IDENTIFICATION': 123,\n",
       " 'BETA STREPTOCOCCI, NOT GROUP A': 110,\n",
       " 'STAPHYLOCOCCUS SPECIES': 100,\n",
       " 'YEAST, PRESUMPTIVELY NOT C. ALBICANS': 93,\n",
       " 'PROBABLE MICROCOCCUS SPECIES': 93,\n",
       " 'STAPHYLOCOCCUS SAPROPHYTICUS, PRESUMPTIVE IDENTIFICATION': 91,\n",
       " 'CHLAMYDIA TRACHOMATIS': 90,\n",
       " 'CLOSTRIDIUM DIFFICILE': 87,\n",
       " 'NEGATIVE': 84,\n",
       " 'STAPHYLOCOCCUS, COAGULASE NEGATIVE, PRESUMPTIVELY NOT S. SAPROPHYTICUS': 75,\n",
       " 'CLOSTRIDIUM PERFRINGENS': 75,\n",
       " 'PRESUMPTIVE STREPTOCOCCUS BOVIS': 74,\n",
       " 'BETA STREPTOCOCCUS GROUP G': 74,\n",
       " 'POSITIVE': 66,\n",
       " 'PENICILLIUM SPECIES': 63,\n",
       " 'CAMPYLOBACTER JEJUNI': 62,\n",
       " 'ASPERGILLUS FUMIGATUS': 57,\n",
       " 'TRICHOPHYTON SPECIES': 57,\n",
       " 'CANDIDA GLABRATA': 54,\n",
       " 'ANAEROBIC GRAM POSITIVE ROD(S)': 53,\n",
       " 'BACILLUS SPECIES; NOT ANTHRACIS': 51,\n",
       " 'PRESUMPTIVE PEPTOSTREPTOCOCCUS SPECIES': 45,\n",
       " 'PROPIONIBACTERIUM SPECIES': 45,\n",
       " 'FUSOBACTERIUM NUCLEATUM': 44,\n",
       " 'CANDIDA PARAPSILOSIS': 42,\n",
       " 'BETA STREPTOCOCCUS GROUP C': 41,\n",
       " 'STENOTROPHOMONAS MALTOPHILIA': 40,\n",
       " 'NEISSERIA GONORRHOEAE': 40,\n",
       " 'CORYNEBACTERIUM UREALYTICUM SP. NOV.': 39,\n",
       " 'POSITIVE FOR INFLUENZA A VIRAL ANTIGEN': 39,\n",
       " 'SALMONELLA SPECIES': 38,\n",
       " 'ACINETOBACTER BAUMANNII COMPLEX': 37,\n",
       " 'HAEMOPHILUS INFLUENZAE, BETA-LACTAMASE NEGATIVE': 37,\n",
       " 'MICROCOCCUS/STOMATOCOCCUS SPECIES': 35,\n",
       " 'HAFNIA ALVEI': 27,\n",
       " 'MOLD': 27,\n",
       " 'STAPHYLOCOCCUS LUGDUNENSIS': 27,\n",
       " 'VARICELLA-ZOSTER VIRUS': 26,\n",
       " 'ASPERGILLUS NIGER': 26,\n",
       " 'NEISSERIA SPECIES': 25,\n",
       " 'FUSOBACTERIUM SPECIES': 24,\n",
       " 'NON-FERMENTER, NOT PSEUDOMONAS AERUGINOSA': 24,\n",
       " 'STAPHYLOCOCCUS HOMINIS': 23,\n",
       " 'STREPTOCOCCUS ANGINOSUS': 22,\n",
       " 'S. AUREUS POSITIVE; MRSA POSITIVE': 22,\n",
       " 'VIRUS': 22,\n",
       " 'AEROCOCCUS URINAE': 22,\n",
       " 'CANDIDA TROPICALIS': 21,\n",
       " 'PROVIDENCIA STUARTII': 20,\n",
       " 'CLOSTRIDIUM SPECIES NOT C. PERFRINGENS OR C. SEPTICUM': 20,\n",
       " 'HAEMOPHILUS SPECIES NOT INFLUENZAE': 19,\n",
       " 'STREPTOCOCCUS SPECIES': 19,\n",
       " 'MYCELIA STERILIA': 18,\n",
       " 'POSITIVE FOR PNEUMOCYSTIS JIROVECII (CARINII)': 18,\n",
       " 'ACIDFAST BACILLI': 18,\n",
       " 'PROTEUS VULGARIS': 18,\n",
       " 'POSITIVE FOR RESPIRATORY SYNCYTIAL VIRUS (RSV)': 17,\n",
       " 'PRESUMPTIVE PROPIONIBACTERIUM ACNES': 17,\n",
       " 'ANAEROBIC GRAM NEGATIVE ROD(S)': 17,\n",
       " 'MYCOBACTERIUM AVIUM COMPLEX': 17,\n",
       " 'PASTEURELLA SPECIES': 17,\n",
       " 'MORAXELLA CATARRHALIS': 16,\n",
       " 'HAEMOPHILUS INFLUENZAE, BETA-LACTAMASE POSITIVE': 16,\n",
       " 'ACINETOBACTER BAUMANNII': 16,\n",
       " 'FUSARIUM SPECIES': 15,\n",
       " 'PROVIDENCIA RETTGERI': 15,\n",
       " 'AEROCOCCUS SPECIES': 15,\n",
       " 'CITROBACTER AMALONATICUS': 14,\n",
       " 'PSEUDOMONAS PUTIDA ': 14,\n",
       " 'TICK CONSISTENT WITH IXODES SPECIES': 14,\n",
       " 'AEROCOCCUS VIRIDANS': 14,\n",
       " 'STREPTOCOCCUS BOVIS ': 14,\n",
       " 'ABIOTROPHIA/GRANULICATELLA SPECIES': 14,\n",
       " 'POSITIVE FOR VARICELLA ZOSTER': 13,\n",
       " 'ADENOVIRUS': 13,\n",
       " 'CRYPTOCOCCUS NEOFORMANS': 13,\n",
       " 'POSITIVE FOR CYTOMEGALOVIRUS': 13,\n",
       " 'EIKENELLA CORRODENS': 13,\n",
       " 'CLADOSPORIUM SPECIES': 13,\n",
       " 'PASTEURELLA MULTOCIDA': 13,\n",
       " 'ENTEROBACTER ASBURIAE': 12,\n",
       " 'STREPTOCOCCUS GALLOLYTICUS SSP. PASTEURIANUS (STREPTOCOCCUS BOVIS)': 12,\n",
       " 'MYCOBACTERIUM TUBERCULOSIS COMPLEX': 12,\n",
       " 'PRESUMPTIVE VEILLONELLA SPECIES': 12,\n",
       " 'GAMMA(I.E. NON-HEMOLYTIC) STREPTOCOCCUS': 12,\n",
       " 'PORPHYROMONAS SPECIES': 11,\n",
       " 'ENTEROBACTER SPECIES': 11,\n",
       " 'PANTOEA SPECIES': 11,\n",
       " 'PRESUMPTIVE CLOSTRIDIUM PERFRINGENS': 10,\n",
       " 'STAPHYLOCOCCUS CAPITIS': 10,\n",
       " 'LISTERIA MONOCYTOGENES': 10,\n",
       " 'SALMONELLA SCHWARZENGRUND': 10,\n",
       " 'ASPERGILLUS SP. NOT FUMIGATUS, FLAVUS OR NIGER': 10,\n",
       " 'BLASTOCYSTIS HOMINIS': 9,\n",
       " 'GEMELLA SPECIES': 9,\n",
       " 'GRAM NEGATIVE ROD #1': 9,\n",
       " 'BACILLUS SPECIES': 9,\n",
       " 'CANDIDA DUBLINIENSIS': 8,\n",
       " 'STREPTOCOCCUS MITIS/ORALIS': 8,\n",
       " 'CYTOMEGALOVIRUS ': 8,\n",
       " 'ENTEROCOCCUS CASSELIFLAVUS': 8,\n",
       " 'CUTIBACTERIUM (PROPIONIBACTERIUM) ACNES': 8,\n",
       " 'GRAM NEGATIVE ROD #2': 8,\n",
       " 'POSITIVE FOR HERPES SIMPLEX TYPE 1 (HSV1)': 8,\n",
       " 'POSITIVE FOR PARAINFLUENZA TYPE 3': 8,\n",
       " 'BETA STREPTOCOCCUS': 8,\n",
       " 'PRESUMPTIVE CLOSTRIDIUM SEPTICUM': 8,\n",
       " 'SALMONELLA ENTERITIDIS': 7,\n",
       " 'IXODES SPECIES': 7,\n",
       " 'SHIGELLA FLEXNERI': 7,\n",
       " 'PAECILOMYCES SPECIES': 7,\n",
       " 'ASPERGILLUS TERREUS': 7,\n",
       " 'PRESUMPTIVE POSITIVE FOR LEGIONELLA SEROGROUP 1 ANTIGEN': 7,\n",
       " 'ASPERGILLUS FUMIGATUS COMPLEX': 7,\n",
       " 'ACINETOBACTER SP.': 7,\n",
       " 'CANDIDA KRUSEI': 7,\n",
       " 'PSEUDOMONAS FLUORESCENS': 7,\n",
       " 'STREPTOCOCCUS GORDONII': 6,\n",
       " 'AEROMONAS HYDROPHILA': 6,\n",
       " 'ACREMONIUM SPECIES': 6,\n",
       " 'NEISSERIA MENINGITIDIS': 6,\n",
       " 'STREPTOCOCCUS MUTANS': 6,\n",
       " 'STAPHYLOCOCCUS HAEMOLYTICUS': 6,\n",
       " 'SHIGELLA SONNEI': 6,\n",
       " 'CAMPYLOBACTER SPECIES': 6,\n",
       " 'MUCOR SP.': 6,\n",
       " 'SERRATIA SPECIES': 6,\n",
       " 'DEMATIACEOUS MOLD': 6,\n",
       " 'CITROBACTER SPECIES': 6,\n",
       " 'NOCARDIA ASTEROIDES COMPLEX ': 6,\n",
       " 'POSITIVE FOR HERPES SIMPLEX TYPE 2 (HSV2)': 6,\n",
       " 'PROTEUS SPECIES': 5,\n",
       " 'RAOULTELLA PLANTICOLA': 5,\n",
       " 'RESPIRATORY SYNCYTIAL VIRUS (RSV)': 5,\n",
       " 'ALTERNARIA SP.': 5,\n",
       " 'ENTEROVIRUS': 5,\n",
       " 'LACTOCOCCUS SPECIES': 5,\n",
       " 'SALMONELLA TYPHI': 5,\n",
       " 'CANDIDA GUILLIERMONDII': 5,\n",
       " '2ND ISOLATE': 5,\n",
       " 'LEGIONELLA PNEUMOPHILA, GROUP 1': 5,\n",
       " 'STREPTOCOCCUS MILLERI GROUP': 5,\n",
       " 'ENTEROBACTERIACEAE': 5,\n",
       " 'RHIZOPUS SPECIES': 4,\n",
       " 'SERRATIA LIQUEFACIENS': 4,\n",
       " 'GEOTRICHIUM SPECIES': 4,\n",
       " 'PROTEUS HAUSERI': 4,\n",
       " 'BURKHOLDERIA CEPACIA GROUP': 4,\n",
       " 'MYCOBACTERIUM FORTUITUM': 4,\n",
       " 'CANDIDA LUSITANIAE': 4,\n",
       " 'CURVULARIA SP.': 4,\n",
       " 'ASPERGILLUS VERSICOLOR GROUP ': 4,\n",
       " 'AEROMONAS SPECIES': 4,\n",
       " 'ASPERGILLUS FLAVUS': 4,\n",
       " 'STREPTOCOCCUS SANGUINIS': 4,\n",
       " 'SALMONELLA TYPHIMURIUM': 4,\n",
       " 'ACHROMOBACTER SP.': 4,\n",
       " 'STAPHYLOCOCCUS WARNERI': 4,\n",
       " 'STREPTOCOCCUS GALLOLYTICUS SSP. GALLOLYTICUS (STREPTOCOCCUS BOVIS)': 4,\n",
       " 'ENDOLIMAX NANA': 4,\n",
       " 'ENTEROCOCCUS GALLINARUM': 4,\n",
       " 'ENTAMOEBA HARTMANNI': 4,\n",
       " 'GIARDIA LAMBLIA SEEN': 4,\n",
       " 'PARAINFLUENZA VIRUS TYPE 3': 4,\n",
       " 'TRICHODERMA SP.': 4,\n",
       " 'MICROSPORIDIUM SPECIES SEEN': 3,\n",
       " 'PREVOTELLA (BACTEROIDES) SPECIES': 3,\n",
       " 'CANDIDA SPECIES': 3,\n",
       " 'STREPTOCOCCUS MITIS': 3,\n",
       " 'MYCOBACTERIUM AVIUM': 3,\n",
       " 'TICK NOT CONSISTENT WITH IXODES SPECIES': 3,\n",
       " 'LEGIONELLA PNEUMOPHILA ': 3,\n",
       " 'MYCOBACTERIUM ABSCESSUS': 3,\n",
       " 'EXOPHIALA SPECIES': 3,\n",
       " 'AGGREGATIBACTER (HAEMOPHILUS) APHROPHILUS': 3,\n",
       " 'ENTEROBACTER GERGOVIAE': 3,\n",
       " 'ESCHERICHIA COLI O157:H7': 3,\n",
       " 'PROTEUS VULGARIS GROUP': 3,\n",
       " 'ALCALIGENES SPECIES': 3,\n",
       " 'STAPHYLOCOCCUS SIMULANS': 3,\n",
       " 'ACHROMOBACTER SPECIES': 3,\n",
       " 'RESEMBLING MICROCOCCUS/STOMATOCOCCUS SPECIES': 3,\n",
       " 'SALMONELLA SAINTPAUL': 3,\n",
       " 'PHOMA SPECIES': 3,\n",
       " 'ROTHIA MUCILAGINOSA': 3,\n",
       " 'STAPHYLOCOCCUS SAPROPHYTICUS': 3,\n",
       " 'GRAM VARIABLE RODS': 3,\n",
       " 'KOCURIA ROSEA': 3,\n",
       " 'RHINOVIRUS': 3,\n",
       " 'ENTEROCOCCUS AVIUM': 2,\n",
       " 'SPHINGOMONAS PAUCIMOBILIS': 2,\n",
       " 'HAEMOPHILUS SP': 2,\n",
       " 'STREPTOCOCCUS SALIVARIUS': 2,\n",
       " 'SHEWANELLA SPECIES': 2,\n",
       " 'FEW BLASTOCYSTIS HOMINIS': 2,\n",
       " 'PASTEURELLA CANIS': 2,\n",
       " 'SALMONELLA INFANTIS': 2,\n",
       " 'PARAINFLUENZA VIRUS TYPE 2': 2,\n",
       " 'POSITIVE FOR PARAINFLUENZA TYPE 1': 2,\n",
       " 'TAENIA SAGINATA': 2,\n",
       " 'SALMONELLA NEWPORT': 2,\n",
       " 'SALMONELLA SANDIEGO': 2,\n",
       " 'BACTEROIDES FRAGILIS': 2,\n",
       " 'FUNGUS': 2,\n",
       " 'ESCHERICHIA SPECIES': 2,\n",
       " 'ACTINOBACILLUS ACTINOMYCETEMCOMITANS': 2,\n",
       " 'BETA STREPTOCOCCUS NOT GROUP A OR B': 2,\n",
       " 'POSITIVE FOR CRYPTOCOCCAL ANTIGEN': 2,\n",
       " 'POSITIVE FOR M. TUBERCULOSIS BY MTD': 2,\n",
       " 'SALMONELLA DUBLIN': 2,\n",
       " 'STREPTOCCUS SALIVARIUS GROUP': 2,\n",
       " 'ORGANISM': 2,\n",
       " 'GEMELLA MORBILLORUM': 2,\n",
       " 'POSITIVE FOR INFLUENZA B VIRAL ANTIGEN': 2,\n",
       " 'MORAXELLA SPECIES': 2,\n",
       " 'CUTIBACTERIUM SPECIES': 2,\n",
       " 'ALPHA STREPTOCOCCI': 2,\n",
       " 'SALMONELLA AGONA': 2,\n",
       " 'SPHINGOMONAS SPECIES': 2,\n",
       " 'NOCARDIA FARCINICA': 2,\n",
       " 'DIENTAMOEBA FRAGILIS': 2,\n",
       " 'POSITIVE FOR PARAINFLUENZA TYPE 2': 2,\n",
       " 'ROTHIA DENTOCARIOSA': 2,\n",
       " 'AFB GROWN IN CULTURE; ADDITIONAL INFORMATION TO FOLLOW': 2,\n",
       " 'YERSINIA ENTEROCOLITICA': 2,\n",
       " 'STREPTOCOCCUS PARASANGUINIS': 2,\n",
       " 'PROBABLE GARDNERELLA VAGINALIS': 1,\n",
       " 'AUREOBASIDIUM PULLULANS': 1,\n",
       " 'SALMONELLA KIAMBU': 1,\n",
       " 'AGGREGATIBACTER SPECIES': 1,\n",
       " 'GIARDIA LAMBLIA': 1,\n",
       " 'BORDETELLA BRONCHISEPTICA': 1,\n",
       " 'RARE BLASTOCYSTIS HOMINIS': 1,\n",
       " 'ENTEROCOCCUS HIRAE': 1,\n",
       " 'ASPERGILLUS SPECIES': 1,\n",
       " 'BACTEROIDES SPECIES': 1,\n",
       " 'STAPHYLOCOCCUS CAPRAE/CAPITIS': 1,\n",
       " 'NEISSERIA SPECIES, NOT GONORRHOEAE': 1,\n",
       " 'PEDIOCOCCUS SPECIES': 1,\n",
       " 'ACTINOMYCES SP.': 1,\n",
       " 'MICROSPORUM CANIS': 1,\n",
       " 'COCCIDIOIDES IMMITIS/POSADASII': 1,\n",
       " 'CLOSTRIDIUM SEPTICUM': 1,\n",
       " 'BACTEROIDIES THETAIOTAOMICRON': 1,\n",
       " 'CANDIDA KEFYR': 1,\n",
       " 'MUCOR IRREGULARIS': 1,\n",
       " 'MORAXELLA OSLOENSIS': 1,\n",
       " 'GEMELLA HAEMOLYSANS': 1,\n",
       " 'MORAXELLA NONLIQUIFACIENS ': 1,\n",
       " 'SHIGELLA BOYDII': 1,\n",
       " 'ENTEROBACTER AMNIGENUS 2 ': 1,\n",
       " 'BURKHOLDERIA XENOVORANS': 1,\n",
       " 'ENTEROBACTER CANCEROGENUS': 1,\n",
       " 'NEOSCYTALIDIUM DIMIDIATUM': 1,\n",
       " 'HAEMOPHILUS PARAINFLUENZAE': 1,\n",
       " 'BACTERIA': 1,\n",
       " 'MYCOBACTERIUM CHIMAERA INTRACELLULARE GROUP': 1,\n",
       " 'AEROMONAS HYDROPHILA COMPLEX': 1,\n",
       " 'MICROCOCCUS LUTEUS': 1,\n",
       " 'STACHYBOTRYS SPP.': 1,\n",
       " 'TRICHOSPORON SPECIES': 1,\n",
       " 'PARAINFLUENZA VIRUS TYPE 1': 1,\n",
       " 'ALLOIOCOCCUS OTITIS': 1,\n",
       " 'BRUCELLA SPECIES': 1,\n",
       " 'LEUCONOSTOC MESENTEROIDES': 1,\n",
       " 'EXOPHIALA JEANSELMEI COMPLEX': 1,\n",
       " 'DESULFOVIBRIO DESULFURICANS': 1,\n",
       " 'CITROBACTER SEDLAKII': 1,\n",
       " 'POSITIVE FOR PARAINFLUENZA VIRUS': 1,\n",
       " 'INFLUENZA B VIRUS': 1,\n",
       " 'KLEBSIELLA SPECIES': 1,\n",
       " 'SALMONELLA THOMPSON': 1,\n",
       " 'HERPES SIMPLEX VIRUS': 1,\n",
       " 'MYCOBACTERIUM XENOPI': 1,\n",
       " 'MICROBACTERIUM SPECIES': 1,\n",
       " 'ANAEROBIC GRAM NEGATIVE ROD #2': 1,\n",
       " 'LACTOBACILLUS CASEI/PARACASEI/ZEAE': 1,\n",
       " 'PSEUDOMONAS MENDOCINA': 1,\n",
       " 'CLOSTRIDIUM TERTIUM': 1,\n",
       " 'PEPTOSTREPTOCOCCUS SP.': 1,\n",
       " 'DESULFOVIBRIO LEGALLII': 1,\n",
       " 'PLESIOMONAS SHIGELLOIDES': 1,\n",
       " 'LEPTOTRICHIA TREVISANII': 1,\n",
       " 'SCEDOSPORIUM (APIOSPERMUM) BOYDII COMPLEX': 1,\n",
       " 'ACHROMOBACTER (ALCALIGENES) XYLOSOXIDANS SS DENTRIFICANS': 1,\n",
       " 'LECLERCIA ADECARBOXYLATA': 1,\n",
       " 'STREPTOMYCES SPECIES': 1,\n",
       " 'RHINOCLADIELLA SP.': 1,\n",
       " 'LEPTOTRICHIA HOFSTADII': 1,\n",
       " 'ASCARIS LUMBRICOIDES': 1,\n",
       " 'CAPNOCYTOPHAGA SPECIES': 1,\n",
       " 'RAOULTELLA ORNITHINOLYTICA': 1,\n",
       " 'MYCOPLASMA SPECIES': 1,\n",
       " 'MYCOPLASMA HOMINIS': 1,\n",
       " 'CARDIOBACTERIUM HOMINIS': 1,\n",
       " 'CRONOBACTER (ENTEROBACTER) SAKAZAKII': 1,\n",
       " 'HAEMOPHILUS APHROPHILUS': 1,\n",
       " 'NOCARDIA TRANSVALENSIS COMPLEX': 1,\n",
       " 'POSITIVE FOR MICROSPORIDIA SPECIES': 1,\n",
       " 'SALMONELLA BRAENDERUP': 1,\n",
       " 'ROSEOMONAS SPECIES': 1,\n",
       " 'GEMELLA BERGERI': 1,\n",
       " 'STREPTOCOCCUS ORALIS': 1,\n",
       " 'CHAETOMIUM SPECIES': 1,\n",
       " 'CANDIDA AURIS': 1,\n",
       " 'TICK': 1,\n",
       " 'MODERATE BLASTOCYSTIS HOMINIS': 1,\n",
       " 'CLOSTRIDIUM SPECIES': 1,\n",
       " 'STAPHYLOCOCCUS CAPRAE': 1,\n",
       " 'CORYNEBACTERIUM STRIATUM': 1,\n",
       " 'PSEUDOMONAS SPECIES': 1,\n",
       " 'HOOKWORM': 1,\n",
       " 'CITROBACTER YOUNGAE': 1,\n",
       " 'TRICHOMONAS VAGINALIS SEEN': 1,\n",
       " 'KOCURIA KRISTINAE': 1,\n",
       " 'BREVUNDIMONAS DIMINUTA/VESICULARIS': 1,\n",
       " 'SALMONELLA BARRANQUILLA': 1,\n",
       " 'BACILLUS CIRCULANS GROUP': 1,\n",
       " 'ALCALIGENES FAECALIS': 1,\n",
       " 'RHODOTORULA GLUTINIS': 1,\n",
       " 'STREPTOCOCCUS INTERMEDIUS': 1,\n",
       " 'ENTEROCOCCUS DURANS': 1,\n",
       " 'NUTRITIONALLY VARIANT STREPTOCOCCUS': 1,\n",
       " 'PITHOMYCES SP.': 1,\n",
       " 'SHEWANELLA ALGAE': 1,\n",
       " 'PHAEOACREMONIUM SPECIES': 1,\n",
       " 'SALMONELLA TELELKEBIR': 1,\n",
       " 'MYCOBACTERIUM SPECIES': 1,\n",
       " 'STREPTOCOCCUS INFANTARIUS SSP. INFANTARIUS (STREPTOCOCCUS BOVIS)': 1,\n",
       " 'STREPTOCOCCUS BOVIS GROUP': 1,\n",
       " 'NOCARDIA OTITIDISCAVIARUM (CAVIAE)': 1,\n",
       " 'SERRATIA RUBIDAEA': 1,\n",
       " 'SACCHAROMYCES CEREVISIAE': 1,\n",
       " 'INFLUENZA A VIRUS': 1,\n",
       " 'CHRYSEOBACTERIUM INDOLOGENES': 1,\n",
       " 'STREPTOCOCCUS PORCINUS': 1,\n",
       " 'PSEUDOMONAS STUTZERI': 1,\n",
       " 'SALMONELLA POMONA': 1,\n",
       " 'ACHROMOBACTER (ALCALIGENES) DENTRIFICANS': 1,\n",
       " 'MYCOBACTERIUM MUCOGENICUM': 1,\n",
       " 'BACILLUS CEREUS/THURINGIENSIS': 1,\n",
       " 'TRICHOSPORON MUCOIDES': 1,\n",
       " 'LEUCONOSTOC SPECIES': 1,\n",
       " 'WORM': 1,\n",
       " 'VEILLONELLA SPECIES': 1,\n",
       " 'STAPHYLOCOCCUS SCIURI': 1,\n",
       " 'SALMONELLA BAREILLY': 1,\n",
       " 'POSITIVE FOR ADENOVIRUS': 1,\n",
       " 'VIBRIO PARAHAEMOLYTICUS': 1,\n",
       " 'ENTEROCOCCUS RAFFINOSUS': 1,\n",
       " 'SALMONELLA CORVALLIS': 1,\n",
       " 'KINGELLA SPECIES': 1,\n",
       " 'VIBRIO SPECIES': 1,\n",
       " 'ENTAMOEBA SP.': 1,\n",
       " 'PROTEUS PENNERI': 1,\n",
       " 'BURKHOLDERIA CEPACIA': 1,\n",
       " 'CUTIBACTERIUM ACNES': 1,\n",
       " 'DIALISTER MICRAEROPHILUS': 1}"
      ]
     },
     "execution_count": 73,
     "metadata": {},
     "output_type": "execute_result"
    }
   ],
   "source": [
    "df.org_name.value_counts().to_dict()"
   ]
  },
  {
   "cell_type": "code",
   "execution_count": 74,
   "id": "c24c10ae",
   "metadata": {},
   "outputs": [
    {
     "data": {
      "text/plain": [
       "None                                               190676\n",
       "Other                                               16636\n",
       "ESCHERICHIA COLI                                    10847\n",
       "CANCELLED                                            9466\n",
       "STAPH AUREUS COAG +                                  7036\n",
       "GRAM POSITIVE BACTERIA                               4982\n",
       "YEAST                                                4657\n",
       "STAPHYLOCOCCUS, COAGULASE NEGATIVE                   4215\n",
       "ENTEROCOCCUS SP.                                     2879\n",
       "KLEBSIELLA PNEUMONIAE                                2330\n",
       "POSITIVE FOR METHICILLIN RESISTANT STAPH AUREUS      1543\n",
       "POSITIVE FOR GROUP B BETA STREPTOCOCCI               1529\n",
       "Name: org_name, dtype: int64"
      ]
     },
     "execution_count": 74,
     "metadata": {},
     "output_type": "execute_result"
    }
   ],
   "source": [
    "df = generic_util_instance.replace_nan(df, 'org_name', 'None')\n",
    "df = generic_util_instance.replace_column_value(df, 'org_name', 1500, 'Other')\n",
    "df.org_name.value_counts()"
   ]
  },
  {
   "cell_type": "code",
   "execution_count": 75,
   "id": "152b82b4",
   "metadata": {},
   "outputs": [
    {
     "data": {
      "text/plain": [
       "83079"
      ]
     },
     "execution_count": 75,
     "metadata": {},
     "output_type": "execute_result"
    }
   ],
   "source": [
    "df.test_name.isna().sum()"
   ]
  },
  {
   "cell_type": "code",
   "execution_count": 76,
   "id": "3aa27b46",
   "metadata": {},
   "outputs": [
    {
     "data": {
      "text/plain": [
       "{'URINE CULTURE': 58901,\n",
       " 'Blood Culture, Routine': 34109,\n",
       " 'MRSA SCREEN': 23028,\n",
       " 'Blood Culture, Neonate': 11207,\n",
       " 'WOUND CULTURE': 6335,\n",
       " 'Staph aureus Screen': 4438,\n",
       " 'RAPID PLASMA REAGIN TEST': 3576,\n",
       " 'GRAM STAIN': 2815,\n",
       " 'FLUID CULTURE': 2089,\n",
       " 'Chlamydia trachomatis, Nucleic Acid Probe, with Amplification': 1843,\n",
       " 'HELICOBACTER PYLORI ANTIBODY TEST': 1759,\n",
       " 'R/O GROUP B BETA STREP': 1629,\n",
       " 'YEAST VAGINITIS CULTURE': 1508,\n",
       " 'FUNGAL CULTURE': 1448,\n",
       " 'ANAEROBIC CULTURE': 1280,\n",
       " 'C. difficile DNA amplification assay': 1125,\n",
       " 'RESPIRATORY CULTURE': 1099,\n",
       " 'TISSUE': 1083,\n",
       " 'FECAL CULTURE': 1052,\n",
       " 'LYME SEROLOGY': 979,\n",
       " 'THROAT - R/O BETA STREP': 943,\n",
       " 'NEISSERIA GONORRHOEAE (GC), NUCLEIC ACID PROBE, WITH AMPLIFICATION': 806,\n",
       " 'CHROMOSOME ANALYSIS-BONE MARROW': 675,\n",
       " 'VIRAL CULTURE: R/O CYTOMEGALOVIRUS': 668,\n",
       " 'Staph aureus Preop PCR': 586,\n",
       " 'VARICELLA-ZOSTER IgG SEROLOGY': 494,\n",
       " 'VIRAL CULTURE: R/O HERPES SIMPLEX VIRUS': 487,\n",
       " 'R/O VANCOMYCIN RESISTANT ENTEROCOCCUS': 372,\n",
       " 'OVA + PARASITES': 365,\n",
       " 'Hepatitis C Viral Load, Quantitative': 355,\n",
       " 'SMEAR FOR BACTERIAL VAGINOSIS': 341,\n",
       " 'MONOSPOT': 299,\n",
       " 'AEROBIC BOTTLE': 252,\n",
       " 'RUBELLA IgG SEROLOGY': 251,\n",
       " 'CHROMOSOME ANALYSIS-AMNIOTIC FLUID': 237,\n",
       " 'MUMPS IgG ANTIBODY': 236,\n",
       " 'RUBEOLA ANTIBODY, IgG': 231,\n",
       " 'Rubella IgG/IgM Antibody': 230,\n",
       " 'FUNGAL CULTURE (HAIR/SKIN/NAILS)': 227,\n",
       " 'Lyme IgG': 222,\n",
       " 'CLOSTRIDIUM DIFFICILE TOXIN A & B TEST': 216,\n",
       " 'CAMPYLOBACTER CULTURE': 208,\n",
       " 'Fluid Culture in Bottles': 204,\n",
       " 'HBV Viral Load': 197,\n",
       " 'EPSTEIN-BARR VIRUS VCA-IgG AB': 194,\n",
       " 'REFLEX URINE CULTURE': 192,\n",
       " 'HIV-1 Viral Load/Ultrasensitive': 166,\n",
       " 'FOCUSED ANALYSIS': 162,\n",
       " 'R/O Group B Strep - Penicillin Allergy': 154,\n",
       " 'C. difficile Toxin antigen assay': 126,\n",
       " 'Legionella Urinary Antigen ': 125,\n",
       " 'DIRECT INFLUENZA A ANTIGEN TEST': 124,\n",
       " 'CMV IgG ANTIBODY': 112,\n",
       " 'CHROMOSOME ANALYSIS-BLOOD': 110,\n",
       " 'VIRAL CULTURE': 102,\n",
       " 'CMV IgM ANTIBODY': 95,\n",
       " 'Respiratory Viral Culture': 90,\n",
       " 'CHROMOSOME ANALYSIS-TISSUE': 70,\n",
       " 'ANAEROBIC BOTTLE': 69,\n",
       " 'TOXOPLASMA IgG ANTIBODY': 69,\n",
       " 'CLOSTRIDIUM DIFFICILE TOXIN ASSAY': 63,\n",
       " 'DIRECT AFB STAIN-BI': 60,\n",
       " 'STATE AFB CULTURE AND SMEAR': 57,\n",
       " 'ISOLATE FOR MIC': 56,\n",
       " 'Stool Hold Request': 56,\n",
       " 'CHROMOSOME ANALYSIS-CVS': 56,\n",
       " 'POSTMORTEM CULTURE': 50,\n",
       " 'CMV Viral Load': 47,\n",
       " 'CRYPTOCOCCAL ANTIGEN': 45,\n",
       " 'VARICELLA-ZOSTER CULTURE': 41,\n",
       " 'Cryptosporidium/Giardia (DFA)': 41,\n",
       " 'Respiratory Virus Identification': 39,\n",
       " 'CHROMOSOME ANALYSIS-NEOPLASTIC BLOOD': 37,\n",
       " 'FECAL CULTURE - R/O YERSINIA': 36,\n",
       " 'HCV GENOTYPE': 34,\n",
       " 'EPSTEIN-BARR VIRUS EBNA IgG AB': 33,\n",
       " 'DIRECT INFLUENZA B ANTIGEN TEST': 33,\n",
       " 'MTB Direct Amplification': 33,\n",
       " 'RPR w/check for Prozone': 32,\n",
       " 'FECAL CULTURE - R/O E.COLI 0157:H7': 30,\n",
       " 'FECAL CULTURE - R/O VIBRIO': 29,\n",
       " 'CYTOMEGALOVIRUS EARLY ANTIGEN TEST (SHELL VIAL METHOD)': 28,\n",
       " 'O&P MACROSCOPIC EXAM - ARTHROPOD': 26,\n",
       " 'Blood Culture, Post Mortem': 25,\n",
       " 'Immunoflourescent test for Pneumocystis jirovecii (carinii)': 25,\n",
       " 'LEGIONELLA CULTURE': 25,\n",
       " 'ASO Screen': 23,\n",
       " 'BLOOD/FUNGAL CULTURE': 22,\n",
       " 'MICROSPORIDIA STAIN': 18,\n",
       " 'CYCLOSPORA STAIN': 17,\n",
       " 'R/O GC Only': 17,\n",
       " 'Malaria Antigen Test': 17,\n",
       " 'DIRECT ANTIGEN TEST FOR VARICELLA-ZOSTER VIRUS': 16,\n",
       " 'POTASSIUM HYDROXIDE PREPARATION': 16,\n",
       " 'Direct Antigen Test for Herpes Simplex Virus Types 1 & 2': 15,\n",
       " 'Enterovirus Culture': 13,\n",
       " 'Stem Cell Culture in Bottles': 12,\n",
       " 'Rapid Respiratory Viral Antigen Test': 11,\n",
       " 'Anaerobic Bottle Gram Stain': 9,\n",
       " 'NOCARDIA CULTURE': 9,\n",
       " 'GRAM STAIN- R/O THRUSH': 7,\n",
       " 'Aerobic Bottle Gram Stain': 6,\n",
       " 'POTASSIUM HYDROXIDE PREPARATION (HAIR/SKIN/NAILS)': 5,\n",
       " 'Cipro Resistant Screen': 5,\n",
       " 'GENITAL CULTURE FOR TOXIC SHOCK': 5,\n",
       " 'INTERPHASE FISH ANALYSIS, 100-300 CELLS': 5,\n",
       " 'O&P MACROSCOPIC EXAM - WORM': 5,\n",
       " 'TOXOPLASMA IgM ANTIBODY': 5,\n",
       " 'Sonication culture, prosthetic joint': 4,\n",
       " 'POST MORTEM MYCOLOGY CULTURE': 4,\n",
       " 'BLOOD/AFB CULTURE': 4,\n",
       " 'Tissue Culture-Bone Marrow': 3,\n",
       " 'Lyme IgM': 3,\n",
       " 'EPSTEIN-BARR VIRUS VCA-IgM AB': 3,\n",
       " 'TREPONEMAL ANTIBODY TEST': 3,\n",
       " 'TISSUE CULTURE-TISSUE': 3,\n",
       " 'Carbapenemase Resistant Enterobacteriaceae Screen': 3,\n",
       " 'GENITAL CULTURE': 3,\n",
       " 'Additional Cells and Karyotype': 3,\n",
       " 'GEN-PROBE AMPLIFIED M. TUBERCULOSIS DIRECT TEST (MTD)': 2,\n",
       " 'Deparaffinization, Lysis of Cells': 2,\n",
       " 'ADDITIONAL CELLS COUNTED': 2,\n",
       " 'SCOTCH TAPE PREP/PADDLE': 2,\n",
       " 'CHROMOSOME ANALYSIS-FLUID': 2,\n",
       " 'TRICHOMONAS SALINE PREP': 1,\n",
       " 'QUANTITATIVE RPR': 1,\n",
       " 'QUANTITATIVE CRYPTOCOCCAL ANTIGEN': 1,\n",
       " 'ED Gram Stain for Yeast': 1,\n",
       " 'CRE/ESBL/AMP-C Screening': 1,\n",
       " 'Pediatric Bottle Gram Stain': 1,\n",
       " 'Tissue Culture - Neoplastic Blood': 1,\n",
       " 'CHROMOSOME ANALYSIS - ADDITIONAL KARYOTYPE': 1,\n",
       " 'TISSUE CULTURE-CVS': 1,\n",
       " 'BRUCELLA BLOOD CULTURE': 1,\n",
       " 'voided': 1}"
      ]
     },
     "execution_count": 76,
     "metadata": {},
     "output_type": "execute_result"
    }
   ],
   "source": [
    "df.test_name.value_counts().to_dict()"
   ]
  },
  {
   "cell_type": "code",
   "execution_count": 77,
   "id": "af5ab621",
   "metadata": {},
   "outputs": [
    {
     "data": {
      "text/plain": [
       "0"
      ]
     },
     "execution_count": 77,
     "metadata": {},
     "output_type": "execute_result"
    }
   ],
   "source": [
    "df = generic_util_instance.replace_nan(df, 'test_name', 'None')\n",
    "df.test_name.isna().sum()"
   ]
  },
  {
   "cell_type": "code",
   "execution_count": 78,
   "id": "ecd0f149",
   "metadata": {},
   "outputs": [
    {
     "data": {
      "text/plain": [
       "None                        83079\n",
       "URINE CULTURE               58901\n",
       "Blood Culture, Routine      34109\n",
       "Other                       27219\n",
       "MRSA SCREEN                 23028\n",
       "Blood Culture, Neonate      11207\n",
       "WOUND CULTURE                6335\n",
       "Staph aureus Screen          4438\n",
       "RAPID PLASMA REAGIN TEST     3576\n",
       "GRAM STAIN                   2815\n",
       "FLUID CULTURE                2089\n",
       "Name: test_name, dtype: int64"
      ]
     },
     "execution_count": 78,
     "metadata": {},
     "output_type": "execute_result"
    }
   ],
   "source": [
    "df = generic_util_instance.replace_column_value(df, 'test_name', 2000, 'Other')\n",
    "df.test_name.value_counts()"
   ]
  },
  {
   "cell_type": "code",
   "execution_count": 79,
   "id": "f774a64a",
   "metadata": {},
   "outputs": [
    {
     "data": {
      "text/plain": [
       "AMPICILLIN              12473\n",
       "ERYTHROMYCIN             6144\n",
       "CEFAZOLIN                2465\n",
       "TRIMETHOPRIM/SULFA       2124\n",
       "PENICILLIN G             1962\n",
       "GENTAMICIN               1157\n",
       "NITROFURANTOIN            473\n",
       "VANCOMYCIN                327\n",
       "TOBRAMYCIN                224\n",
       "CEFEPIME                  215\n",
       "CEFTRIAXONE               210\n",
       "CEFTAZIDIME               200\n",
       "MEROPENEM                 183\n",
       "CLINDAMYCIN               181\n",
       "CIPROFLOXACIN             177\n",
       "PIPERACILLIN/TAZO         138\n",
       "TETRACYCLINE              105\n",
       "AMPICILLIN/SULBACTAM      101\n",
       "OXACILLIN                  85\n",
       "LEVOFLOXACIN               81\n",
       "PIPERACILLIN               26\n",
       "RIFAMPIN                   25\n",
       "CEFUROXIME                 24\n",
       "DAPTOMYCIN                 14\n",
       "AMIKACIN                   12\n",
       "LINEZOLID                   8\n",
       "IMIPENEM                    2\n",
       "Name: ab_name, dtype: int64"
      ]
     },
     "execution_count": 79,
     "metadata": {},
     "output_type": "execute_result"
    }
   ],
   "source": [
    "df.ab_name.value_counts()"
   ]
  },
  {
   "cell_type": "code",
   "execution_count": 80,
   "id": "6cd5efdd",
   "metadata": {},
   "outputs": [
    {
     "data": {
      "text/plain": [
       "227660"
      ]
     },
     "execution_count": 80,
     "metadata": {},
     "output_type": "execute_result"
    }
   ],
   "source": [
    "df.ab_name.isna().sum()"
   ]
  },
  {
   "cell_type": "code",
   "execution_count": 81,
   "id": "22858916",
   "metadata": {},
   "outputs": [
    {
     "data": {
      "text/plain": [
       "0"
      ]
     },
     "execution_count": 81,
     "metadata": {},
     "output_type": "execute_result"
    }
   ],
   "source": [
    "df = generic_util_instance.replace_nan(df, 'ab_name', 'None')\n",
    "df.ab_name.isna().sum()"
   ]
  },
  {
   "cell_type": "code",
   "execution_count": 82,
   "id": "3b5cc0da",
   "metadata": {},
   "outputs": [
    {
     "data": {
      "text/plain": [
       "None                  227660\n",
       "AMPICILLIN             12473\n",
       "ERYTHROMYCIN            6144\n",
       "Other                   2811\n",
       "CEFAZOLIN               2465\n",
       "TRIMETHOPRIM/SULFA      2124\n",
       "PENICILLIN G            1962\n",
       "GENTAMICIN              1157\n",
       "Name: ab_name, dtype: int64"
      ]
     },
     "execution_count": 82,
     "metadata": {},
     "output_type": "execute_result"
    }
   ],
   "source": [
    "df = generic_util_instance.replace_column_value(df, 'ab_name', 1000, 'Other')\n",
    "df.ab_name.value_counts()"
   ]
  },
  {
   "cell_type": "code",
   "execution_count": 83,
   "id": "8178c180",
   "metadata": {},
   "outputs": [
    {
     "data": {
      "text/plain": [
       "1"
      ]
     },
     "execution_count": 83,
     "metadata": {},
     "output_type": "execute_result"
    }
   ],
   "source": [
    "df.curr_service.isna().sum()"
   ]
  },
  {
   "cell_type": "code",
   "execution_count": 84,
   "id": "cd239c77",
   "metadata": {},
   "outputs": [
    {
     "data": {
      "text/plain": [
       "{'MED': 88405,\n",
       " 'NB': 59972,\n",
       " 'SURG': 17386,\n",
       " 'CMED': 15344,\n",
       " 'ORTHO': 13681,\n",
       " 'OBS': 10748,\n",
       " 'NMED': 10447,\n",
       " 'NSURG': 7448,\n",
       " 'CSURG': 5621,\n",
       " 'TRAUM': 5071,\n",
       " 'OMED': 4948,\n",
       " 'VSURG': 3452,\n",
       " 'GYN': 3336,\n",
       " 'PSYCH': 2545,\n",
       " 'PSURG': 2534,\n",
       " 'GU': 2415,\n",
       " 'TSURG': 2019,\n",
       " 'NBB': 840,\n",
       " 'ENT': 553,\n",
       " 'DENT': 20,\n",
       " 'EYE': 10}"
      ]
     },
     "execution_count": 84,
     "metadata": {},
     "output_type": "execute_result"
    }
   ],
   "source": [
    "df.curr_service.value_counts().to_dict()"
   ]
  },
  {
   "cell_type": "code",
   "execution_count": 85,
   "id": "48447d75",
   "metadata": {},
   "outputs": [
    {
     "data": {
      "text/plain": [
       "MED      88405\n",
       "NB       59972\n",
       "SURG     17386\n",
       "CMED     15344\n",
       "ORTHO    13681\n",
       "OBS      10748\n",
       "NMED     10447\n",
       "NSURG     7448\n",
       "CSURG     5621\n",
       "TRAUM     5071\n",
       "OMED      4948\n",
       "VSURG     3452\n",
       "GYN       3336\n",
       "PSYCH     2545\n",
       "PSURG     2534\n",
       "GU        2415\n",
       "TSURG     2019\n",
       "Other     1424\n",
       "Name: curr_service, dtype: int64"
      ]
     },
     "execution_count": 85,
     "metadata": {},
     "output_type": "execute_result"
    }
   ],
   "source": [
    "df = generic_util_instance.replace_nan(df, 'curr_service', 'Other')\n",
    "df = generic_util_instance.replace_column_value(df, 'curr_service', 1000, 'Other')\n",
    "df.curr_service.value_counts()"
   ]
  },
  {
   "cell_type": "code",
   "execution_count": 86,
   "id": "78ac1f62",
   "metadata": {},
   "outputs": [
    {
     "data": {
      "text/html": [
       "<div>\n",
       "<style scoped>\n",
       "    .dataframe tbody tr th:only-of-type {\n",
       "        vertical-align: middle;\n",
       "    }\n",
       "\n",
       "    .dataframe tbody tr th {\n",
       "        vertical-align: top;\n",
       "    }\n",
       "\n",
       "    .dataframe thead th {\n",
       "        text-align: right;\n",
       "    }\n",
       "</style>\n",
       "<table border=\"1\" class=\"dataframe\">\n",
       "  <thead>\n",
       "    <tr style=\"text-align: right;\">\n",
       "      <th></th>\n",
       "      <th>admission_type</th>\n",
       "      <th>admission_location</th>\n",
       "      <th>discharge_location</th>\n",
       "      <th>insurance</th>\n",
       "      <th>language</th>\n",
       "      <th>marital_status</th>\n",
       "      <th>ethnicity</th>\n",
       "      <th>hospital_expire_flag</th>\n",
       "      <th>los_admission</th>\n",
       "      <th>gender</th>\n",
       "      <th>...</th>\n",
       "      <th>flag</th>\n",
       "      <th>priority</th>\n",
       "      <th>drg_type</th>\n",
       "      <th>drg_code</th>\n",
       "      <th>drug</th>\n",
       "      <th>route</th>\n",
       "      <th>org_name</th>\n",
       "      <th>test_name</th>\n",
       "      <th>ab_name</th>\n",
       "      <th>curr_service</th>\n",
       "    </tr>\n",
       "  </thead>\n",
       "  <tbody>\n",
       "    <tr>\n",
       "      <th>0</th>\n",
       "      <td>ELECTIVE</td>\n",
       "      <td>Other</td>\n",
       "      <td>HOME</td>\n",
       "      <td>Other</td>\n",
       "      <td>ENGLISH</td>\n",
       "      <td>Other</td>\n",
       "      <td>WHITE</td>\n",
       "      <td>0</td>\n",
       "      <td>1.968056</td>\n",
       "      <td>M</td>\n",
       "      <td>...</td>\n",
       "      <td>normal</td>\n",
       "      <td>STAT</td>\n",
       "      <td>HCFA</td>\n",
       "      <td>795.0</td>\n",
       "      <td>Other</td>\n",
       "      <td>IM</td>\n",
       "      <td>None</td>\n",
       "      <td>Blood Culture, Routine</td>\n",
       "      <td>None</td>\n",
       "      <td>NB</td>\n",
       "    </tr>\n",
       "    <tr>\n",
       "      <th>1</th>\n",
       "      <td>EW EMER.</td>\n",
       "      <td>EMERGENCY ROOM</td>\n",
       "      <td>HOME</td>\n",
       "      <td>Medicaid</td>\n",
       "      <td>ENGLISH</td>\n",
       "      <td>WIDOWED</td>\n",
       "      <td>WHITE</td>\n",
       "      <td>0</td>\n",
       "      <td>2.222222</td>\n",
       "      <td>F</td>\n",
       "      <td>...</td>\n",
       "      <td>abnormal</td>\n",
       "      <td>ROUTINE</td>\n",
       "      <td>HCFA</td>\n",
       "      <td>442.0</td>\n",
       "      <td>Influenza Vaccine Quadrivalent</td>\n",
       "      <td>IM</td>\n",
       "      <td>None</td>\n",
       "      <td>Other</td>\n",
       "      <td>None</td>\n",
       "      <td>MED</td>\n",
       "    </tr>\n",
       "    <tr>\n",
       "      <th>2</th>\n",
       "      <td>ELECTIVE</td>\n",
       "      <td>Other</td>\n",
       "      <td>HOME</td>\n",
       "      <td>Other</td>\n",
       "      <td>ENGLISH</td>\n",
       "      <td>Other</td>\n",
       "      <td>ASIAN</td>\n",
       "      <td>0</td>\n",
       "      <td>1.865278</td>\n",
       "      <td>F</td>\n",
       "      <td>...</td>\n",
       "      <td>normal</td>\n",
       "      <td>STAT</td>\n",
       "      <td>HCFA</td>\n",
       "      <td>795.0</td>\n",
       "      <td>Erythromycin 0.5% Ophth Oint</td>\n",
       "      <td>BOTH EYES</td>\n",
       "      <td>None</td>\n",
       "      <td>Other</td>\n",
       "      <td>None</td>\n",
       "      <td>NB</td>\n",
       "    </tr>\n",
       "    <tr>\n",
       "      <th>3</th>\n",
       "      <td>EU OBSERVATION</td>\n",
       "      <td>EMERGENCY ROOM</td>\n",
       "      <td>Other</td>\n",
       "      <td>Other</td>\n",
       "      <td>ENGLISH</td>\n",
       "      <td>SINGLE</td>\n",
       "      <td>WHITE</td>\n",
       "      <td>0</td>\n",
       "      <td>0.298611</td>\n",
       "      <td>F</td>\n",
       "      <td>...</td>\n",
       "      <td>normal</td>\n",
       "      <td>OTHER</td>\n",
       "      <td>OTHER</td>\n",
       "      <td>0.0</td>\n",
       "      <td>None</td>\n",
       "      <td>None</td>\n",
       "      <td>None</td>\n",
       "      <td>None</td>\n",
       "      <td>None</td>\n",
       "      <td>MED</td>\n",
       "    </tr>\n",
       "    <tr>\n",
       "      <th>4</th>\n",
       "      <td>ELECTIVE</td>\n",
       "      <td>Other</td>\n",
       "      <td>HOME</td>\n",
       "      <td>Other</td>\n",
       "      <td>ENGLISH</td>\n",
       "      <td>Other</td>\n",
       "      <td>WHITE</td>\n",
       "      <td>0</td>\n",
       "      <td>4.109722</td>\n",
       "      <td>M</td>\n",
       "      <td>...</td>\n",
       "      <td>normal</td>\n",
       "      <td>STAT</td>\n",
       "      <td>HCFA</td>\n",
       "      <td>795.0</td>\n",
       "      <td>Erythromycin 0.5% Ophth Oint</td>\n",
       "      <td>BOTH EYES</td>\n",
       "      <td>None</td>\n",
       "      <td>None</td>\n",
       "      <td>None</td>\n",
       "      <td>NB</td>\n",
       "    </tr>\n",
       "  </tbody>\n",
       "</table>\n",
       "<p>5 rows × 22 columns</p>\n",
       "</div>"
      ],
      "text/plain": [
       "   admission_type admission_location discharge_location insurance language  \\\n",
       "0        ELECTIVE              Other               HOME     Other  ENGLISH   \n",
       "1        EW EMER.     EMERGENCY ROOM               HOME  Medicaid  ENGLISH   \n",
       "2        ELECTIVE              Other               HOME     Other  ENGLISH   \n",
       "3  EU OBSERVATION     EMERGENCY ROOM              Other     Other  ENGLISH   \n",
       "4        ELECTIVE              Other               HOME     Other  ENGLISH   \n",
       "\n",
       "  marital_status ethnicity  hospital_expire_flag  los_admission gender  ...  \\\n",
       "0          Other     WHITE                     0       1.968056      M  ...   \n",
       "1        WIDOWED     WHITE                     0       2.222222      F  ...   \n",
       "2          Other     ASIAN                     0       1.865278      F  ...   \n",
       "3         SINGLE     WHITE                     0       0.298611      F  ...   \n",
       "4          Other     WHITE                     0       4.109722      M  ...   \n",
       "\n",
       "       flag priority drg_type drg_code                            drug  \\\n",
       "0    normal     STAT     HCFA    795.0                           Other   \n",
       "1  abnormal  ROUTINE     HCFA    442.0  Influenza Vaccine Quadrivalent   \n",
       "2    normal     STAT     HCFA    795.0    Erythromycin 0.5% Ophth Oint   \n",
       "3    normal    OTHER    OTHER      0.0                            None   \n",
       "4    normal     STAT     HCFA    795.0    Erythromycin 0.5% Ophth Oint   \n",
       "\n",
       "       route org_name               test_name ab_name curr_service  \n",
       "0         IM     None  Blood Culture, Routine    None           NB  \n",
       "1         IM     None                   Other    None          MED  \n",
       "2  BOTH EYES     None                   Other    None           NB  \n",
       "3       None     None                    None    None          MED  \n",
       "4  BOTH EYES     None                    None    None           NB  \n",
       "\n",
       "[5 rows x 22 columns]"
      ]
     },
     "execution_count": 86,
     "metadata": {},
     "output_type": "execute_result"
    }
   ],
   "source": [
    "df.head()"
   ]
  },
  {
   "cell_type": "code",
   "execution_count": 87,
   "id": "4311a313",
   "metadata": {},
   "outputs": [
    {
     "data": {
      "text/plain": [
       "admission_type           object\n",
       "admission_location       object\n",
       "discharge_location       object\n",
       "insurance                object\n",
       "language                 object\n",
       "marital_status           object\n",
       "ethnicity                object\n",
       "hospital_expire_flag      int64\n",
       "los_admission           float64\n",
       "gender                   object\n",
       "anchor_age                int64\n",
       "eventtype                object\n",
       "flag                     object\n",
       "priority                 object\n",
       "drg_type                 object\n",
       "drg_code                float64\n",
       "drug                     object\n",
       "route                    object\n",
       "org_name                 object\n",
       "test_name                object\n",
       "ab_name                  object\n",
       "curr_service             object\n",
       "dtype: object"
      ]
     },
     "execution_count": 87,
     "metadata": {},
     "output_type": "execute_result"
    }
   ],
   "source": [
    "df.dtypes"
   ]
  },
  {
   "cell_type": "code",
   "execution_count": 88,
   "id": "2f13a5b5",
   "metadata": {},
   "outputs": [],
   "source": [
    "for column in df.columns:\n",
    "    if column in ['hospital_expire_flag', 'los_admission', 'anchor_age', 'drg_code']:\n",
    "        try:\n",
    "            df[column] = df[column].astype('float64')\n",
    "        except Exception as ex:\n",
    "            pass\n",
    "    else:\n",
    "        df[column] = df[column].astype('string')"
   ]
  },
  {
   "cell_type": "code",
   "execution_count": 89,
   "id": "42bf3952",
   "metadata": {},
   "outputs": [
    {
     "data": {
      "text/plain": [
       "admission_type           string\n",
       "admission_location       string\n",
       "discharge_location       string\n",
       "insurance                string\n",
       "language                 string\n",
       "marital_status           string\n",
       "ethnicity                string\n",
       "hospital_expire_flag    float64\n",
       "los_admission           float64\n",
       "gender                   string\n",
       "anchor_age              float64\n",
       "eventtype                string\n",
       "flag                     string\n",
       "priority                 string\n",
       "drg_type                 string\n",
       "drg_code                float64\n",
       "drug                     string\n",
       "route                    string\n",
       "org_name                 string\n",
       "test_name                string\n",
       "ab_name                  string\n",
       "curr_service             string\n",
       "dtype: object"
      ]
     },
     "execution_count": 89,
     "metadata": {},
     "output_type": "execute_result"
    }
   ],
   "source": [
    "df.dtypes"
   ]
  },
  {
   "cell_type": "markdown",
   "id": "a3115e8e",
   "metadata": {},
   "source": [
    "# Correlations"
   ]
  },
  {
   "cell_type": "code",
   "execution_count": 90,
   "id": "8b996014",
   "metadata": {},
   "outputs": [],
   "source": [
    "corr_matrix = df.corr()"
   ]
  },
  {
   "cell_type": "code",
   "execution_count": 91,
   "id": "8531a884",
   "metadata": {},
   "outputs": [
    {
     "data": {
      "text/html": [
       "<div>\n",
       "<style scoped>\n",
       "    .dataframe tbody tr th:only-of-type {\n",
       "        vertical-align: middle;\n",
       "    }\n",
       "\n",
       "    .dataframe tbody tr th {\n",
       "        vertical-align: top;\n",
       "    }\n",
       "\n",
       "    .dataframe thead th {\n",
       "        text-align: right;\n",
       "    }\n",
       "</style>\n",
       "<table border=\"1\" class=\"dataframe\">\n",
       "  <thead>\n",
       "    <tr style=\"text-align: right;\">\n",
       "      <th></th>\n",
       "      <th>hospital_expire_flag</th>\n",
       "      <th>los_admission</th>\n",
       "      <th>anchor_age</th>\n",
       "      <th>drg_code</th>\n",
       "    </tr>\n",
       "  </thead>\n",
       "  <tbody>\n",
       "    <tr>\n",
       "      <th>hospital_expire_flag</th>\n",
       "      <td>1.000000</td>\n",
       "      <td>0.088975</td>\n",
       "      <td>0.130230</td>\n",
       "      <td>-0.027762</td>\n",
       "    </tr>\n",
       "    <tr>\n",
       "      <th>los_admission</th>\n",
       "      <td>0.088975</td>\n",
       "      <td>1.000000</td>\n",
       "      <td>-0.010459</td>\n",
       "      <td>0.094004</td>\n",
       "    </tr>\n",
       "    <tr>\n",
       "      <th>anchor_age</th>\n",
       "      <td>0.130230</td>\n",
       "      <td>-0.010459</td>\n",
       "      <td>1.000000</td>\n",
       "      <td>-0.493545</td>\n",
       "    </tr>\n",
       "    <tr>\n",
       "      <th>drg_code</th>\n",
       "      <td>-0.027762</td>\n",
       "      <td>0.094004</td>\n",
       "      <td>-0.493545</td>\n",
       "      <td>1.000000</td>\n",
       "    </tr>\n",
       "  </tbody>\n",
       "</table>\n",
       "</div>"
      ],
      "text/plain": [
       "                      hospital_expire_flag  los_admission  anchor_age  \\\n",
       "hospital_expire_flag              1.000000       0.088975    0.130230   \n",
       "los_admission                     0.088975       1.000000   -0.010459   \n",
       "anchor_age                        0.130230      -0.010459    1.000000   \n",
       "drg_code                         -0.027762       0.094004   -0.493545   \n",
       "\n",
       "                      drg_code  \n",
       "hospital_expire_flag -0.027762  \n",
       "los_admission         0.094004  \n",
       "anchor_age           -0.493545  \n",
       "drg_code              1.000000  "
      ]
     },
     "execution_count": 91,
     "metadata": {},
     "output_type": "execute_result"
    }
   ],
   "source": [
    "corr_matrix"
   ]
  },
  {
   "cell_type": "markdown",
   "id": "cf1cb126",
   "metadata": {},
   "source": [
    "Since majority of the columns are categorical we need to compute `cramers_v` or `theils_u`. Since we want to check corelation with `los_admission` we need to calculate `corelation ratio`.\n",
    "\n",
    "## TO-DO:\n",
    "- Correlation Coefficient"
   ]
  },
  {
   "cell_type": "markdown",
   "id": "8a7a11a3",
   "metadata": {},
   "source": [
    "# Transformation Pipelines"
   ]
  },
  {
   "cell_type": "code",
   "execution_count": 92,
   "id": "a70dc94a",
   "metadata": {},
   "outputs": [],
   "source": [
    "categorical_columns = df.select_dtypes(include=['string']).columns.tolist()"
   ]
  },
  {
   "cell_type": "code",
   "execution_count": 93,
   "id": "a0a4fbd9",
   "metadata": {},
   "outputs": [
    {
     "data": {
      "text/plain": [
       "['admission_type',\n",
       " 'admission_location',\n",
       " 'discharge_location',\n",
       " 'insurance',\n",
       " 'language',\n",
       " 'marital_status',\n",
       " 'ethnicity',\n",
       " 'gender',\n",
       " 'eventtype',\n",
       " 'flag',\n",
       " 'priority',\n",
       " 'drg_type',\n",
       " 'drug',\n",
       " 'route',\n",
       " 'org_name',\n",
       " 'test_name',\n",
       " 'ab_name',\n",
       " 'curr_service']"
      ]
     },
     "execution_count": 93,
     "metadata": {},
     "output_type": "execute_result"
    }
   ],
   "source": [
    "categorical_columns"
   ]
  },
  {
   "cell_type": "code",
   "execution_count": 94,
   "id": "44195729",
   "metadata": {},
   "outputs": [
    {
     "data": {
      "text/plain": [
       "['anchor_age']"
      ]
     },
     "execution_count": 94,
     "metadata": {},
     "output_type": "execute_result"
    }
   ],
   "source": [
    "numerical_columns = [df.select_dtypes(exclude=['string']).columns.tolist()[2]]\n",
    "numerical_columns"
   ]
  },
  {
   "cell_type": "code",
   "execution_count": 95,
   "id": "322cdb71",
   "metadata": {},
   "outputs": [],
   "source": [
    "from sklearn.pipeline import Pipeline\n",
    "from sklearn.impute import SimpleImputer\n",
    "from sklearn.preprocessing import StandardScaler, OrdinalEncoder"
   ]
  },
  {
   "cell_type": "code",
   "execution_count": 96,
   "id": "6a609052",
   "metadata": {},
   "outputs": [],
   "source": [
    "num_pipeline = Pipeline([\n",
    "        ('std_scaler', StandardScaler())\n",
    "    ])"
   ]
  },
  {
   "cell_type": "code",
   "execution_count": 97,
   "id": "2431f224",
   "metadata": {},
   "outputs": [],
   "source": [
    "from sklearn.compose import ColumnTransformer\n",
    "\n",
    "num_attribs = numerical_columns\n",
    "cat_attribs = categorical_columns\n",
    "\n",
    "full_pipeline = ColumnTransformer([\n",
    "        (\"num\", num_pipeline, num_attribs),\n",
    "        (\"cat\", OrdinalEncoder(), cat_attribs),\n",
    "    ])"
   ]
  },
  {
   "cell_type": "markdown",
   "id": "52a337e8",
   "metadata": {},
   "source": [
    "# Create Test Set"
   ]
  },
  {
   "cell_type": "code",
   "execution_count": 98,
   "id": "728236d6",
   "metadata": {},
   "outputs": [],
   "source": [
    "np.random.seed(42)"
   ]
  },
  {
   "cell_type": "code",
   "execution_count": 99,
   "id": "63fe9309",
   "metadata": {},
   "outputs": [],
   "source": [
    "from sklearn.model_selection import StratifiedShuffleSplit\n",
    "\n",
    "split = StratifiedShuffleSplit(n_splits=1, test_size=0.2, random_state=42)\n",
    "for train_index, test_index in split.split(df, df[\"flag\"]):\n",
    "    strat_train_set = df.loc[train_index]\n",
    "    strat_test_set = df.loc[test_index]"
   ]
  },
  {
   "cell_type": "code",
   "execution_count": 100,
   "id": "46feacd1",
   "metadata": {},
   "outputs": [],
   "source": [
    "train_set_X = strat_train_set.drop(\"los_admission\", axis = 1)\n",
    "train_set_y = strat_train_set[\"los_admission\"]\n",
    "\n",
    "test_set_X = strat_test_set.drop(\"los_admission\", axis = 1)\n",
    "test_set_y = strat_test_set[\"los_admission\"]"
   ]
  },
  {
   "cell_type": "code",
   "execution_count": 101,
   "id": "7d73f508",
   "metadata": {},
   "outputs": [],
   "source": [
    "train_set_X_prepared = full_pipeline.fit_transform(train_set_X)"
   ]
  },
  {
   "cell_type": "code",
   "execution_count": 102,
   "id": "a338467a",
   "metadata": {},
   "outputs": [
    {
     "data": {
      "text/plain": [
       "(205436, 19)"
      ]
     },
     "execution_count": 102,
     "metadata": {},
     "output_type": "execute_result"
    }
   ],
   "source": [
    "train_set_X_prepared.shape"
   ]
  },
  {
   "cell_type": "code",
   "execution_count": 103,
   "id": "e2e812ce",
   "metadata": {},
   "outputs": [
    {
     "data": {
      "text/plain": [
       "array([[ 0.39909861,  2.        ,  4.        , ...,  6.        ,\n",
       "         4.        ,  4.        ],\n",
       "       [-0.11151772,  7.        ,  4.        , ...,  9.        ,\n",
       "         0.        ,  6.        ],\n",
       "       [-1.43912018,  3.        ,  2.        , ...,  5.        ,\n",
       "         4.        ,  5.        ],\n",
       "       ...,\n",
       "       [-1.43912018,  3.        ,  2.        , ...,  5.        ,\n",
       "         4.        ,  5.        ],\n",
       "       [ 0.50122187,  5.        ,  1.        , ...,  6.        ,\n",
       "         4.        ,  0.        ],\n",
       "       [ 1.35224909,  4.        ,  1.        , ...,  1.        ,\n",
       "         4.        ,  4.        ]])"
      ]
     },
     "execution_count": 103,
     "metadata": {},
     "output_type": "execute_result"
    }
   ],
   "source": [
    "train_set_X_prepared"
   ]
  },
  {
   "cell_type": "code",
   "execution_count": 104,
   "id": "f2dba032",
   "metadata": {},
   "outputs": [],
   "source": [
    "X_test_prepared = full_pipeline.transform(test_set_X)"
   ]
  },
  {
   "cell_type": "markdown",
   "id": "e4512a7e",
   "metadata": {},
   "source": [
    "# Select and Train a Model"
   ]
  },
  {
   "cell_type": "markdown",
   "id": "6176901e",
   "metadata": {},
   "source": [
    "# Training and Evaluating on the Training Set"
   ]
  },
  {
   "cell_type": "code",
   "execution_count": 105,
   "id": "2dddc1a7",
   "metadata": {},
   "outputs": [
    {
     "data": {
      "text/plain": [
       "LinearRegression()"
      ]
     },
     "execution_count": 105,
     "metadata": {},
     "output_type": "execute_result"
    }
   ],
   "source": [
    "from sklearn.linear_model import LinearRegression\n",
    "\n",
    "lin_reg_instance = LinearRegression()\n",
    "lin_reg_instance.fit(train_set_X_prepared, train_set_y)"
   ]
  },
  {
   "cell_type": "code",
   "execution_count": 106,
   "id": "0f89569b",
   "metadata": {},
   "outputs": [
    {
     "name": "stdout",
     "output_type": "stream",
     "text": [
      "Predictions : [0.4263162  6.26433204 3.69780975 5.8607392  4.06881992]\n"
     ]
    }
   ],
   "source": [
    "some_data = train_set_X.iloc[:5]\n",
    "some_labels = train_set_y.iloc[:5]\n",
    "some_data_prepared = full_pipeline.transform(some_data)\n",
    "\n",
    "print(f\"Predictions : {lin_reg_instance.predict(some_data_prepared)}\")"
   ]
  },
  {
   "cell_type": "code",
   "execution_count": 107,
   "id": "9afe1876",
   "metadata": {},
   "outputs": [
    {
     "name": "stdout",
     "output_type": "stream",
     "text": [
      "Labels : 137475     0.670833\n",
      "81263      1.427083\n",
      "177320     1.872222\n",
      "58882     12.093750\n",
      "36550      3.619444\n",
      "Name: los_admission, dtype: float64\n"
     ]
    }
   ],
   "source": [
    "print(f\"Labels : {some_labels}\")"
   ]
  },
  {
   "cell_type": "code",
   "execution_count": 108,
   "id": "a35c2073",
   "metadata": {},
   "outputs": [
    {
     "data": {
      "text/plain": [
       "7.399259062186099"
      ]
     },
     "execution_count": 108,
     "metadata": {},
     "output_type": "execute_result"
    }
   ],
   "source": [
    "from sklearn.metrics import mean_squared_error\n",
    "\n",
    "los_admission_predictions = lin_reg_instance.predict(train_set_X_prepared)\n",
    "lin_mse = mean_squared_error(train_set_y, los_admission_predictions)\n",
    "lin_rmse = np.sqrt(lin_mse)\n",
    "lin_rmse"
   ]
  },
  {
   "cell_type": "code",
   "execution_count": 109,
   "id": "205c762d",
   "metadata": {},
   "outputs": [
    {
     "data": {
      "text/plain": [
       "3.1867208095523787"
      ]
     },
     "execution_count": 109,
     "metadata": {},
     "output_type": "execute_result"
    }
   ],
   "source": [
    "from sklearn.metrics import mean_absolute_error\n",
    "\n",
    "lin_mae = mean_absolute_error(train_set_y, los_admission_predictions)\n",
    "lin_mae"
   ]
  },
  {
   "cell_type": "code",
   "execution_count": 110,
   "id": "fd19a23f",
   "metadata": {},
   "outputs": [],
   "source": [
    "from sklearn.tree import DecisionTreeRegressor\n",
    "\n",
    "tree_reg_instance = DecisionTreeRegressor(random_state=42)"
   ]
  },
  {
   "cell_type": "code",
   "execution_count": 111,
   "id": "5deea86f",
   "metadata": {},
   "outputs": [
    {
     "data": {
      "text/plain": [
       "DecisionTreeRegressor(random_state=42)"
      ]
     },
     "execution_count": 111,
     "metadata": {},
     "output_type": "execute_result"
    }
   ],
   "source": [
    "tree_reg_instance.fit(train_set_X_prepared, train_set_y)"
   ]
  },
  {
   "cell_type": "code",
   "execution_count": 112,
   "id": "e1c949a8",
   "metadata": {},
   "outputs": [
    {
     "data": {
      "text/plain": [
       "2.6628540652101433"
      ]
     },
     "execution_count": 112,
     "metadata": {},
     "output_type": "execute_result"
    }
   ],
   "source": [
    "los_admission_predictions = tree_reg_instance.predict(train_set_X_prepared)\n",
    "lin_mse = mean_squared_error(train_set_y, los_admission_predictions)\n",
    "lin_rmse = np.sqrt(lin_mse)\n",
    "lin_rmse"
   ]
  },
  {
   "cell_type": "markdown",
   "id": "9e5e026a",
   "metadata": {},
   "source": [
    "# Better Evaluation using Cross Validation"
   ]
  },
  {
   "cell_type": "code",
   "execution_count": 113,
   "id": "a673f83a",
   "metadata": {},
   "outputs": [],
   "source": [
    "from sklearn.model_selection import cross_val_score\n",
    "\n",
    "scores = cross_val_score(tree_reg_instance, train_set_X_prepared, train_set_y,\n",
    "                         scoring=\"neg_mean_squared_error\", cv=10)\n",
    "tree_rmse_scores = np.sqrt(-scores)"
   ]
  },
  {
   "cell_type": "code",
   "execution_count": 114,
   "id": "e0336e51",
   "metadata": {},
   "outputs": [
    {
     "name": "stdout",
     "output_type": "stream",
     "text": [
      "Scores: [7.27616918 8.21014594 8.59675297 7.07555482 7.77317663 7.98449479\n",
      " 7.47812283 7.86287356 7.91474633 7.95641649]\n",
      "Mean: 7.812845353480607\n",
      "Standard deviation: 0.4219660131853264\n"
     ]
    }
   ],
   "source": [
    "def display_scores(scores):\n",
    "    print(\"Scores:\", scores)\n",
    "    print(\"Mean:\", scores.mean())\n",
    "    print(\"Standard deviation:\", scores.std())\n",
    "\n",
    "display_scores(tree_rmse_scores)"
   ]
  },
  {
   "cell_type": "code",
   "execution_count": 115,
   "id": "be28093a",
   "metadata": {},
   "outputs": [
    {
     "name": "stdout",
     "output_type": "stream",
     "text": [
      "Scores: [7.12854972 7.59463067 8.01584606 6.95075181 7.55211532 7.48541191\n",
      " 6.92177292 7.68890326 7.43276737 7.15798987]\n",
      "Mean: 7.392873892172264\n",
      "Standard deviation: 0.33081595313097223\n"
     ]
    }
   ],
   "source": [
    "lin_scores = cross_val_score(lin_reg_instance, train_set_X_prepared, train_set_y,\n",
    "                             scoring=\"neg_mean_squared_error\", cv=10)\n",
    "lin_rmse_scores = np.sqrt(-lin_scores)\n",
    "display_scores(lin_rmse_scores)"
   ]
  },
  {
   "cell_type": "code",
   "execution_count": 116,
   "id": "ee766230",
   "metadata": {},
   "outputs": [
    {
     "data": {
      "text/plain": [
       "RandomForestRegressor(random_state=42)"
      ]
     },
     "execution_count": 116,
     "metadata": {},
     "output_type": "execute_result"
    }
   ],
   "source": [
    "from sklearn.ensemble import RandomForestRegressor\n",
    "\n",
    "forest_reg_instance = RandomForestRegressor(n_estimators=100, random_state=42)\n",
    "forest_reg_instance.fit(train_set_X_prepared, train_set_y)"
   ]
  },
  {
   "cell_type": "code",
   "execution_count": 117,
   "id": "40cfbce7",
   "metadata": {},
   "outputs": [
    {
     "data": {
      "text/plain": [
       "3.2680077433303127"
      ]
     },
     "execution_count": 117,
     "metadata": {},
     "output_type": "execute_result"
    }
   ],
   "source": [
    "los_admission_predictions = forest_reg_instance.predict(train_set_X_prepared)\n",
    "forest_mse = mean_squared_error(los_admission_predictions, train_set_y)\n",
    "forest_rmse = np.sqrt(forest_mse)\n",
    "forest_rmse"
   ]
  },
  {
   "cell_type": "code",
   "execution_count": 118,
   "id": "9ae3b97e",
   "metadata": {},
   "outputs": [
    {
     "name": "stdout",
     "output_type": "stream",
     "text": [
      "Scores: [5.50870222 6.5540007  6.50920744 5.43908127 6.03381883 5.99737408\n",
      " 5.37318592 6.22183734 5.83026567 5.72846185]\n",
      "Mean: 5.919593532246735\n",
      "Standard deviation: 0.40041994605074505\n"
     ]
    }
   ],
   "source": [
    "from sklearn.model_selection import cross_val_score\n",
    "\n",
    "forest_scores = cross_val_score(forest_reg_instance, train_set_X_prepared, train_set_y,\n",
    "                                scoring=\"neg_mean_squared_error\", cv=10)\n",
    "forest_rmse_scores = np.sqrt(-forest_scores)\n",
    "display_scores(forest_rmse_scores)"
   ]
  },
  {
   "cell_type": "code",
   "execution_count": 119,
   "id": "0d70be4a",
   "metadata": {},
   "outputs": [
    {
     "data": {
      "text/plain": [
       "count    10.000000\n",
       "mean      7.392874\n",
       "std       0.348711\n",
       "min       6.921773\n",
       "25%       7.135910\n",
       "50%       7.459090\n",
       "75%       7.584002\n",
       "max       8.015846\n",
       "dtype: float64"
      ]
     },
     "execution_count": 119,
     "metadata": {},
     "output_type": "execute_result"
    }
   ],
   "source": [
    "scores = cross_val_score(lin_reg_instance, train_set_X_prepared, train_set_y, scoring=\"neg_mean_squared_error\", cv=10)\n",
    "pd.Series(np.sqrt(-scores)).describe()"
   ]
  },
  {
   "cell_type": "code",
   "execution_count": 120,
   "id": "f1bab208",
   "metadata": {},
   "outputs": [],
   "source": [
    "# from sklearn.svm import SVR\n",
    "\n",
    "# svm_reg = SVR(kernel=\"linear\")\n",
    "# svm_reg.fit(train_set_X_prepared, train_set_y)\n",
    "# los_admission_predictions = svm_reg.predict(train_set_X_prepared)\n",
    "# svm_mse = mean_squared_error(train_set_y, los_admission_predictions)\n",
    "# svm_rmse = np.sqrt(svm_mse)\n",
    "# svm_rmse"
   ]
  },
  {
   "cell_type": "markdown",
   "id": "f37195d0",
   "metadata": {},
   "source": [
    "# Fine Tune Your Model"
   ]
  },
  {
   "cell_type": "markdown",
   "id": "8498078a",
   "metadata": {},
   "source": [
    "## Grid Search"
   ]
  },
  {
   "cell_type": "code",
   "execution_count": 121,
   "id": "fab16591",
   "metadata": {},
   "outputs": [],
   "source": [
    "from sklearn.model_selection import GridSearchCV\n",
    "\n",
    "param_grid = [\n",
    "    # try 12 (3×4) combinations of hyperparameters\n",
    "    {'n_estimators': [3, 10, 30], 'max_features': [2, 4, 6, 8]},\n",
    "    # then try 6 (2×3) combinations with bootstrap set as False\n",
    "    {'bootstrap': [False], 'n_estimators': [3, 10], 'max_features': [2, 3, 4]},\n",
    "  ]\n",
    "\n",
    "forest_reg_instance = RandomForestRegressor(random_state=42)\n",
    "# train across 5 folds, that's a total of (12+6)*5=90 rounds of training \n",
    "grid_search = GridSearchCV(forest_reg_instance, param_grid, cv=5,\n",
    "                           scoring='neg_mean_squared_error',\n",
    "                           return_train_score=True)\n"
   ]
  },
  {
   "cell_type": "code",
   "execution_count": 122,
   "id": "4f8f42b7",
   "metadata": {},
   "outputs": [
    {
     "data": {
      "text/plain": [
       "GridSearchCV(cv=5, estimator=RandomForestRegressor(random_state=42),\n",
       "             param_grid=[{'max_features': [2, 4, 6, 8],\n",
       "                          'n_estimators': [3, 10, 30]},\n",
       "                         {'bootstrap': [False], 'max_features': [2, 3, 4],\n",
       "                          'n_estimators': [3, 10]}],\n",
       "             return_train_score=True, scoring='neg_mean_squared_error')"
      ]
     },
     "execution_count": 122,
     "metadata": {},
     "output_type": "execute_result"
    }
   ],
   "source": [
    "grid_search.fit(train_set_X_prepared, train_set_y)"
   ]
  },
  {
   "cell_type": "code",
   "execution_count": 123,
   "id": "f69097a8",
   "metadata": {},
   "outputs": [
    {
     "data": {
      "text/plain": [
       "{'max_features': 4, 'n_estimators': 30}"
      ]
     },
     "execution_count": 123,
     "metadata": {},
     "output_type": "execute_result"
    }
   ],
   "source": [
    "grid_search.best_params_"
   ]
  },
  {
   "cell_type": "code",
   "execution_count": 124,
   "id": "863b11ee",
   "metadata": {},
   "outputs": [
    {
     "data": {
      "text/plain": [
       "RandomForestRegressor(max_features=4, n_estimators=30, random_state=42)"
      ]
     },
     "execution_count": 124,
     "metadata": {},
     "output_type": "execute_result"
    }
   ],
   "source": [
    "grid_search.best_estimator_"
   ]
  },
  {
   "cell_type": "code",
   "execution_count": 125,
   "id": "166056dd",
   "metadata": {},
   "outputs": [
    {
     "name": "stdout",
     "output_type": "stream",
     "text": [
      "6.491662661659716 {'max_features': 2, 'n_estimators': 3}\n",
      "6.020087446161555 {'max_features': 2, 'n_estimators': 10}\n",
      "5.854972576652227 {'max_features': 2, 'n_estimators': 30}\n",
      "6.463542014252199 {'max_features': 4, 'n_estimators': 3}\n",
      "5.965786683963258 {'max_features': 4, 'n_estimators': 10}\n",
      "5.826192988020236 {'max_features': 4, 'n_estimators': 30}\n",
      "6.458313406263729 {'max_features': 6, 'n_estimators': 3}\n",
      "5.994040688680493 {'max_features': 6, 'n_estimators': 10}\n",
      "5.841660630360668 {'max_features': 6, 'n_estimators': 30}\n",
      "6.501827716190652 {'max_features': 8, 'n_estimators': 3}\n",
      "6.009134844746976 {'max_features': 8, 'n_estimators': 10}\n",
      "5.859305339099921 {'max_features': 8, 'n_estimators': 30}\n",
      "6.497708696385697 {'bootstrap': False, 'max_features': 2, 'n_estimators': 3}\n",
      "6.057172524547689 {'bootstrap': False, 'max_features': 2, 'n_estimators': 10}\n",
      "6.530994418493474 {'bootstrap': False, 'max_features': 3, 'n_estimators': 3}\n",
      "6.065960444359786 {'bootstrap': False, 'max_features': 3, 'n_estimators': 10}\n",
      "6.547109095760916 {'bootstrap': False, 'max_features': 4, 'n_estimators': 3}\n",
      "6.05569603632465 {'bootstrap': False, 'max_features': 4, 'n_estimators': 10}\n"
     ]
    }
   ],
   "source": [
    "cvres = grid_search.cv_results_\n",
    "for mean_score, params in zip(cvres[\"mean_test_score\"], cvres[\"params\"]):\n",
    "    print(np.sqrt(-mean_score), params)"
   ]
  },
  {
   "cell_type": "code",
   "execution_count": 126,
   "id": "c9c00d2c",
   "metadata": {},
   "outputs": [
    {
     "data": {
      "text/html": [
       "<div>\n",
       "<style scoped>\n",
       "    .dataframe tbody tr th:only-of-type {\n",
       "        vertical-align: middle;\n",
       "    }\n",
       "\n",
       "    .dataframe tbody tr th {\n",
       "        vertical-align: top;\n",
       "    }\n",
       "\n",
       "    .dataframe thead th {\n",
       "        text-align: right;\n",
       "    }\n",
       "</style>\n",
       "<table border=\"1\" class=\"dataframe\">\n",
       "  <thead>\n",
       "    <tr style=\"text-align: right;\">\n",
       "      <th></th>\n",
       "      <th>mean_fit_time</th>\n",
       "      <th>std_fit_time</th>\n",
       "      <th>mean_score_time</th>\n",
       "      <th>std_score_time</th>\n",
       "      <th>param_max_features</th>\n",
       "      <th>param_n_estimators</th>\n",
       "      <th>param_bootstrap</th>\n",
       "      <th>params</th>\n",
       "      <th>split0_test_score</th>\n",
       "      <th>split1_test_score</th>\n",
       "      <th>...</th>\n",
       "      <th>mean_test_score</th>\n",
       "      <th>std_test_score</th>\n",
       "      <th>rank_test_score</th>\n",
       "      <th>split0_train_score</th>\n",
       "      <th>split1_train_score</th>\n",
       "      <th>split2_train_score</th>\n",
       "      <th>split3_train_score</th>\n",
       "      <th>split4_train_score</th>\n",
       "      <th>mean_train_score</th>\n",
       "      <th>std_train_score</th>\n",
       "    </tr>\n",
       "  </thead>\n",
       "  <tbody>\n",
       "    <tr>\n",
       "      <th>0</th>\n",
       "      <td>0.299993</td>\n",
       "      <td>0.014014</td>\n",
       "      <td>0.035431</td>\n",
       "      <td>0.001800</td>\n",
       "      <td>2</td>\n",
       "      <td>3</td>\n",
       "      <td>NaN</td>\n",
       "      <td>{'max_features': 2, 'n_estimators': 3}</td>\n",
       "      <td>-43.397295</td>\n",
       "      <td>-42.926004</td>\n",
       "      <td>...</td>\n",
       "      <td>-42.141684</td>\n",
       "      <td>1.332347</td>\n",
       "      <td>14</td>\n",
       "      <td>-15.755816</td>\n",
       "      <td>-15.144941</td>\n",
       "      <td>-15.352174</td>\n",
       "      <td>-15.847413</td>\n",
       "      <td>-15.220395</td>\n",
       "      <td>-15.464148</td>\n",
       "      <td>0.284889</td>\n",
       "    </tr>\n",
       "    <tr>\n",
       "      <th>1</th>\n",
       "      <td>0.909471</td>\n",
       "      <td>0.007195</td>\n",
       "      <td>0.108744</td>\n",
       "      <td>0.001743</td>\n",
       "      <td>2</td>\n",
       "      <td>10</td>\n",
       "      <td>NaN</td>\n",
       "      <td>{'max_features': 2, 'n_estimators': 10}</td>\n",
       "      <td>-37.321662</td>\n",
       "      <td>-36.998011</td>\n",
       "      <td>...</td>\n",
       "      <td>-36.241453</td>\n",
       "      <td>1.192929</td>\n",
       "      <td>8</td>\n",
       "      <td>-12.004377</td>\n",
       "      <td>-11.790129</td>\n",
       "      <td>-11.628681</td>\n",
       "      <td>-11.986909</td>\n",
       "      <td>-11.773827</td>\n",
       "      <td>-11.836785</td>\n",
       "      <td>0.141472</td>\n",
       "    </tr>\n",
       "    <tr>\n",
       "      <th>2</th>\n",
       "      <td>2.755117</td>\n",
       "      <td>0.062907</td>\n",
       "      <td>0.318070</td>\n",
       "      <td>0.003744</td>\n",
       "      <td>2</td>\n",
       "      <td>30</td>\n",
       "      <td>NaN</td>\n",
       "      <td>{'max_features': 2, 'n_estimators': 30}</td>\n",
       "      <td>-35.422418</td>\n",
       "      <td>-34.959715</td>\n",
       "      <td>...</td>\n",
       "      <td>-34.280704</td>\n",
       "      <td>1.202960</td>\n",
       "      <td>3</td>\n",
       "      <td>-10.893861</td>\n",
       "      <td>-10.686888</td>\n",
       "      <td>-10.420435</td>\n",
       "      <td>-10.747921</td>\n",
       "      <td>-10.626167</td>\n",
       "      <td>-10.675054</td>\n",
       "      <td>0.155272</td>\n",
       "    </tr>\n",
       "    <tr>\n",
       "      <th>3</th>\n",
       "      <td>0.402199</td>\n",
       "      <td>0.013561</td>\n",
       "      <td>0.033310</td>\n",
       "      <td>0.001116</td>\n",
       "      <td>4</td>\n",
       "      <td>3</td>\n",
       "      <td>NaN</td>\n",
       "      <td>{'max_features': 4, 'n_estimators': 3}</td>\n",
       "      <td>-43.261945</td>\n",
       "      <td>-42.267989</td>\n",
       "      <td>...</td>\n",
       "      <td>-41.777375</td>\n",
       "      <td>1.148357</td>\n",
       "      <td>13</td>\n",
       "      <td>-15.540267</td>\n",
       "      <td>-15.048756</td>\n",
       "      <td>-15.107141</td>\n",
       "      <td>-15.416570</td>\n",
       "      <td>-15.107471</td>\n",
       "      <td>-15.244041</td>\n",
       "      <td>0.196492</td>\n",
       "    </tr>\n",
       "    <tr>\n",
       "      <th>4</th>\n",
       "      <td>1.308388</td>\n",
       "      <td>0.012344</td>\n",
       "      <td>0.106375</td>\n",
       "      <td>0.001276</td>\n",
       "      <td>4</td>\n",
       "      <td>10</td>\n",
       "      <td>NaN</td>\n",
       "      <td>{'max_features': 4, 'n_estimators': 10}</td>\n",
       "      <td>-37.211452</td>\n",
       "      <td>-35.913036</td>\n",
       "      <td>...</td>\n",
       "      <td>-35.590611</td>\n",
       "      <td>1.152570</td>\n",
       "      <td>5</td>\n",
       "      <td>-11.873991</td>\n",
       "      <td>-11.805051</td>\n",
       "      <td>-11.546707</td>\n",
       "      <td>-11.879826</td>\n",
       "      <td>-11.778364</td>\n",
       "      <td>-11.776788</td>\n",
       "      <td>0.121494</td>\n",
       "    </tr>\n",
       "    <tr>\n",
       "      <th>5</th>\n",
       "      <td>3.950187</td>\n",
       "      <td>0.091164</td>\n",
       "      <td>0.317602</td>\n",
       "      <td>0.002643</td>\n",
       "      <td>4</td>\n",
       "      <td>30</td>\n",
       "      <td>NaN</td>\n",
       "      <td>{'max_features': 4, 'n_estimators': 30}</td>\n",
       "      <td>-35.420759</td>\n",
       "      <td>-34.713115</td>\n",
       "      <td>...</td>\n",
       "      <td>-33.944525</td>\n",
       "      <td>1.303522</td>\n",
       "      <td>1</td>\n",
       "      <td>-10.826953</td>\n",
       "      <td>-10.615203</td>\n",
       "      <td>-10.431237</td>\n",
       "      <td>-10.692935</td>\n",
       "      <td>-10.578426</td>\n",
       "      <td>-10.628951</td>\n",
       "      <td>0.130485</td>\n",
       "    </tr>\n",
       "    <tr>\n",
       "      <th>6</th>\n",
       "      <td>0.517264</td>\n",
       "      <td>0.015757</td>\n",
       "      <td>0.032783</td>\n",
       "      <td>0.000673</td>\n",
       "      <td>6</td>\n",
       "      <td>3</td>\n",
       "      <td>NaN</td>\n",
       "      <td>{'max_features': 6, 'n_estimators': 3}</td>\n",
       "      <td>-41.986093</td>\n",
       "      <td>-42.162948</td>\n",
       "      <td>...</td>\n",
       "      <td>-41.709812</td>\n",
       "      <td>1.358359</td>\n",
       "      <td>12</td>\n",
       "      <td>-15.752550</td>\n",
       "      <td>-15.170193</td>\n",
       "      <td>-15.130850</td>\n",
       "      <td>-15.443497</td>\n",
       "      <td>-15.663908</td>\n",
       "      <td>-15.432199</td>\n",
       "      <td>0.251356</td>\n",
       "    </tr>\n",
       "    <tr>\n",
       "      <th>7</th>\n",
       "      <td>1.691272</td>\n",
       "      <td>0.015044</td>\n",
       "      <td>0.105279</td>\n",
       "      <td>0.001206</td>\n",
       "      <td>6</td>\n",
       "      <td>10</td>\n",
       "      <td>NaN</td>\n",
       "      <td>{'max_features': 6, 'n_estimators': 10}</td>\n",
       "      <td>-36.698413</td>\n",
       "      <td>-36.868422</td>\n",
       "      <td>...</td>\n",
       "      <td>-35.928524</td>\n",
       "      <td>0.973500</td>\n",
       "      <td>6</td>\n",
       "      <td>-11.892682</td>\n",
       "      <td>-11.654025</td>\n",
       "      <td>-11.503513</td>\n",
       "      <td>-11.908528</td>\n",
       "      <td>-11.806713</td>\n",
       "      <td>-11.753092</td>\n",
       "      <td>0.154029</td>\n",
       "    </tr>\n",
       "    <tr>\n",
       "      <th>8</th>\n",
       "      <td>5.128853</td>\n",
       "      <td>0.031903</td>\n",
       "      <td>0.320361</td>\n",
       "      <td>0.002726</td>\n",
       "      <td>6</td>\n",
       "      <td>30</td>\n",
       "      <td>NaN</td>\n",
       "      <td>{'max_features': 6, 'n_estimators': 30}</td>\n",
       "      <td>-35.311448</td>\n",
       "      <td>-35.231177</td>\n",
       "      <td>...</td>\n",
       "      <td>-34.124999</td>\n",
       "      <td>1.220596</td>\n",
       "      <td>2</td>\n",
       "      <td>-10.827257</td>\n",
       "      <td>-10.607826</td>\n",
       "      <td>-10.375078</td>\n",
       "      <td>-10.744495</td>\n",
       "      <td>-10.622102</td>\n",
       "      <td>-10.635352</td>\n",
       "      <td>0.153242</td>\n",
       "    </tr>\n",
       "    <tr>\n",
       "      <th>9</th>\n",
       "      <td>0.643803</td>\n",
       "      <td>0.020716</td>\n",
       "      <td>0.033088</td>\n",
       "      <td>0.000800</td>\n",
       "      <td>8</td>\n",
       "      <td>3</td>\n",
       "      <td>NaN</td>\n",
       "      <td>{'max_features': 8, 'n_estimators': 3}</td>\n",
       "      <td>-43.697169</td>\n",
       "      <td>-42.595530</td>\n",
       "      <td>...</td>\n",
       "      <td>-42.273764</td>\n",
       "      <td>1.061736</td>\n",
       "      <td>16</td>\n",
       "      <td>-15.721214</td>\n",
       "      <td>-15.351537</td>\n",
       "      <td>-15.487926</td>\n",
       "      <td>-15.392960</td>\n",
       "      <td>-15.514737</td>\n",
       "      <td>-15.493675</td>\n",
       "      <td>0.128528</td>\n",
       "    </tr>\n",
       "    <tr>\n",
       "      <th>10</th>\n",
       "      <td>2.136326</td>\n",
       "      <td>0.071937</td>\n",
       "      <td>0.105867</td>\n",
       "      <td>0.000711</td>\n",
       "      <td>8</td>\n",
       "      <td>10</td>\n",
       "      <td>NaN</td>\n",
       "      <td>{'max_features': 8, 'n_estimators': 10}</td>\n",
       "      <td>-37.502986</td>\n",
       "      <td>-36.291278</td>\n",
       "      <td>...</td>\n",
       "      <td>-36.109702</td>\n",
       "      <td>0.968490</td>\n",
       "      <td>7</td>\n",
       "      <td>-11.979837</td>\n",
       "      <td>-11.775848</td>\n",
       "      <td>-11.753086</td>\n",
       "      <td>-11.970233</td>\n",
       "      <td>-11.794540</td>\n",
       "      <td>-11.854709</td>\n",
       "      <td>0.099166</td>\n",
       "    </tr>\n",
       "    <tr>\n",
       "      <th>11</th>\n",
       "      <td>6.499500</td>\n",
       "      <td>0.184409</td>\n",
       "      <td>0.318406</td>\n",
       "      <td>0.003796</td>\n",
       "      <td>8</td>\n",
       "      <td>30</td>\n",
       "      <td>NaN</td>\n",
       "      <td>{'max_features': 8, 'n_estimators': 30}</td>\n",
       "      <td>-36.038036</td>\n",
       "      <td>-35.212789</td>\n",
       "      <td>...</td>\n",
       "      <td>-34.331459</td>\n",
       "      <td>1.335560</td>\n",
       "      <td>4</td>\n",
       "      <td>-10.874622</td>\n",
       "      <td>-10.675874</td>\n",
       "      <td>-10.534397</td>\n",
       "      <td>-10.771627</td>\n",
       "      <td>-10.651552</td>\n",
       "      <td>-10.701614</td>\n",
       "      <td>0.114860</td>\n",
       "    </tr>\n",
       "    <tr>\n",
       "      <th>12</th>\n",
       "      <td>0.415297</td>\n",
       "      <td>0.013225</td>\n",
       "      <td>0.038235</td>\n",
       "      <td>0.000835</td>\n",
       "      <td>2</td>\n",
       "      <td>3</td>\n",
       "      <td>False</td>\n",
       "      <td>{'bootstrap': False, 'max_features': 2, 'n_est...</td>\n",
       "      <td>-43.562480</td>\n",
       "      <td>-43.131940</td>\n",
       "      <td>...</td>\n",
       "      <td>-42.220218</td>\n",
       "      <td>1.228445</td>\n",
       "      <td>15</td>\n",
       "      <td>-7.060685</td>\n",
       "      <td>-6.831223</td>\n",
       "      <td>-6.635230</td>\n",
       "      <td>-6.904993</td>\n",
       "      <td>-6.782660</td>\n",
       "      <td>-6.842958</td>\n",
       "      <td>0.140127</td>\n",
       "    </tr>\n",
       "    <tr>\n",
       "      <th>13</th>\n",
       "      <td>1.383425</td>\n",
       "      <td>0.017579</td>\n",
       "      <td>0.125959</td>\n",
       "      <td>0.001169</td>\n",
       "      <td>2</td>\n",
       "      <td>10</td>\n",
       "      <td>False</td>\n",
       "      <td>{'bootstrap': False, 'max_features': 2, 'n_est...</td>\n",
       "      <td>-37.975242</td>\n",
       "      <td>-37.669849</td>\n",
       "      <td>...</td>\n",
       "      <td>-36.689339</td>\n",
       "      <td>1.117090</td>\n",
       "      <td>10</td>\n",
       "      <td>-7.060685</td>\n",
       "      <td>-6.831223</td>\n",
       "      <td>-6.635230</td>\n",
       "      <td>-6.904993</td>\n",
       "      <td>-6.782660</td>\n",
       "      <td>-6.842958</td>\n",
       "      <td>0.140127</td>\n",
       "    </tr>\n",
       "    <tr>\n",
       "      <th>14</th>\n",
       "      <td>0.523105</td>\n",
       "      <td>0.010141</td>\n",
       "      <td>0.038273</td>\n",
       "      <td>0.000923</td>\n",
       "      <td>3</td>\n",
       "      <td>3</td>\n",
       "      <td>False</td>\n",
       "      <td>{'bootstrap': False, 'max_features': 3, 'n_est...</td>\n",
       "      <td>-44.410525</td>\n",
       "      <td>-42.836068</td>\n",
       "      <td>...</td>\n",
       "      <td>-42.653888</td>\n",
       "      <td>1.871270</td>\n",
       "      <td>17</td>\n",
       "      <td>-7.060685</td>\n",
       "      <td>-6.831223</td>\n",
       "      <td>-6.635230</td>\n",
       "      <td>-6.904993</td>\n",
       "      <td>-6.782660</td>\n",
       "      <td>-6.842958</td>\n",
       "      <td>0.140127</td>\n",
       "    </tr>\n",
       "    <tr>\n",
       "      <th>15</th>\n",
       "      <td>1.642798</td>\n",
       "      <td>0.013504</td>\n",
       "      <td>0.125055</td>\n",
       "      <td>0.001355</td>\n",
       "      <td>3</td>\n",
       "      <td>10</td>\n",
       "      <td>False</td>\n",
       "      <td>{'bootstrap': False, 'max_features': 3, 'n_est...</td>\n",
       "      <td>-37.958383</td>\n",
       "      <td>-37.887960</td>\n",
       "      <td>...</td>\n",
       "      <td>-36.795876</td>\n",
       "      <td>1.343830</td>\n",
       "      <td>11</td>\n",
       "      <td>-7.060685</td>\n",
       "      <td>-6.831223</td>\n",
       "      <td>-6.635230</td>\n",
       "      <td>-6.904993</td>\n",
       "      <td>-6.782660</td>\n",
       "      <td>-6.842958</td>\n",
       "      <td>0.140127</td>\n",
       "    </tr>\n",
       "    <tr>\n",
       "      <th>16</th>\n",
       "      <td>0.605405</td>\n",
       "      <td>0.015275</td>\n",
       "      <td>0.039492</td>\n",
       "      <td>0.002000</td>\n",
       "      <td>4</td>\n",
       "      <td>3</td>\n",
       "      <td>False</td>\n",
       "      <td>{'bootstrap': False, 'max_features': 4, 'n_est...</td>\n",
       "      <td>-43.966925</td>\n",
       "      <td>-43.229387</td>\n",
       "      <td>...</td>\n",
       "      <td>-42.864638</td>\n",
       "      <td>1.036757</td>\n",
       "      <td>18</td>\n",
       "      <td>-7.060685</td>\n",
       "      <td>-6.831223</td>\n",
       "      <td>-6.635230</td>\n",
       "      <td>-6.904993</td>\n",
       "      <td>-6.782660</td>\n",
       "      <td>-6.842958</td>\n",
       "      <td>0.140127</td>\n",
       "    </tr>\n",
       "    <tr>\n",
       "      <th>17</th>\n",
       "      <td>2.009830</td>\n",
       "      <td>0.020030</td>\n",
       "      <td>0.123999</td>\n",
       "      <td>0.000530</td>\n",
       "      <td>4</td>\n",
       "      <td>10</td>\n",
       "      <td>False</td>\n",
       "      <td>{'bootstrap': False, 'max_features': 4, 'n_est...</td>\n",
       "      <td>-37.932642</td>\n",
       "      <td>-37.539543</td>\n",
       "      <td>...</td>\n",
       "      <td>-36.671454</td>\n",
       "      <td>0.980459</td>\n",
       "      <td>9</td>\n",
       "      <td>-7.060685</td>\n",
       "      <td>-6.831223</td>\n",
       "      <td>-6.635230</td>\n",
       "      <td>-6.904993</td>\n",
       "      <td>-6.782660</td>\n",
       "      <td>-6.842958</td>\n",
       "      <td>0.140127</td>\n",
       "    </tr>\n",
       "  </tbody>\n",
       "</table>\n",
       "<p>18 rows × 23 columns</p>\n",
       "</div>"
      ],
      "text/plain": [
       "    mean_fit_time  std_fit_time  mean_score_time  std_score_time  \\\n",
       "0        0.299993      0.014014         0.035431        0.001800   \n",
       "1        0.909471      0.007195         0.108744        0.001743   \n",
       "2        2.755117      0.062907         0.318070        0.003744   \n",
       "3        0.402199      0.013561         0.033310        0.001116   \n",
       "4        1.308388      0.012344         0.106375        0.001276   \n",
       "5        3.950187      0.091164         0.317602        0.002643   \n",
       "6        0.517264      0.015757         0.032783        0.000673   \n",
       "7        1.691272      0.015044         0.105279        0.001206   \n",
       "8        5.128853      0.031903         0.320361        0.002726   \n",
       "9        0.643803      0.020716         0.033088        0.000800   \n",
       "10       2.136326      0.071937         0.105867        0.000711   \n",
       "11       6.499500      0.184409         0.318406        0.003796   \n",
       "12       0.415297      0.013225         0.038235        0.000835   \n",
       "13       1.383425      0.017579         0.125959        0.001169   \n",
       "14       0.523105      0.010141         0.038273        0.000923   \n",
       "15       1.642798      0.013504         0.125055        0.001355   \n",
       "16       0.605405      0.015275         0.039492        0.002000   \n",
       "17       2.009830      0.020030         0.123999        0.000530   \n",
       "\n",
       "   param_max_features param_n_estimators param_bootstrap  \\\n",
       "0                   2                  3             NaN   \n",
       "1                   2                 10             NaN   \n",
       "2                   2                 30             NaN   \n",
       "3                   4                  3             NaN   \n",
       "4                   4                 10             NaN   \n",
       "5                   4                 30             NaN   \n",
       "6                   6                  3             NaN   \n",
       "7                   6                 10             NaN   \n",
       "8                   6                 30             NaN   \n",
       "9                   8                  3             NaN   \n",
       "10                  8                 10             NaN   \n",
       "11                  8                 30             NaN   \n",
       "12                  2                  3           False   \n",
       "13                  2                 10           False   \n",
       "14                  3                  3           False   \n",
       "15                  3                 10           False   \n",
       "16                  4                  3           False   \n",
       "17                  4                 10           False   \n",
       "\n",
       "                                               params  split0_test_score  \\\n",
       "0              {'max_features': 2, 'n_estimators': 3}         -43.397295   \n",
       "1             {'max_features': 2, 'n_estimators': 10}         -37.321662   \n",
       "2             {'max_features': 2, 'n_estimators': 30}         -35.422418   \n",
       "3              {'max_features': 4, 'n_estimators': 3}         -43.261945   \n",
       "4             {'max_features': 4, 'n_estimators': 10}         -37.211452   \n",
       "5             {'max_features': 4, 'n_estimators': 30}         -35.420759   \n",
       "6              {'max_features': 6, 'n_estimators': 3}         -41.986093   \n",
       "7             {'max_features': 6, 'n_estimators': 10}         -36.698413   \n",
       "8             {'max_features': 6, 'n_estimators': 30}         -35.311448   \n",
       "9              {'max_features': 8, 'n_estimators': 3}         -43.697169   \n",
       "10            {'max_features': 8, 'n_estimators': 10}         -37.502986   \n",
       "11            {'max_features': 8, 'n_estimators': 30}         -36.038036   \n",
       "12  {'bootstrap': False, 'max_features': 2, 'n_est...         -43.562480   \n",
       "13  {'bootstrap': False, 'max_features': 2, 'n_est...         -37.975242   \n",
       "14  {'bootstrap': False, 'max_features': 3, 'n_est...         -44.410525   \n",
       "15  {'bootstrap': False, 'max_features': 3, 'n_est...         -37.958383   \n",
       "16  {'bootstrap': False, 'max_features': 4, 'n_est...         -43.966925   \n",
       "17  {'bootstrap': False, 'max_features': 4, 'n_est...         -37.932642   \n",
       "\n",
       "    split1_test_score  ...  mean_test_score  std_test_score  rank_test_score  \\\n",
       "0          -42.926004  ...       -42.141684        1.332347               14   \n",
       "1          -36.998011  ...       -36.241453        1.192929                8   \n",
       "2          -34.959715  ...       -34.280704        1.202960                3   \n",
       "3          -42.267989  ...       -41.777375        1.148357               13   \n",
       "4          -35.913036  ...       -35.590611        1.152570                5   \n",
       "5          -34.713115  ...       -33.944525        1.303522                1   \n",
       "6          -42.162948  ...       -41.709812        1.358359               12   \n",
       "7          -36.868422  ...       -35.928524        0.973500                6   \n",
       "8          -35.231177  ...       -34.124999        1.220596                2   \n",
       "9          -42.595530  ...       -42.273764        1.061736               16   \n",
       "10         -36.291278  ...       -36.109702        0.968490                7   \n",
       "11         -35.212789  ...       -34.331459        1.335560                4   \n",
       "12         -43.131940  ...       -42.220218        1.228445               15   \n",
       "13         -37.669849  ...       -36.689339        1.117090               10   \n",
       "14         -42.836068  ...       -42.653888        1.871270               17   \n",
       "15         -37.887960  ...       -36.795876        1.343830               11   \n",
       "16         -43.229387  ...       -42.864638        1.036757               18   \n",
       "17         -37.539543  ...       -36.671454        0.980459                9   \n",
       "\n",
       "    split0_train_score  split1_train_score  split2_train_score  \\\n",
       "0           -15.755816          -15.144941          -15.352174   \n",
       "1           -12.004377          -11.790129          -11.628681   \n",
       "2           -10.893861          -10.686888          -10.420435   \n",
       "3           -15.540267          -15.048756          -15.107141   \n",
       "4           -11.873991          -11.805051          -11.546707   \n",
       "5           -10.826953          -10.615203          -10.431237   \n",
       "6           -15.752550          -15.170193          -15.130850   \n",
       "7           -11.892682          -11.654025          -11.503513   \n",
       "8           -10.827257          -10.607826          -10.375078   \n",
       "9           -15.721214          -15.351537          -15.487926   \n",
       "10          -11.979837          -11.775848          -11.753086   \n",
       "11          -10.874622          -10.675874          -10.534397   \n",
       "12           -7.060685           -6.831223           -6.635230   \n",
       "13           -7.060685           -6.831223           -6.635230   \n",
       "14           -7.060685           -6.831223           -6.635230   \n",
       "15           -7.060685           -6.831223           -6.635230   \n",
       "16           -7.060685           -6.831223           -6.635230   \n",
       "17           -7.060685           -6.831223           -6.635230   \n",
       "\n",
       "    split3_train_score  split4_train_score  mean_train_score  std_train_score  \n",
       "0           -15.847413          -15.220395        -15.464148         0.284889  \n",
       "1           -11.986909          -11.773827        -11.836785         0.141472  \n",
       "2           -10.747921          -10.626167        -10.675054         0.155272  \n",
       "3           -15.416570          -15.107471        -15.244041         0.196492  \n",
       "4           -11.879826          -11.778364        -11.776788         0.121494  \n",
       "5           -10.692935          -10.578426        -10.628951         0.130485  \n",
       "6           -15.443497          -15.663908        -15.432199         0.251356  \n",
       "7           -11.908528          -11.806713        -11.753092         0.154029  \n",
       "8           -10.744495          -10.622102        -10.635352         0.153242  \n",
       "9           -15.392960          -15.514737        -15.493675         0.128528  \n",
       "10          -11.970233          -11.794540        -11.854709         0.099166  \n",
       "11          -10.771627          -10.651552        -10.701614         0.114860  \n",
       "12           -6.904993           -6.782660         -6.842958         0.140127  \n",
       "13           -6.904993           -6.782660         -6.842958         0.140127  \n",
       "14           -6.904993           -6.782660         -6.842958         0.140127  \n",
       "15           -6.904993           -6.782660         -6.842958         0.140127  \n",
       "16           -6.904993           -6.782660         -6.842958         0.140127  \n",
       "17           -6.904993           -6.782660         -6.842958         0.140127  \n",
       "\n",
       "[18 rows x 23 columns]"
      ]
     },
     "execution_count": 126,
     "metadata": {},
     "output_type": "execute_result"
    }
   ],
   "source": [
    "pd.DataFrame(grid_search.cv_results_)"
   ]
  },
  {
   "cell_type": "markdown",
   "id": "cc100d4f",
   "metadata": {},
   "source": [
    "## Randomized Search"
   ]
  },
  {
   "cell_type": "code",
   "execution_count": 127,
   "id": "5c2855a0",
   "metadata": {},
   "outputs": [],
   "source": [
    "from sklearn.model_selection import RandomizedSearchCV\n",
    "from scipy.stats import randint\n",
    "\n",
    "param_distribs = {\n",
    "        'n_estimators': randint(low=1, high=200),\n",
    "        'max_features': randint(low=1, high=8),\n",
    "    }\n",
    "\n",
    "forest_reg = RandomForestRegressor(random_state=42)\n",
    "rnd_search = RandomizedSearchCV(forest_reg, param_distributions=param_distribs,\n",
    "                                n_iter=10, cv=5, scoring='neg_mean_squared_error', random_state=42)\n"
   ]
  },
  {
   "cell_type": "code",
   "execution_count": 128,
   "id": "7775d736",
   "metadata": {},
   "outputs": [
    {
     "data": {
      "text/plain": [
       "RandomizedSearchCV(cv=5, estimator=RandomForestRegressor(random_state=42),\n",
       "                   param_distributions={'max_features': <scipy.stats._distn_infrastructure.rv_frozen object at 0x7ff19c9ce3d0>,\n",
       "                                        'n_estimators': <scipy.stats._distn_infrastructure.rv_frozen object at 0x7ff19ca28a30>},\n",
       "                   random_state=42, scoring='neg_mean_squared_error')"
      ]
     },
     "execution_count": 128,
     "metadata": {},
     "output_type": "execute_result"
    }
   ],
   "source": [
    "rnd_search.fit(train_set_X_prepared, train_set_y)"
   ]
  },
  {
   "cell_type": "code",
   "execution_count": 129,
   "id": "3b6eed57",
   "metadata": {},
   "outputs": [
    {
     "name": "stdout",
     "output_type": "stream",
     "text": [
      "5.786056539743079 {'max_features': 7, 'n_estimators': 180}\n",
      "5.909910651887507 {'max_features': 5, 'n_estimators': 15}\n",
      "5.780098069202281 {'max_features': 3, 'n_estimators': 72}\n",
      "5.867860933094007 {'max_features': 5, 'n_estimators': 21}\n",
      "5.791186236207042 {'max_features': 7, 'n_estimators': 122}\n",
      "5.777251772139496 {'max_features': 3, 'n_estimators': 75}\n",
      "5.770977237052709 {'max_features': 3, 'n_estimators': 88}\n",
      "5.771144511285499 {'max_features': 5, 'n_estimators': 100}\n",
      "5.760136551579598 {'max_features': 3, 'n_estimators': 150}\n",
      "6.81814018372007 {'max_features': 5, 'n_estimators': 2}\n"
     ]
    }
   ],
   "source": [
    "cvres = rnd_search.cv_results_\n",
    "for mean_score, params in zip(cvres[\"mean_test_score\"], cvres[\"params\"]):\n",
    "    print(np.sqrt(-mean_score), params)"
   ]
  },
  {
   "cell_type": "markdown",
   "id": "47bdb937",
   "metadata": {},
   "source": [
    "# Analyze the Best Models and Their Errors "
   ]
  },
  {
   "cell_type": "code",
   "execution_count": 130,
   "id": "0c7958d7",
   "metadata": {},
   "outputs": [
    {
     "data": {
      "text/plain": [
       "array([0.09907345, 0.05695077, 0.03725929, 0.19507974, 0.02959891,\n",
       "       0.01899149, 0.03367273, 0.06068399, 0.02439201, 0.01001948,\n",
       "       0.01343648, 0.04507735, 0.01152681, 0.05710443, 0.07506357,\n",
       "       0.05595003, 0.1008141 , 0.03186276, 0.0434426 ])"
      ]
     },
     "execution_count": 130,
     "metadata": {},
     "output_type": "execute_result"
    }
   ],
   "source": [
    "feature_importances = grid_search.best_estimator_.feature_importances_\n",
    "feature_importances"
   ]
  },
  {
   "cell_type": "code",
   "execution_count": null,
   "id": "62a5f9f2",
   "metadata": {},
   "outputs": [],
   "source": [
    "# extra_attribs = [\"rooms_per_hhold\", \"pop_per_hhold\", \"bedrooms_per_room\"]\n",
    "# #cat_encoder = cat_pipeline.named_steps[\"cat_encoder\"] # old solution\n",
    "# cat_encoder = full_pipeline.named_transformers_[\"cat\"]\n",
    "# cat_one_hot_attribs = list(cat_encoder.categories_[0])\n",
    "# attributes = num_attribs + extra_attribs + cat_one_hot_attribs\n",
    "# sorted(zip(feature_importances, attributes), reverse=True)"
   ]
  },
  {
   "cell_type": "markdown",
   "id": "e708eff1",
   "metadata": {},
   "source": [
    "# Evaluate Your System on the Test Set"
   ]
  },
  {
   "cell_type": "code",
   "execution_count": null,
   "id": "1cfe658b",
   "metadata": {},
   "outputs": [],
   "source": []
  },
  {
   "cell_type": "code",
   "execution_count": 131,
   "id": "f8fc2172",
   "metadata": {},
   "outputs": [],
   "source": [
    "final_model = grid_search.best_estimator_\n",
    "\n",
    "#X_test_prepared = full_pipeline.transform(test_set_X)\n",
    "final_predictions = final_model.predict(X_test_prepared)\n",
    "\n",
    "final_mse = mean_squared_error(test_set_y, final_predictions)\n",
    "final_rmse = np.sqrt(final_mse)"
   ]
  },
  {
   "cell_type": "code",
   "execution_count": 132,
   "id": "21028629",
   "metadata": {},
   "outputs": [
    {
     "data": {
      "text/plain": [
       "5.591708713501571"
      ]
     },
     "execution_count": 132,
     "metadata": {},
     "output_type": "execute_result"
    }
   ],
   "source": [
    "final_rmse"
   ]
  },
  {
   "cell_type": "code",
   "execution_count": 133,
   "id": "66dba283",
   "metadata": {},
   "outputs": [],
   "source": [
    "from sklearn.metrics import r2_score"
   ]
  },
  {
   "cell_type": "code",
   "execution_count": 134,
   "id": "84717c3e",
   "metadata": {},
   "outputs": [],
   "source": [
    "r2score = r2_score(test_set_y, final_predictions)"
   ]
  },
  {
   "cell_type": "code",
   "execution_count": 136,
   "id": "fc3ff0db",
   "metadata": {},
   "outputs": [
    {
     "data": {
      "text/plain": [
       "array([5.24454073, 5.91854756])"
      ]
     },
     "execution_count": 136,
     "metadata": {},
     "output_type": "execute_result"
    }
   ],
   "source": [
    "from scipy import stats\n",
    "\n",
    "confidence = 0.95\n",
    "squared_errors = (final_predictions - test_set_y) ** 2\n",
    "np.sqrt(stats.t.interval(confidence, len(squared_errors) - 1,\n",
    "                         loc=squared_errors.mean(),\n",
    "                         scale=stats.sem(squared_errors)))"
   ]
  },
  {
   "cell_type": "code",
   "execution_count": 137,
   "id": "7f13552a",
   "metadata": {},
   "outputs": [
    {
     "data": {
      "text/plain": [
       "(5.244540728945287, 5.918547559641033)"
      ]
     },
     "execution_count": 137,
     "metadata": {},
     "output_type": "execute_result"
    }
   ],
   "source": [
    "m = len(squared_errors)\n",
    "mean = squared_errors.mean()\n",
    "tscore = stats.t.ppf((1 + confidence) / 2, df=m - 1)\n",
    "tmargin = tscore * squared_errors.std(ddof=1) / np.sqrt(m)\n",
    "np.sqrt(mean - tmargin), np.sqrt(mean + tmargin)"
   ]
  },
  {
   "cell_type": "code",
   "execution_count": 138,
   "id": "baea7c28",
   "metadata": {},
   "outputs": [
    {
     "data": {
      "text/plain": [
       "(5.244549181351713, 5.918540069787639)"
      ]
     },
     "execution_count": 138,
     "metadata": {},
     "output_type": "execute_result"
    }
   ],
   "source": [
    "zscore = stats.norm.ppf((1 + confidence) / 2)\n",
    "zmargin = zscore * squared_errors.std(ddof=1) / np.sqrt(m)\n",
    "np.sqrt(mean - zmargin), np.sqrt(mean + zmargin)"
   ]
  },
  {
   "cell_type": "markdown",
   "id": "a01e67d9",
   "metadata": {},
   "source": [
    "## A full pipeline with both preparation and prediction\n"
   ]
  },
  {
   "cell_type": "code",
   "execution_count": 139,
   "id": "0ff03004",
   "metadata": {},
   "outputs": [
    {
     "data": {
      "text/plain": [
       "array([0.4263162 , 6.26433204, 3.69780975, 5.8607392 , 4.06881992])"
      ]
     },
     "execution_count": 139,
     "metadata": {},
     "output_type": "execute_result"
    }
   ],
   "source": [
    "full_pipeline_with_predictor = Pipeline([\n",
    "        (\"preparation\", full_pipeline),\n",
    "        (\"linear\", LinearRegression())\n",
    "    ])\n",
    "\n",
    "full_pipeline_with_predictor.fit(train_set_X, train_set_y)\n",
    "full_pipeline_with_predictor.predict(some_data)"
   ]
  },
  {
   "cell_type": "markdown",
   "id": "969f73ae",
   "metadata": {},
   "source": [
    "## Model persistence using joblib"
   ]
  },
  {
   "cell_type": "code",
   "execution_count": 140,
   "id": "a2358f2f",
   "metadata": {},
   "outputs": [],
   "source": [
    "my_model = full_pipeline_with_predictor"
   ]
  },
  {
   "cell_type": "code",
   "execution_count": 141,
   "id": "8f98edc4",
   "metadata": {},
   "outputs": [],
   "source": [
    "import joblib\n",
    "joblib.dump(my_model, \"my_model.pkl\") # DIFF\n",
    "#...\n",
    "my_model_loaded = joblib.load(\"my_model.pkl\") # DIFF"
   ]
  },
  {
   "cell_type": "code",
   "execution_count": 143,
   "id": "f254c3ba",
   "metadata": {},
   "outputs": [
    {
     "data": {
      "text/plain": [
       "0.4325139165556985"
      ]
     },
     "execution_count": 143,
     "metadata": {},
     "output_type": "execute_result"
    }
   ],
   "source": [
    "r2score"
   ]
  },
  {
   "cell_type": "code",
   "execution_count": null,
   "id": "14b60b47",
   "metadata": {},
   "outputs": [],
   "source": []
  }
 ],
 "metadata": {
  "kernelspec": {
   "display_name": "Python 3 (ipykernel)",
   "language": "python",
   "name": "python3"
  },
  "language_info": {
   "codemirror_mode": {
    "name": "ipython",
    "version": 3
   },
   "file_extension": ".py",
   "mimetype": "text/x-python",
   "name": "python",
   "nbconvert_exporter": "python",
   "pygments_lexer": "ipython3",
   "version": "3.8.10"
  }
 },
 "nbformat": 4,
 "nbformat_minor": 5
}
