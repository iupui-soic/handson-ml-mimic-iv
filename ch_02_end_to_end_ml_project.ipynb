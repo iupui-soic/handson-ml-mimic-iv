{
 "cells": [
  {
   "cell_type": "code",
   "execution_count": 1,
   "id": "9e0f45bf",
   "metadata": {},
   "outputs": [],
   "source": [
    "from mimic.mimic import MIMIC, MIMICManipulations"
   ]
  },
  {
   "cell_type": "code",
   "execution_count": 2,
   "id": "2cbffdf0",
   "metadata": {},
   "outputs": [],
   "source": [
    "import dask.dataframe as dd"
   ]
  },
  {
   "cell_type": "code",
   "execution_count": 3,
   "id": "641a61ac",
   "metadata": {},
   "outputs": [
    {
     "name": "stdout",
     "output_type": "stream",
     "text": [
      "MIMIC dataset found at path : /home/pri2si17/Development/PLHI/hands_on_ml/mimic/handson_ml2_mimic_iv/dataset\n"
     ]
    }
   ],
   "source": [
    "mimic_instance = MIMIC('./dataset/')"
   ]
  },
  {
   "cell_type": "code",
   "execution_count": 4,
   "id": "14a89844",
   "metadata": {},
   "outputs": [
    {
     "name": "stdout",
     "output_type": "stream",
     "text": [
      "MIMIC dataset found at path : /home/pri2si17/Development/PLHI/hands_on_ml/mimic/handson_ml2_mimic_iv/dataset\n"
     ]
    }
   ],
   "source": [
    "mimic_manipulation_instance = MIMICManipulations('./dataset/')"
   ]
  },
  {
   "cell_type": "code",
   "execution_count": 5,
   "id": "f26a9f0f",
   "metadata": {},
   "outputs": [],
   "source": [
    "df = mimic_manipulation_instance.merge_core_hosp_icu_tables()"
   ]
  },
  {
   "cell_type": "code",
   "execution_count": 6,
   "id": "8f48b8ba",
   "metadata": {},
   "outputs": [
    {
     "data": {
      "text/plain": [
       "(Delayed('int-5ade3572-5396-4b37-8006-ae9c86921865'), 58)"
      ]
     },
     "execution_count": 6,
     "metadata": {},
     "output_type": "execute_result"
    }
   ],
   "source": [
    "df.shape"
   ]
  },
  {
   "cell_type": "code",
   "execution_count": 7,
   "id": "a4826105",
   "metadata": {},
   "outputs": [
    {
     "data": {
      "text/plain": [
       "Index(['subject_id', 'hadm_id', 'admittime', 'dischtime', 'admission_type',\n",
       "       'admission_location', 'discharge_location', 'insurance', 'language',\n",
       "       'marital_status', 'ethnicity', 'hospital_expire_flag', 'gender',\n",
       "       'anchor_age', 'anchor_year', 'anchor_year_group', 'transfer_id',\n",
       "       'eventtype', 'careunit', 'icd_code', 'icd_version', 'drg_type',\n",
       "       'drg_code', 'drg_severity', 'drg_mortality', 'labevent_id', 'itemid',\n",
       "       'value_x', 'valuenum_x', 'flag', 'priority', 'label', 'fluid',\n",
       "       'category', 'loinc_code', 'emar_id', 'poe_id', 'medication',\n",
       "       'event_txt', 'order_type', 'order_subtype', 'transaction_type',\n",
       "       'drug_type', 'drug', 'form_unit_disp', 'route', 'spec_type_desc',\n",
       "       'test_name', 'org_name', 'ab_name', 'interpretation', 'curr_service',\n",
       "       'stay_id', 'first_careunit', 'last_careunit', 'los', 'value_y',\n",
       "       'valuenum_y'],\n",
       "      dtype='object')"
      ]
     },
     "execution_count": 7,
     "metadata": {},
     "output_type": "execute_result"
    }
   ],
   "source": [
    "df.columns"
   ]
  },
  {
   "cell_type": "code",
   "execution_count": null,
   "id": "3c88a18e",
   "metadata": {},
   "outputs": [],
   "source": []
  }
 ],
 "metadata": {
  "kernelspec": {
   "display_name": "Python 3 (ipykernel)",
   "language": "python",
   "name": "python3"
  },
  "language_info": {
   "codemirror_mode": {
    "name": "ipython",
    "version": 3
   },
   "file_extension": ".py",
   "mimetype": "text/x-python",
   "name": "python",
   "nbconvert_exporter": "python",
   "pygments_lexer": "ipython3",
   "version": "3.8.10"
  }
 },
 "nbformat": 4,
 "nbformat_minor": 5
}
